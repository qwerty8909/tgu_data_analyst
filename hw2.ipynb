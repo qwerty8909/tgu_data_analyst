{
 "cells": [
  {
   "cell_type": "markdown",
   "metadata": {
    "id": "yRllV4qOq7fv"
   },
   "source": [
    "# Практическое задание 2"
   ]
  },
  {
   "cell_type": "markdown",
   "metadata": {
    "id": "FuJKWXhejxXb"
   },
   "source": [
    "Будем работать с датасетом Pima Indian Diabetes - это набор данных из Национального института диабета, болезней органов пищеварения и почек. Целью набора данных является диагностическое прогнозирование наличия диабета у пациента. Несколько ограничений были наложены на выбор этих экземпляров из большой базы данных. В частности, все пациенты здесь - женщины в возрасте от 21 года, индийского происхождения."
   ]
  },
  {
   "cell_type": "markdown",
   "metadata": {
    "id": "2XR6YIKGjxXf"
   },
   "source": [
    "Описание данных:\n",
    "\n",
    "- __Pregnancies__ - данная единица отображает количество беременностей, единицы измерения - целые числа от 0 до N. Тип переменной - количественная, дискретная.\n",
    "- __Glucose__ - данная единица отображает уровень глюкозы в крови, единицы измерения - целые числа. Тип переменной - количественная, дискретная.\n",
    "- __BloodPressure__ - данная единица отображает артериальное давление, единицы измерения - миллиметры р/с, целые числа. Тип переменной - количественная, дискретная.\n",
    "- __SkinThickness__ - данная единица отображает обхват трицепса в миллиметрах, целые числа. Тип переменной - количественная, дискретная.\n",
    "- __Insulin__ - данная единица отображает уровень инсулина в крови, целые числа. Тип переменной - количественная, дискретная.\n",
    "- __BMI__ - данная единица отображает индекс массы тела. Тип переменной - количественная, непрерывная.\n",
    "- __DiabetesPedigreeFunction__ - данная единица отображает риск наследственного диабета в зависимости наличия диабета у родственников. Выражается десятичной дробью от 0 до 1. Тип переменной - количественная, непрерывная.\n",
    "- __Age__ - данная единица отражает возраст в целых числах. Тип переменной - количественная, дискретная.\n",
    "- __Class__ - данная единица отражает наличие диабета у субъекта, выражена 0(здоров) или 1(болен). Тип переменной - категориальная, бинарная."
   ]
  },
  {
   "cell_type": "code",
   "execution_count": 1,
   "metadata": {},
   "outputs": [],
   "source": [
    "import pandas as pd\n",
    "df_csv = pd.read_csv('diabetes.csv')\n",
    "df = df_csv.drop_duplicates()\n",
    "#df.dtypes"
   ]
  },
  {
   "cell_type": "markdown",
   "metadata": {
    "id": "SE52n_IZjxXn"
   },
   "source": [
    "**Задание 1.**\n",
    "\n",
    "У скольких женщин старше 50 лет обнаружен диабет?"
   ]
  },
  {
   "cell_type": "code",
   "execution_count": 2,
   "metadata": {
    "id": "nbypf5S8jxXo"
   },
   "outputs": [
    {
     "name": "stdout",
     "output_type": "stream",
     "text": [
      "У 38 женщин старше 50 лет обнаружен диабет\n"
     ]
    }
   ],
   "source": [
    "# Ваше решение здесь\n",
    "# Для ответа на вопрос используйте метода print() и приемы форматирования строк \n",
    "df_diabetes = df.query(\"Age > 50 and Class == 1\")\n",
    "df_diabetes.to_csv('df_diabetes.csv')\n",
    "print ('У {} женщин старше 50 лет обнаружен диабет'. format (df_diabetes.shape[0]))"
   ]
  },
  {
   "cell_type": "markdown",
   "metadata": {
    "id": "NHPD5gpWjxXu"
   },
   "source": [
    "**Задание 2.**\n",
    "\n",
    "Сколько женщин возраста между 30 и 40 успело родить 3 или более детей?"
   ]
  },
  {
   "cell_type": "code",
   "execution_count": 3,
   "metadata": {
    "id": "tM3xMXiXjxXv"
   },
   "outputs": [
    {
     "name": "stdout",
     "output_type": "stream",
     "text": [
      "142 женщин возраста между 30 и 40 лет успело родить 3 или более детей\n"
     ]
    }
   ],
   "source": [
    "# Ваше решение здесь\n",
    "df_pregnancies = df.query(\"(Age >= 30 and Age <= 40) and Pregnancies >= 3\")\n",
    "df_pregnancies.to_csv('df_pregnancies.csv')\n",
    "print ('{} женщин возраста между 30 и 40 лет успело родить 3 или более детей'. format (df_pregnancies.shape[0]))"
   ]
  },
  {
   "cell_type": "markdown",
   "metadata": {
    "id": "Iwjda-nSjxXy"
   },
   "source": [
    "**Задание 3.**\n",
    "\n",
    "Нормальным кровяным давлением будем считать давление в диапазоне [80-89]. У какого процента женщин давление нормальное?"
   ]
  },
  {
   "cell_type": "code",
   "execution_count": 4,
   "metadata": {
    "id": "jjy6ra1RjxXz"
   },
   "outputs": [
    {
     "name": "stdout",
     "output_type": "stream",
     "text": [
      "У 18.88% из 768 женщин давление нормальное\n"
     ]
    }
   ],
   "source": [
    "# Ваше решение здесь\n",
    "df_pressure = df.query(\"BloodPressure >= 80 and BloodPressure <= 89\")\n",
    "df_pressure.to_csv('df_pressure.csv')\n",
    "pressure_percent = df_pressure.shape[0]/df.shape[0]*100\n",
    "print ('У {}% из {} женщин давление нормальное'. format (round(pressure_percent, 2), df.shape[0]))"
   ]
  },
  {
   "cell_type": "markdown",
   "metadata": {
    "id": "lz7v-028jxYP"
   },
   "source": [
    "**Задание 4.**\n",
    "\n",
    "Сравните процент больных диабетом среди женщин, которые были беременны и не были."
   ]
  },
  {
   "cell_type": "code",
   "execution_count": 5,
   "metadata": {
    "id": "7AbUJ9DgjxYP"
   },
   "outputs": [
    {
     "name": "stdout",
     "output_type": "stream",
     "text": [
      "35.01% больны диабетом из 657 женщин, которые были беремены\n",
      "34.23% больны диабетом из 111 женщин, которые не были беремены\n"
     ]
    }
   ],
   "source": [
    "# Ваше решение здесь\n",
    "df_preg_yes = df.query(\"Pregnancies > 0\")\n",
    "df_preg_no = df.query(\"Pregnancies == 0\")\n",
    "diab_preg_yes = df_preg_yes.query(\"Class == 1\")\n",
    "diab_preg_no = df_preg_no.query(\"Class == 1\")\n",
    "percent_diab_preg_yes = diab_preg_yes.shape[0]/df_preg_yes.shape[0]*100\n",
    "percent_diab_preg_no = diab_preg_no.shape[0]/df_preg_no.shape[0]*100\n",
    "diab_preg_yes.to_csv('df_diab_preg_yes.csv')\n",
    "diab_preg_no.to_csv('df_diab_preg_no.csv')\n",
    "print ('{}% больны диабетом из {} женщин, которые были беремены'\n",
    "       .format (round(percent_diab_preg_yes, 2), df_preg_yes.shape[0]))\n",
    "print ('{}% больны диабетом из {} женщин, которые не были беремены'\n",
    "       .format (round(percent_diab_preg_no, 2), df_preg_no.shape[0]))"
   ]
  },
  {
   "cell_type": "code",
   "execution_count": null,
   "metadata": {},
   "outputs": [],
   "source": []
  }
 ],
 "metadata": {
  "colab": {
   "collapsed_sections": [],
   "name": "hw2.ipynb",
   "provenance": []
  },
  "kernelspec": {
   "display_name": "Python 3 (ipykernel)",
   "language": "python",
   "name": "python3"
  },
  "language_info": {
   "codemirror_mode": {
    "name": "ipython",
    "version": 3
   },
   "file_extension": ".py",
   "mimetype": "text/x-python",
   "name": "python",
   "nbconvert_exporter": "python",
   "pygments_lexer": "ipython3",
   "version": "3.9.12"
  },
  "toc": {
   "base_numbering": 1,
   "nav_menu": {},
   "number_sections": true,
   "sideBar": true,
   "skip_h1_title": false,
   "title_cell": "Table of Contents",
   "title_sidebar": "Contents",
   "toc_cell": false,
   "toc_position": {},
   "toc_section_display": true,
   "toc_window_display": false
  }
 },
 "nbformat": 4,
 "nbformat_minor": 1
}

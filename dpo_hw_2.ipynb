{
 "cells": [
  {
   "cell_type": "markdown",
   "metadata": {
    "id": "IubWvMBchjP3",
    "pycharm": {
     "name": "#%% md\n"
    }
   },
   "source": [
    "**Задания предполагают использование только математических операторов**"
   ]
  },
  {
   "cell_type": "markdown",
   "metadata": {
    "id": "K8MEy0mEiBZc",
    "pycharm": {
     "name": "#%% md\n"
    }
   },
   "source": [
    "Задание 1. Дано трехзначное число 249. Найдите сумму его цифр. "
   ]
  },
  {
   "cell_type": "code",
   "execution_count": 3,
   "metadata": {
    "colab": {
     "base_uri": "https://localhost:8080/"
    },
    "id": "SPz8MwfliBGG",
    "outputId": "4d33d9f3-c60d-4a61-c4ff-d8b4a333e7b2",
    "pycharm": {
     "name": "#%%\n"
    }
   },
   "outputs": [
    {
     "name": "stdout",
     "output_type": "stream",
     "text": [
      "Сумма цифр числа 249 равна --  15\n"
     ]
    }
   ],
   "source": [
    "x = 249\n",
    "#Ваше решение здесь\n",
    "print('Сумма цифр числа 249 равна -- ', sum(map(int,str(x))) )#после запятой в виде переменной запишите результат "
   ]
  },
  {
   "cell_type": "markdown",
   "metadata": {
    "id": "jz2W8zAfi-FJ",
    "pycharm": {
     "name": "#%% md\n"
    }
   },
   "source": [
    "Задание 2. Дано число N. С начала суток прошло N минут. Определите, сколько часов и минут будут показывать электронные часы в этот момент. Предполагается, что $N < 1440$."
   ]
  },
  {
   "cell_type": "code",
   "execution_count": 4,
   "metadata": {
    "id": "OPuC6ijJhQwt",
    "pycharm": {
     "name": "#%%\n"
    }
   },
   "outputs": [
    {
     "name": "stdout",
     "output_type": "stream",
     "text": [
      "14 : 46\n"
     ]
    }
   ],
   "source": [
    "#Ваше решение здесь\n",
    "n = 886\n",
    "x = n // 60\n",
    "y = n % 60\n",
    "print (x,':',y)"
   ]
  },
  {
   "cell_type": "markdown",
   "metadata": {
    "id": "ELlTWPe2lVAe",
    "pycharm": {
     "name": "#%% md\n"
    }
   },
   "source": [
    "Задание 3. Дано вещественное число. Выведите его дробную часть."
   ]
  },
  {
   "cell_type": "code",
   "execution_count": 5,
   "metadata": {
    "id": "YjVqQdHhkxhN",
    "pycharm": {
     "name": "#%%\n"
    }
   },
   "outputs": [
    {
     "name": "stdout",
     "output_type": "stream",
     "text": [
      "0.6280000000000427\n"
     ]
    }
   ],
   "source": [
    "#Ваше решение здесь\n",
    "x = 845.628\n",
    "print(x%1)"
   ]
  },
  {
   "cell_type": "markdown",
   "metadata": {
    "id": "R910AyZxm3rr",
    "pycharm": {
     "name": "#%% md\n"
    }
   },
   "source": [
    "Задание 4. Дано число $N$, соответствующее росту человека в футах. Рассчитайте и выведите рост этого человека в дюймах и сантиметрах.\n",
    "\n",
    "Напомним, что а один фут равен 12 дюймам, а один дюйм – 2.54 см."
   ]
  },
  {
   "cell_type": "code",
   "execution_count": 6,
   "metadata": {
    "id": "ygdhutzNlYz2",
    "pycharm": {
     "name": "#%%\n"
    }
   },
   "outputs": [
    {
     "name": "stdout",
     "output_type": "stream",
     "text": [
      "120 , 304.8\n"
     ]
    }
   ],
   "source": [
    "#Ваше решение здесь\n",
    "n = 10\n",
    "print (n*12, ',', n*12*2.54)"
   ]
  },
  {
   "cell_type": "markdown",
   "metadata": {
    "id": "fkIPB4yOoWsR",
    "pycharm": {
     "name": "#%% md\n"
    }
   },
   "source": [
    "Задание 5. Известны координаты двух точек $A(x_1, y_1)$ и $B(x_2, y_2)$ на плоскости. Рассчитайте и выведите расстояние между ними."
   ]
  },
  {
   "cell_type": "code",
   "execution_count": 7,
   "metadata": {
    "id": "GstytjGNok4O",
    "pycharm": {
     "name": "#%%\n"
    }
   },
   "outputs": [
    {
     "name": "stdout",
     "output_type": "stream",
     "text": [
      "90.00199997777827\n"
     ]
    }
   ],
   "source": [
    "# Ваше решение здесь\n",
    "x1 = 10\n",
    "y1 = 0.7\n",
    "x2 = 100\n",
    "y2 = 0.1\n",
    "\n",
    "import math\n",
    "point_1 = (x1, y1)\n",
    "point_2 = (x2, y2)\n",
    "distance = math.dist(point_1, point_2)\n",
    "print(distance)"
   ]
  },
  {
   "cell_type": "markdown",
   "metadata": {
    "id": "QunH0WI-pdD6",
    "pycharm": {
     "name": "#%% md\n"
    }
   },
   "source": [
    "Задание 6. Вершины треугольника имеют следующие координаты $A(x1,y1)$, $B(x2,y2)$ и $С(x2,y2)$. Рассчитайте и выведите площадь этого треугольника."
   ]
  },
  {
   "cell_type": "code",
   "execution_count": 8,
   "metadata": {
    "id": "nn8qNNDSpEeg",
    "pycharm": {
     "name": "#%%\n"
    }
   },
   "outputs": [
    {
     "data": {
      "text/plain": [
       "6.0"
      ]
     },
     "execution_count": 8,
     "metadata": {},
     "output_type": "execute_result"
    }
   ],
   "source": [
    "# Ваше решение здесь\n",
    "x1 = 0\n",
    "y1 = 0\n",
    "\n",
    "x2 = 4\n",
    "y2 = 0\n",
    "\n",
    "x3 = 0\n",
    "y3 = 3\n",
    "\n",
    "def triangle_area(x1, y1, x2, y2, x3, y3):\n",
    "    return abs(0.5 * (((x2-x1)*(y3-y1))-((x3-x1)*(y2-y1))))\n",
    "\n",
    "triangle_area(x1, y1, x2, y2, x3, y3)"
   ]
  },
  {
   "cell_type": "code",
   "execution_count": null,
   "metadata": {
    "pycharm": {
     "name": "#%%\n"
    }
   },
   "outputs": [],
   "source": []
  }
 ],
 "metadata": {
  "colab": {
   "name": "dpo_hw_2.ipynb",
   "provenance": []
  },
  "kernelspec": {
   "display_name": "Python 3 (ipykernel)",
   "language": "python",
   "name": "python3"
  },
  "language_info": {
   "codemirror_mode": {
    "name": "ipython",
    "version": 3
   },
   "file_extension": ".py",
   "mimetype": "text/x-python",
   "name": "python",
   "nbconvert_exporter": "python",
   "pygments_lexer": "ipython3",
   "version": "3.9.12"
  }
 },
 "nbformat": 4,
 "nbformat_minor": 1
}
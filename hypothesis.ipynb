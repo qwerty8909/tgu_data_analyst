{
 "cells": [
  {
   "cell_type": "markdown",
   "metadata": {
    "id": "uN610hvjRR-u",
    "pycharm": {
     "name": "#%% md\n"
    }
   },
   "source": [
    "# Лекция 1. Вероятность. Байесовская классификация. Наивный Байес\n",
    "\n",
    "**Вероятность**\n",
    "\n",
    "Если результат опыта варьируется при его повторении, говорят об опыте со случайным исходом.\n",
    "\n",
    "Случайным событием или просто событием называется всякий факт, который в опыте со случайным исходом может произойти или не произойти.\n",
    "\n",
    "Вероятность -- степень возможности наступления некоторого события.\n",
    "\n",
    "Для события $A$ его вероятность удовлетворяет условию $0\\leqslant P(A) \\leqslant 1$.\n",
    "\n",
    "Событие А называется практически невозможным, если его вероятность не в точности равна нулю, но очень близка к нулю $P(A) \\approx 0$.\n",
    "\n",
    "Аналогично, событие $A$ называется практически достоверным, если $P(A) \\approx 1$.\n",
    "\n",
    "Противоположным событию А называемся событие $\\bar{A}$, состоящее в непоявлении события А. При этом $P(A)+P(\\bar{A})=1$. \n",
    "\n",
    "**Классическая формула вероятности**  \n",
    "\n",
    "Случай называется благоприятным событию $A$, если появление этого случая \n",
    "влечет за собой появление данного события.\n",
    "\n",
    "Если опыт сводится к схеме случаев, то вероятность события $А$ в данном опыте можно вычислить как долю благоприятных случаев в общем их числе:\n",
    "$$P(A) = \\dfrac{m_A}{n},$$ \n",
    "где $m_A$ -- число случаев, благоприятных событию $A$; $n$ -- общее число случаев. \n",
    "\n",
    "Если производится серия из $n$ опытов, в каждом из которых может появиться или не появиться событие $А$, то частотой события $А$ в данной серии опытов называется отношение числа опытов, в которых появилось событие $A$, к общему числу $n$ произведенных опытов.\n",
    "\n",
    "Частоту события часто называют его статистической вероятностью:\n",
    "$$\n",
    "P^{\\star} = \\dfrac{M_A}{n}, \n",
    "$$\n",
    "где $n$ -- число произведенных опытов, $M_A$ -- число опытов, в которых событие $$ появилось. \n",
    "\n",
    "При увеличении числа опытов $n$ частота события приближается к его вероятности, но не с полной достоверностью, а с большой вероятностью, тем большей, чем большее число опытов произведено:\n",
    "$$\n",
    "Prob(|P(A)-P^*(A)|<\\varepsilon) \\to 1 \\text{ при } n \\to \\infty, \\varepsilon > 0. \n",
    "$$\n",
    "\n",
    "**Формула Байеса**\n",
    "\n",
    "Пусть производится опыт со случайным исходом, в результате которого могут произойти (или не произойти) какие-то события $А$ и $В$. \n",
    "\n",
    "Условной вероятностью события $В$ при наличии $А$ называется величина\n",
    "$$P(B|A) = P(AB)/P(A)$$.\n",
    "\n",
    "Рассмотрим следующую ситуацию. \n",
    "\n",
    "Пусть до опыта о его условиях можно было сделать ряд предположений $H_1$, $H_2$, $\\ldots$ , $H_n$, несовместных и образующих полную группу:\n",
    "$$\n",
    "\\sum_{i=1}^n H_i= \\Omega; \\quad H_iH_j = \\emptyset, \\quad i \\neq j.  \n",
    "$$\n",
    "\n",
    "Вероятности предположений (априорные вероятности) до опыта заданы и равны:\n",
    "$$\n",
    "P(H_1), P(H_2), \\ldots, P(H_n); \\quad \\sum_{i=1}^n P(H_i)=1.\n",
    "$$ \n",
    "\n",
    "В результате проведения опыта возникло событие $A$. Требуется найти  «апостериорные» вероятности предположений при условии, что опыт дал результат $А$: \n",
    "$$\n",
    "P(H_1|A), P(H_2|A), \\ldots, P(H_n|A).\n",
    "$$\n",
    "\n",
    "Для предположения $H_i$ согласно формуле условной вероятности имеем\n",
    "$$\n",
    "P(H_iA) = P(H_i)P(A|H_i) = P(A)P(H_i|A).\n",
    "$$ \n",
    "\n",
    "Отбросим левую часть и поделим обе части на $P(A)$: \n",
    "$$\n",
    "P(H_i|A) = \\dfrac{P(H_i)P(A|H_i)}{P(A)}.\n",
    "$$\n",
    "\n",
    "**Байесовский классификатор**\n",
    "\n",
    "Пусть имеется \n",
    "- $O=\\{o_1, o_2,\\ldots, o_n\\}$ -- множество объектов;\n",
    "- $С=\\{c_1, c_2, \\ldots, c_k\\}$ -- множество классов.\n",
    "\n",
    "\n",
    "Для каждого объекта $o_i \\in O$, $i=\\overline{1,n}$, известна метка класса  $c_j \\in C$, $j=\\overline{1,k}$, к которой относится данный объект. Обозначим множество подобных пар как\n",
    "$$\n",
    "U = \\{(o_i, c_j)\\,|\\, o_i \\in O, c_j \\in C\\}  \n",
    "$$\n",
    "\n",
    "Множество $U$ называется обучающим.\n",
    "\n",
    "Пусть имеется некоторый объект $o^*$, для которого необходимо определить соответствующее значение из множества $C$. Зададимся необходимостью оценить вероятности принадлежности объекта $o^{*}$ каждому из классов $c_1, c_2, \\ldots, c_k$.   \n",
    "\n",
    "Запишем формулу Байеса для заданного множества объектов:\n",
    "\\begin{equation} \n",
    "P(с_j\\,|\\,o^*)=\\dfrac{P(o^*\\,|\\,c_j)P(c_j)}{P(o^*)}, \\quad\n",
    "\\, j=1,2,\\ldots, k\\,. \n",
    "\\end{equation}\n",
    "\n",
    "Вероятности $P(с_j\\,|\\,o_i)$ определяют распределение объекта $o_i$ на заданном множестве классов $c_1, c_2, \\ldots, c_k$. Иными словами, для объекта $o_i$,  $i=\\overline{1,n}$, значения $P(с_1\\,|\\,o_i)$, $P(с_2\\,|\\,o_i)$, $\\ldots$, $P(с_k\\,|\\,o_i)$ определяют вероятности принадлежности объекта $o_i$ классам $c_1, c_2, \\ldots, c_k$, соответственно.               \n",
    "\n",
    "<u>Пример</u> В таблице содержится информация о возможности проведения игры при различных погодных условиях. \n",
    "\n",
    "|Наблюдение|Температура|Влажность|Ветер|Игра|\n",
    "|:---:|:---:|:---:|:---:|:---:|\n",
    "|солнце|жарко|высокая|нет|**нет**|\n",
    "|солнце|жарко|высокая|есть|**нет**|\n",
    "|облачность|жарко|высокая|нет|**да**|\n",
    "|дождь|норма|высокая|нет|**да**|\n",
    "|дождь|холодно|норма|нет|**да**|\n",
    "|дождь|холодно|норма|есть|**нет**|\n",
    "|облачность|холодно|норма|есть|**да**|\n",
    "|солнце|норма|высокая|нет|**не**|\n",
    "|солнце|холодно|норма|нет|**да**|\n",
    "|дождь|норма|норма|нет|**да**|\n",
    "|солнце|норма|норма|есть|**да**|\n",
    "|облачность|норма|высокая|есть|**да**|\n",
    "|облачность|жарко|норма|нет|**да**|\n",
    "|дождь|норма|высокая|есть|**нет**|\n",
    "\n",
    "\n",
    "На множестве классов построить распределение вероятностей для объекта\n",
    "\n",
    "|Наблюдение|Температура|Влажность|Ветер|Игра|\n",
    "|:---:|:---:|:---:|:---:|:---:|\n",
    "|солнце|холодно|высокая|есть|$p_{\\text{игра = да}}$|\n",
    "|солнце|холодно|высокая|есть|$p_{\\text{игра = нет}}$|\n",
    "\n",
    "<u>Решение</u>\n",
    "Для формулы Байеса, записанной выше, рассчитаем вероятности $P(c_j)$, где $c_1 \\equiv \\text{да}$, $c_1 \\equiv \\text{нет}$.\n",
    "\n",
    "Имеем всего 14 наблюдений, из которых игра состоялась в 9 и не состоялась в 5 случаях. Следовательно, \n",
    "$$\n",
    "P(c_1 \\equiv \\text{да}) = 9/14, \\quad  P(c_1 \\equiv \\text{нет}) = 5/14.\n",
    "$$  \n",
    "\n",
    "Оценим вероятность события \n",
    "\n",
    "\\begin{multline}\n",
    "P(c_1 \\equiv \\text{да}|\\,d^{*}) = P(\\text{наблюдение=солнце}|\\text{игра = да})\\times P(\\text{температура=холодно}|\\text{игра = да}) \\times \\\\ \\times P(\\text{влажность=высокая}|\\text{игра = да}) \\times P(\\text{ветер=есть}|\\text{игра = да}) \\times \\dfrac{P(c_1 \\equiv \\text{да})}{P(d^{*})}.   \n",
    "\\end{multline}\n",
    "\n",
    "Значение вероятности $P(\\text{наблюдение=солнце}|\\text{игра = да})$ рассчитывается следующим образом: в 9 случаях игра состоялась и 2 дня было солнечно. Тогда   \n",
    "$$P(\\text{наблюдение=солнце}|\\text{игра = да}) = 2/9.$$\n",
    "\n",
    "Рассуждая аналогичным образом, получим\n",
    "\\begin{gather}\n",
    "P(\\text{температура=холодно}|\\text{игра = да}) = 3/9, \\\\\n",
    "P(\\text{влажность=высокая}|\\text{игра = да}) = 3/9, \\\\\n",
    "P(\\text{ветер=есть}|\\text{игра = да}) = 3/9.\n",
    "\\end{gather}\n",
    "\n",
    "Подсталяя полученные значения, получим\n",
    "\n",
    "$$\n",
    "P(c_1 \\equiv \\text{да}|\\,d^{*}) = 2/9 \\times 3/9 \\times 3/9 \\times 3/9  \\times \\dfrac{9/14}{P(d^{*})} = \\dfrac{0.0053}{P(d^{*})}.  \n",
    "$$\n",
    "\n",
    "Рассуждая аналоичным образом, имеем\n",
    "\n",
    "$$\n",
    "P(c_1 \\equiv \\text{нет}|\\,d^{*}) = 2/9 \\times 3/9 \\times 3/9 \\times 3/9  \\times \\dfrac{9/14}{P(d^{*})} = \\dfrac{0.0206}{P(d^{*})}.  \n",
    "$$\n",
    "\n",
    "Пронормируем получившиемся значения вероятностей\n",
    "\\begin{gather}\n",
    "p_{\\text{игра = да}} = \\dfrac{0.0053}{0.0053+0.0206}=0.206,\\\\\n",
    "p_{\\text{игра = нет}} = \\dfrac{0.0206}{0.0053+0.0206}=0.795.\n",
    "\\end{gather}\n",
    "\n",
    "\n",
    "\n",
    "\n",
    "\n",
    "\n",
    "\n",
    "\n",
    "\n",
    "\n",
    "\n",
    "\n",
    "\n",
    "\n",
    " \n",
    "\n",
    "\n",
    "\n"
   ]
  },
  {
   "cell_type": "markdown",
   "metadata": {
    "id": "ODzHnBHfRR8B",
    "pycharm": {
     "name": "#%% md\n"
    }
   },
   "source": [
    "# Лекция 2. Гипотеза. Проверка статистической гипотезы. P-значения. A/B тестирование\n",
    "\n",
    "Гипотеза — предположительное утверждение, которое требует доказательства.\n",
    "\n",
    "Цель проверки гипотез -- проверить, не противоречит ли высказанная гипотеза  имеющимся выборочным данным. \n",
    "\n",
    "Процедура обоснованного сопоставления высказанной гипотезы с имеющимися  выборочными данными $x_1, x_2, \\ldots, x_n$, сопровождаемая количественной оценкой степени достоверности получаемого вывода, осуществляется с помощью того или иного статистического критерия и называется статистической проверкой гипотез.\n",
    "\n",
    "Результат подобного сопоставления может быть либо отрицательным (данные наблюдения противоречат высказанной гипотезе, а потому от этой гипотезы следует отказаться), либо неотрицательным (данные наблюдения не противоречат высказанной гипотезе, а потому ее можно принять в качестве одного из естественных и допустимых решений).\n",
    "\n",
    "Гипотезы принято обозначать буквой $H$.\n",
    "\n",
    "Нулевой (основной) называют выдвинутую гипотезу $H_0$. \n",
    "\n",
    "Конкурирующей (альтернативной) называют гипотезу $H_1$, которая противоречит нулевой.\n",
    "\n",
    "Проверка гипотез используется для проверки обоснованности утверждения (нулевой гипотезы), сделанного в отношении совокупности с использованием выборочных данных. Альтернативная гипотеза --- это та, которую принимают, если нулевая гипотеза оказалась неверной.\n",
    "\n",
    "Различают гипотезы, которые содержат одно и более одного предположений.\n",
    "\n",
    "Простой называют гипотезу, содержащую только одно предположение.\n",
    "\n",
    "Сложной называют гипотезу, которая состоит из конечного или бесконечного числа простых гипотез. \n",
    "\n",
    "В итоге проверки гипотезы могут быть допущены ошибки двух родов. \n",
    "\n",
    "Ошибка первого рода состоит в том, что будет отвергнута правильная нулевая гипотеза. Вероятность ошибки первого рода называют уровнем значимости и  обозначают через $\\alpha$.\n",
    "\n",
    "Ошибка второго рода состоит в том, что будет принята неправильная нулевая гипотеза. Вероятность ошибки второго рода обозначают через $\\beta$.\n",
    "\n",
    "Статистическим критерием (или просто критерием) называют случайную величину $K$, которая служит для проверки гипотезы. \n",
    "\n",
    "Наблюдаемым (эмпирическим) значением $K_{\\text{набл.}}$ называют то значение критерия, которое вычислено по выборкам.\n",
    "\n",
    "Критической областью называют совокупность значений критерия, при которых нулевую гипотезу отвергают.\n",
    "\n",
    "Областью принятия гипотезы (областью допустимых значений) называют совокупность значений критерия, при которых нулевую гипотезу принимают.\n",
    "\n",
    "Основной принцип проверки статистических гипотез: если наблюдаемое значение критерия принадлежит критической области, то нулевую гипотезу отвергают; если наблюдаемое значение критерия принадлежит области принятия гипотезы, то гипотезу принимают. \n",
    "\n",
    "Критическими точками (границами) $k_{\\text{кр.}}$ называют точки,  \n",
    "отделяющие критическую область от области принятия гипотезы. \n",
    "\n",
    "Правосторонней называют критическую область, определяемую \n",
    "неравенством $K > k_{\\text{кр.}}$, где  $k_{\\text{кр.}}$ -- положительное число. \n",
    "\n",
    "Левосторонней называют критическую область, определяемую \n",
    "неравенством $K < k_{\\text{кр.}}$, где $K > k_{\\text{кр.}}$ -- отрицательное число.\n",
    "\n",
    "Двусторонней называют критическую область, определяемую \n",
    "неравенством $K < k_1$, $K > k_2$, где $x_2 > x_1$.\n",
    "\n",
    "Типы гипотез, проверяемые в ходе статистического анализа:\n",
    "- гипотеза о законе распределения исследуемой случайной величины;\n",
    "$$\n",
    "H: F_{\\xi}(x) = F_{мод}(x);\n",
    "$$\n",
    "- гипотезы об однородности двух или нескольких обрабатываемых выборок или некоторых характеристик анализируемых совокупностей\n",
    "$$\n",
    "\\begin{array}{l}\n",
    "H_F : F_1(x) = F_2(x) = \\ldots = F_n(x); \\\\\n",
    "H_{a} : a_1 = a_2 = \\ldots = a_n; \\\\\n",
    "H_{\\sigma} : \\sigma_1 = \\sigma_2 = \\ldots = \\sigma_n.\n",
    "\\end{array}\n",
    "$$ \n",
    "- гипотезы о числовых значениях параметров исследуемой генеральной совокупности\n",
    "$$\n",
    "H: \\Theta \\in \\Delta_0,\n",
    "$$\n",
    "где $\\Theta$ некоторый параметр, от которого зависит исследуемое распределение, а $\\Delta$ область его конкретных гипотетических значений.\n",
    "\n",
    "P-значение ($p_{value}$) -- это вероятность, которая приводит к результатам, таким же предельным, какими могут оказаться наблюдаемые результаты с учетом модели\n",
    "нулевой гипотезы.\n",
    "\n",
    "Если $p_{value} \\leqslant \\alpha$, то вероятность ошибки первого рода мала, т.е. она не допускается. Это означает, то принимается гипотеза $H_1$, а гипотеза $H_0$ отвергается.\n",
    "\n",
    "Если $p_{value} > \\alpha$, то вероятность ошибки первого рода велика и $H_0$ следует принять.\n",
    "\n",
    "\n",
    "\n",
    "\n",
    "\n",
    "\n",
    "   \n",
    "\n",
    "\n",
    "\n",
    "\n",
    "\n"
   ]
  },
  {
   "cell_type": "markdown",
   "metadata": {
    "id": "Yd4IvSrffexu",
    "pycharm": {
     "name": "#%% md\n"
    }
   },
   "source": [
    "# Практическое занятие 1. Байесовская классификация\n",
    "\n",
    "В `scikit-learn` реализованы три вида наивных байесовских классификаторов: \n",
    "\n",
    "|Классификатор|Особенность реализации|Сфера применения|\n",
    "|--:|:--|:--|\n",
    "|`GaussianNB`|рассчитывает среднее значение и стандартное отклонение каждого признака для каждого класса | применяется к любым непрерывным данным| \n",
    "|`BernoulliNB`|рассчитывает ненулевые частоты признаков по каждому классу  |применятся к бинарныем данным|\n",
    "|`MultinomialNB`|рассчитывает среднее значение каждого признака для каждого класса|применяется к категориальным данным|\n",
    "\n",
    "Классификаторы `MultinomialNB` и `BernoulliNB` подвержены проблеме нулевой вероятности (zero probaЬility proЫem). Одним из решений является использование сглаживания по Лапласу. Библиотека Scikit-learn контролирует его с помощью параметра alpha, который стандартно равен `1` и включает сглаживание в моделях `MultinomialNB` и `BernoulliNB`. Параметр `alpha` работает следующим образом: алгоритм добавляет к данным зависящее от `alpha` определенное количество искусственных наблюдений с положительными значениями для всех признаков.\n",
    "\n",
    "`BernoulliNB` и `MultinomialNB` в основном используются для классификации текстовых данных."
   ]
  },
  {
   "cell_type": "code",
   "execution_count": null,
   "metadata": {
    "id": "lLtt0vPOkLWp",
    "pycharm": {
     "name": "#%%\n"
    }
   },
   "outputs": [],
   "source": [
    "import pandas as pd\n",
    "import numpy as np\n",
    "from sklearn.naive_bayes import GaussianNB, MultinomialNB, BernoulliNB\n",
    "\n",
    "from sklearn.preprocessing import StandardScaler, MinMaxScaler\n",
    "from sklearn.model_selection import train_test_split\n",
    "from sklearn.metrics import accuracy_score "
   ]
  },
  {
   "cell_type": "code",
   "execution_count": null,
   "metadata": {
    "id": "G-cupGxCmTmN",
    "pycharm": {
     "name": "#%%\n"
    }
   },
   "outputs": [],
   "source": [
    "df = pd.read_csv('bank_dataset.csv')"
   ]
  },
  {
   "cell_type": "code",
   "execution_count": null,
   "metadata": {
    "colab": {
     "base_uri": "https://localhost:8080/",
     "height": 112
    },
    "id": "MbfE8TPlwFve",
    "outputId": "9b30d6bb-99df-4887-b50b-d5868036ff46",
    "pycharm": {
     "name": "#%%\n"
    }
   },
   "outputs": [
    {
     "data": {
      "text/html": [
       "\n",
       "  <div id=\"df-ca913f76-6c7d-4466-bb46-8a551f2f67b7\">\n",
       "    <div class=\"colab-df-container\">\n",
       "      <div>\n",
       "<style scoped>\n",
       "    .dataframe tbody tr th:only-of-type {\n",
       "        vertical-align: middle;\n",
       "    }\n",
       "\n",
       "    .dataframe tbody tr th {\n",
       "        vertical-align: top;\n",
       "    }\n",
       "\n",
       "    .dataframe thead th {\n",
       "        text-align: right;\n",
       "    }\n",
       "</style>\n",
       "<table border=\"1\" class=\"dataframe\">\n",
       "  <thead>\n",
       "    <tr style=\"text-align: right;\">\n",
       "      <th></th>\n",
       "      <th>userid</th>\n",
       "      <th>score</th>\n",
       "      <th>city</th>\n",
       "      <th>gender</th>\n",
       "      <th>age</th>\n",
       "      <th>objects</th>\n",
       "      <th>balance</th>\n",
       "      <th>products</th>\n",
       "      <th>creditcard</th>\n",
       "      <th>loyalty</th>\n",
       "      <th>estimated_salary</th>\n",
       "      <th>churn</th>\n",
       "    </tr>\n",
       "  </thead>\n",
       "  <tbody>\n",
       "    <tr>\n",
       "      <th>1</th>\n",
       "      <td>15690047</td>\n",
       "      <td>608</td>\n",
       "      <td>Рыбинск</td>\n",
       "      <td>Ж</td>\n",
       "      <td>41</td>\n",
       "      <td>1</td>\n",
       "      <td>83807.86</td>\n",
       "      <td>1</td>\n",
       "      <td>0</td>\n",
       "      <td>1</td>\n",
       "      <td>112542.58</td>\n",
       "      <td>0</td>\n",
       "    </tr>\n",
       "    <tr>\n",
       "      <th>2</th>\n",
       "      <td>15662040</td>\n",
       "      <td>502</td>\n",
       "      <td>Ярославль</td>\n",
       "      <td>Ж</td>\n",
       "      <td>42</td>\n",
       "      <td>8</td>\n",
       "      <td>159660.80</td>\n",
       "      <td>3</td>\n",
       "      <td>1</td>\n",
       "      <td>0</td>\n",
       "      <td>113931.57</td>\n",
       "      <td>1</td>\n",
       "    </tr>\n",
       "  </tbody>\n",
       "</table>\n",
       "</div>\n",
       "      <button class=\"colab-df-convert\" onclick=\"convertToInteractive('df-ca913f76-6c7d-4466-bb46-8a551f2f67b7')\"\n",
       "              title=\"Convert this dataframe to an interactive table.\"\n",
       "              style=\"display:none;\">\n",
       "        \n",
       "  <svg xmlns=\"http://www.w3.org/2000/svg\" height=\"24px\"viewBox=\"0 0 24 24\"\n",
       "       width=\"24px\">\n",
       "    <path d=\"M0 0h24v24H0V0z\" fill=\"none\"/>\n",
       "    <path d=\"M18.56 5.44l.94 2.06.94-2.06 2.06-.94-2.06-.94-.94-2.06-.94 2.06-2.06.94zm-11 1L8.5 8.5l.94-2.06 2.06-.94-2.06-.94L8.5 2.5l-.94 2.06-2.06.94zm10 10l.94 2.06.94-2.06 2.06-.94-2.06-.94-.94-2.06-.94 2.06-2.06.94z\"/><path d=\"M17.41 7.96l-1.37-1.37c-.4-.4-.92-.59-1.43-.59-.52 0-1.04.2-1.43.59L10.3 9.45l-7.72 7.72c-.78.78-.78 2.05 0 2.83L4 21.41c.39.39.9.59 1.41.59.51 0 1.02-.2 1.41-.59l7.78-7.78 2.81-2.81c.8-.78.8-2.07 0-2.86zM5.41 20L4 18.59l7.72-7.72 1.47 1.35L5.41 20z\"/>\n",
       "  </svg>\n",
       "      </button>\n",
       "      \n",
       "  <style>\n",
       "    .colab-df-container {\n",
       "      display:flex;\n",
       "      flex-wrap:wrap;\n",
       "      gap: 12px;\n",
       "    }\n",
       "\n",
       "    .colab-df-convert {\n",
       "      background-color: #E8F0FE;\n",
       "      border: none;\n",
       "      border-radius: 50%;\n",
       "      cursor: pointer;\n",
       "      display: none;\n",
       "      fill: #1967D2;\n",
       "      height: 32px;\n",
       "      padding: 0 0 0 0;\n",
       "      width: 32px;\n",
       "    }\n",
       "\n",
       "    .colab-df-convert:hover {\n",
       "      background-color: #E2EBFA;\n",
       "      box-shadow: 0px 1px 2px rgba(60, 64, 67, 0.3), 0px 1px 3px 1px rgba(60, 64, 67, 0.15);\n",
       "      fill: #174EA6;\n",
       "    }\n",
       "\n",
       "    [theme=dark] .colab-df-convert {\n",
       "      background-color: #3B4455;\n",
       "      fill: #D2E3FC;\n",
       "    }\n",
       "\n",
       "    [theme=dark] .colab-df-convert:hover {\n",
       "      background-color: #434B5C;\n",
       "      box-shadow: 0px 1px 3px 1px rgba(0, 0, 0, 0.15);\n",
       "      filter: drop-shadow(0px 1px 2px rgba(0, 0, 0, 0.3));\n",
       "      fill: #FFFFFF;\n",
       "    }\n",
       "  </style>\n",
       "\n",
       "      <script>\n",
       "        const buttonEl =\n",
       "          document.querySelector('#df-ca913f76-6c7d-4466-bb46-8a551f2f67b7 button.colab-df-convert');\n",
       "        buttonEl.style.display =\n",
       "          google.colab.kernel.accessAllowed ? 'block' : 'none';\n",
       "\n",
       "        async function convertToInteractive(key) {\n",
       "          const element = document.querySelector('#df-ca913f76-6c7d-4466-bb46-8a551f2f67b7');\n",
       "          const dataTable =\n",
       "            await google.colab.kernel.invokeFunction('convertToInteractive',\n",
       "                                                     [key], {});\n",
       "          if (!dataTable) return;\n",
       "\n",
       "          const docLinkHtml = 'Like what you see? Visit the ' +\n",
       "            '<a target=\"_blank\" href=https://colab.research.google.com/notebooks/data_table.ipynb>data table notebook</a>'\n",
       "            + ' to learn more about interactive tables.';\n",
       "          element.innerHTML = '';\n",
       "          dataTable['output_type'] = 'display_data';\n",
       "          await google.colab.output.renderOutput(dataTable, element);\n",
       "          const docLink = document.createElement('div');\n",
       "          docLink.innerHTML = docLinkHtml;\n",
       "          element.appendChild(docLink);\n",
       "        }\n",
       "      </script>\n",
       "    </div>\n",
       "  </div>\n",
       "  "
      ],
      "text/plain": [
       "     userid  score       city gender  age  objects    balance  products  \\\n",
       "1  15690047    608    Рыбинск      Ж   41        1   83807.86         1   \n",
       "2  15662040    502  Ярославль      Ж   42        8  159660.80         3   \n",
       "\n",
       "   creditcard  loyalty  estimated_salary  churn  \n",
       "1           0        1         112542.58      0  \n",
       "2           1        0         113931.57      1  "
      ]
     },
     "execution_count": 106,
     "metadata": {},
     "output_type": "execute_result"
    }
   ],
   "source": [
    "df.head(2)"
   ]
  },
  {
   "cell_type": "code",
   "execution_count": null,
   "metadata": {
    "id": "CAicBhdFwi92",
    "pycharm": {
     "name": "#%%\n"
    }
   },
   "outputs": [],
   "source": [
    "df = df.dropna()"
   ]
  },
  {
   "cell_type": "code",
   "execution_count": null,
   "metadata": {
    "id": "l3yDzj6oxzJ8",
    "pycharm": {
     "name": "#%%\n"
    }
   },
   "outputs": [],
   "source": [
    "df.columns = df.columns.str.lower() "
   ]
  },
  {
   "cell_type": "code",
   "execution_count": null,
   "metadata": {
    "id": "pcv8G591x6zR",
    "pycharm": {
     "name": "#%%\n"
    }
   },
   "outputs": [],
   "source": []
  },
  {
   "cell_type": "markdown",
   "metadata": {
    "id": "srKlbQ9Ax7qK",
    "pycharm": {
     "name": "#%% md\n"
    }
   },
   "source": [
    "**Пример использования GaussianNB**"
   ]
  },
  {
   "cell_type": "code",
   "execution_count": null,
   "metadata": {
    "id": "De9wJedMrPUm",
    "pycharm": {
     "name": "#%%\n"
    }
   },
   "outputs": [],
   "source": [
    "X = df[['score', 'age', 'balance', 'estimated_salary']]\n",
    "y = df['churn'] "
   ]
  },
  {
   "cell_type": "code",
   "execution_count": null,
   "metadata": {
    "id": "aXeK3ZSkyUO_",
    "pycharm": {
     "name": "#%%\n"
    }
   },
   "outputs": [],
   "source": [
    "X_train, X_test, y_train, y_test = train_test_split(X, y, \n",
    "                                                    test_size=1/4, \n",
    "                                                    random_state=0)"
   ]
  },
  {
   "cell_type": "code",
   "execution_count": null,
   "metadata": {
    "id": "bkzxiNuCzxHJ",
    "pycharm": {
     "name": "#%%\n"
    }
   },
   "outputs": [],
   "source": [
    "scaler = StandardScaler()\n",
    "X_train_std = scaler.fit_transform(X_train)\n",
    "X_test_std = scaler.transform(X_test)"
   ]
  },
  {
   "cell_type": "code",
   "execution_count": null,
   "metadata": {
    "colab": {
     "base_uri": "https://localhost:8080/"
    },
    "id": "ndLkOUtwzxAa",
    "outputId": "ac9e3ebf-e0d4-4d5b-e4b4-8dc8bdbd93cc",
    "pycharm": {
     "name": "#%%\n"
    }
   },
   "outputs": [
    {
     "data": {
      "text/plain": [
       "0.7612781954887218"
      ]
     },
     "execution_count": 151,
     "metadata": {},
     "output_type": "execute_result"
    }
   ],
   "source": [
    "nb_gaussian = GaussianNB()\n",
    "nb_gaussian.fit(X_train_std, y_train)\n",
    "nb_gaussian.score(X_test_std, y_test)"
   ]
  },
  {
   "cell_type": "code",
   "execution_count": null,
   "metadata": {
    "id": "FlnSNtIJ59MB",
    "pycharm": {
     "name": "#%%\n"
    }
   },
   "outputs": [],
   "source": [
    "y_pred = nb_gaussian.predict(X_test_std)"
   ]
  },
  {
   "cell_type": "code",
   "execution_count": null,
   "metadata": {
    "colab": {
     "base_uri": "https://localhost:8080/"
    },
    "id": "CIoWFRw2zw76",
    "outputId": "58325c20-cca6-43a8-f17c-4805a72aab49",
    "pycharm": {
     "name": "#%%\n"
    }
   },
   "outputs": [
    {
     "data": {
      "text/plain": [
       "0.7612781954887218"
      ]
     },
     "execution_count": 153,
     "metadata": {},
     "output_type": "execute_result"
    }
   ],
   "source": [
    "accuracy_score(y_test, y_pred)"
   ]
  },
  {
   "cell_type": "code",
   "execution_count": null,
   "metadata": {
    "colab": {
     "base_uri": "https://localhost:8080/"
    },
    "id": "dcE4B4xv28Ia",
    "outputId": "02446b4b-189a-4e15-9cb4-6ae7f37b68af",
    "pycharm": {
     "name": "#%%\n"
    }
   },
   "outputs": [
    {
     "data": {
      "text/plain": [
       "0.7405473156465427"
      ]
     },
     "execution_count": 154,
     "metadata": {},
     "output_type": "execute_result"
    }
   ],
   "source": [
    "nb_gaussian.score(X_train_std, y_train)"
   ]
  },
  {
   "cell_type": "code",
   "execution_count": null,
   "metadata": {
    "colab": {
     "base_uri": "https://localhost:8080/"
    },
    "id": "Uqc0DYxK-zJ6",
    "outputId": "4cecff01-70f6-4659-d9bc-6c3f5fe4d8ad",
    "pycharm": {
     "name": "#%%\n"
    }
   },
   "outputs": [
    {
     "data": {
      "text/plain": [
       "array([[0.82792825, 0.17207175],\n",
       "       [0.75915011, 0.24084989],\n",
       "       [0.78708137, 0.21291863],\n",
       "       ...,\n",
       "       [0.86704582, 0.13295418],\n",
       "       [0.68664958, 0.31335042],\n",
       "       [0.32661104, 0.67338896]])"
      ]
     },
     "execution_count": 156,
     "metadata": {},
     "output_type": "execute_result"
    }
   ],
   "source": [
    "y_pred = nb_gaussian.predict_proba(X_test_std)\n",
    "y_pred"
   ]
  },
  {
   "cell_type": "code",
   "execution_count": null,
   "metadata": {
    "colab": {
     "base_uri": "https://localhost:8080/"
    },
    "id": "3FAy1O9p_Crj",
    "outputId": "83554151-6bb5-4b88-9bce-d5b4b41d49e5",
    "pycharm": {
     "name": "#%%\n"
    }
   },
   "outputs": [
    {
     "data": {
      "text/plain": [
       "6105    0\n",
       "4409    1\n",
       "8376    1\n",
       "2928    1\n",
       "4070    0\n",
       "       ..\n",
       "4919    0\n",
       "7134    0\n",
       "1875    0\n",
       "4292    1\n",
       "2159    0\n",
       "Name: churn, Length: 1596, dtype: int64"
      ]
     },
     "execution_count": 157,
     "metadata": {},
     "output_type": "execute_result"
    }
   ],
   "source": [
    "y_test"
   ]
  },
  {
   "cell_type": "markdown",
   "metadata": {
    "id": "x0-lTUdZ6Z30",
    "pycharm": {
     "name": "#%% md\n"
    }
   },
   "source": [
    "**Пример использования MultinomialNB**"
   ]
  },
  {
   "cell_type": "code",
   "execution_count": null,
   "metadata": {
    "colab": {
     "base_uri": "https://localhost:8080/"
    },
    "id": "8D2OhrOS645Y",
    "outputId": "df5018d9-f1dd-48b0-fd9a-ceefec02f967",
    "pycharm": {
     "name": "#%%\n"
    }
   },
   "outputs": [
    {
     "data": {
      "text/plain": [
       "Index(['userid', 'score', 'city', 'gender', 'age', 'objects', 'balance',\n",
       "       'products', 'creditcard', 'loyalty', 'estimated_salary', 'churn'],\n",
       "      dtype='object')"
      ]
     },
     "execution_count": 129,
     "metadata": {},
     "output_type": "execute_result"
    }
   ],
   "source": [
    "df.columns"
   ]
  },
  {
   "cell_type": "code",
   "execution_count": null,
   "metadata": {
    "id": "zyC-Ax4I62y2",
    "pycharm": {
     "name": "#%%\n"
    }
   },
   "outputs": [],
   "source": [
    "X = df[['score', 'objects', 'products']]\n",
    "y = df['churn'] "
   ]
  },
  {
   "cell_type": "code",
   "execution_count": null,
   "metadata": {
    "id": "vRBAL92H7SHE",
    "pycharm": {
     "name": "#%%\n"
    }
   },
   "outputs": [],
   "source": [
    "X_train, X_test, y_train, y_test = train_test_split(X, y, \n",
    "                                                    test_size=1/4, \n",
    "                                                    random_state=0)"
   ]
  },
  {
   "cell_type": "code",
   "execution_count": null,
   "metadata": {
    "id": "nQlK0BRr6Zoq",
    "pycharm": {
     "name": "#%%\n"
    }
   },
   "outputs": [],
   "source": [
    "scaler = MinMaxScaler()\n",
    "X_train_std = scaler.fit_transform(X_train)\n",
    "X_test_std = scaler.transform(X_test)"
   ]
  },
  {
   "cell_type": "code",
   "execution_count": null,
   "metadata": {
    "colab": {
     "base_uri": "https://localhost:8080/"
    },
    "id": "lFZxBkUAzw5W",
    "outputId": "86c68ee9-9c88-45c0-ef89-db9e6b24a97e",
    "pycharm": {
     "name": "#%%\n"
    }
   },
   "outputs": [
    {
     "data": {
      "text/plain": [
       "0.7756892230576441"
      ]
     },
     "execution_count": 137,
     "metadata": {},
     "output_type": "execute_result"
    }
   ],
   "source": [
    "nb_multinomial = MultinomialNB()\n",
    "nb_multinomial.fit(X_train_std, y_train)\n",
    "nb_multinomial.score(X_test_std, y_test)"
   ]
  },
  {
   "cell_type": "code",
   "execution_count": null,
   "metadata": {
    "colab": {
     "base_uri": "https://localhost:8080/"
    },
    "id": "yh_Warmzzw2L",
    "outputId": "67db9936-c837-44b0-fb4c-fe4cc31bfaa2",
    "pycharm": {
     "name": "#%%\n"
    }
   },
   "outputs": [
    {
     "data": {
      "text/plain": [
       "0.753707959055776"
      ]
     },
     "execution_count": 139,
     "metadata": {},
     "output_type": "execute_result"
    }
   ],
   "source": [
    "nb_multinomial.score(X_train_std, y_train)"
   ]
  },
  {
   "cell_type": "code",
   "execution_count": null,
   "metadata": {
    "colab": {
     "base_uri": "https://localhost:8080/"
    },
    "id": "RQ4MOstT-Sj5",
    "outputId": "171b8ceb-5279-45cf-942b-6f954ea7bf3a",
    "pycharm": {
     "name": "#%%\n"
    }
   },
   "outputs": [
    {
     "data": {
      "text/plain": [
       "churn\n",
       "0    4846\n",
       "1    1537\n",
       "Name: churn, dtype: int64"
      ]
     },
     "execution_count": 147,
     "metadata": {},
     "output_type": "execute_result"
    }
   ],
   "source": [
    "df.groupby('churn').churn.count()"
   ]
  },
  {
   "cell_type": "code",
   "execution_count": null,
   "metadata": {
    "colab": {
     "base_uri": "https://localhost:8080/"
    },
    "id": "PpwPRxE39nDP",
    "outputId": "5fbd191f-f71a-48fd-eebe-fa027c4d9e8c",
    "pycharm": {
     "name": "#%%\n"
    }
   },
   "outputs": [
    {
     "name": "stderr",
     "output_type": "stream",
     "text": [
      "/usr/local/lib/python3.7/dist-packages/sklearn/base.py:444: UserWarning: X has feature names, but MultinomialNB was fitted without feature names\n",
      "  f\"X has feature names, but {self.__class__.__name__} was fitted without\"\n"
     ]
    },
    {
     "data": {
      "text/plain": [
       "array([[1.00000000e+00, 1.31794858e-12],\n",
       "       [1.00000000e+00, 2.28208422e-15],\n",
       "       [1.00000000e+00, 1.96977690e-12],\n",
       "       [1.00000000e+00, 1.13335726e-13],\n",
       "       [1.00000000e+00, 1.00751824e-13],\n",
       "       [1.00000000e+00, 6.54419470e-13],\n",
       "       [1.00000000e+00, 3.74667473e-11],\n",
       "       [1.00000000e+00, 1.96646838e-14],\n",
       "       [1.00000000e+00, 2.09270892e-15],\n",
       "       [1.00000000e+00, 1.98340635e-13],\n",
       "       [1.00000000e+00, 1.75376780e-14],\n",
       "       [9.99999997e-01, 3.38870551e-09],\n",
       "       [1.00000000e+00, 2.66737714e-13],\n",
       "       [1.00000000e+00, 2.00779554e-14],\n",
       "       [1.00000000e+00, 1.12354329e-14],\n",
       "       [1.00000000e+00, 2.26238866e-15],\n",
       "       [1.00000000e+00, 1.54297863e-13],\n",
       "       [1.00000000e+00, 1.29291773e-12],\n",
       "       [1.00000000e+00, 1.72969771e-13],\n",
       "       [1.00000000e+00, 2.95455114e-12]])"
      ]
     },
     "execution_count": 145,
     "metadata": {},
     "output_type": "execute_result"
    }
   ],
   "source": [
    "nb_multinomial.predict_proba(X_test)[:20]"
   ]
  },
  {
   "cell_type": "code",
   "execution_count": null,
   "metadata": {
    "colab": {
     "base_uri": "https://localhost:8080/"
    },
    "id": "GmBXK4Hp94zE",
    "outputId": "38a8f81e-d888-482f-f9c9-276505856569",
    "pycharm": {
     "name": "#%%\n"
    }
   },
   "outputs": [
    {
     "data": {
      "text/plain": [
       "6105    0\n",
       "4409    1\n",
       "8376    1\n",
       "2928    1\n",
       "4070    0\n",
       "7259    0\n",
       "7228    1\n",
       "1785    0\n",
       "454     0\n",
       "8324    0\n",
       "5332    0\n",
       "891     0\n",
       "9359    1\n",
       "1337    0\n",
       "5149    0\n",
       "1762    0\n",
       "3269    0\n",
       "5563    0\n",
       "8025    0\n",
       "7941    0\n",
       "Name: churn, dtype: int64"
      ]
     },
     "execution_count": 146,
     "metadata": {},
     "output_type": "execute_result"
    }
   ],
   "source": [
    "y_test[:20]"
   ]
  },
  {
   "cell_type": "markdown",
   "metadata": {
    "id": "GKQaz0fmfetp",
    "pycharm": {
     "name": "#%% md\n"
    }
   },
   "source": [
    "# Практическое занятие 2. Проверка статистической гипотезы"
   ]
  },
  {
   "cell_type": "markdown",
   "metadata": {
    "id": "HOFIRwDPfep1",
    "pycharm": {
     "name": "#%% md\n"
    }
   },
   "source": [
    "## Критерии для проверки гипотез о законе распределения вероятностей\n",
    "\n",
    "В классификации статистических критериев проверки гипотез о законе распределения вероятностей принята определенная терминология. Такие критерии \n",
    "подразделяются на два класса — общие критерии согласия и специальные критерии \n",
    "согласия. Общие критерии согласия применимы к самой общей формулировке \n",
    "гипотезы, как гипотезы о согласии наблюдаемых результатов с любым априорно \n",
    "предполагаемым распределением вероятностей. Специальные критерии согласия \n",
    "предполагают специальные нулевые гипотезы, формулирующие согласие с опре- \n",
    "деленной формой распределения вероятностей — нормальной, экспоненциальной, \n",
    "Вейбулла и т. д. Такие критерии носят соответствующие названия — критерии нормальности, критерии экспоненциальности и т. п. \n",
    "\n",
    "\n",
    "Тесты статистической проверки принадлежности нормальному распределению\n",
    "\n",
    "Некоторые модели машинного обучения требуют, чтобы переменная или переменные подчинялись нормальному распределению.\n",
    "\n",
    "Стастические тесты (критерии):\n",
    "- тест Шапиро-Уилка;\n",
    "\n",
    "Гипотеза $H_0:$ выборка подчиняется нормальному закону распределения\n",
    "\n",
    "- тест Колмогорова-Смирнова. Данный тест проверяет, насколько хорошо распределение выборочных данных соответствует некоторому теоретическому распределению, не только нормальному;\n",
    "\n",
    "Гипотеза $H_0:$ два распределения идентичны, т.е. $F(x)=G(x)$ для всех $x$.\n",
    "\n",
    "- тест Андерсона-Дарлинга. Этот тест проверяет распределена ли выборка по конкретному закону распределения. \n",
    "\n",
    "Гипотеза $H_0:$ выборка распределена по ... закону распределения\n",
    "\n",
    "- тест Харке-Бера\n",
    "\n",
    "Гипотеза $H_0:$ выборка распределена по нормальному закону распределения. \n",
    "\n",
    "\n"
   ]
  },
  {
   "cell_type": "code",
   "execution_count": null,
   "metadata": {
    "colab": {
     "base_uri": "https://localhost:8080/",
     "height": 206
    },
    "id": "bJIhy0EKCL57",
    "outputId": "9bf42c2a-0f68-4677-f586-c01961a7c88c",
    "pycharm": {
     "name": "#%%\n"
    }
   },
   "outputs": [
    {
     "data": {
      "text/html": [
       "\n",
       "  <div id=\"df-8bcd8da5-f841-4770-b403-91368c3a331b\">\n",
       "    <div class=\"colab-df-container\">\n",
       "      <div>\n",
       "<style scoped>\n",
       "    .dataframe tbody tr th:only-of-type {\n",
       "        vertical-align: middle;\n",
       "    }\n",
       "\n",
       "    .dataframe tbody tr th {\n",
       "        vertical-align: top;\n",
       "    }\n",
       "\n",
       "    .dataframe thead th {\n",
       "        text-align: right;\n",
       "    }\n",
       "</style>\n",
       "<table border=\"1\" class=\"dataframe\">\n",
       "  <thead>\n",
       "    <tr style=\"text-align: right;\">\n",
       "      <th></th>\n",
       "      <th>userid</th>\n",
       "      <th>score</th>\n",
       "      <th>city</th>\n",
       "      <th>gender</th>\n",
       "      <th>age</th>\n",
       "      <th>objects</th>\n",
       "      <th>balance</th>\n",
       "      <th>products</th>\n",
       "      <th>creditcard</th>\n",
       "      <th>loyalty</th>\n",
       "      <th>estimated_salary</th>\n",
       "      <th>churn</th>\n",
       "    </tr>\n",
       "  </thead>\n",
       "  <tbody>\n",
       "    <tr>\n",
       "      <th>1</th>\n",
       "      <td>15690047</td>\n",
       "      <td>608</td>\n",
       "      <td>Рыбинск</td>\n",
       "      <td>Ж</td>\n",
       "      <td>41</td>\n",
       "      <td>1</td>\n",
       "      <td>83807.86</td>\n",
       "      <td>1</td>\n",
       "      <td>0</td>\n",
       "      <td>1</td>\n",
       "      <td>112542.58</td>\n",
       "      <td>0</td>\n",
       "    </tr>\n",
       "    <tr>\n",
       "      <th>2</th>\n",
       "      <td>15662040</td>\n",
       "      <td>502</td>\n",
       "      <td>Ярославль</td>\n",
       "      <td>Ж</td>\n",
       "      <td>42</td>\n",
       "      <td>8</td>\n",
       "      <td>159660.80</td>\n",
       "      <td>3</td>\n",
       "      <td>1</td>\n",
       "      <td>0</td>\n",
       "      <td>113931.57</td>\n",
       "      <td>1</td>\n",
       "    </tr>\n",
       "    <tr>\n",
       "      <th>4</th>\n",
       "      <td>15780624</td>\n",
       "      <td>850</td>\n",
       "      <td>Рыбинск</td>\n",
       "      <td>Ж</td>\n",
       "      <td>43</td>\n",
       "      <td>2</td>\n",
       "      <td>125510.82</td>\n",
       "      <td>1</td>\n",
       "      <td>1</td>\n",
       "      <td>1</td>\n",
       "      <td>79084.10</td>\n",
       "      <td>0</td>\n",
       "    </tr>\n",
       "    <tr>\n",
       "      <th>5</th>\n",
       "      <td>15616748</td>\n",
       "      <td>645</td>\n",
       "      <td>Рыбинск</td>\n",
       "      <td>М</td>\n",
       "      <td>44</td>\n",
       "      <td>8</td>\n",
       "      <td>113755.78</td>\n",
       "      <td>2</td>\n",
       "      <td>1</td>\n",
       "      <td>0</td>\n",
       "      <td>149756.71</td>\n",
       "      <td>1</td>\n",
       "    </tr>\n",
       "    <tr>\n",
       "      <th>7</th>\n",
       "      <td>15698884</td>\n",
       "      <td>376</td>\n",
       "      <td>Ростов Великий</td>\n",
       "      <td>Ж</td>\n",
       "      <td>29</td>\n",
       "      <td>4</td>\n",
       "      <td>115046.74</td>\n",
       "      <td>4</td>\n",
       "      <td>1</td>\n",
       "      <td>0</td>\n",
       "      <td>119346.88</td>\n",
       "      <td>1</td>\n",
       "    </tr>\n",
       "  </tbody>\n",
       "</table>\n",
       "</div>\n",
       "      <button class=\"colab-df-convert\" onclick=\"convertToInteractive('df-8bcd8da5-f841-4770-b403-91368c3a331b')\"\n",
       "              title=\"Convert this dataframe to an interactive table.\"\n",
       "              style=\"display:none;\">\n",
       "        \n",
       "  <svg xmlns=\"http://www.w3.org/2000/svg\" height=\"24px\"viewBox=\"0 0 24 24\"\n",
       "       width=\"24px\">\n",
       "    <path d=\"M0 0h24v24H0V0z\" fill=\"none\"/>\n",
       "    <path d=\"M18.56 5.44l.94 2.06.94-2.06 2.06-.94-2.06-.94-.94-2.06-.94 2.06-2.06.94zm-11 1L8.5 8.5l.94-2.06 2.06-.94-2.06-.94L8.5 2.5l-.94 2.06-2.06.94zm10 10l.94 2.06.94-2.06 2.06-.94-2.06-.94-.94-2.06-.94 2.06-2.06.94z\"/><path d=\"M17.41 7.96l-1.37-1.37c-.4-.4-.92-.59-1.43-.59-.52 0-1.04.2-1.43.59L10.3 9.45l-7.72 7.72c-.78.78-.78 2.05 0 2.83L4 21.41c.39.39.9.59 1.41.59.51 0 1.02-.2 1.41-.59l7.78-7.78 2.81-2.81c.8-.78.8-2.07 0-2.86zM5.41 20L4 18.59l7.72-7.72 1.47 1.35L5.41 20z\"/>\n",
       "  </svg>\n",
       "      </button>\n",
       "      \n",
       "  <style>\n",
       "    .colab-df-container {\n",
       "      display:flex;\n",
       "      flex-wrap:wrap;\n",
       "      gap: 12px;\n",
       "    }\n",
       "\n",
       "    .colab-df-convert {\n",
       "      background-color: #E8F0FE;\n",
       "      border: none;\n",
       "      border-radius: 50%;\n",
       "      cursor: pointer;\n",
       "      display: none;\n",
       "      fill: #1967D2;\n",
       "      height: 32px;\n",
       "      padding: 0 0 0 0;\n",
       "      width: 32px;\n",
       "    }\n",
       "\n",
       "    .colab-df-convert:hover {\n",
       "      background-color: #E2EBFA;\n",
       "      box-shadow: 0px 1px 2px rgba(60, 64, 67, 0.3), 0px 1px 3px 1px rgba(60, 64, 67, 0.15);\n",
       "      fill: #174EA6;\n",
       "    }\n",
       "\n",
       "    [theme=dark] .colab-df-convert {\n",
       "      background-color: #3B4455;\n",
       "      fill: #D2E3FC;\n",
       "    }\n",
       "\n",
       "    [theme=dark] .colab-df-convert:hover {\n",
       "      background-color: #434B5C;\n",
       "      box-shadow: 0px 1px 3px 1px rgba(0, 0, 0, 0.15);\n",
       "      filter: drop-shadow(0px 1px 2px rgba(0, 0, 0, 0.3));\n",
       "      fill: #FFFFFF;\n",
       "    }\n",
       "  </style>\n",
       "\n",
       "      <script>\n",
       "        const buttonEl =\n",
       "          document.querySelector('#df-8bcd8da5-f841-4770-b403-91368c3a331b button.colab-df-convert');\n",
       "        buttonEl.style.display =\n",
       "          google.colab.kernel.accessAllowed ? 'block' : 'none';\n",
       "\n",
       "        async function convertToInteractive(key) {\n",
       "          const element = document.querySelector('#df-8bcd8da5-f841-4770-b403-91368c3a331b');\n",
       "          const dataTable =\n",
       "            await google.colab.kernel.invokeFunction('convertToInteractive',\n",
       "                                                     [key], {});\n",
       "          if (!dataTable) return;\n",
       "\n",
       "          const docLinkHtml = 'Like what you see? Visit the ' +\n",
       "            '<a target=\"_blank\" href=https://colab.research.google.com/notebooks/data_table.ipynb>data table notebook</a>'\n",
       "            + ' to learn more about interactive tables.';\n",
       "          element.innerHTML = '';\n",
       "          dataTable['output_type'] = 'display_data';\n",
       "          await google.colab.output.renderOutput(dataTable, element);\n",
       "          const docLink = document.createElement('div');\n",
       "          docLink.innerHTML = docLinkHtml;\n",
       "          element.appendChild(docLink);\n",
       "        }\n",
       "      </script>\n",
       "    </div>\n",
       "  </div>\n",
       "  "
      ],
      "text/plain": [
       "     userid  score            city gender  age  objects    balance  products  \\\n",
       "1  15690047    608         Рыбинск      Ж   41        1   83807.86         1   \n",
       "2  15662040    502       Ярославль      Ж   42        8  159660.80         3   \n",
       "4  15780624    850         Рыбинск      Ж   43        2  125510.82         1   \n",
       "5  15616748    645         Рыбинск      М   44        8  113755.78         2   \n",
       "7  15698884    376  Ростов Великий      Ж   29        4  115046.74         4   \n",
       "\n",
       "   creditcard  loyalty  estimated_salary  churn  \n",
       "1           0        1         112542.58      0  \n",
       "2           1        0         113931.57      1  \n",
       "4           1        1          79084.10      0  \n",
       "5           1        0         149756.71      1  \n",
       "7           1        0         119346.88      1  "
      ]
     },
     "execution_count": 159,
     "metadata": {},
     "output_type": "execute_result"
    }
   ],
   "source": [
    "df.head(2)"
   ]
  },
  {
   "cell_type": "code",
   "execution_count": null,
   "metadata": {
    "id": "xOlxkqd2Ol17",
    "pycharm": {
     "name": "#%%\n"
    }
   },
   "outputs": [],
   "source": [
    "from scipy.stats import shapiro\n",
    "from scipy.stats import kstest\n",
    "from scipy.stats import anderson\n",
    "from scipy.stats import jarque_bera\n",
    "\n",
    "from scipy import stats\n",
    "\n",
    "import seaborn as sns\n",
    "import matplotlib.pyplot as plt"
   ]
  },
  {
   "cell_type": "code",
   "execution_count": null,
   "metadata": {
    "colab": {
     "base_uri": "https://localhost:8080/",
     "height": 294
    },
    "id": "JgCN1t0SPWKI",
    "outputId": "2a97e7ac-7432-44cc-99ef-b7a09f6b48dd",
    "pycharm": {
     "name": "#%%\n"
    }
   },
   "outputs": [
    {
     "data": {
      "text/plain": [
       "<matplotlib.axes._subplots.AxesSubplot at 0x7fbff43dd410>"
      ]
     },
     "execution_count": 161,
     "metadata": {},
     "output_type": "execute_result"
    },
    {
     "data": {
      "image/png": "[encoded data removed]",
      "text/plain": [
       "<Figure size 1440x288 with 2 Axes>"
      ]
     },
     "metadata": {
      "needs_background": "light"
     },
     "output_type": "display_data"
    }
   ],
   "source": [
    "fig, ax = plt.subplots(1,2, figsize = (20,4))\n",
    "plt.subplot(121)\n",
    "df.balance.plot(kind = 'density')\n",
    "plt.subplot(122)\n",
    "df.estimated_salary.plot(kind = 'density')"
   ]
  },
  {
   "cell_type": "code",
   "execution_count": null,
   "metadata": {
    "colab": {
     "base_uri": "https://localhost:8080/"
    },
    "id": "u0oS--h1XSBT",
    "outputId": "d54f8750-757e-4f91-bb0c-fbcaf7eb5963",
    "pycharm": {
     "name": "#%%\n"
    }
   },
   "outputs": [
    {
     "name": "stderr",
     "output_type": "stream",
     "text": [
      "/usr/local/lib/python3.7/dist-packages/scipy/stats/morestats.py:1760: UserWarning: p-value may not be accurate for N > 5000.\n",
      "  warnings.warn(\"p-value may not be accurate for N > 5000.\")\n"
     ]
    },
    {
     "data": {
      "text/plain": [
       "ShapiroResult(statistic=0.9993932843208313, pvalue=0.02963724359869957)"
      ]
     },
     "execution_count": 188,
     "metadata": {},
     "output_type": "execute_result"
    }
   ],
   "source": [
    "#тест Шапиро-Уилка\n",
    "#Для N> 5000 статистика теста W является точной, но значение p может быть неточным.\n",
    "shapiro_test = shapiro(df.balance)\n",
    "shapiro_test"
   ]
  },
  {
   "cell_type": "code",
   "execution_count": null,
   "metadata": {
    "colab": {
     "base_uri": "https://localhost:8080/"
    },
    "id": "osWSUwk3lk-Z",
    "outputId": "74667d2f-cd98-49a1-c117-a35dbdebc36e",
    "pycharm": {
     "name": "#%%\n"
    }
   },
   "outputs": [
    {
     "data": {
      "text/plain": [
       "ShapiroResult(statistic=0.9566254615783691, pvalue=6.3393621487283264e-40)"
      ]
     },
     "execution_count": 189,
     "metadata": {},
     "output_type": "execute_result"
    }
   ],
   "source": [
    "shapiro_test = shapiro(df.estimated_salary)\n",
    "shapiro_test"
   ]
  },
  {
   "cell_type": "code",
   "execution_count": null,
   "metadata": {
    "colab": {
     "base_uri": "https://localhost:8080/"
    },
    "id": "fH7ZL9bFaGvM",
    "outputId": "fc61b243-6a7e-4312-937c-2a2b711ef49e",
    "pycharm": {
     "name": "#%%\n"
    }
   },
   "outputs": [
    {
     "data": {
      "text/plain": [
       "KstestResult(statistic=0.3076923076923077, pvalue=3.7039578760396156e-267)"
      ]
     },
     "execution_count": 178,
     "metadata": {},
     "output_type": "execute_result"
    }
   ],
   "source": [
    "#тест Колмогорова-Смирнова\n",
    "kstest(df.balance, 'norm', args=(df.balance.mean(), df.balance.std()))\n",
    "kstest(df.balance, df.estimated_salary)\n",
    "\n",
    "# a = df.estimated_salary.max() - df.estimated_salary.min()\n",
    "# kstest(df.estimated_salary, 'uniform', args=(df.estimated_salary.min(), a))"
   ]
  },
  {
   "cell_type": "code",
   "execution_count": null,
   "metadata": {
    "colab": {
     "base_uri": "https://localhost:8080/"
    },
    "id": "_XeTuZn9YDOZ",
    "outputId": "4762845e-cba7-4496-aa47-5945bc031c2e",
    "pycharm": {
     "name": "#%%\n"
    }
   },
   "outputs": [
    {
     "data": {
      "text/plain": [
       "6.3393621487283264e-40"
      ]
     },
     "execution_count": 169,
     "metadata": {},
     "output_type": "execute_result"
    }
   ],
   "source": [
    "p_value"
   ]
  },
  {
   "cell_type": "code",
   "execution_count": null,
   "metadata": {
    "colab": {
     "base_uri": "https://localhost:8080/"
    },
    "id": "eaXq_mkhc7bq",
    "outputId": "ea9dc9e0-549a-489e-9260-dee9c1108a38",
    "pycharm": {
     "name": "#%%\n"
    }
   },
   "outputs": [
    {
     "data": {
      "text/plain": [
       "AndersonResult(statistic=0.36993867315436546, critical_values=array([0.574, 0.653, 0.784, 0.914, 1.088]), significance_level=array([15. , 10. ,  5. ,  2.5,  1. ]))"
      ]
     },
     "execution_count": 180,
     "metadata": {},
     "output_type": "execute_result"
    }
   ],
   "source": [
    "#тест Андерсона-Дарлинга\n",
    "data = np.random.normal(size=50)\n",
    "anderson(df.balance[:1000], 'norm')"
   ]
  },
  {
   "cell_type": "markdown",
   "metadata": {
    "id": "rRlTHRLwdkRX",
    "pycharm": {
     "name": "#%% md\n"
    }
   },
   "source": [
    "# Критерии для проверки гипотез о значениях параметров распределений\n",
    "\n",
    "Сравнение средних для нормальных распределений:\n",
    "- критерий Стьюдента (t-статистика)\n",
    "\n",
    "Гипотеза $H_0$: выборочные средние равны\n",
    "\n",
    "Сравнение средних для распределений отличных от нормального:\n",
    "- критерий Манна-Уитни (критерий Манна-Уитни-Уилкоксона);\n",
    "- тест Краскела-Уоллиса (равенство медиан обеих выборок)\n",
    "\n",
    "Гипотеза $H_0$: выборочные параметры равны.\n",
    "- $z$-критерий как для сравнения параметров биноминальных распределений.\n",
    "\n",
    "Гипотеза $H_0$: выборочные параметры равны.\n",
    "\n"
   ]
  },
  {
   "cell_type": "code",
   "execution_count": null,
   "metadata": {
    "id": "T5xmyTrVdjA5",
    "pycharm": {
     "name": "#%%\n"
    }
   },
   "outputs": [],
   "source": [
    "from scipy.stats import ttest_ind\n",
    "from scipy.stats import mannwhitneyu\n",
    "from scipy.stats import kruskal\n",
    "\n",
    "from scipy import stats"
   ]
  },
  {
   "cell_type": "code",
   "execution_count": null,
   "metadata": {
    "colab": {
     "base_uri": "https://localhost:8080/"
    },
    "id": "Bsbmi0o2fclU",
    "outputId": "4858c61e-a009-48eb-e426-ba37a53b39e0",
    "pycharm": {
     "name": "#%%\n"
    }
   },
   "outputs": [
    {
     "data": {
      "text/plain": [
       "Ttest_indResult(statistic=-1.3604774889985365, pvalue=0.17379960354870824)"
      ]
     },
     "execution_count": 182,
     "metadata": {},
     "output_type": "execute_result"
    }
   ],
   "source": [
    "ttest_ind(df[df.churn == 0].balance, df[df.churn == 1].balance, equal_var = False)"
   ]
  },
  {
   "cell_type": "code",
   "execution_count": null,
   "metadata": {
    "colab": {
     "base_uri": "https://localhost:8080/"
    },
    "id": "5J1ghAqugFHH",
    "outputId": "4f78e005-4617-4a4c-e8e8-c0221b2f0fa4",
    "pycharm": {
     "name": "#%%\n"
    }
   },
   "outputs": [
    {
     "data": {
      "text/plain": [
       "MannwhitneyuResult(statistic=3647194.5, pvalue=0.22150885555919375)"
      ]
     },
     "execution_count": 183,
     "metadata": {},
     "output_type": "execute_result"
    }
   ],
   "source": [
    "mannwhitneyu(df[df.churn == 0].balance, df[df.churn == 1].balance)"
   ]
  },
  {
   "cell_type": "code",
   "execution_count": null,
   "metadata": {
    "id": "DzlQ5_EKhQyB",
    "pycharm": {
     "name": "#%%\n"
    }
   },
   "outputs": [],
   "source": []
  },
  {
   "cell_type": "code",
   "execution_count": null,
   "metadata": {
    "colab": {
     "base_uri": "https://localhost:8080/"
    },
    "id": "etQtpOHohEBN",
    "outputId": "14df1e8c-6f59-4b12-8049-3c2739144f70",
    "pycharm": {
     "name": "#%%\n"
    }
   },
   "outputs": [
    {
     "data": {
      "text/plain": [
       "MannwhitneyuResult(statistic=2006130.0, pvalue=3.3910937218563036e-164)"
      ]
     },
     "execution_count": 184,
     "metadata": {},
     "output_type": "execute_result"
    }
   ],
   "source": [
    "mannwhitneyu(df[df.churn == 0].age, df[df.churn == 1].age)"
   ]
  },
  {
   "cell_type": "code",
   "execution_count": null,
   "metadata": {
    "id": "Y14W6rgRmJDd",
    "pycharm": {
     "name": "#%%\n"
    }
   },
   "outputs": [],
   "source": [
    "#гипотеза о сравнении средних для нормального закона "
   ]
  },
  {
   "cell_type": "code",
   "execution_count": null,
   "metadata": {
    "colab": {
     "base_uri": "https://localhost:8080/"
    },
    "id": "G7XuKkNOhO0a",
    "outputId": "d7d562b1-dd40-4ada-cd74-f976fa66faf5",
    "pycharm": {
     "name": "#%%\n"
    }
   },
   "outputs": [
    {
     "data": {
      "text/plain": [
       "37.418695831613704"
      ]
     },
     "execution_count": 186,
     "metadata": {},
     "output_type": "execute_result"
    }
   ],
   "source": [
    "df[df.churn == 0].age.mean()"
   ]
  },
  {
   "cell_type": "code",
   "execution_count": null,
   "metadata": {
    "colab": {
     "base_uri": "https://localhost:8080/"
    },
    "id": "LW1TIx1dhZAP",
    "outputId": "a89670b9-94ca-4d73-e1e0-9610a065e17e",
    "pycharm": {
     "name": "#%%\n"
    }
   },
   "outputs": [
    {
     "data": {
      "text/plain": [
       "44.8067664281067"
      ]
     },
     "execution_count": 187,
     "metadata": {},
     "output_type": "execute_result"
    }
   ],
   "source": [
    "df[df.churn == 1].age.mean()"
   ]
  },
  {
   "cell_type": "code",
   "execution_count": null,
   "metadata": {
    "colab": {
     "base_uri": "https://localhost:8080/"
    },
    "id": "tYE5Z_H4l0Ey",
    "outputId": "42b436fd-0b0b-42e4-c290-55b0b29f2142",
    "pycharm": {
     "name": "#%%\n"
    }
   },
   "outputs": [
    {
     "data": {
      "text/plain": [
       "KruskalResult(statistic=745.7374109231083, pvalue=3.3903568356373913e-164)"
      ]
     },
     "execution_count": 190,
     "metadata": {},
     "output_type": "execute_result"
    }
   ],
   "source": [
    "kruskal(df[df.churn == 0].age, df[df.churn == 1].age)\n"
   ]
  },
  {
   "cell_type": "code",
   "execution_count": null,
   "metadata": {
    "id": "f351F0pCm5M1",
    "pycharm": {
     "name": "#%%\n"
    }
   },
   "outputs": [],
   "source": [
    "#гипотеза о сравнении параметров для закона отличного от нормального"
   ]
  },
  {
   "cell_type": "markdown",
   "metadata": {
    "id": "E8DNAOIcp9My",
    "pycharm": {
     "name": "#%% md\n"
    }
   },
   "source": [
    "Для биноминальных распределений\n",
    "\n",
    "$$\n",
    "\\begin{multline*}\n",
    "z = \\dfrac{\\dfrac{m_1}{n_1}+ \\dfrac{1}{2n_1} - \\dfrac{m_2}{n_2} - \\dfrac{1}{2n_2}}{\\sqrt{\\dfrac{m_1+m_2}{n_1+n_2} \\dfrac{n_1+n_2 - m_1 - m_2}{n_1+n_2}\\left(\\dfrac{1}{n_1}+\\dfrac{1}{n_2}\\right)}} = \\\\ \n",
    "= \\dfrac{\\dfrac{m_1}{n_1}- \\dfrac{m_2}{n_2} + \\dfrac{1}{2n_1} - \\dfrac{1}{2n_2}}{\\sqrt{\\dfrac{m_1+m_2}{n_1+n_2} \\left( 1-\\dfrac{m_1+m_2}{n_1+n_2}\\right)\\left(\\dfrac{1}{n_1}+\\dfrac{1}{n_2}\\right)}}\n",
    "\\end{multline*}\n",
    "$$\n"
   ]
  },
  {
   "cell_type": "code",
   "execution_count": null,
   "metadata": {
    "id": "OQIpOUjXZP5k",
    "pycharm": {
     "name": "#%%\n"
    }
   },
   "outputs": [],
   "source": [
    "#для биноминальных распределений\n",
    "def test_z_criterion(col, alpha):\n",
    "    gen_group_shape = df[col].value_counts()\n",
    "    goal_group_shape = df.groupby(col)['churn'].sum()\n",
    "    p = goal_group_shape / gen_group_shape\n",
    "    p_combined = goal_group_shape.sum() / gen_group_shape.sum()\n",
    "    difference = p[0] - p[1]\n",
    "    z_value = difference / math.sqrt(p_combined * (1 - p_combined) * (1/gen_group_shape[0] + 1/gen_group_shape[1]))\n",
    "    distr = st.norm(0, 1) \n",
    "    p_value = (1 - distr.cdf(abs(z_value))) * 2\n",
    "    print('Результаты проверки гипотезы H_0 по z-критерию:')\n",
    "    print('Уровень значимости alpha={:.2f}'.format(alpha))\n",
    "    print('P-value: {:.2f}'.format(p_value))\n",
    "    if p_value < alpha:\n",
    "        print(f\"\"\"Отвергаем нулевую гипотезу: разница в долях \n",
    "по признаку <<...>> статистически значима.\"\"\")\n",
    "    else: print(f\"\"\"Не получилось отвергнуть нулевую гипотезу: разница в долях по \n",
    "признаку <<...>> статистически незначима.\"\"\")\n",
    "    print('------------------------------------------------------------')"
   ]
  },
  {
   "cell_type": "code",
   "execution_count": null,
   "metadata": {
    "id": "JwXQomj5mG7s",
    "pycharm": {
     "name": "#%%\n"
    }
   },
   "outputs": [],
   "source": []
  },
  {
   "cell_type": "markdown",
   "metadata": {
    "id": "fttwtfV9Bx0X",
    "pycharm": {
     "name": "#%% md\n"
    }
   },
   "source": [
    "# Рекомендательные системы"
   ]
  },
  {
   "cell_type": "markdown",
   "metadata": {
    "id": "WFAGpvYBzdnO",
    "pycharm": {
     "name": "#%% md\n"
    }
   },
   "source": [
    "## Рекомендательные системы: теория\n",
    "\n",
    "Рекомендательные системы -- программы, которые пытаются предсказать, какие объекты (фильмы, музыка, книги, новости, веб-сайты) будут интересны пользователю, имея определенную информацию о его профиле.\n",
    "\n",
    "<figure>\n",
    "<center>\n",
    "<img src='https://drive.google.com/uc?export=view&id=1B-V1muOmlnDXDJyT1DV4KMnrMxdw4Crl' width=\"600\" height=\"400\" />\n",
    "<figcaption> Данные для рекомендаций </figcaption></center>\n",
    "</figure>\n",
    "\n",
    "Выделяют 4 базовых подхода к построению рекомендательных систем:\n",
    "- коллаборативная фильтрация;\n",
    "- фильтрация на контенте;\n",
    "- фильтрация на знаниях;\n",
    "- гибридный подход.\n",
    "\n",
    "Коллаборативная фильтрация -- это самый простой способ для построения рекомендаций или прогнозов в рекомендательных системах. Основное предположение заключается в том, что люди, дающие одинаковые оценки предметам или выбирающие одинаковые вещи, в будущем также будут вести себя похоже.\n",
    "\n",
    "В случае фильтрации на контексте рекомендации формируются исходя из \"похожести\" объектов. \n",
    "\n",
    "Под фильтрацией на знаниях подразумеваются алгоритмы, которые выбирают рекомендованные объект опираясь на конкретные свойства объектов.\n",
    "\n",
    "Гибридный подъод предполагает использование нескольких моделей генерирования рекомендаций. \n",
    "\n",
    "Алгоритмы поиска схожих объектов в рекомендательных системах:\n",
    "- коэффициенты корреляции;\n",
    "- косинусное расстояние; \n",
    "- кластеризация.\n",
    "\n",
    "Алгоритм:\n",
    "\n",
    "Матрица предпочтений:\n",
    "\n",
    "$$\n",
    "I = \\begin{array}{cccccc}\n",
    "& Товар_1 & Товар_2 & \\ldots & Товар_n \\\\\n",
    "Пользователь_1 & r_{11} & r_{12} & \\ldots & r_{1n}\\\\\n",
    "Пользователь_2 & r_{21} & r_{22} & \\ldots & r_{2n}\\\\\n",
    "\\cdots & \\cdots & \\cdots & \\cdots & \\cdots\\\\\n",
    "Пользователь_m & r_{m1} & r_{m2} & \\ldots & r_{mn}\\\\\n",
    "\\end{array}\n",
    "$$\n",
    "\n",
    "Если для двух пользователей заданы их вектора предпочтений, то их сходство можно вычислить через коэффициент корреляции Пирсона\n",
    "$$\n",
    "w_{uv} = \\dfrac{\\sum_{i\\in I_{uv}} (r_{ui}- \\bar{r}_u)(r_{vi}- \\bar{r}_v)}{\n",
    "\\sqrt{\\sum_{i\\in I_{uv}} (r_{ui}- \\bar{r}_u)^2}\\sqrt{\\sum_{i\\in I_{uv}} (r_{vi}- \\bar{r}_v)^2}}\n",
    "$$\n",
    "\n",
    "Аналогично можно посчитать сходство двух товаров -- $w_{ij}$. \n",
    "\n",
    "Тогда рекомендации могут быть построены следующим образом:\n",
    "- user-based:\n",
    "$$\n",
    "\\hat{r}_{ui} = \\bar{r}_u + \\dfrac{\\sum_{v\\in U_{i}} sim(u,v)(r_{vi}-\\bar{r}_v)}{\\sum_{v\\in U_{i}} sim(u,v)} \n",
    "$$\n",
    "\n",
    "- item-based:\n",
    "$$\n",
    "\\hat{r}_{ui} = \\bar{r}_i + \\dfrac{\\sum_{j\\in I_{u}} sim(i,j)(r_{uj}-\\bar{r}_j)}{\\sum_{j\\in I_{u}} sim(i,j)} \n",
    "$$\n"
   ]
  },
  {
   "cell_type": "markdown",
   "source": [
    "# Разведочный анализ данных"
   ],
   "metadata": {
    "collapsed": false,
    "pycharm": {
     "name": "#%% md\n"
    }
   }
  },
  {
   "cell_type": "markdown",
   "source": [
    "## Разведочный анализ данных: теория\n",
    "\n",
    "Тьюки Д. Анализ результатов наблюдений. Разведочный метод. -- М.: Мир, 1981. -- 694 с.\n",
    "\n",
    "Mukhiya S., Ahmed U. Hands-On Exploratory Data Analysis with Python: Perform EDA techniques to understand, summarize, and investigate your data. - Packt Publishing. - 2020 p.\n",
    "\n",
    "[Разведочный анализ данных](https://ru.wikipedia.org/wiki/%D0%A0%D0%B0%D0%B7%D0%B2%D0%B5%D0%B4%D0%BE%D1%87%D0%BD%D1%8B%D0%B9_%D0%B0%D0%BD%D0%B0%D0%BB%D0%B8%D0%B7_%D0%B4%D0%B0%D0%BD%D0%BD%D1%8B%D1%85) (англ. exploratory data analysis, EDA) -- анализ основных свойств данных, нахождение в них общих закономерностей, распределений и аномалий, построение начальных моделей, зачастую с использованием инструментов визуализации.\n",
    "\n",
    "Понятие введено математиком Джоном Тьюки, который сформулировал цели такого анализа следующим образом:\n",
    "- максимальное «проникновение» в данные;\n",
    "- выявление основных структур;\n",
    "- выбор наиболее важных переменных;\n",
    "- обнаружение отклонений и аномалий;\n",
    "- проверка основных гипотез;\n",
    "- разработка начальных моделей.\n",
    "\n",
    "Числовые данные - данные, которые выражаются на числовой шкале.\n",
    "- Непрерывные данные, которые могут принимать любое значение в интервале.\n",
    "- Дискретные данные, которые могут принимать только целочисленные значения, такие как количества.\n",
    "\n",
    "Категориальные данные - данные, которые могут принимать только конкретное множество значений, представляющих множество возможных категорий.\n",
    " - Двоичные данные - частный случай категориальных данных с двумя категориями значений, например, 0/1, истина/ложь.\n",
    " - Порядковые данные - категориальные данные, которые имеют явно заданное упорядочение. \n",
    "\n",
    "Выборка или выборочная совокупность -- часть генеральной совокупности элементов, которая охватывается экспериментом (наблюдением, опросом).\n",
    "\n",
    "Базовый шаг в разведывании данных состоит в получении <<типичного значения>> для каждого признака (переменной): оценки того, где расположено большинство данных, т.е. их центральной тенденции.\n",
    "\n",
    "Оценки центрального положения:\n",
    "- выборочное среднее -- сумма всех значений, деленная на число значений:\n",
    "$$\n",
    "\\bar{x} = \\dfrac{1}{n}\\sum\\limits_{i=1}^{n}x_i, \n",
    "$$\n",
    "где $x_i$ -- наблюдаемые (выборочные) значения случайной величины $X$; \n",
    "\n",
    "- медиана -- значение, для которого половина сортированных данных находится выше и ниже данного значения;\n",
    "- мода — это значение, которое встречается наиболее часто в наборе данных. Мода как средняя величина употребляется чаще для категориальных данных.\n",
    "\n",
    "Центральное положение — это всего одна из размерностей в обобщении признака.\n",
    "Вторая размерность, вариабельность, именуемая также дисперсностью, показывает,\n",
    "сгруппированы ли значения данных плотно, или же они разбросаны.\n",
    "\n",
    "Оценки вариабельности:\n",
    "- дисперсия -- сумма квадратичных отклонений от среднего, деленная на $n$, где $n$ — это число значений данных:\n",
    "$$\n",
    "\\bar{\\sigma}^2 = \\dfrac{1}{n}\\sum\\limits_{i=1}^{n}(x_i-\\bar{x})^2;\n",
    "$$\n",
    "- стандартное отклонение -- квадратный корень из дисперсии:\n",
    "$$s=\\sqrt{\\bar{\\sigma}^2};$$\n",
    "- размах — это разность между максимальным и минимальным значениями переменной в наборе данных;\n",
    "- процентиль -- такое значение, что $P$ процент значений принимает данное значение или меньшее и $(100 - P)$ процент значений принимает данное значение или большее.\n",
    "\n",
    "**Взаимосвязь данных**\n",
    "\n",
    "[Корреляция или корреляционная зависимость](https://ru.wikipedia.org/wiki/%D0%9A%D0%BE%D1%80%D1%80%D0%B5%D0%BB%D1%8F%D1%86%D0%B8%D1%8F) — статистическая взаимосвязь двух или более случайных величин, при этом изменения значений одной или нескольких из этих величин сопутствуют систематическому изменению значений другой или других величин.\n",
    "\n",
    "Коэффициент корреляции характеризует степень зависимости этих величин, причем не любой зависимости, а только линейной, проявляющейся в том, что при возрастании одной случайной величины другая проявляет тенденцию также возрастать (или убывать). В первом случае $ r_{xy}>0 $, и говорят, что случайные величины $X$ и $Y$ связаны положительной корреляцией, во втором $ r_{xy}<0 $, и корреляция отрицательна. \n",
    "\n",
    "Для любых двух случайных величин $X$, $Y$ \n",
    "$$-1\\leqslant r_{xy} \\leqslant 1.$$ \n",
    "\n",
    "Метод вычисления коэффициента корреляции зависит от вида шкалы, к которой относятся переменные. Так, для измерения переменных с интервальной и количественной шкалами необходимо использовать коэффициент корреляции Пирсона. Если по меньшей мере одна из двух переменных имеет порядковую шкалу, либо не является нормально распределённой, необходимо использовать ранговую корреляцию Спирмена или Кендалла. В случае, когда одна из двух переменных является дихотомической, используется точечная двухрядная корреляция, а если обе переменные являются дихотомическими — четырехполевая корреляция.\n",
    "\n",
    "Корреляционная матрица -- таблица, в которой строки и столбцы — это переменные, а значения ячеек — корреляции между этими переменными.\n",
    "\n",
    "**Методы визуализации**\n",
    "\n",
    "Коробчатая диаграмма (синоним: ящик с усами) -- график, введенный в употребление в качестве быстрого способа визуализации распределения данных.\n",
    "\n",
    "Частотная таблица -- сводка количеств числовых значений, которые разбиты на серию частотных интервалов (корзин, бинов).\n",
    "\n",
    "Гистограмма -- график частотной таблицы, в котором корзины откладываются на оси $x$ , а количество (или доля) — на оси $y$.\n",
    "\n",
    "График плотности -- сглаженная версия гистограммы, часто на основе ядерной оценки плотности.\n",
    "\n",
    "Диаграмма рассеяния -- график, в котором по оси $x$ откладываются значения одной переменной, а по оси  $y$  - значения другой.\n",
    "\n",
    "Столбиковые диаграммы -- частота или доля каждой категории, изображаемая в виде столбиков.\n",
    "\n",
    "Круговые диаграммы -- частота или доля каждой категории, изображаемая в виде сектора круга."
   ],
   "metadata": {
    "collapsed": false,
    "pycharm": {
     "name": "#%% md\n"
    }
   }
  },
  {
   "cell_type": "markdown",
   "source": [
    "## Рекомендательные системы и разведочный анализ данных: практика\n",
    "\n",
    "Исходные данные: \n",
    "\n",
    "|Признак|Описание|\n",
    "|--:|:--|\n",
    "|`date`| дата заказа|\n",
    "|`customer_id`| идентификатор покупателя|\n",
    "|`order_id`| идентификатор заказа|\n",
    "|`product`| **наименование** товара|\n",
    "|`quantity`| количество товара в заказе|\n",
    "|`price`| цена товара|\n"
   ],
   "metadata": {
    "collapsed": false,
    "pycharm": {
     "name": "#%% md\n"
    }
   }
  },
  {
   "cell_type": "code",
   "execution_count": null,
   "outputs": [],
   "source": [
    "import pandas as pd\n",
    "import numpy as np\n",
    "import datetime as dt\n",
    "import seaborn as sns\n",
    "import matplotlib.pyplot as plt\n",
    "\n",
    "from scipy import stats as st\n",
    "from collections import Counter"
   ],
   "metadata": {
    "collapsed": false,
    "pycharm": {
     "name": "#%%\n"
    }
   }
  },
  {
   "cell_type": "code",
   "execution_count": null,
   "outputs": [],
   "source": [
    "df = pd.read_csv('eda_recom.csv')\n",
    "df"
   ],
   "metadata": {
    "collapsed": false,
    "pycharm": {
     "name": "#%%\n"
    }
   }
  },
  {
   "cell_type": "code",
   "execution_count": null,
   "outputs": [],
   "source": [
    "df.info()"
   ],
   "metadata": {
    "collapsed": false,
    "pycharm": {
     "name": "#%%\n"
    }
   }
  },
  {
   "cell_type": "markdown",
   "source": [
    "**Работа с дублями**\n",
    "\n",
    "Проверим наличие дублей без дат.\n",
    "\n",
    "Проверим соответствие идентификаторов заказа и покупателя, т.е. не должно быть разных покупателей с одним идентификатором заказов."
   ],
   "metadata": {
    "collapsed": false,
    "pycharm": {
     "name": "#%% md\n"
    }
   }
  },
  {
   "cell_type": "code",
   "execution_count": null,
   "outputs": [],
   "source": [
    "df[['customer_id', 'order_id', 'product', 'quantity', 'price']].duplicated().sum()"
   ],
   "metadata": {
    "collapsed": false,
    "pycharm": {
     "name": "#%%\n"
    }
   }
  },
  {
   "cell_type": "code",
   "execution_count": null,
   "outputs": [],
   "source": [
    "index_drop = df[df[['customer_id', 'order_id', 'product', 'quantity', 'price']].duplicated()].index"
   ],
   "metadata": {
    "collapsed": false,
    "pycharm": {
     "name": "#%%\n"
    }
   }
  },
  {
   "cell_type": "code",
   "execution_count": null,
   "outputs": [],
   "source": [
    "df.drop(index_drop, inplace=True) "
   ],
   "metadata": {
    "collapsed": false,
    "pycharm": {
     "name": "#%%\n"
    }
   }
  },
  {
   "cell_type": "markdown",
   "source": [
    "Соответствие между идентификаторами пользователя и заказами."
   ],
   "metadata": {
    "collapsed": false,
    "pycharm": {
     "name": "#%% md\n"
    }
   }
  },
  {
   "cell_type": "code",
   "execution_count": null,
   "outputs": [],
   "source": [
    "df[['order_id', 'product', 'quantity', 'price']].duplicated().sum()"
   ],
   "metadata": {
    "collapsed": false,
    "pycharm": {
     "name": "#%%\n"
    }
   }
  },
  {
   "cell_type": "code",
   "execution_count": null,
   "outputs": [],
   "source": [
    "index_drop = df[df[['order_id', 'product', 'quantity', 'price']].duplicated()].index"
   ],
   "metadata": {
    "collapsed": false,
    "pycharm": {
     "name": "#%%\n"
    }
   }
  },
  {
   "cell_type": "code",
   "execution_count": null,
   "outputs": [],
   "source": [
    "df.drop(index_drop, inplace=True) "
   ],
   "metadata": {
    "collapsed": false,
    "pycharm": {
     "name": "#%%\n"
    }
   }
  },
  {
   "cell_type": "code",
   "execution_count": null,
   "outputs": [],
   "source": [
    "percentiles = [0.01, 0.05, 0.25, 0.5, 0.75, 0.95, 0.99]\n",
    "df[['quantity', 'price']].describe(percentiles = percentiles)"
   ],
   "metadata": {
    "collapsed": false,
    "pycharm": {
     "name": "#%%\n"
    }
   }
  },
  {
   "cell_type": "markdown",
   "source": [
    "Итоги:\n"
   ],
   "metadata": {
    "collapsed": false,
    "pycharm": {
     "name": "#%% md\n"
    }
   }
  },
  {
   "cell_type": "markdown",
   "source": [
    "# Предобработка"
   ],
   "metadata": {
    "collapsed": false,
    "pycharm": {
     "name": "#%% md\n"
    }
   }
  },
  {
   "cell_type": "markdown",
   "source": [
    "## Обработка дат"
   ],
   "metadata": {
    "collapsed": false,
    "pycharm": {
     "name": "#%% md\n"
    }
   }
  },
  {
   "cell_type": "code",
   "execution_count": null,
   "outputs": [],
   "source": [
    "def date_to_year(s):\n",
    "    st = str(s)\n",
    "    return st[0:4]\n",
    "\n",
    "def date_to_month(s):\n",
    "    st = str(s)\n",
    "    return st[4:6]\n",
    "\n",
    "def date_to_day(s):\n",
    "    st = str(s)\n",
    "    return st[6:8]\n",
    "\n",
    "def date_to_hours(s):\n",
    "    st = str(s)\n",
    "    return st[8:10]"
   ],
   "metadata": {
    "collapsed": false,
    "pycharm": {
     "name": "#%%\n"
    }
   }
  },
  {
   "cell_type": "code",
   "execution_count": null,
   "outputs": [],
   "source": [
    "df['year_order'] = df.date.apply(date_to_year) \n",
    "df['month_order'] = df.date.apply(date_to_month) \n",
    "df['day_order'] = df.date.apply(date_to_day) \n",
    "df['hours_order'] = df.date.apply(date_to_hours) "
   ],
   "metadata": {
    "collapsed": false,
    "pycharm": {
     "name": "#%%\n"
    }
   }
  },
  {
   "cell_type": "code",
   "execution_count": null,
   "outputs": [],
   "source": [
    "df"
   ],
   "metadata": {
    "collapsed": false,
    "pycharm": {
     "name": "#%%\n"
    }
   }
  },
  {
   "cell_type": "code",
   "execution_count": null,
   "outputs": [],
   "source": [
    "col_unique = ['year_order', 'month_order', 'day_order', 'hours_order']\n",
    "for col in col_unique:\n",
    "    print(df[col].unique()) "
   ],
   "metadata": {
    "collapsed": false,
    "pycharm": {
     "name": "#%%\n"
    }
   }
  },
  {
   "cell_type": "markdown",
   "source": [
    "Преобразование дат\n",
    "\n",
    "Альтернативный вариант"
   ],
   "metadata": {
    "collapsed": false,
    "pycharm": {
     "name": "#%% md\n"
    }
   }
  },
  {
   "cell_type": "code",
   "execution_count": null,
   "outputs": [],
   "source": [
    "df['date'] = pd.to_datetime(df['date'], format='%Y%m%d%H')\n",
    "df['date_order'] = df['date'].dt.date"
   ],
   "metadata": {
    "collapsed": false,
    "pycharm": {
     "name": "#%%\n"
    }
   }
  },
  {
   "cell_type": "code",
   "execution_count": null,
   "outputs": [],
   "source": [
    "df.date_order.min()"
   ],
   "metadata": {
    "collapsed": false,
    "pycharm": {
     "name": "#%%\n"
    }
   }
  },
  {
   "cell_type": "code",
   "execution_count": null,
   "outputs": [],
   "source": [
    "df.date_order.max()"
   ],
   "metadata": {
    "collapsed": false,
    "pycharm": {
     "name": "#%%\n"
    }
   }
  },
  {
   "cell_type": "markdown",
   "source": [
    "## Обработка строк\n",
    "\n",
    "У признака `product` уберем возможные пробельные символы с обоих концов, приведем к нижнему регистру и заменим букву `ё` на `е`."
   ],
   "metadata": {
    "collapsed": false,
    "pycharm": {
     "name": "#%% md\n"
    }
   }
  },
  {
   "cell_type": "code",
   "execution_count": null,
   "outputs": [],
   "source": [
    "df['product'] = df['product'].str.strip().str.lower().str.replace('ё', 'е')"
   ],
   "metadata": {
    "collapsed": false,
    "pycharm": {
     "name": "#%%\n"
    }
   }
  },
  {
   "cell_type": "markdown",
   "source": [
    "## Добавление новых столбцов\n",
    "\n",
    "Добавим столбец `Стоимость товара` -- `cost_product`"
   ],
   "metadata": {
    "collapsed": false,
    "pycharm": {
     "name": "#%% md\n"
    }
   }
  },
  {
   "cell_type": "code",
   "execution_count": null,
   "outputs": [],
   "source": [
    "df.columns"
   ],
   "metadata": {
    "collapsed": false,
    "pycharm": {
     "name": "#%%\n"
    }
   }
  },
  {
   "cell_type": "code",
   "execution_count": null,
   "outputs": [],
   "source": [
    "df['cost_product'] = df['quantity'] * df['price']"
   ],
   "metadata": {
    "collapsed": false,
    "pycharm": {
     "name": "#%%\n"
    }
   }
  },
  {
   "cell_type": "markdown",
   "source": [
    "# Разведочный анализ данных"
   ],
   "metadata": {
    "collapsed": false,
    "pycharm": {
     "name": "#%% md\n"
    }
   }
  },
  {
   "cell_type": "code",
   "execution_count": null,
   "outputs": [],
   "source": [
    "def calc_wisk(col):\n",
    "    Q1, median, Q3 = np.percentile(np.asarray(df[col]), [25, 50, 75])\n",
    "    IQR = Q3 - Q1\n",
    "    loval = Q1 - 1.5 * IQR\n",
    "    hival = Q3 + 1.5 * IQR\n",
    "    wiskhi = np.compress(np.asarray(df[col]) <= hival, np.asarray(df[col]))\n",
    "    wisklo = np.compress(np.asarray(df[col]) >= loval, np.asarray(df[col]))\n",
    "    actual_hival = np.max(wiskhi)\n",
    "    actual_loval = np.min(wisklo)\n",
    "    return actual_loval, actual_hival"
   ],
   "metadata": {
    "collapsed": false,
    "pycharm": {
     "name": "#%%\n"
    }
   }
  },
  {
   "cell_type": "markdown",
   "source": [
    "## Количество товара в заказе"
   ],
   "metadata": {
    "collapsed": false,
    "pycharm": {
     "name": "#%% md\n"
    }
   }
  },
  {
   "cell_type": "code",
   "execution_count": null,
   "outputs": [],
   "source": [
    "df.quantity.value_counts()"
   ],
   "metadata": {
    "collapsed": false,
    "pycharm": {
     "name": "#%%\n"
    }
   }
  },
  {
   "cell_type": "markdown",
   "source": [],
   "metadata": {
    "collapsed": false,
    "pycharm": {
     "name": "#%% md\n"
    }
   }
  },
  {
   "cell_type": "code",
   "execution_count": null,
   "outputs": [],
   "source": [
    "df.drop(df[df.quantity == 1000].index, inplace = True)"
   ],
   "metadata": {
    "collapsed": false,
    "pycharm": {
     "name": "#%%\n"
    }
   }
  },
  {
   "cell_type": "code",
   "execution_count": null,
   "outputs": [],
   "source": [
    "plt.figure(figsize=(12,6))\n",
    "sns.boxplot(y=df['quantity'])\n",
    "plt.title('Диаграмма размаха для количество товара в заказе', fontsize=14)\n",
    "plt.xlabel('Количество товара в заказе', fontsize=12)\n",
    "plt.show()"
   ],
   "metadata": {
    "collapsed": false,
    "pycharm": {
     "name": "#%%\n"
    }
   }
  },
  {
   "cell_type": "code",
   "execution_count": null,
   "outputs": [],
   "source": [
    "calc_wisk('quantity')"
   ],
   "metadata": {
    "collapsed": false,
    "pycharm": {
     "name": "#%%\n"
    }
   }
  },
  {
   "cell_type": "markdown",
   "source": [
    "Видим, что здесь диаграмма размаха дает мало информации. Воспользуемся описательными статистиками"
   ],
   "metadata": {
    "collapsed": false,
    "pycharm": {
     "name": "#%% md\n"
    }
   }
  },
  {
   "cell_type": "code",
   "execution_count": null,
   "outputs": [],
   "source": [
    "df = df[df.quantity <= 30]\n",
    "df.shape"
   ],
   "metadata": {
    "collapsed": false,
    "pycharm": {
     "name": "#%%\n"
    }
   }
  },
  {
   "cell_type": "markdown",
   "source": [
    "## Цена товара"
   ],
   "metadata": {
    "collapsed": false,
    "pycharm": {
     "name": "#%% md\n"
    }
   }
  },
  {
   "cell_type": "code",
   "execution_count": null,
   "outputs": [],
   "source": [
    "plt.figure(figsize=(12,6))\n",
    "sns.displot(x = 'price', bins=100, data = df);\n",
    "plt.title('Распределение цены товара', fontsize=14)\n",
    "plt.xlabel('Цена товара', fontsize=12)\n",
    "plt.show()"
   ],
   "metadata": {
    "collapsed": false,
    "pycharm": {
     "name": "#%%\n"
    }
   }
  },
  {
   "cell_type": "code",
   "execution_count": null,
   "outputs": [],
   "source": [
    "plt.figure(figsize=(12,6))\n",
    "sns.boxplot(y=df['price'])\n",
    "plt.title('Диаграмма размаха для цены товара', fontsize=14)\n",
    "plt.xlabel('Цена товара', fontsize=12)\n",
    "plt.show()"
   ],
   "metadata": {
    "collapsed": false,
    "pycharm": {
     "name": "#%%\n"
    }
   }
  },
  {
   "cell_type": "code",
   "execution_count": null,
   "outputs": [],
   "source": [
    "calc_wisk('price')"
   ],
   "metadata": {
    "collapsed": false,
    "pycharm": {
     "name": "#%%\n"
    }
   }
  },
  {
   "cell_type": "code",
   "execution_count": null,
   "outputs": [],
   "source": [
    "df = df[(df.price >= calc_wisk('price')[0]) & \n",
    "        (df.price <= calc_wisk('price')[1])]"
   ],
   "metadata": {
    "collapsed": false,
    "pycharm": {
     "name": "#%%\n"
    }
   }
  },
  {
   "cell_type": "markdown",
   "source": [],
   "metadata": {
    "collapsed": false,
    "pycharm": {
     "name": "#%% md\n"
    }
   }
  },
  {
   "cell_type": "markdown",
   "source": [
    "### Количество покупок по дням"
   ],
   "metadata": {
    "collapsed": false,
    "pycharm": {
     "name": "#%% md\n"
    }
   }
  },
  {
   "cell_type": "markdown",
   "source": [
    "Добавим в датафрейм день, неделю и месяц покупки. Так как данные охватывают 2018 и 2019 год, то к номеру недели и месяца добавим год."
   ],
   "metadata": {
    "collapsed": false,
    "pycharm": {
     "name": "#%% md\n"
    }
   }
  },
  {
   "cell_type": "code",
   "execution_count": null,
   "outputs": [],
   "source": [
    "df['order_week'] = df['date'].dt.strftime('%Y-%U')\n",
    "df['order_year'] = df['date'].dt.strftime('%Y-%m')\n",
    "df.head()"
   ],
   "metadata": {
    "collapsed": false,
    "pycharm": {
     "name": "#%%\n"
    }
   }
  },
  {
   "cell_type": "markdown",
   "source": [
    "Сгруппируем данные по дню и посчитаем количество покупок."
   ],
   "metadata": {
    "collapsed": false,
    "pycharm": {
     "name": "#%% md\n"
    }
   }
  },
  {
   "cell_type": "code",
   "execution_count": null,
   "outputs": [],
   "source": [
    "orders_by_day = df.groupby('date_order').agg({'order_id':'nunique'})\n",
    "orders_by_day = orders_by_day.reset_index().rename(columns={'day': 'Дата', 'order_id':'Количество заказов'})\n",
    "orders_by_day.sort_values(by='Количество заказов', ascending=False)"
   ],
   "metadata": {
    "collapsed": false,
    "pycharm": {
     "name": "#%%\n"
    }
   }
  },
  {
   "cell_type": "markdown",
   "source": [
    "Сгруппируем данные по неделям и посчитаем количество покупок"
   ],
   "metadata": {
    "collapsed": false,
    "pycharm": {
     "name": "#%% md\n"
    }
   }
  },
  {
   "cell_type": "code",
   "execution_count": null,
   "outputs": [],
   "source": [
    "orders_by_week = df.groupby('order_week').agg({'order_id':'nunique'})\n",
    "orders_by_week = orders_by_week.reset_index().rename(columns={'order_week': 'Неделя', \n",
    "                                                              'order_id': 'Количество заказов'\n",
    "                                                              })\n",
    "orders_by_week.sort_values(by='Количество заказов', ascending=False).head()"
   ],
   "metadata": {
    "collapsed": false,
    "pycharm": {
     "name": "#%%\n"
    }
   }
  },
  {
   "cell_type": "markdown",
   "source": [
    "Сгруппируем данные по месяцам и посчитаем количество покупок."
   ],
   "metadata": {
    "collapsed": false,
    "pycharm": {
     "name": "#%% md\n"
    }
   }
  },
  {
   "cell_type": "code",
   "execution_count": null,
   "outputs": [],
   "source": [
    "orders_by_month = df.groupby('order_year').agg({'order_id':'nunique'})\n",
    "orders_by_month = orders_by_month.reset_index().rename(columns={'order_year': 'Месяц', \n",
    "                                                                'order_id': 'Количество заказов'})\n",
    "orders_by_month.sort_values(by='Количество заказов', ascending=False)"
   ],
   "metadata": {
    "collapsed": false,
    "pycharm": {
     "name": "#%%\n"
    }
   }
  },
  {
   "cell_type": "code",
   "execution_count": null,
   "outputs": [],
   "source": [
    "fig, ax = plt.subplots(figsize=(12,6))\n",
    "ax = sns.barplot(x = 'Месяц',  \n",
    "                 y = 'Количество заказов',\n",
    "                 data = orders_by_month)\n",
    "ax.set_xticklabels(ax.get_xticklabels(), rotation = 30, ha = \"right\", fontsize = 12);\n",
    "plt.show()"
   ],
   "metadata": {
    "collapsed": false,
    "pycharm": {
     "name": "#%%\n"
    }
   }
  },
  {
   "cell_type": "markdown",
   "source": [
    "**Вывод**"
   ],
   "metadata": {
    "collapsed": false,
    "pycharm": {
     "name": "#%% md\n"
    }
   }
  },
  {
   "cell_type": "markdown",
   "source": [
    "## Стоимость заказов по дням"
   ],
   "metadata": {
    "collapsed": false,
    "pycharm": {
     "name": "#%% md\n"
    }
   }
  },
  {
   "cell_type": "code",
   "execution_count": null,
   "outputs": [],
   "source": [
    "cost_by_day = df.groupby('date_order').agg({'cost_product':'sum'})\n",
    "cost_by_day = cost_by_day.reset_index().rename(columns={'date_order': 'Дата', 'cost_product':'Стоимость заказов'})\n",
    "cost_by_day.sort_values(by='Стоимость заказов', ascending=False)"
   ],
   "metadata": {
    "collapsed": false,
    "pycharm": {
     "name": "#%%\n"
    }
   }
  },
  {
   "cell_type": "markdown",
   "source": [
    "Сгруппируем данные по неделям и посчитаем стоимость заказов."
   ],
   "metadata": {
    "collapsed": false,
    "pycharm": {
     "name": "#%% md\n"
    }
   }
  },
  {
   "cell_type": "code",
   "execution_count": null,
   "outputs": [],
   "source": [
    "cost_by_week = df.groupby('order_week').agg({'cost_product':'sum'})\n",
    "cost_by_week = cost_by_week.reset_index().rename(columns={'order_week': 'Неделя', \n",
    "                                                          'cost_product':'Стоимость заказов'})\n",
    "cost_by_week.sort_values(by='Стоимость заказов', ascending=False)"
   ],
   "metadata": {
    "collapsed": false,
    "pycharm": {
     "name": "#%%\n"
    }
   }
  },
  {
   "cell_type": "markdown",
   "source": [
    "Сгруппируем данные по месяцам и посчитаем стоимость заказов"
   ],
   "metadata": {
    "collapsed": false,
    "pycharm": {
     "name": "#%% md\n"
    }
   }
  },
  {
   "cell_type": "code",
   "execution_count": null,
   "outputs": [],
   "source": [
    "cost_by_month = df.groupby('order_year').agg({'cost_product':'sum'})\n",
    "cost_by_month = cost_by_month.reset_index().rename(columns={'order_year': 'Месяц', \n",
    "                                                            'cost_product':'Стоимость заказов'})\n",
    "cost_by_month.sort_values(by='Стоимость заказов', ascending=False)"
   ],
   "metadata": {
    "collapsed": false,
    "pycharm": {
     "name": "#%%\n"
    }
   }
  },
  {
   "cell_type": "code",
   "execution_count": null,
   "outputs": [],
   "source": [
    "fig, ax = plt.subplots(figsize=(12,6))\n",
    "ax = sns.barplot(x = 'Месяц',  \n",
    "                 y = 'Стоимость заказов',\n",
    "                 data = cost_by_month)\n",
    "ax.set_xticklabels(ax.get_xticklabels(), rotation = 30, ha = \"right\", fontsize = 12);\n",
    "plt.show()"
   ],
   "metadata": {
    "collapsed": false,
    "pycharm": {
     "name": "#%%\n"
    }
   }
  },
  {
   "cell_type": "markdown",
   "source": [
    "**Вывод:**"
   ],
   "metadata": {
    "collapsed": false,
    "pycharm": {
     "name": "#%% md\n"
    }
   }
  },
  {
   "cell_type": "markdown",
   "source": [
    "**Распределение заказов по сумме**"
   ],
   "metadata": {
    "collapsed": false,
    "pycharm": {
     "name": "#%% md\n"
    }
   }
  },
  {
   "cell_type": "code",
   "execution_count": null,
   "outputs": [],
   "source": [
    "orders_by_total = df.groupby('order_id').agg({'cost_product':'sum'})\n",
    "orders_by_total = orders_by_total.reset_index().rename(columns={'order_id': 'Заказ', 'cost_product':'Сумма заказа'})"
   ],
   "metadata": {
    "collapsed": false,
    "pycharm": {
     "name": "#%%\n"
    }
   }
  },
  {
   "cell_type": "code",
   "execution_count": null,
   "outputs": [],
   "source": [
    "orders_by_total.sort_values(by='Сумма заказа', ascending=False)"
   ],
   "metadata": {
    "collapsed": false,
    "pycharm": {
     "name": "#%%\n"
    }
   }
  },
  {
   "cell_type": "code",
   "execution_count": null,
   "outputs": [],
   "source": [
    "order_total_mean = orders_by_total['Сумма заказа'].mean()\n",
    "order_total_median = orders_by_total['Сумма заказа'].median()\n",
    "order_total_mode = orders_by_total['Сумма заказа'].mode()[0]"
   ],
   "metadata": {
    "collapsed": false,
    "pycharm": {
     "name": "#%%\n"
    }
   }
  },
  {
   "cell_type": "code",
   "execution_count": null,
   "outputs": [],
   "source": [
    "plt.figure(figsize=(18,18))\n",
    "sns.displot(x = 'Сумма заказа', data = orders_by_total, bins=100)\n",
    "plt.axvline(order_total_mean, color='red', linestyle='--', \n",
    "            label = f'Среднее {order_total_mean:.0f} руб.');\n",
    "plt.axvline(order_total_median, color='green', linestyle='--', \n",
    "            label = f'Медиана {order_total_median:.0f} руб.');\n",
    "plt.axvline(order_total_mode, color='blue', linestyle='--', \n",
    "            label = f'Мода {order_total_mode:.0f} руб.');\n",
    "plt.xlim([0, 10000])\n",
    "plt.title('Распределение заказов по сумме', fontsize=14)\n",
    "plt.xlabel('Сумма заказа', fontsize=12)\n",
    "plt.ylabel('Количество заказов', fontsize=12)\n",
    "plt.legend()\n",
    "plt.show()"
   ],
   "metadata": {
    "collapsed": false,
    "pycharm": {
     "name": "#%%\n"
    }
   }
  },
  {
   "cell_type": "markdown",
   "source": [
    "# Анализ торгового асортимента"
   ],
   "metadata": {
    "collapsed": false,
    "pycharm": {
     "name": "#%% md\n"
    }
   }
  },
  {
   "cell_type": "markdown",
   "source": [
    "### Категории товаров"
   ],
   "metadata": {
    "collapsed": false,
    "pycharm": {
     "name": "#%% md\n"
    }
   }
  },
  {
   "cell_type": "code",
   "execution_count": null,
   "outputs": [],
   "source": [
    "df['product'].value_counts().head(20)"
   ],
   "metadata": {
    "collapsed": false,
    "pycharm": {
     "name": "#%%\n"
    }
   }
  },
  {
   "cell_type": "markdown",
   "source": [
    "Для деления товаров на категории выделим первое слово в названии и посчитаем как часто оно встречается в заказах."
   ],
   "metadata": {
    "collapsed": false,
    "pycharm": {
     "name": "#%% md\n"
    }
   }
  },
  {
   "cell_type": "code",
   "execution_count": null,
   "outputs": [],
   "source": [
    "products = df['product'].to_list()\n",
    "keywords = []\n",
    "for product in products:\n",
    "    keywords.append(product.split()[0])\n",
    "keywords_cnt = Counter(keywords)\n",
    "print('Всего ключевых слов', len(keywords_cnt))\n",
    "keywords_cnt.most_common();"
   ],
   "metadata": {
    "collapsed": false,
    "pycharm": {
     "name": "#%%\n"
    }
   }
  },
  {
   "cell_type": "markdown",
   "source": [
    "Для выделения категорий товара воспользуемся каталогом интернет-магазинов [Леруа Мерлен](https://leroymerlin.ru/catalogue/) и [Ozon](https://www.ozon.ru/category/)."
   ],
   "metadata": {
    "collapsed": false,
    "pycharm": {
     "name": "#%% md\n"
    }
   }
  },
  {
   "cell_type": "code",
   "execution_count": null,
   "outputs": [],
   "source": [
    "categorys ={\n",
    "    'Посуда': \n",
    "           ['тарелка', 'набор', 'салатник', 'чайник', 'банка', 'нож', 'кружка', 'контейнер', 'салфетка', \n",
    "            'сковорода', 'ложка', 'кувшин', 'термокружка', 'вилка', 'стакан', 'кастрюля', 'чайный', 'жестяная', \n",
    "            'термос', 'tepмокружка', 'терка', 'измельчитель',  'лоток', 'миска', 'хлебница', 'стеклянная', \n",
    "            'овощеварка', 'столовая', 'чайная', 'разделочная', 'емкость', 'форма', 'толкушка', 'сервировочная', \n",
    "            'рыбочистка', 'лопатка', 'кисточка', 'термостакан', 'столовый', 'блюдце', 'просеиватель', 'кухонное', \n",
    "            'блюдо', 'бидон', 'крышка', 'сахарница', 'соковарка', 'мини-сковорода', 'котел', 'готовая', \n",
    "            'противень', 'вкладыши', 'ножеточка', 'масленка', 'салфетница', 'овощечистка', 'мантоварка', \n",
    "            'кухонные', 'картофелемялка', 'пресс', 'защитный', 'фарфоровая', 'бульонница', 'мантоварка-пароварка',\n",
    "            'орехоколка', 'скалка', 'венчик', 'сито', 'тортница', 'сотейник', 'отделитель', 'шприц',\n",
    "            'пьезозажигалка', 'соковыжималка', 'половник', 'мерный', 'модульная', 'универсальный'],\n",
    "    'Текстиль': \n",
    "           ['скатерть', 'плед', 'полотенце', 'махровое', 'простыня', 'подушка', 'покрывало',\n",
    "            'наматрасник', 'наматрицник-чехол', 'халат', 'одеяло', 'махровый', 'наволочка', \n",
    "            'пододеяльник', 'кольца', 'двуспальное', 'простынь', 'наматрацник'],\n",
    "    'Декор': \n",
    "           ['муляж', 'искусственный', 'карниз', 'новогоднее', 'искусственная', 'ковер', 'декоративная', \n",
    "            'фоторамка', 'ключница', 'ваза'],\n",
    "    'Сад': \n",
    "           ['пеларгония', 'рассада', 'томата', 'петуния', 'герань', 'однолетнее', 'роза', 'калибрахоа', \n",
    "            'бакопа', 'цветок', 'подвесное', 'мята', 'фуксия', 'базилик', 'флокс', 'декабрист', \n",
    "            'примула', 'вербена', 'эвкалипт', 'фиалка', 'дыня', 'лобелия', 'цикламен', 'комнатное', \n",
    "            'капуста', 'бегония', 'бальзамин', 'пуансеттия', 'циперус', 'газания', 'антуриум', 'виола', \n",
    "            'колокольчик', 'арбуз', 'тимьян', 'хлорофитум', 'хризантема', 'космея', 'огурец', 'алиссум', \n",
    "            'эхеверия', 'лаванда', 'львиный', 'подарочный', 'томат', 'мирт', 'кофе', 'лавр',  'табак', \n",
    "            'камнеломка', 'петрушка', 'многолетнее', 'азалия', 'розмарин', 'дендробиум', 'мимоза',\n",
    "            'гвоздика', 'фаленопсис', 'аптения', 'седум', 'овсянница', 'цинния', 'тагетис', 'патиссон', \n",
    "            'мединилла', 'калатея', 'гортензия', 'каланхое', 'настурция', 'календула', 'кореопсис', 'лапчатка', \n",
    "            'алоэ', 'спатифиллум', 'аквилегия', 'земляника', 'калла', 'чабер', 'вербейник', 'котовник', \n",
    "            'ясколка', 'гардения', 'астра', 'клубника', 'нивянник', 'зверобой', 'шеффлера', 'цветущее', \n",
    "            'кориандр', 'аспарагус', 'афеляндра', 'молодило', 'гербера', 'душица', 'крассула', 'цинерария', \n",
    "            'диффенбахия', 'цикламен,', 'эхинокактус', 'гипсофила', 'укроп', 'ранункулус', 'папоротник', \n",
    "            'девичий', 'колеус', 'цинерания', 'портулак', 'аргирантерум', 'вероника', 'целозия', 'сальвия', \n",
    "            'фатсия', 'монарда', 'осина', 'лен', 'лантана', 'сельдерей', 'салат', 'радермахера', \n",
    "            'хризолидокарпус', 'юкка', 'суккулент', 'адиантум', 'кампанула', 'нолина', 'глоксиния', \n",
    "            'иссоп', 'сантолина', 'мелисса', 'альбука', 'артемизия', 'калоцефалус', 'антижир', 'каллуна', \n",
    "            'капсикум', 'соланум', 'бархатцы', 'морковь', 'годеция', 'эшшольция', 'подсолнечник', \n",
    "            'пуансетия', 'гиностемма', 'ель', 'кипарисовик', 'скиммия', 'фиттония', 'фикус', 'кодонанта', \n",
    "            'гимнокалициум', 'крокусы', 'эпипремнум', 'горох', 'незабудка', 'нефролепис', 'тюльпан', \n",
    "            'гиацинт', 'георгина', 'смолевка', 'эхинацея', 'лилейник', 'платикодон', 'энотера', \n",
    "            'цитрофортунелла', 'пеперомия', 'циния', 'синнингия', 'мускари', 'пиретрум', 'агератум', \n",
    "            'муррайя', 'левкой', 'баклажан', 'маттиола', 'лук', 'джункус', 'драцена', 'хоста', 'гайлардия', \n",
    "            'рудбекия', 'барвинок', 'сциндапсус', 'пряные', 'бузульник', 'солидаго', 'физостегия', 'бадан', \n",
    "            'лаватера', 'анемона', 'буддлея', 'валериана', 'змееголовник', 'любисток', 'шалфей', 'вигна', \n",
    "            'кабачок', 'тыква', 'хамедорея', 'импатиенс', 'клен', 'замиокулькас', 'амариллис', 'пахира',\n",
    "            'литопс'],\n",
    "    'Хозтовары': \n",
    "           ['сушилка', 'гладильная', 'коврик', 'чехол', 'штора', 'таз', \n",
    "            'ерш', 'подкладка', 'щетка', 'швабра', 'подрукавник', 'ведро', 'перчатки', \n",
    "            'щетка-сметка', 'штанга', 'окномойка', 'корыто', 'сиденье', 'настенная', 'шнур', \n",
    "            'рукав', 'насадка', 'покрытие', 'дозатор', 'подголовник', 'термометр', \n",
    "            'скребок', 'совок', 'ткань', 'доска', 'мусорный', 'бензин',\n",
    "            'пробка', 'ковш', 'сетка', 'вантуз', 'веник', 'насадка-моп', 'тряпкодержатель', \n",
    "            'бельевые', 'шпагат', 'мешок', 'настольная', 'сметка', 'держатель', \n",
    "            'губка', 'ролик', 'сменный', 'рассекатель', 'мыльница', 'насадка-отжим', \n",
    "            'нетканые', 'фал', 'бак', 'сменная', 'урна-пепельница', 'отжим', \n",
    "            'ванна', 'прищепки', 'веревка', 'запасная', 'тряпка', 'стяжки', 'автоматическая',\n",
    "            'щетка-утюжок', 'комплект', \n",
    "            'средство', 'зубная', 'мыло', 'паста', 'стиральный', 'чистящий', 'жидкое', 'пена', \n",
    "            'универсальное', 'ароматизированное', 'бальзам', 'ополаскиватель', 'кондиционер',\n",
    "            'защитная', 'гипоаллергенный', 'увлажняющая', 'мыло-скраб', 'концентрат', 'антинакипин',\n",
    "            'отбеливатель', \n",
    "            'весы', 'миксер', 'утюг', 'пылесос', 'светильник', 'фен', 'электроштопор', \n",
    "            'кипятильник'],\n",
    "    'Дача':\n",
    "           ['сумка-тележка', 'тележка', 'сумка', 'урна'],\n",
    "    'Хранение вещей':\n",
    "           ['вешалка', 'полки', 'корзина', 'кофр', 'подставка', 'вешалка-плечики', 'крючок', 'этажерка',\n",
    "            'плечики', 'комод', 'ящик', 'коробка', 'вешалка-стойка', 'вешалки', 'стеллаж', 'короб',\n",
    "            'полка', 'вешалка-сушилка', 'вешалка-перекладина', 'обувница-3', 'корзинка', 'вакуумный',\n",
    "            'складной', 'складная'],\n",
    "    'Ремонт':\n",
    "           ['стремянка', 'лестница-стремянка', 'стремянки', 'сверло-фреза,', 'измерительный', \n",
    "            'стяжка', 'холодная', 'петля', 'стремянка-табурет', 'линейка,', 'петля-стрела', \n",
    "            'шило', 'многофункциональный', 'лестница', 'крепеж', 'штангенциркуль', 'сверло', \n",
    "            'фиксатор-шар', 'завертка', 'ручка', 'решетка', 'уголок', 'основание', 'пружина',\n",
    "            'ручка-скоба', 'шпингалет']}"
   ],
   "metadata": {
    "collapsed": false,
    "pycharm": {
     "name": "#%%\n"
    }
   }
  },
  {
   "cell_type": "code",
   "execution_count": null,
   "outputs": [],
   "source": [
    "def product_category(product):\n",
    "    for key, value in categorys.items():\n",
    "        if product.split()[0] in value:\n",
    "            return key"
   ],
   "metadata": {
    "collapsed": false,
    "pycharm": {
     "name": "#%%\n"
    }
   }
  },
  {
   "cell_type": "code",
   "execution_count": null,
   "outputs": [],
   "source": [
    "keyword = 'шпингалет'\n",
    "product_category(keyword)"
   ],
   "metadata": {
    "collapsed": false,
    "pycharm": {
     "name": "#%%\n"
    }
   }
  },
  {
   "cell_type": "code",
   "execution_count": null,
   "outputs": [],
   "source": [
    "df['category'] = df['product'].apply(product_category)"
   ],
   "metadata": {
    "collapsed": false,
    "pycharm": {
     "name": "#%%\n"
    }
   }
  },
  {
   "cell_type": "markdown",
   "source": [
    "Посмотрим есть ли пропуски."
   ],
   "metadata": {
    "collapsed": false,
    "pycharm": {
     "name": "#%% md\n"
    }
   }
  },
  {
   "cell_type": "code",
   "execution_count": null,
   "outputs": [],
   "source": [
    "df['category'].isna().sum()"
   ],
   "metadata": {
    "collapsed": false,
    "pycharm": {
     "name": "#%%\n"
    }
   }
  },
  {
   "cell_type": "markdown",
   "source": [
    "Посмотрим сколько уникальных товаров в каждой категории."
   ],
   "metadata": {
    "collapsed": false,
    "pycharm": {
     "name": "#%% md\n"
    }
   }
  },
  {
   "cell_type": "code",
   "execution_count": null,
   "outputs": [],
   "source": [
    "product_nunique = df.groupby('category')['product'].agg(nunique='nunique').reset_index()\n",
    "product_nunique"
   ],
   "metadata": {
    "collapsed": false,
    "pycharm": {
     "name": "#%%\n"
    }
   }
  },
  {
   "cell_type": "code",
   "execution_count": null,
   "outputs": [],
   "source": [
    "fig, ax = plt.subplots(figsize = (12,6))\n",
    "ax=sns.barplot(x = 'category', \n",
    "               y = 'nunique', \n",
    "               data = product_nunique.sort_values(by='nunique', ascending=False),\n",
    "              )\n",
    "ax.set_xticklabels(ax.get_xticklabels(), rotation=30,  ha=\"right\", fontsize=12)\n",
    "ax.set_title('Распределение ассортимента по категориям', fontsize=14)\n",
    "plt.xlabel('Категория', fontsize=12)\n",
    "plt.ylabel('Наименований товара', fontsize=12)\n",
    "plt.show()"
   ],
   "metadata": {
    "collapsed": false,
    "pycharm": {
     "name": "#%%\n"
    }
   }
  },
  {
   "cell_type": "markdown",
   "source": [
    "**Вывод**"
   ],
   "metadata": {
    "collapsed": false,
    "pycharm": {
     "name": "#%% md\n"
    }
   }
  },
  {
   "cell_type": "markdown",
   "source": [
    "## Анализ заказов по категориям"
   ],
   "metadata": {
    "collapsed": false,
    "pycharm": {
     "name": "#%% md\n"
    }
   }
  },
  {
   "cell_type": "markdown",
   "source": [
    "Посчитаем для каждой категории число заказов, суммарную, среднюю и медианную стоимость заказа."
   ],
   "metadata": {
    "collapsed": false,
    "pycharm": {
     "name": "#%% md\n"
    }
   }
  },
  {
   "cell_type": "code",
   "execution_count": null,
   "outputs": [],
   "source": [
    "category_describe = df.groupby('category')['cost_product'].agg(count='count', \n",
    "                                                               sum='sum', \n",
    "                                                               mean='mean', \n",
    "                                                               median='median').reset_index()"
   ],
   "metadata": {
    "collapsed": false,
    "pycharm": {
     "name": "#%%\n"
    }
   }
  },
  {
   "cell_type": "code",
   "execution_count": null,
   "outputs": [],
   "source": [
    "category_describe.round()"
   ],
   "metadata": {
    "collapsed": false,
    "pycharm": {
     "name": "#%%\n"
    }
   }
  },
  {
   "cell_type": "code",
   "execution_count": null,
   "outputs": [],
   "source": [
    "fig, ax = plt.subplots(figsize = (12,6))\n",
    "ax=sns.barplot(x = 'category', \n",
    "               y = 'count', \n",
    "               data = category_describe.sort_values(by='count', ascending=False),\n",
    "              )\n",
    "ax.set_xticklabels(ax.get_xticklabels(), rotation=30,  ha=\"right\", fontsize=12)\n",
    "ax.set_title('Число покупок по категориям', fontsize=14)\n",
    "plt.xlabel('Категория', fontsize=12)\n",
    "plt.ylabel('Покупок', fontsize=12)\n",
    "plt.show()"
   ],
   "metadata": {
    "collapsed": false,
    "pycharm": {
     "name": "#%%\n"
    }
   }
  },
  {
   "cell_type": "code",
   "execution_count": null,
   "outputs": [],
   "source": [
    "fig, ax = plt.subplots(figsize = (12,6))\n",
    "ax=sns.barplot(x = 'category', \n",
    "               y = 'sum', \n",
    "               data = category_describe.sort_values(by='sum', ascending=False),\n",
    "              )\n",
    "ax.set_xticklabels(ax.get_xticklabels(), rotation=30,  ha=\"right\", fontsize=12)\n",
    "ax.set_title('Выручка по категориям', fontsize=14)\n",
    "plt.xlabel('Категория', fontsize=12)\n",
    "plt.ylabel('Сумма покупок', fontsize=12)\n",
    "plt.show()"
   ],
   "metadata": {
    "collapsed": false,
    "pycharm": {
     "name": "#%%\n"
    }
   }
  },
  {
   "cell_type": "code",
   "execution_count": null,
   "outputs": [],
   "source": [
    "fig, ax = plt.subplots(figsize = (12,6))\n",
    "ax=sns.barplot(x = 'category', \n",
    "               y = 'mean', \n",
    "               data = category_describe.sort_values(by='mean', ascending=False),\n",
    "              )\n",
    "ax.set_xticklabels(ax.get_xticklabels(), rotation=30,  ha=\"right\", fontsize=12)\n",
    "ax.set_title('Средний чек по категориям', fontsize=14)\n",
    "plt.xlabel('Категория', fontsize=12)\n",
    "plt.ylabel('Средний чек', fontsize=12)\n",
    "plt.show()"
   ],
   "metadata": {
    "collapsed": false,
    "pycharm": {
     "name": "#%%\n"
    }
   }
  },
  {
   "cell_type": "code",
   "execution_count": null,
   "outputs": [],
   "source": [
    "fig, ax = plt.subplots(figsize = (12,6))\n",
    "ax=sns.barplot(x = 'category', \n",
    "               y = 'median', \n",
    "               data = category_describe.sort_values(by='median', ascending=False),\n",
    "              )\n",
    "ax.set_xticklabels(ax.get_xticklabels(), rotation=30,  ha=\"right\", fontsize=12)\n",
    "ax.set_title('Медианная стоимость заказа по категориям', fontsize=14)\n",
    "plt.xlabel('Категория', fontsize=12)\n",
    "plt.ylabel('Медианная стоимость заказа', fontsize=12)\n",
    "plt.show()"
   ],
   "metadata": {
    "collapsed": false,
    "pycharm": {
     "name": "#%%\n"
    }
   }
  },
  {
   "cell_type": "markdown",
   "source": [
    "Найдем для каждой категории среднюю стоимость единицы товара."
   ],
   "metadata": {
    "collapsed": false,
    "pycharm": {
     "name": "#%% md\n"
    }
   }
  },
  {
   "cell_type": "code",
   "execution_count": null,
   "outputs": [],
   "source": [
    "price_mean = df.groupby('category')['price'].agg(mean='mean').sort_values(by='mean', ascending=False)\n",
    "price_mean.round(2)"
   ],
   "metadata": {
    "collapsed": false,
    "pycharm": {
     "name": "#%%\n"
    }
   }
  },
  {
   "cell_type": "code",
   "execution_count": null,
   "outputs": [],
   "source": [
    "fig, ax = plt.subplots(figsize = (12,6))\n",
    "ax=sns.barplot(x = price_mean.index,\n",
    "               y = 'mean', \n",
    "               data = price_mean,\n",
    "              )\n",
    "ax.set_xticklabels(ax.get_xticklabels(), rotation=30,  ha=\"right\", fontsize=12)\n",
    "ax.set_title('Средняя стоимость товара по категориям', fontsize=14)\n",
    "plt.xlabel('Категория', fontsize=12)\n",
    "plt.ylabel('Средняя стоимость товара', fontsize=12)\n",
    "plt.show()"
   ],
   "metadata": {
    "collapsed": false,
    "pycharm": {
     "name": "#%%\n"
    }
   }
  },
  {
   "cell_type": "code",
   "execution_count": null,
   "outputs": [],
   "source": [
    "df.category.unique()"
   ],
   "metadata": {
    "collapsed": false,
    "pycharm": {
     "name": "#%%\n"
    }
   }
  },
  {
   "cell_type": "markdown",
   "source": [
    "# Статистические гипотезы"
   ],
   "metadata": {
    "collapsed": false,
    "pycharm": {
     "name": "#%% md\n"
    }
   }
  },
  {
   "cell_type": "markdown",
   "source": [
    "С помощью *критерия Шапиро-Уилка* проверим для каждой категории распределение суммарной стоимости товара на нормальность.\n",
    "\n",
    "Выберем критический уровень статистической значимости равным 0,05."
   ],
   "metadata": {
    "collapsed": false,
    "pycharm": {
     "name": "#%% md\n"
    }
   }
  },
  {
   "cell_type": "code",
   "execution_count": null,
   "outputs": [],
   "source": [
    "categorys = list(df.category.unique())\n",
    "alpha = 0.05\n",
    "\n",
    "for cat in categorys:\n",
    "    results = st.shapiro(df[df['category'] == cat]['cost_product'])\n",
    "    p_value = results[1]\n",
    "    print('Категория {}'.format(cat))\n",
    "    print('P-value: ', p_value)\n",
    "    if p_value < alpha:\n",
    "        print(f'Распределение в категории {cat} не нормально.')\n",
    "    else:\n",
    "        print('В категории {cat} всё нормально.')"
   ],
   "metadata": {
    "collapsed": false,
    "pycharm": {
     "name": "#%%\n"
    }
   }
  },
  {
   "cell_type": "markdown",
   "source": [
    "Так как во всех категориях суммарная стоимость товара распределена не нормально, то для проверки гипотез будем использовать непараметрический тест *Уилкоксона-Манна-Уитни*.\n",
    "\n",
    "Будем сравнивать средний чек в категории Сад со средними чеками в остальных категориях.\n",
    "\n",
    "Сформулируем статистические гипотезы:\n",
    "- нулевая гипотеза $H_0$: *средние чеки для выбранных категорий товара равны*;\n",
    "- альтернативная гипотеза $H_1$: *средние чеки для выбранных категорий товара не равны*."
   ],
   "metadata": {
    "collapsed": false,
    "pycharm": {
     "name": "#%% md\n"
    }
   }
  },
  {
   "cell_type": "code",
   "execution_count": null,
   "outputs": [],
   "source": [
    "def test_hypothesis(cat1, cat2, alpha):\n",
    "    df1 = df[df['category'] == cat1]['cost_product']\n",
    "    df2 = df[df['category'] == cat2]['cost_product']\n",
    "    results = st.mannwhitneyu(df1, df2)\n",
    "    print('Результат проверки гипотезы H_0 для категорий {} и {}'.format(cat1, cat2))\n",
    "    print(f'Уровень значимости α = {alpha}')\n",
    "    print('P-value:', results.pvalue)\n",
    "    if results.pvalue < alpha:\n",
    "        print('Отвергаем нулевую гипотезу:', \n",
    "              f'разница между средними чеками в категориях {cat1} и {cat2} статистически значима.', sep='\\n')\n",
    "    else: print('Не получилось отвергнуть нулевую гипотезу:',\n",
    "                f'разница между средними чеками в  категориях {cat1} и {cat2} статистически незначима.', sep='\\n')"
   ],
   "metadata": {
    "collapsed": false,
    "pycharm": {
     "name": "#%%\n"
    }
   }
  },
  {
   "cell_type": "code",
   "execution_count": null,
   "outputs": [],
   "source": [
    "cat1 = 'Сад'\n",
    "categorys = ['Хозтовары', 'Хранение вещей', 'Посуда', 'Дача', 'Декор', 'Текстиль', 'Ремонт']\n",
    "\n",
    "for cat2 in categorys:\n",
    "    test_hypothesis(cat1, cat2, alpha)"
   ],
   "metadata": {
    "collapsed": false,
    "pycharm": {
     "name": "#%%\n"
    }
   }
  },
  {
   "cell_type": "markdown",
   "source": [
    "### Вывод\n",
    "\n",
    "Видим, что средний чек в категории *Сад* не равен среднему чеку в категориях *Посуда*, *Текстиль*, *Хозтовары*, *Дача*, *Хранение вещей* и *Ремонт*. Разница между средними чеками в  категориях  *Сад* и *Декор* статистически незначима."
   ],
   "metadata": {
    "collapsed": false,
    "pycharm": {
     "name": "#%% md\n"
    }
   }
  },
  {
   "cell_type": "code",
   "execution_count": null,
   "outputs": [],
   "source": [
    "df.groupby('category')['cost_product'].mean()"
   ],
   "metadata": {
    "collapsed": false,
    "pycharm": {
     "name": "#%%\n"
    }
   }
  },
  {
   "cell_type": "code",
   "execution_count": 205,
   "metadata": {
    "id": "XKfkIPvKx-V0",
    "pycharm": {
     "name": "#%%\n"
    }
   },
   "outputs": [],
   "source": [
    "import pandas as pd\n",
    "import numpy as np\n",
    "import datetime as dt\n",
    "import seaborn as sns\n",
    "import matplotlib.pyplot as plt\n",
    "\n",
    "from scipy import stats as st\n",
    "from collections import Counter"
   ]
  },
  {
   "cell_type": "code",
   "execution_count": 149,
   "metadata": {
    "colab": {
     "base_uri": "https://localhost:8080/",
     "height": 424
    },
    "id": "9XZqwidvYz9d",
    "outputId": "a9bf69ea-f54b-4f1c-9751-e5b271aadcea",
    "pycharm": {
     "name": "#%%\n"
    }
   },
   "outputs": [
    {
     "data": {
      "text/html": [
       "\n",
       "  <div id=\"df-3e249c8b-cb19-44b3-9852-f36dd4c77984\">\n",
       "    <div class=\"colab-df-container\">\n",
       "      <div>\n",
       "<style scoped>\n",
       "    .dataframe tbody tr th:only-of-type {\n",
       "        vertical-align: middle;\n",
       "    }\n",
       "\n",
       "    .dataframe tbody tr th {\n",
       "        vertical-align: top;\n",
       "    }\n",
       "\n",
       "    .dataframe thead th {\n",
       "        text-align: right;\n",
       "    }\n",
       "</style>\n",
       "<table border=\"1\" class=\"dataframe\">\n",
       "  <thead>\n",
       "    <tr style=\"text-align: right;\">\n",
       "      <th></th>\n",
       "      <th>date</th>\n",
       "      <th>customer_id</th>\n",
       "      <th>order_id</th>\n",
       "      <th>product</th>\n",
       "      <th>quantity</th>\n",
       "      <th>price</th>\n",
       "    </tr>\n",
       "  </thead>\n",
       "  <tbody>\n",
       "    <tr>\n",
       "      <th>0</th>\n",
       "      <td>2018100100</td>\n",
       "      <td>ee47d746-6d2f-4d3c-9622-c31412542920</td>\n",
       "      <td>68477</td>\n",
       "      <td>Комнатное растение в горшке Алое Вера, d12, h30</td>\n",
       "      <td>1</td>\n",
       "      <td>142.0</td>\n",
       "    </tr>\n",
       "    <tr>\n",
       "      <th>1</th>\n",
       "      <td>2018100100</td>\n",
       "      <td>ee47d746-6d2f-4d3c-9622-c31412542920</td>\n",
       "      <td>68477</td>\n",
       "      <td>Комнатное растение в горшке Кофе Арабика, d12,...</td>\n",
       "      <td>1</td>\n",
       "      <td>194.0</td>\n",
       "    </tr>\n",
       "    <tr>\n",
       "      <th>2</th>\n",
       "      <td>2018100100</td>\n",
       "      <td>ee47d746-6d2f-4d3c-9622-c31412542920</td>\n",
       "      <td>68477</td>\n",
       "      <td>Радермахера d-12 см h-20 см</td>\n",
       "      <td>1</td>\n",
       "      <td>112.0</td>\n",
       "    </tr>\n",
       "    <tr>\n",
       "      <th>3</th>\n",
       "      <td>2018100100</td>\n",
       "      <td>ee47d746-6d2f-4d3c-9622-c31412542920</td>\n",
       "      <td>68477</td>\n",
       "      <td>Хризолидокарпус Лутесценс d-9 см</td>\n",
       "      <td>1</td>\n",
       "      <td>179.0</td>\n",
       "    </tr>\n",
       "    <tr>\n",
       "      <th>4</th>\n",
       "      <td>2018100100</td>\n",
       "      <td>ee47d746-6d2f-4d3c-9622-c31412542920</td>\n",
       "      <td>68477</td>\n",
       "      <td>Циперус Зумула d-12 см h-25 см</td>\n",
       "      <td>1</td>\n",
       "      <td>112.0</td>\n",
       "    </tr>\n",
       "    <tr>\n",
       "      <th>...</th>\n",
       "      <td>...</td>\n",
       "      <td>...</td>\n",
       "      <td>...</td>\n",
       "      <td>...</td>\n",
       "      <td>...</td>\n",
       "      <td>...</td>\n",
       "    </tr>\n",
       "    <tr>\n",
       "      <th>6732</th>\n",
       "      <td>2019103111</td>\n",
       "      <td>73d1cd35-5e5f-4629-8cf2-3fda829d4e58</td>\n",
       "      <td>73156</td>\n",
       "      <td>Таз пластмассовый 40,0 л пищевой овальный (Иж)...</td>\n",
       "      <td>1</td>\n",
       "      <td>404.0</td>\n",
       "    </tr>\n",
       "    <tr>\n",
       "      <th>6733</th>\n",
       "      <td>2019103112</td>\n",
       "      <td>1f0a7f35-7459-4f23-b468-5e45bf481dd1</td>\n",
       "      <td>73158</td>\n",
       "      <td>Сумка-тележка 2-х колесная Gimi Argo синяя</td>\n",
       "      <td>1</td>\n",
       "      <td>1087.0</td>\n",
       "    </tr>\n",
       "    <tr>\n",
       "      <th>6734</th>\n",
       "      <td>2019103113</td>\n",
       "      <td>25df96a7-c453-4708-9cea-a3dfc7c342ea</td>\n",
       "      <td>73162</td>\n",
       "      <td>Герань домашняя (пеларгония зональная) цветуща...</td>\n",
       "      <td>1</td>\n",
       "      <td>157.0</td>\n",
       "    </tr>\n",
       "    <tr>\n",
       "      <th>6735</th>\n",
       "      <td>2019103114</td>\n",
       "      <td>73d1cd35-5e5f-4629-8cf2-3fda829d4e58</td>\n",
       "      <td>73164</td>\n",
       "      <td>Таз пластмассовый со стиральной доской (Иж), 1...</td>\n",
       "      <td>1</td>\n",
       "      <td>397.0</td>\n",
       "    </tr>\n",
       "    <tr>\n",
       "      <th>6736</th>\n",
       "      <td>2019103116</td>\n",
       "      <td>344aa778-e436-419e-a9c6-9b8f37b7c1df</td>\n",
       "      <td>73137</td>\n",
       "      <td>Сумка-тележка 2-х колесная Gimi Argo синяя</td>\n",
       "      <td>1</td>\n",
       "      <td>1087.0</td>\n",
       "    </tr>\n",
       "  </tbody>\n",
       "</table>\n",
       "<p>6737 rows × 6 columns</p>\n",
       "</div>\n",
       "      <button class=\"colab-df-convert\" onclick=\"convertToInteractive('df-3e249c8b-cb19-44b3-9852-f36dd4c77984')\"\n",
       "              title=\"Convert this dataframe to an interactive table.\"\n",
       "              style=\"display:none;\">\n",
       "        \n",
       "  <svg xmlns=\"http://www.w3.org/2000/svg\" height=\"24px\"viewBox=\"0 0 24 24\"\n",
       "       width=\"24px\">\n",
       "    <path d=\"M0 0h24v24H0V0z\" fill=\"none\"/>\n",
       "    <path d=\"M18.56 5.44l.94 2.06.94-2.06 2.06-.94-2.06-.94-.94-2.06-.94 2.06-2.06.94zm-11 1L8.5 8.5l.94-2.06 2.06-.94-2.06-.94L8.5 2.5l-.94 2.06-2.06.94zm10 10l.94 2.06.94-2.06 2.06-.94-2.06-.94-.94-2.06-.94 2.06-2.06.94z\"/><path d=\"M17.41 7.96l-1.37-1.37c-.4-.4-.92-.59-1.43-.59-.52 0-1.04.2-1.43.59L10.3 9.45l-7.72 7.72c-.78.78-.78 2.05 0 2.83L4 21.41c.39.39.9.59 1.41.59.51 0 1.02-.2 1.41-.59l7.78-7.78 2.81-2.81c.8-.78.8-2.07 0-2.86zM5.41 20L4 18.59l7.72-7.72 1.47 1.35L5.41 20z\"/>\n",
       "  </svg>\n",
       "      </button>\n",
       "      \n",
       "  <style>\n",
       "    .colab-df-container {\n",
       "      display:flex;\n",
       "      flex-wrap:wrap;\n",
       "      gap: 12px;\n",
       "    }\n",
       "\n",
       "    .colab-df-convert {\n",
       "      background-color: #E8F0FE;\n",
       "      border: none;\n",
       "      border-radius: 50%;\n",
       "      cursor: pointer;\n",
       "      display: none;\n",
       "      fill: #1967D2;\n",
       "      height: 32px;\n",
       "      padding: 0 0 0 0;\n",
       "      width: 32px;\n",
       "    }\n",
       "\n",
       "    .colab-df-convert:hover {\n",
       "      background-color: #E2EBFA;\n",
       "      box-shadow: 0px 1px 2px rgba(60, 64, 67, 0.3), 0px 1px 3px 1px rgba(60, 64, 67, 0.15);\n",
       "      fill: #174EA6;\n",
       "    }\n",
       "\n",
       "    [theme=dark] .colab-df-convert {\n",
       "      background-color: #3B4455;\n",
       "      fill: #D2E3FC;\n",
       "    }\n",
       "\n",
       "    [theme=dark] .colab-df-convert:hover {\n",
       "      background-color: #434B5C;\n",
       "      box-shadow: 0px 1px 3px 1px rgba(0, 0, 0, 0.15);\n",
       "      filter: drop-shadow(0px 1px 2px rgba(0, 0, 0, 0.3));\n",
       "      fill: #FFFFFF;\n",
       "    }\n",
       "  </style>\n",
       "\n",
       "      <script>\n",
       "        const buttonEl =\n",
       "          document.querySelector('#df-3e249c8b-cb19-44b3-9852-f36dd4c77984 button.colab-df-convert');\n",
       "        buttonEl.style.display =\n",
       "          google.colab.kernel.accessAllowed ? 'block' : 'none';\n",
       "\n",
       "        async function convertToInteractive(key) {\n",
       "          const element = document.querySelector('#df-3e249c8b-cb19-44b3-9852-f36dd4c77984');\n",
       "          const dataTable =\n",
       "            await google.colab.kernel.invokeFunction('convertToInteractive',\n",
       "                                                     [key], {});\n",
       "          if (!dataTable) return;\n",
       "\n",
       "          const docLinkHtml = 'Like what you see? Visit the ' +\n",
       "            '<a target=\"_blank\" href=https://colab.research.google.com/notebooks/data_table.ipynb>data table notebook</a>'\n",
       "            + ' to learn more about interactive tables.';\n",
       "          element.innerHTML = '';\n",
       "          dataTable['output_type'] = 'display_data';\n",
       "          await google.colab.output.renderOutput(dataTable, element);\n",
       "          const docLink = document.createElement('div');\n",
       "          docLink.innerHTML = docLinkHtml;\n",
       "          element.appendChild(docLink);\n",
       "        }\n",
       "      </script>\n",
       "    </div>\n",
       "  </div>\n",
       "  "
      ],
      "text/plain": [
       "            date                           customer_id  order_id  \\\n",
       "0     2018100100  ee47d746-6d2f-4d3c-9622-c31412542920     68477   \n",
       "1     2018100100  ee47d746-6d2f-4d3c-9622-c31412542920     68477   \n",
       "2     2018100100  ee47d746-6d2f-4d3c-9622-c31412542920     68477   \n",
       "3     2018100100  ee47d746-6d2f-4d3c-9622-c31412542920     68477   \n",
       "4     2018100100  ee47d746-6d2f-4d3c-9622-c31412542920     68477   \n",
       "...          ...                                   ...       ...   \n",
       "6732  2019103111  73d1cd35-5e5f-4629-8cf2-3fda829d4e58     73156   \n",
       "6733  2019103112  1f0a7f35-7459-4f23-b468-5e45bf481dd1     73158   \n",
       "6734  2019103113  25df96a7-c453-4708-9cea-a3dfc7c342ea     73162   \n",
       "6735  2019103114  73d1cd35-5e5f-4629-8cf2-3fda829d4e58     73164   \n",
       "6736  2019103116  344aa778-e436-419e-a9c6-9b8f37b7c1df     73137   \n",
       "\n",
       "                                                product  quantity   price  \n",
       "0       Комнатное растение в горшке Алое Вера, d12, h30         1   142.0  \n",
       "1     Комнатное растение в горшке Кофе Арабика, d12,...         1   194.0  \n",
       "2                           Радермахера d-12 см h-20 см         1   112.0  \n",
       "3                      Хризолидокарпус Лутесценс d-9 см         1   179.0  \n",
       "4                        Циперус Зумула d-12 см h-25 см         1   112.0  \n",
       "...                                                 ...       ...     ...  \n",
       "6732  Таз пластмассовый 40,0 л пищевой овальный (Иж)...         1   404.0  \n",
       "6733         Сумка-тележка 2-х колесная Gimi Argo синяя         1  1087.0  \n",
       "6734  Герань домашняя (пеларгония зональная) цветуща...         1   157.0  \n",
       "6735  Таз пластмассовый со стиральной доской (Иж), 1...         1   397.0  \n",
       "6736         Сумка-тележка 2-х колесная Gimi Argo синяя         1  1087.0  \n",
       "\n",
       "[6737 rows x 6 columns]"
      ]
     },
     "execution_count": 149,
     "metadata": {},
     "output_type": "execute_result"
    }
   ],
   "source": [
    "df = pd.read_csv('eda_recom.csv')\n",
    "df"
   ]
  },
  {
   "cell_type": "code",
   "execution_count": 150,
   "metadata": {
    "colab": {
     "base_uri": "https://localhost:8080/"
    },
    "id": "qnBrymv6fd1c",
    "outputId": "e1ce3b38-6aed-4400-db4d-bf3eb2daccaa",
    "pycharm": {
     "name": "#%%\n"
    }
   },
   "outputs": [
    {
     "name": "stdout",
     "output_type": "stream",
     "text": [
      "<class 'pandas.core.frame.DataFrame'>\n",
      "RangeIndex: 6737 entries, 0 to 6736\n",
      "Data columns (total 6 columns):\n",
      " #   Column       Non-Null Count  Dtype  \n",
      "---  ------       --------------  -----  \n",
      " 0   date         6737 non-null   int64  \n",
      " 1   customer_id  6737 non-null   object \n",
      " 2   order_id     6737 non-null   int64  \n",
      " 3   product      6737 non-null   object \n",
      " 4   quantity     6737 non-null   int64  \n",
      " 5   price        6737 non-null   float64\n",
      "dtypes: float64(1), int64(3), object(2)\n",
      "memory usage: 315.9+ KB\n"
     ]
    }
   ],
   "source": [
    "df.info()"
   ]
  },
  {
   "cell_type": "markdown",
   "metadata": {
    "id": "SLTJ5QsYoM7h",
    "pycharm": {
     "name": "#%% md\n"
    }
   },
   "source": [
    "**Работа с дублями**\n",
    "\n",
    "Проверим наличие дублей без дат.\n",
    "\n",
    "Проверим соответствие идентификаторов заказа и покупателя, т.е. не должно быть разных покупателей с одним идентификатором заказов."
   ]
  },
  {
   "cell_type": "code",
   "execution_count": 151,
   "metadata": {
    "colab": {
     "base_uri": "https://localhost:8080/"
    },
    "id": "TYiKpTgtjjGq",
    "outputId": "6ea5e327-6fd7-43e6-d21d-6f4b4db98d23",
    "pycharm": {
     "name": "#%%\n"
    }
   },
   "outputs": [
    {
     "data": {
      "text/plain": [
       "1864"
      ]
     },
     "execution_count": 151,
     "metadata": {},
     "output_type": "execute_result"
    }
   ],
   "source": [
    "df[['customer_id', 'order_id', 'product', 'quantity', 'price']].duplicated().sum()"
   ]
  },
  {
   "cell_type": "code",
   "execution_count": 152,
   "metadata": {
    "id": "uI_u8YjXq8ep",
    "pycharm": {
     "name": "#%%\n"
    }
   },
   "outputs": [],
   "source": [
    "index_drop = df[df[['customer_id', 'order_id', 'product', 'quantity', 'price']].duplicated()].index"
   ]
  },
  {
   "cell_type": "code",
   "execution_count": 153,
   "metadata": {
    "id": "JjaFpuRuqskg",
    "pycharm": {
     "name": "#%%\n"
    }
   },
   "outputs": [],
   "source": [
    "df.drop(index_drop, inplace=True) "
   ]
  },
  {
   "cell_type": "markdown",
   "metadata": {
    "id": "CrxqrNcjrSmm",
    "pycharm": {
     "name": "#%% md\n"
    }
   },
   "source": [
    "Соответствие между идентификаторами пользователя и заказами."
   ]
  },
  {
   "cell_type": "code",
   "execution_count": 154,
   "metadata": {
    "colab": {
     "base_uri": "https://localhost:8080/"
    },
    "id": "ARj2OmI4rR2B",
    "outputId": "6b620fd7-0bab-4ed6-b0a9-94640f7312cb",
    "pycharm": {
     "name": "#%%\n"
    }
   },
   "outputs": [
    {
     "data": {
      "text/plain": [
       "33"
      ]
     },
     "execution_count": 154,
     "metadata": {},
     "output_type": "execute_result"
    }
   ],
   "source": [
    "df[['order_id', 'product', 'quantity', 'price']].duplicated().sum()"
   ]
  },
  {
   "cell_type": "code",
   "execution_count": 155,
   "metadata": {
    "id": "ceZkeNbpqq3k",
    "pycharm": {
     "name": "#%%\n"
    }
   },
   "outputs": [],
   "source": [
    "index_drop = df[df[['order_id', 'product', 'quantity', 'price']].duplicated()].index"
   ]
  },
  {
   "cell_type": "code",
   "execution_count": 156,
   "metadata": {
    "id": "kSvmdktwsS3S",
    "pycharm": {
     "name": "#%%\n"
    }
   },
   "outputs": [],
   "source": [
    "df.drop(index_drop, inplace=True) "
   ]
  },
  {
   "cell_type": "code",
   "execution_count": 157,
   "metadata": {
    "colab": {
     "base_uri": "https://localhost:8080/",
     "height": 426
    },
    "id": "JJ1UYWsanE3T",
    "outputId": "2a71c990-1161-4ad3-8e1a-777d74fc9e0b",
    "pycharm": {
     "name": "#%%\n"
    }
   },
   "outputs": [
    {
     "data": {
      "text/html": [
       "\n",
       "  <div id=\"df-b593d2de-1fee-4e3d-86e0-35290f25c4e0\">\n",
       "    <div class=\"colab-df-container\">\n",
       "      <div>\n",
       "<style scoped>\n",
       "    .dataframe tbody tr th:only-of-type {\n",
       "        vertical-align: middle;\n",
       "    }\n",
       "\n",
       "    .dataframe tbody tr th {\n",
       "        vertical-align: top;\n",
       "    }\n",
       "\n",
       "    .dataframe thead th {\n",
       "        text-align: right;\n",
       "    }\n",
       "</style>\n",
       "<table border=\"1\" class=\"dataframe\">\n",
       "  <thead>\n",
       "    <tr style=\"text-align: right;\">\n",
       "      <th></th>\n",
       "      <th>quantity</th>\n",
       "      <th>price</th>\n",
       "    </tr>\n",
       "  </thead>\n",
       "  <tbody>\n",
       "    <tr>\n",
       "      <th>count</th>\n",
       "      <td>4840.000000</td>\n",
       "      <td>4840.000000</td>\n",
       "    </tr>\n",
       "    <tr>\n",
       "      <th>mean</th>\n",
       "      <td>2.815702</td>\n",
       "      <td>514.925413</td>\n",
       "    </tr>\n",
       "    <tr>\n",
       "      <th>std</th>\n",
       "      <td>17.637293</td>\n",
       "      <td>945.454941</td>\n",
       "    </tr>\n",
       "    <tr>\n",
       "      <th>min</th>\n",
       "      <td>1.000000</td>\n",
       "      <td>9.000000</td>\n",
       "    </tr>\n",
       "    <tr>\n",
       "      <th>1%</th>\n",
       "      <td>1.000000</td>\n",
       "      <td>15.000000</td>\n",
       "    </tr>\n",
       "    <tr>\n",
       "      <th>5%</th>\n",
       "      <td>1.000000</td>\n",
       "      <td>37.000000</td>\n",
       "    </tr>\n",
       "    <tr>\n",
       "      <th>25%</th>\n",
       "      <td>1.000000</td>\n",
       "      <td>90.000000</td>\n",
       "    </tr>\n",
       "    <tr>\n",
       "      <th>50%</th>\n",
       "      <td>1.000000</td>\n",
       "      <td>150.000000</td>\n",
       "    </tr>\n",
       "    <tr>\n",
       "      <th>75%</th>\n",
       "      <td>1.000000</td>\n",
       "      <td>488.000000</td>\n",
       "    </tr>\n",
       "    <tr>\n",
       "      <th>95%</th>\n",
       "      <td>7.000000</td>\n",
       "      <td>2176.250000</td>\n",
       "    </tr>\n",
       "    <tr>\n",
       "      <th>99%</th>\n",
       "      <td>30.000000</td>\n",
       "      <td>4953.880000</td>\n",
       "    </tr>\n",
       "    <tr>\n",
       "      <th>max</th>\n",
       "      <td>1000.000000</td>\n",
       "      <td>14917.000000</td>\n",
       "    </tr>\n",
       "  </tbody>\n",
       "</table>\n",
       "</div>\n",
       "      <button class=\"colab-df-convert\" onclick=\"convertToInteractive('df-b593d2de-1fee-4e3d-86e0-35290f25c4e0')\"\n",
       "              title=\"Convert this dataframe to an interactive table.\"\n",
       "              style=\"display:none;\">\n",
       "        \n",
       "  <svg xmlns=\"http://www.w3.org/2000/svg\" height=\"24px\"viewBox=\"0 0 24 24\"\n",
       "       width=\"24px\">\n",
       "    <path d=\"M0 0h24v24H0V0z\" fill=\"none\"/>\n",
       "    <path d=\"M18.56 5.44l.94 2.06.94-2.06 2.06-.94-2.06-.94-.94-2.06-.94 2.06-2.06.94zm-11 1L8.5 8.5l.94-2.06 2.06-.94-2.06-.94L8.5 2.5l-.94 2.06-2.06.94zm10 10l.94 2.06.94-2.06 2.06-.94-2.06-.94-.94-2.06-.94 2.06-2.06.94z\"/><path d=\"M17.41 7.96l-1.37-1.37c-.4-.4-.92-.59-1.43-.59-.52 0-1.04.2-1.43.59L10.3 9.45l-7.72 7.72c-.78.78-.78 2.05 0 2.83L4 21.41c.39.39.9.59 1.41.59.51 0 1.02-.2 1.41-.59l7.78-7.78 2.81-2.81c.8-.78.8-2.07 0-2.86zM5.41 20L4 18.59l7.72-7.72 1.47 1.35L5.41 20z\"/>\n",
       "  </svg>\n",
       "      </button>\n",
       "      \n",
       "  <style>\n",
       "    .colab-df-container {\n",
       "      display:flex;\n",
       "      flex-wrap:wrap;\n",
       "      gap: 12px;\n",
       "    }\n",
       "\n",
       "    .colab-df-convert {\n",
       "      background-color: #E8F0FE;\n",
       "      border: none;\n",
       "      border-radius: 50%;\n",
       "      cursor: pointer;\n",
       "      display: none;\n",
       "      fill: #1967D2;\n",
       "      height: 32px;\n",
       "      padding: 0 0 0 0;\n",
       "      width: 32px;\n",
       "    }\n",
       "\n",
       "    .colab-df-convert:hover {\n",
       "      background-color: #E2EBFA;\n",
       "      box-shadow: 0px 1px 2px rgba(60, 64, 67, 0.3), 0px 1px 3px 1px rgba(60, 64, 67, 0.15);\n",
       "      fill: #174EA6;\n",
       "    }\n",
       "\n",
       "    [theme=dark] .colab-df-convert {\n",
       "      background-color: #3B4455;\n",
       "      fill: #D2E3FC;\n",
       "    }\n",
       "\n",
       "    [theme=dark] .colab-df-convert:hover {\n",
       "      background-color: #434B5C;\n",
       "      box-shadow: 0px 1px 3px 1px rgba(0, 0, 0, 0.15);\n",
       "      filter: drop-shadow(0px 1px 2px rgba(0, 0, 0, 0.3));\n",
       "      fill: #FFFFFF;\n",
       "    }\n",
       "  </style>\n",
       "\n",
       "      <script>\n",
       "        const buttonEl =\n",
       "          document.querySelector('#df-b593d2de-1fee-4e3d-86e0-35290f25c4e0 button.colab-df-convert');\n",
       "        buttonEl.style.display =\n",
       "          google.colab.kernel.accessAllowed ? 'block' : 'none';\n",
       "\n",
       "        async function convertToInteractive(key) {\n",
       "          const element = document.querySelector('#df-b593d2de-1fee-4e3d-86e0-35290f25c4e0');\n",
       "          const dataTable =\n",
       "            await google.colab.kernel.invokeFunction('convertToInteractive',\n",
       "                                                     [key], {});\n",
       "          if (!dataTable) return;\n",
       "\n",
       "          const docLinkHtml = 'Like what you see? Visit the ' +\n",
       "            '<a target=\"_blank\" href=https://colab.research.google.com/notebooks/data_table.ipynb>data table notebook</a>'\n",
       "            + ' to learn more about interactive tables.';\n",
       "          element.innerHTML = '';\n",
       "          dataTable['output_type'] = 'display_data';\n",
       "          await google.colab.output.renderOutput(dataTable, element);\n",
       "          const docLink = document.createElement('div');\n",
       "          docLink.innerHTML = docLinkHtml;\n",
       "          element.appendChild(docLink);\n",
       "        }\n",
       "      </script>\n",
       "    </div>\n",
       "  </div>\n",
       "  "
      ],
      "text/plain": [
       "          quantity         price\n",
       "count  4840.000000   4840.000000\n",
       "mean      2.815702    514.925413\n",
       "std      17.637293    945.454941\n",
       "min       1.000000      9.000000\n",
       "1%        1.000000     15.000000\n",
       "5%        1.000000     37.000000\n",
       "25%       1.000000     90.000000\n",
       "50%       1.000000    150.000000\n",
       "75%       1.000000    488.000000\n",
       "95%       7.000000   2176.250000\n",
       "99%      30.000000   4953.880000\n",
       "max    1000.000000  14917.000000"
      ]
     },
     "execution_count": 157,
     "metadata": {},
     "output_type": "execute_result"
    }
   ],
   "source": [
    "percentiles = [0.01, 0.05, 0.25, 0.5, 0.75, 0.95, 0.99]\n",
    "df[['quantity', 'price']].describe(percentiles = percentiles)"
   ]
  },
  {
   "cell_type": "markdown",
   "metadata": {
    "id": "sOpzjqIAm0kZ",
    "pycharm": {
     "name": "#%% md\n"
    }
   },
   "source": [
    "Итоги:\n"
   ]
  },
  {
   "cell_type": "markdown",
   "metadata": {
    "id": "LKMNmAKmqQw2",
    "pycharm": {
     "name": "#%% md\n"
    }
   },
   "source": [
    "# Предобработка"
   ]
  },
  {
   "cell_type": "markdown",
   "metadata": {
    "id": "wNXhdBK1qjod",
    "pycharm": {
     "name": "#%% md\n"
    }
   },
   "source": [
    "## Обработка дат"
   ]
  },
  {
   "cell_type": "code",
   "execution_count": 158,
   "metadata": {
    "id": "hM-Xd7gisk0S",
    "pycharm": {
     "name": "#%%\n"
    }
   },
   "outputs": [],
   "source": [
    "def date_to_year(s):\n",
    "    st = str(s)\n",
    "    return st[0:4]\n",
    "\n",
    "def date_to_month(s):\n",
    "    st = str(s)\n",
    "    return st[4:6]\n",
    "\n",
    "def date_to_day(s):\n",
    "    st = str(s)\n",
    "    return st[6:8]\n",
    "\n",
    "def date_to_hours(s):\n",
    "    st = str(s)\n",
    "    return st[8:10]"
   ]
  },
  {
   "cell_type": "code",
   "execution_count": 159,
   "metadata": {
    "id": "DCFSMuOptaGY",
    "pycharm": {
     "name": "#%%\n"
    }
   },
   "outputs": [],
   "source": [
    "df['year_order'] = df.date.apply(date_to_year) \n",
    "df['month_order'] = df.date.apply(date_to_month) \n",
    "df['day_order'] = df.date.apply(date_to_day) \n",
    "df['hours_order'] = df.date.apply(date_to_hours) "
   ]
  },
  {
   "cell_type": "code",
   "execution_count": 160,
   "metadata": {
    "colab": {
     "base_uri": "https://localhost:8080/",
     "height": 641
    },
    "id": "y_2u23_NtEIh",
    "outputId": "af139c14-8c0b-4203-f01e-5dc353fbbd04",
    "pycharm": {
     "name": "#%%\n"
    }
   },
   "outputs": [
    {
     "data": {
      "text/html": [
       "\n",
       "  <div id=\"df-e2e8ef49-f778-48c5-97c7-3e400adba2fb\">\n",
       "    <div class=\"colab-df-container\">\n",
       "      <div>\n",
       "<style scoped>\n",
       "    .dataframe tbody tr th:only-of-type {\n",
       "        vertical-align: middle;\n",
       "    }\n",
       "\n",
       "    .dataframe tbody tr th {\n",
       "        vertical-align: top;\n",
       "    }\n",
       "\n",
       "    .dataframe thead th {\n",
       "        text-align: right;\n",
       "    }\n",
       "</style>\n",
       "<table border=\"1\" class=\"dataframe\">\n",
       "  <thead>\n",
       "    <tr style=\"text-align: right;\">\n",
       "      <th></th>\n",
       "      <th>date</th>\n",
       "      <th>customer_id</th>\n",
       "      <th>order_id</th>\n",
       "      <th>product</th>\n",
       "      <th>quantity</th>\n",
       "      <th>price</th>\n",
       "      <th>year_order</th>\n",
       "      <th>month_order</th>\n",
       "      <th>day_order</th>\n",
       "      <th>hours_order</th>\n",
       "    </tr>\n",
       "  </thead>\n",
       "  <tbody>\n",
       "    <tr>\n",
       "      <th>0</th>\n",
       "      <td>2018100100</td>\n",
       "      <td>ee47d746-6d2f-4d3c-9622-c31412542920</td>\n",
       "      <td>68477</td>\n",
       "      <td>Комнатное растение в горшке Алое Вера, d12, h30</td>\n",
       "      <td>1</td>\n",
       "      <td>142.0</td>\n",
       "      <td>2018</td>\n",
       "      <td>10</td>\n",
       "      <td>01</td>\n",
       "      <td>00</td>\n",
       "    </tr>\n",
       "    <tr>\n",
       "      <th>1</th>\n",
       "      <td>2018100100</td>\n",
       "      <td>ee47d746-6d2f-4d3c-9622-c31412542920</td>\n",
       "      <td>68477</td>\n",
       "      <td>Комнатное растение в горшке Кофе Арабика, d12,...</td>\n",
       "      <td>1</td>\n",
       "      <td>194.0</td>\n",
       "      <td>2018</td>\n",
       "      <td>10</td>\n",
       "      <td>01</td>\n",
       "      <td>00</td>\n",
       "    </tr>\n",
       "    <tr>\n",
       "      <th>2</th>\n",
       "      <td>2018100100</td>\n",
       "      <td>ee47d746-6d2f-4d3c-9622-c31412542920</td>\n",
       "      <td>68477</td>\n",
       "      <td>Радермахера d-12 см h-20 см</td>\n",
       "      <td>1</td>\n",
       "      <td>112.0</td>\n",
       "      <td>2018</td>\n",
       "      <td>10</td>\n",
       "      <td>01</td>\n",
       "      <td>00</td>\n",
       "    </tr>\n",
       "    <tr>\n",
       "      <th>3</th>\n",
       "      <td>2018100100</td>\n",
       "      <td>ee47d746-6d2f-4d3c-9622-c31412542920</td>\n",
       "      <td>68477</td>\n",
       "      <td>Хризолидокарпус Лутесценс d-9 см</td>\n",
       "      <td>1</td>\n",
       "      <td>179.0</td>\n",
       "      <td>2018</td>\n",
       "      <td>10</td>\n",
       "      <td>01</td>\n",
       "      <td>00</td>\n",
       "    </tr>\n",
       "    <tr>\n",
       "      <th>4</th>\n",
       "      <td>2018100100</td>\n",
       "      <td>ee47d746-6d2f-4d3c-9622-c31412542920</td>\n",
       "      <td>68477</td>\n",
       "      <td>Циперус Зумула d-12 см h-25 см</td>\n",
       "      <td>1</td>\n",
       "      <td>112.0</td>\n",
       "      <td>2018</td>\n",
       "      <td>10</td>\n",
       "      <td>01</td>\n",
       "      <td>00</td>\n",
       "    </tr>\n",
       "    <tr>\n",
       "      <th>...</th>\n",
       "      <td>...</td>\n",
       "      <td>...</td>\n",
       "      <td>...</td>\n",
       "      <td>...</td>\n",
       "      <td>...</td>\n",
       "      <td>...</td>\n",
       "      <td>...</td>\n",
       "      <td>...</td>\n",
       "      <td>...</td>\n",
       "      <td>...</td>\n",
       "    </tr>\n",
       "    <tr>\n",
       "      <th>6731</th>\n",
       "      <td>2019103111</td>\n",
       "      <td>f17ed857-178e-45e1-a662-0a9dd3b58c5f</td>\n",
       "      <td>73155</td>\n",
       "      <td>Мимоза стыдливая d-9 см</td>\n",
       "      <td>1</td>\n",
       "      <td>329.0</td>\n",
       "      <td>2019</td>\n",
       "      <td>10</td>\n",
       "      <td>31</td>\n",
       "      <td>11</td>\n",
       "    </tr>\n",
       "    <tr>\n",
       "      <th>6732</th>\n",
       "      <td>2019103111</td>\n",
       "      <td>73d1cd35-5e5f-4629-8cf2-3fda829d4e58</td>\n",
       "      <td>73156</td>\n",
       "      <td>Таз пластмассовый 40,0 л пищевой овальный (Иж)...</td>\n",
       "      <td>1</td>\n",
       "      <td>404.0</td>\n",
       "      <td>2019</td>\n",
       "      <td>10</td>\n",
       "      <td>31</td>\n",
       "      <td>11</td>\n",
       "    </tr>\n",
       "    <tr>\n",
       "      <th>6733</th>\n",
       "      <td>2019103112</td>\n",
       "      <td>1f0a7f35-7459-4f23-b468-5e45bf481dd1</td>\n",
       "      <td>73158</td>\n",
       "      <td>Сумка-тележка 2-х колесная Gimi Argo синяя</td>\n",
       "      <td>1</td>\n",
       "      <td>1087.0</td>\n",
       "      <td>2019</td>\n",
       "      <td>10</td>\n",
       "      <td>31</td>\n",
       "      <td>12</td>\n",
       "    </tr>\n",
       "    <tr>\n",
       "      <th>6734</th>\n",
       "      <td>2019103113</td>\n",
       "      <td>25df96a7-c453-4708-9cea-a3dfc7c342ea</td>\n",
       "      <td>73162</td>\n",
       "      <td>Герань домашняя (пеларгония зональная) цветуща...</td>\n",
       "      <td>1</td>\n",
       "      <td>157.0</td>\n",
       "      <td>2019</td>\n",
       "      <td>10</td>\n",
       "      <td>31</td>\n",
       "      <td>13</td>\n",
       "    </tr>\n",
       "    <tr>\n",
       "      <th>6735</th>\n",
       "      <td>2019103114</td>\n",
       "      <td>73d1cd35-5e5f-4629-8cf2-3fda829d4e58</td>\n",
       "      <td>73164</td>\n",
       "      <td>Таз пластмассовый со стиральной доской (Иж), 1...</td>\n",
       "      <td>1</td>\n",
       "      <td>397.0</td>\n",
       "      <td>2019</td>\n",
       "      <td>10</td>\n",
       "      <td>31</td>\n",
       "      <td>14</td>\n",
       "    </tr>\n",
       "  </tbody>\n",
       "</table>\n",
       "<p>4840 rows × 10 columns</p>\n",
       "</div>\n",
       "      <button class=\"colab-df-convert\" onclick=\"convertToInteractive('df-e2e8ef49-f778-48c5-97c7-3e400adba2fb')\"\n",
       "              title=\"Convert this dataframe to an interactive table.\"\n",
       "              style=\"display:none;\">\n",
       "        \n",
       "  <svg xmlns=\"http://www.w3.org/2000/svg\" height=\"24px\"viewBox=\"0 0 24 24\"\n",
       "       width=\"24px\">\n",
       "    <path d=\"M0 0h24v24H0V0z\" fill=\"none\"/>\n",
       "    <path d=\"M18.56 5.44l.94 2.06.94-2.06 2.06-.94-2.06-.94-.94-2.06-.94 2.06-2.06.94zm-11 1L8.5 8.5l.94-2.06 2.06-.94-2.06-.94L8.5 2.5l-.94 2.06-2.06.94zm10 10l.94 2.06.94-2.06 2.06-.94-2.06-.94-.94-2.06-.94 2.06-2.06.94z\"/><path d=\"M17.41 7.96l-1.37-1.37c-.4-.4-.92-.59-1.43-.59-.52 0-1.04.2-1.43.59L10.3 9.45l-7.72 7.72c-.78.78-.78 2.05 0 2.83L4 21.41c.39.39.9.59 1.41.59.51 0 1.02-.2 1.41-.59l7.78-7.78 2.81-2.81c.8-.78.8-2.07 0-2.86zM5.41 20L4 18.59l7.72-7.72 1.47 1.35L5.41 20z\"/>\n",
       "  </svg>\n",
       "      </button>\n",
       "      \n",
       "  <style>\n",
       "    .colab-df-container {\n",
       "      display:flex;\n",
       "      flex-wrap:wrap;\n",
       "      gap: 12px;\n",
       "    }\n",
       "\n",
       "    .colab-df-convert {\n",
       "      background-color: #E8F0FE;\n",
       "      border: none;\n",
       "      border-radius: 50%;\n",
       "      cursor: pointer;\n",
       "      display: none;\n",
       "      fill: #1967D2;\n",
       "      height: 32px;\n",
       "      padding: 0 0 0 0;\n",
       "      width: 32px;\n",
       "    }\n",
       "\n",
       "    .colab-df-convert:hover {\n",
       "      background-color: #E2EBFA;\n",
       "      box-shadow: 0px 1px 2px rgba(60, 64, 67, 0.3), 0px 1px 3px 1px rgba(60, 64, 67, 0.15);\n",
       "      fill: #174EA6;\n",
       "    }\n",
       "\n",
       "    [theme=dark] .colab-df-convert {\n",
       "      background-color: #3B4455;\n",
       "      fill: #D2E3FC;\n",
       "    }\n",
       "\n",
       "    [theme=dark] .colab-df-convert:hover {\n",
       "      background-color: #434B5C;\n",
       "      box-shadow: 0px 1px 3px 1px rgba(0, 0, 0, 0.15);\n",
       "      filter: drop-shadow(0px 1px 2px rgba(0, 0, 0, 0.3));\n",
       "      fill: #FFFFFF;\n",
       "    }\n",
       "  </style>\n",
       "\n",
       "      <script>\n",
       "        const buttonEl =\n",
       "          document.querySelector('#df-e2e8ef49-f778-48c5-97c7-3e400adba2fb button.colab-df-convert');\n",
       "        buttonEl.style.display =\n",
       "          google.colab.kernel.accessAllowed ? 'block' : 'none';\n",
       "\n",
       "        async function convertToInteractive(key) {\n",
       "          const element = document.querySelector('#df-e2e8ef49-f778-48c5-97c7-3e400adba2fb');\n",
       "          const dataTable =\n",
       "            await google.colab.kernel.invokeFunction('convertToInteractive',\n",
       "                                                     [key], {});\n",
       "          if (!dataTable) return;\n",
       "\n",
       "          const docLinkHtml = 'Like what you see? Visit the ' +\n",
       "            '<a target=\"_blank\" href=https://colab.research.google.com/notebooks/data_table.ipynb>data table notebook</a>'\n",
       "            + ' to learn more about interactive tables.';\n",
       "          element.innerHTML = '';\n",
       "          dataTable['output_type'] = 'display_data';\n",
       "          await google.colab.output.renderOutput(dataTable, element);\n",
       "          const docLink = document.createElement('div');\n",
       "          docLink.innerHTML = docLinkHtml;\n",
       "          element.appendChild(docLink);\n",
       "        }\n",
       "      </script>\n",
       "    </div>\n",
       "  </div>\n",
       "  "
      ],
      "text/plain": [
       "            date                           customer_id  order_id  \\\n",
       "0     2018100100  ee47d746-6d2f-4d3c-9622-c31412542920     68477   \n",
       "1     2018100100  ee47d746-6d2f-4d3c-9622-c31412542920     68477   \n",
       "2     2018100100  ee47d746-6d2f-4d3c-9622-c31412542920     68477   \n",
       "3     2018100100  ee47d746-6d2f-4d3c-9622-c31412542920     68477   \n",
       "4     2018100100  ee47d746-6d2f-4d3c-9622-c31412542920     68477   \n",
       "...          ...                                   ...       ...   \n",
       "6731  2019103111  f17ed857-178e-45e1-a662-0a9dd3b58c5f     73155   \n",
       "6732  2019103111  73d1cd35-5e5f-4629-8cf2-3fda829d4e58     73156   \n",
       "6733  2019103112  1f0a7f35-7459-4f23-b468-5e45bf481dd1     73158   \n",
       "6734  2019103113  25df96a7-c453-4708-9cea-a3dfc7c342ea     73162   \n",
       "6735  2019103114  73d1cd35-5e5f-4629-8cf2-3fda829d4e58     73164   \n",
       "\n",
       "                                                product  quantity   price  \\\n",
       "0       Комнатное растение в горшке Алое Вера, d12, h30         1   142.0   \n",
       "1     Комнатное растение в горшке Кофе Арабика, d12,...         1   194.0   \n",
       "2                           Радермахера d-12 см h-20 см         1   112.0   \n",
       "3                      Хризолидокарпус Лутесценс d-9 см         1   179.0   \n",
       "4                        Циперус Зумула d-12 см h-25 см         1   112.0   \n",
       "...                                                 ...       ...     ...   \n",
       "6731                            Мимоза стыдливая d-9 см         1   329.0   \n",
       "6732  Таз пластмассовый 40,0 л пищевой овальный (Иж)...         1   404.0   \n",
       "6733         Сумка-тележка 2-х колесная Gimi Argo синяя         1  1087.0   \n",
       "6734  Герань домашняя (пеларгония зональная) цветуща...         1   157.0   \n",
       "6735  Таз пластмассовый со стиральной доской (Иж), 1...         1   397.0   \n",
       "\n",
       "     year_order month_order day_order hours_order  \n",
       "0          2018          10        01          00  \n",
       "1          2018          10        01          00  \n",
       "2          2018          10        01          00  \n",
       "3          2018          10        01          00  \n",
       "4          2018          10        01          00  \n",
       "...         ...         ...       ...         ...  \n",
       "6731       2019          10        31          11  \n",
       "6732       2019          10        31          11  \n",
       "6733       2019          10        31          12  \n",
       "6734       2019          10        31          13  \n",
       "6735       2019          10        31          14  \n",
       "\n",
       "[4840 rows x 10 columns]"
      ]
     },
     "execution_count": 160,
     "metadata": {},
     "output_type": "execute_result"
    }
   ],
   "source": [
    "df"
   ]
  },
  {
   "cell_type": "code",
   "execution_count": 161,
   "metadata": {
    "colab": {
     "base_uri": "https://localhost:8080/"
    },
    "id": "GuL-Fy96s6vL",
    "outputId": "cc3911e1-c08b-4e7e-c17c-f4189a69b94e",
    "pycharm": {
     "name": "#%%\n"
    }
   },
   "outputs": [
    {
     "name": "stdout",
     "output_type": "stream",
     "text": [
      "['2018' '2019']\n",
      "['10' '11' '12' '01' '02' '03' '04' '05' '06' '07' '08' '09']\n",
      "['01' '02' '03' '04' '05' '06' '07' '08' '09' '10' '11' '12' '13' '14'\n",
      " '15' '16' '17' '18' '19' '20' '21' '22' '23' '24' '25' '26' '27' '28'\n",
      " '29' '30' '31']\n",
      "['00' '08' '09' '11' '12' '13' '15' '16' '18' '21' '10' '14' '17' '20'\n",
      " '07' '19' '03' '05' '22' '23' '01' '02' '06' '04']\n"
     ]
    }
   ],
   "source": [
    "col_unique = ['year_order', 'month_order', 'day_order', 'hours_order']\n",
    "for col in col_unique:\n",
    "    print(df[col].unique()) "
   ]
  },
  {
   "cell_type": "markdown",
   "metadata": {
    "id": "XP-dYbeNsuOd",
    "pycharm": {
     "name": "#%% md\n"
    }
   },
   "source": [
    "Преобразование дат\n",
    "\n",
    "Альтернативный вариант"
   ]
  },
  {
   "cell_type": "code",
   "execution_count": 162,
   "metadata": {
    "id": "h9N8hyUrstjd",
    "pycharm": {
     "name": "#%%\n"
    }
   },
   "outputs": [],
   "source": [
    "df['date'] = pd.to_datetime(df['date'], format='%Y%m%d%H')\n",
    "df['date_order'] = df['date'].dt.date"
   ]
  },
  {
   "cell_type": "code",
   "execution_count": 163,
   "metadata": {
    "colab": {
     "base_uri": "https://localhost:8080/"
    },
    "id": "C2cuamPIuvue",
    "outputId": "3b29ce68-f83a-4ffa-a9d0-992d767f418b",
    "pycharm": {
     "name": "#%%\n"
    }
   },
   "outputs": [
    {
     "data": {
      "text/plain": [
       "datetime.date(2018, 10, 1)"
      ]
     },
     "execution_count": 163,
     "metadata": {},
     "output_type": "execute_result"
    }
   ],
   "source": [
    "df.date_order.min()"
   ]
  },
  {
   "cell_type": "code",
   "execution_count": 164,
   "metadata": {
    "colab": {
     "base_uri": "https://localhost:8080/"
    },
    "id": "p6pq7Wowt6mb",
    "outputId": "24e9f979-92a0-4c98-8624-7279651c7be3",
    "pycharm": {
     "name": "#%%\n"
    }
   },
   "outputs": [
    {
     "data": {
      "text/plain": [
       "datetime.date(2019, 10, 31)"
      ]
     },
     "execution_count": 164,
     "metadata": {},
     "output_type": "execute_result"
    }
   ],
   "source": [
    "df.date_order.max()"
   ]
  },
  {
   "cell_type": "markdown",
   "metadata": {
    "id": "fSL-jNKgvp6V",
    "pycharm": {
     "name": "#%% md\n"
    }
   },
   "source": [
    "## Обработка строк\n",
    "\n",
    "У признака `product` уберем возможные пробельные символы с обоих концов, приведем к нижнему регистру и заменим букву `ё` на `е`."
   ]
  },
  {
   "cell_type": "code",
   "execution_count": 165,
   "metadata": {
    "id": "CKs90FUHvnUp",
    "pycharm": {
     "name": "#%%\n"
    }
   },
   "outputs": [],
   "source": [
    "df['product'] = df['product'].str.strip().str.lower().str.replace('ё', 'е')"
   ]
  },
  {
   "cell_type": "markdown",
   "metadata": {
    "id": "vsetmqHA0JZk",
    "pycharm": {
     "name": "#%% md\n"
    }
   },
   "source": [
    "## Добавление новых столбцов\n",
    "\n",
    "Добавим столбец `Стоимость товара` -- `cost_product`"
   ]
  },
  {
   "cell_type": "code",
   "execution_count": 166,
   "metadata": {
    "colab": {
     "base_uri": "https://localhost:8080/"
    },
    "id": "HCvcT_nK0wtA",
    "outputId": "01ed80fd-1c5f-488e-8232-a0b9cd4824db",
    "pycharm": {
     "name": "#%%\n"
    }
   },
   "outputs": [
    {
     "data": {
      "text/plain": [
       "Index(['date', 'customer_id', 'order_id', 'product', 'quantity', 'price',\n",
       "       'year_order', 'month_order', 'day_order', 'hours_order', 'date_order'],\n",
       "      dtype='object')"
      ]
     },
     "execution_count": 166,
     "metadata": {},
     "output_type": "execute_result"
    }
   ],
   "source": [
    "df.columns"
   ]
  },
  {
   "cell_type": "code",
   "execution_count": 167,
   "metadata": {
    "id": "A1KOkDVu0I8m",
    "pycharm": {
     "name": "#%%\n"
    }
   },
   "outputs": [],
   "source": [
    "df['cost_product'] = df['quantity'] * df['price']"
   ]
  },
  {
   "cell_type": "markdown",
   "metadata": {
    "id": "R2W--I78z08X",
    "pycharm": {
     "name": "#%% md\n"
    }
   },
   "source": [
    "# Разведочный анализ данных"
   ]
  },
  {
   "cell_type": "code",
   "execution_count": 168,
   "metadata": {
    "id": "aH32UwPC2tKp",
    "pycharm": {
     "name": "#%%\n"
    }
   },
   "outputs": [],
   "source": [
    "def calc_wisk(col):\n",
    "    Q1, median, Q3 = np.percentile(np.asarray(df[col]), [25, 50, 75])\n",
    "    IQR = Q3 - Q1\n",
    "    loval = Q1 - 1.5 * IQR\n",
    "    hival = Q3 + 1.5 * IQR\n",
    "    wiskhi = np.compress(np.asarray(df[col]) <= hival, np.asarray(df[col]))\n",
    "    wisklo = np.compress(np.asarray(df[col]) >= loval, np.asarray(df[col]))\n",
    "    actual_hival = np.max(wiskhi)\n",
    "    actual_loval = np.min(wisklo)\n",
    "    return actual_loval, actual_hival"
   ]
  },
  {
   "cell_type": "markdown",
   "metadata": {
    "id": "iZM3yHZZ06Ow",
    "pycharm": {
     "name": "#%% md\n"
    }
   },
   "source": [
    "## Количество товара в заказе"
   ]
  },
  {
   "cell_type": "code",
   "execution_count": 169,
   "metadata": {
    "colab": {
     "base_uri": "https://localhost:8080/"
    },
    "id": "cHmXLCBH1AO9",
    "outputId": "b2bcb7ba-5a95-49b9-d54d-6d85dcd3c0a6",
    "pycharm": {
     "name": "#%%\n"
    }
   },
   "outputs": [
    {
     "data": {
      "text/plain": [
       "1       3789\n",
       "2        440\n",
       "3        139\n",
       "4        101\n",
       "10        71\n",
       "5         67\n",
       "6         42\n",
       "15        23\n",
       "7         21\n",
       "25        16\n",
       "30        16\n",
       "20        16\n",
       "8         14\n",
       "12        13\n",
       "50         8\n",
       "9          7\n",
       "11         5\n",
       "13         5\n",
       "16         4\n",
       "100        4\n",
       "40         3\n",
       "150        3\n",
       "24         3\n",
       "64         2\n",
       "60         2\n",
       "14         2\n",
       "27         2\n",
       "31         1\n",
       "334        1\n",
       "300        1\n",
       "1000       1\n",
       "22         1\n",
       "26         1\n",
       "18         1\n",
       "80         1\n",
       "59         1\n",
       "70         1\n",
       "57         1\n",
       "43         1\n",
       "23         1\n",
       "29         1\n",
       "45         1\n",
       "200        1\n",
       "96         1\n",
       "140        1\n",
       "170        1\n",
       "17         1\n",
       "37         1\n",
       "65         1\n",
       "Name: quantity, dtype: int64"
      ]
     },
     "execution_count": 169,
     "metadata": {},
     "output_type": "execute_result"
    }
   ],
   "source": [
    "df.quantity.value_counts()"
   ]
  },
  {
   "cell_type": "markdown",
   "metadata": {
    "id": "D7I5ThXM2qeS",
    "pycharm": {
     "name": "#%% md\n"
    }
   },
   "source": []
  },
  {
   "cell_type": "code",
   "execution_count": 170,
   "metadata": {
    "id": "nr0FtGtQ2GM1",
    "pycharm": {
     "name": "#%%\n"
    }
   },
   "outputs": [],
   "source": [
    "df.drop(df[df.quantity == 1000].index, inplace = True)"
   ]
  },
  {
   "cell_type": "code",
   "execution_count": 171,
   "metadata": {
    "colab": {
     "base_uri": "https://localhost:8080/",
     "height": 398
    },
    "id": "CxgGzkb81AMa",
    "outputId": "433f50bc-e85f-43eb-94d1-942f705cb1d9",
    "pycharm": {
     "name": "#%%\n"
    }
   },
   "outputs": [
    {
     "data": {
      "image/png": "[encoded data removed]",
      "text/plain": [
       "<Figure size 864x432 with 1 Axes>"
      ]
     },
     "metadata": {
      "needs_background": "light"
     },
     "output_type": "display_data"
    }
   ],
   "source": [
    "plt.figure(figsize=(12,6))\n",
    "sns.boxplot(y=df['quantity'])\n",
    "plt.title('Диаграмма размаха для количество товара в заказе', fontsize=14)\n",
    "plt.xlabel('Количество товара в заказе', fontsize=12)\n",
    "plt.show()"
   ]
  },
  {
   "cell_type": "code",
   "execution_count": 172,
   "metadata": {
    "colab": {
     "base_uri": "https://localhost:8080/"
    },
    "id": "KcoS_3GB1AKC",
    "outputId": "faf14b11-6ef4-47c9-8e44-c12158c0c2cb",
    "pycharm": {
     "name": "#%%\n"
    }
   },
   "outputs": [
    {
     "data": {
      "text/plain": [
       "(1, 1)"
      ]
     },
     "execution_count": 172,
     "metadata": {},
     "output_type": "execute_result"
    }
   ],
   "source": [
    "calc_wisk('quantity')"
   ]
  },
  {
   "cell_type": "markdown",
   "metadata": {
    "id": "3Y2hlg3i5jIg",
    "pycharm": {
     "name": "#%% md\n"
    }
   },
   "source": [
    "Видим, что здесь диаграмма размаха дает мало информации. Воспользуемся описательными статистиками"
   ]
  },
  {
   "cell_type": "code",
   "execution_count": 173,
   "metadata": {
    "colab": {
     "base_uri": "https://localhost:8080/"
    },
    "id": "g6GU-uoL5iBj",
    "outputId": "9c5f1d06-8c7a-4766-b0cf-27a8aa77ab4e",
    "pycharm": {
     "name": "#%%\n"
    }
   },
   "outputs": [
    {
     "data": {
      "text/plain": [
       "(4802, 12)"
      ]
     },
     "execution_count": 173,
     "metadata": {},
     "output_type": "execute_result"
    }
   ],
   "source": [
    "df = df[df.quantity <= 30]\n",
    "df.shape"
   ]
  },
  {
   "cell_type": "markdown",
   "metadata": {
    "id": "ihO4CYPZ06H7",
    "pycharm": {
     "name": "#%% md\n"
    }
   },
   "source": [
    "## Цена товара"
   ]
  },
  {
   "cell_type": "code",
   "execution_count": 174,
   "metadata": {
    "colab": {
     "base_uri": "https://localhost:8080/",
     "height": 406
    },
    "id": "ScLw5POx6aI2",
    "outputId": "0250479b-4880-443c-d7cc-c5b66d4272db",
    "pycharm": {
     "name": "#%%\n"
    }
   },
   "outputs": [
    {
     "data": {
      "text/plain": [
       "<Figure size 864x432 with 0 Axes>"
      ]
     },
     "metadata": {},
     "output_type": "display_data"
    },
    {
     "data": {
      "image/png": "[encoded data removed]",
      "text/plain": [
       "<Figure size 360x360 with 1 Axes>"
      ]
     },
     "metadata": {
      "needs_background": "light"
     },
     "output_type": "display_data"
    }
   ],
   "source": [
    "plt.figure(figsize=(12,6))\n",
    "sns.displot(x = 'price', bins=100, data = df);\n",
    "plt.title('Распределение цены товара', fontsize=14)\n",
    "plt.xlabel('Цена товара', fontsize=12)\n",
    "plt.show()"
   ]
  },
  {
   "cell_type": "code",
   "execution_count": 175,
   "metadata": {
    "colab": {
     "base_uri": "https://localhost:8080/",
     "height": 398
    },
    "id": "Hgp3pE8-6aGu",
    "outputId": "ad8f0af0-c729-4a31-c24b-7869a2370571",
    "pycharm": {
     "name": "#%%\n"
    }
   },
   "outputs": [
    {
     "data": {
      "image/png": "[encoded data removed]",
      "text/plain": [
       "<Figure size 864x432 with 1 Axes>"
      ]
     },
     "metadata": {
      "needs_background": "light"
     },
     "output_type": "display_data"
    }
   ],
   "source": [
    "plt.figure(figsize=(12,6))\n",
    "sns.boxplot(y=df['price'])\n",
    "plt.title('Диаграмма размаха для цены товара', fontsize=14)\n",
    "plt.xlabel('Цена товара', fontsize=12)\n",
    "plt.show()"
   ]
  },
  {
   "cell_type": "code",
   "execution_count": 176,
   "metadata": {
    "colab": {
     "base_uri": "https://localhost:8080/"
    },
    "id": "aCO9vUkr6aEV",
    "outputId": "a18234bd-20e3-4c5f-9f2b-9561d5d3c2b7",
    "pycharm": {
     "name": "#%%\n"
    }
   },
   "outputs": [
    {
     "data": {
      "text/plain": [
       "(9.0, 1104.0)"
      ]
     },
     "execution_count": 176,
     "metadata": {},
     "output_type": "execute_result"
    }
   ],
   "source": [
    "calc_wisk('price')"
   ]
  },
  {
   "cell_type": "code",
   "execution_count": 177,
   "metadata": {
    "id": "pAni4ORk7unq",
    "pycharm": {
     "name": "#%%\n"
    }
   },
   "outputs": [],
   "source": [
    "df = df[(df.price >= calc_wisk('price')[0]) & \n",
    "        (df.price <= calc_wisk('price')[1])]"
   ]
  },
  {
   "cell_type": "markdown",
   "metadata": {
    "id": "9FJcLZ4Y06Be",
    "pycharm": {
     "name": "#%% md\n"
    }
   },
   "source": []
  },
  {
   "cell_type": "markdown",
   "metadata": {
    "id": "U_1FoD0qm5mS",
    "pycharm": {
     "name": "#%% md\n"
    }
   },
   "source": [
    "### Количество покупок по дням"
   ]
  },
  {
   "cell_type": "markdown",
   "metadata": {
    "id": "HcU6Xxf7m5mS",
    "pycharm": {
     "name": "#%% md\n"
    }
   },
   "source": [
    "Добавим в датафрейм день, неделю и месяц покупки. Так как данные охватывают 2018 и 2019 год, то к номеру недели и месяца добавим год."
   ]
  },
  {
   "cell_type": "code",
   "execution_count": 180,
   "metadata": {
    "colab": {
     "base_uri": "https://localhost:8080/",
     "height": 531
    },
    "id": "gmvdUp6-m5mT",
    "outputId": "77bc8783-a346-4adc-f399-bc4fe26d88d5",
    "pycharm": {
     "name": "#%%\n"
    }
   },
   "outputs": [
    {
     "data": {
      "text/html": [
       "\n",
       "  <div id=\"df-b58d78c2-68df-443d-a459-829b77d47bd6\">\n",
       "    <div class=\"colab-df-container\">\n",
       "      <div>\n",
       "<style scoped>\n",
       "    .dataframe tbody tr th:only-of-type {\n",
       "        vertical-align: middle;\n",
       "    }\n",
       "\n",
       "    .dataframe tbody tr th {\n",
       "        vertical-align: top;\n",
       "    }\n",
       "\n",
       "    .dataframe thead th {\n",
       "        text-align: right;\n",
       "    }\n",
       "</style>\n",
       "<table border=\"1\" class=\"dataframe\">\n",
       "  <thead>\n",
       "    <tr style=\"text-align: right;\">\n",
       "      <th></th>\n",
       "      <th>date</th>\n",
       "      <th>customer_id</th>\n",
       "      <th>order_id</th>\n",
       "      <th>product</th>\n",
       "      <th>quantity</th>\n",
       "      <th>price</th>\n",
       "      <th>year_order</th>\n",
       "      <th>month_order</th>\n",
       "      <th>day_order</th>\n",
       "      <th>hours_order</th>\n",
       "      <th>date_order</th>\n",
       "      <th>cost_product</th>\n",
       "      <th>order_week</th>\n",
       "      <th>order_year</th>\n",
       "    </tr>\n",
       "  </thead>\n",
       "  <tbody>\n",
       "    <tr>\n",
       "      <th>0</th>\n",
       "      <td>2018-10-01</td>\n",
       "      <td>ee47d746-6d2f-4d3c-9622-c31412542920</td>\n",
       "      <td>68477</td>\n",
       "      <td>комнатное растение в горшке алое вера, d12, h30</td>\n",
       "      <td>1</td>\n",
       "      <td>142.0</td>\n",
       "      <td>2018</td>\n",
       "      <td>10</td>\n",
       "      <td>01</td>\n",
       "      <td>00</td>\n",
       "      <td>2018-10-01</td>\n",
       "      <td>142.0</td>\n",
       "      <td>2018-39</td>\n",
       "      <td>2018-10</td>\n",
       "    </tr>\n",
       "    <tr>\n",
       "      <th>1</th>\n",
       "      <td>2018-10-01</td>\n",
       "      <td>ee47d746-6d2f-4d3c-9622-c31412542920</td>\n",
       "      <td>68477</td>\n",
       "      <td>комнатное растение в горшке кофе арабика, d12,...</td>\n",
       "      <td>1</td>\n",
       "      <td>194.0</td>\n",
       "      <td>2018</td>\n",
       "      <td>10</td>\n",
       "      <td>01</td>\n",
       "      <td>00</td>\n",
       "      <td>2018-10-01</td>\n",
       "      <td>194.0</td>\n",
       "      <td>2018-39</td>\n",
       "      <td>2018-10</td>\n",
       "    </tr>\n",
       "    <tr>\n",
       "      <th>2</th>\n",
       "      <td>2018-10-01</td>\n",
       "      <td>ee47d746-6d2f-4d3c-9622-c31412542920</td>\n",
       "      <td>68477</td>\n",
       "      <td>радермахера d-12 см h-20 см</td>\n",
       "      <td>1</td>\n",
       "      <td>112.0</td>\n",
       "      <td>2018</td>\n",
       "      <td>10</td>\n",
       "      <td>01</td>\n",
       "      <td>00</td>\n",
       "      <td>2018-10-01</td>\n",
       "      <td>112.0</td>\n",
       "      <td>2018-39</td>\n",
       "      <td>2018-10</td>\n",
       "    </tr>\n",
       "    <tr>\n",
       "      <th>3</th>\n",
       "      <td>2018-10-01</td>\n",
       "      <td>ee47d746-6d2f-4d3c-9622-c31412542920</td>\n",
       "      <td>68477</td>\n",
       "      <td>хризолидокарпус лутесценс d-9 см</td>\n",
       "      <td>1</td>\n",
       "      <td>179.0</td>\n",
       "      <td>2018</td>\n",
       "      <td>10</td>\n",
       "      <td>01</td>\n",
       "      <td>00</td>\n",
       "      <td>2018-10-01</td>\n",
       "      <td>179.0</td>\n",
       "      <td>2018-39</td>\n",
       "      <td>2018-10</td>\n",
       "    </tr>\n",
       "    <tr>\n",
       "      <th>4</th>\n",
       "      <td>2018-10-01</td>\n",
       "      <td>ee47d746-6d2f-4d3c-9622-c31412542920</td>\n",
       "      <td>68477</td>\n",
       "      <td>циперус зумула d-12 см h-25 см</td>\n",
       "      <td>1</td>\n",
       "      <td>112.0</td>\n",
       "      <td>2018</td>\n",
       "      <td>10</td>\n",
       "      <td>01</td>\n",
       "      <td>00</td>\n",
       "      <td>2018-10-01</td>\n",
       "      <td>112.0</td>\n",
       "      <td>2018-39</td>\n",
       "      <td>2018-10</td>\n",
       "    </tr>\n",
       "  </tbody>\n",
       "</table>\n",
       "</div>\n",
       "      <button class=\"colab-df-convert\" onclick=\"convertToInteractive('df-b58d78c2-68df-443d-a459-829b77d47bd6')\"\n",
       "              title=\"Convert this dataframe to an interactive table.\"\n",
       "              style=\"display:none;\">\n",
       "        \n",
       "  <svg xmlns=\"http://www.w3.org/2000/svg\" height=\"24px\"viewBox=\"0 0 24 24\"\n",
       "       width=\"24px\">\n",
       "    <path d=\"M0 0h24v24H0V0z\" fill=\"none\"/>\n",
       "    <path d=\"M18.56 5.44l.94 2.06.94-2.06 2.06-.94-2.06-.94-.94-2.06-.94 2.06-2.06.94zm-11 1L8.5 8.5l.94-2.06 2.06-.94-2.06-.94L8.5 2.5l-.94 2.06-2.06.94zm10 10l.94 2.06.94-2.06 2.06-.94-2.06-.94-.94-2.06-.94 2.06-2.06.94z\"/><path d=\"M17.41 7.96l-1.37-1.37c-.4-.4-.92-.59-1.43-.59-.52 0-1.04.2-1.43.59L10.3 9.45l-7.72 7.72c-.78.78-.78 2.05 0 2.83L4 21.41c.39.39.9.59 1.41.59.51 0 1.02-.2 1.41-.59l7.78-7.78 2.81-2.81c.8-.78.8-2.07 0-2.86zM5.41 20L4 18.59l7.72-7.72 1.47 1.35L5.41 20z\"/>\n",
       "  </svg>\n",
       "      </button>\n",
       "      \n",
       "  <style>\n",
       "    .colab-df-container {\n",
       "      display:flex;\n",
       "      flex-wrap:wrap;\n",
       "      gap: 12px;\n",
       "    }\n",
       "\n",
       "    .colab-df-convert {\n",
       "      background-color: #E8F0FE;\n",
       "      border: none;\n",
       "      border-radius: 50%;\n",
       "      cursor: pointer;\n",
       "      display: none;\n",
       "      fill: #1967D2;\n",
       "      height: 32px;\n",
       "      padding: 0 0 0 0;\n",
       "      width: 32px;\n",
       "    }\n",
       "\n",
       "    .colab-df-convert:hover {\n",
       "      background-color: #E2EBFA;\n",
       "      box-shadow: 0px 1px 2px rgba(60, 64, 67, 0.3), 0px 1px 3px 1px rgba(60, 64, 67, 0.15);\n",
       "      fill: #174EA6;\n",
       "    }\n",
       "\n",
       "    [theme=dark] .colab-df-convert {\n",
       "      background-color: #3B4455;\n",
       "      fill: #D2E3FC;\n",
       "    }\n",
       "\n",
       "    [theme=dark] .colab-df-convert:hover {\n",
       "      background-color: #434B5C;\n",
       "      box-shadow: 0px 1px 3px 1px rgba(0, 0, 0, 0.15);\n",
       "      filter: drop-shadow(0px 1px 2px rgba(0, 0, 0, 0.3));\n",
       "      fill: #FFFFFF;\n",
       "    }\n",
       "  </style>\n",
       "\n",
       "      <script>\n",
       "        const buttonEl =\n",
       "          document.querySelector('#df-b58d78c2-68df-443d-a459-829b77d47bd6 button.colab-df-convert');\n",
       "        buttonEl.style.display =\n",
       "          google.colab.kernel.accessAllowed ? 'block' : 'none';\n",
       "\n",
       "        async function convertToInteractive(key) {\n",
       "          const element = document.querySelector('#df-b58d78c2-68df-443d-a459-829b77d47bd6');\n",
       "          const dataTable =\n",
       "            await google.colab.kernel.invokeFunction('convertToInteractive',\n",
       "                                                     [key], {});\n",
       "          if (!dataTable) return;\n",
       "\n",
       "          const docLinkHtml = 'Like what you see? Visit the ' +\n",
       "            '<a target=\"_blank\" href=https://colab.research.google.com/notebooks/data_table.ipynb>data table notebook</a>'\n",
       "            + ' to learn more about interactive tables.';\n",
       "          element.innerHTML = '';\n",
       "          dataTable['output_type'] = 'display_data';\n",
       "          await google.colab.output.renderOutput(dataTable, element);\n",
       "          const docLink = document.createElement('div');\n",
       "          docLink.innerHTML = docLinkHtml;\n",
       "          element.appendChild(docLink);\n",
       "        }\n",
       "      </script>\n",
       "    </div>\n",
       "  </div>\n",
       "  "
      ],
      "text/plain": [
       "        date                           customer_id  order_id  \\\n",
       "0 2018-10-01  ee47d746-6d2f-4d3c-9622-c31412542920     68477   \n",
       "1 2018-10-01  ee47d746-6d2f-4d3c-9622-c31412542920     68477   \n",
       "2 2018-10-01  ee47d746-6d2f-4d3c-9622-c31412542920     68477   \n",
       "3 2018-10-01  ee47d746-6d2f-4d3c-9622-c31412542920     68477   \n",
       "4 2018-10-01  ee47d746-6d2f-4d3c-9622-c31412542920     68477   \n",
       "\n",
       "                                             product  quantity  price  \\\n",
       "0    комнатное растение в горшке алое вера, d12, h30         1  142.0   \n",
       "1  комнатное растение в горшке кофе арабика, d12,...         1  194.0   \n",
       "2                        радермахера d-12 см h-20 см         1  112.0   \n",
       "3                   хризолидокарпус лутесценс d-9 см         1  179.0   \n",
       "4                     циперус зумула d-12 см h-25 см         1  112.0   \n",
       "\n",
       "  year_order month_order day_order hours_order  date_order  cost_product  \\\n",
       "0       2018          10        01          00  2018-10-01         142.0   \n",
       "1       2018          10        01          00  2018-10-01         194.0   \n",
       "2       2018          10        01          00  2018-10-01         112.0   \n",
       "3       2018          10        01          00  2018-10-01         179.0   \n",
       "4       2018          10        01          00  2018-10-01         112.0   \n",
       "\n",
       "  order_week order_year  \n",
       "0    2018-39    2018-10  \n",
       "1    2018-39    2018-10  \n",
       "2    2018-39    2018-10  \n",
       "3    2018-39    2018-10  \n",
       "4    2018-39    2018-10  "
      ]
     },
     "execution_count": 180,
     "metadata": {},
     "output_type": "execute_result"
    }
   ],
   "source": [
    "df['order_week'] = df['date'].dt.strftime('%Y-%U')\n",
    "df['order_year'] = df['date'].dt.strftime('%Y-%m')\n",
    "df.head()"
   ]
  },
  {
   "cell_type": "markdown",
   "metadata": {
    "id": "2gExJznum5mT",
    "pycharm": {
     "name": "#%% md\n"
    }
   },
   "source": [
    "Сгруппируем данные по дню и посчитаем количество покупок."
   ]
  },
  {
   "cell_type": "code",
   "execution_count": 181,
   "metadata": {
    "colab": {
     "base_uri": "https://localhost:8080/",
     "height": 424
    },
    "id": "6P3WAahmm5mT",
    "outputId": "3521ca14-d439-49c7-9e2f-d07843406c10",
    "pycharm": {
     "name": "#%%\n"
    }
   },
   "outputs": [
    {
     "data": {
      "text/html": [
       "\n",
       "  <div id=\"df-21470ecb-bbe7-4dec-abcd-4a57d2069a62\">\n",
       "    <div class=\"colab-df-container\">\n",
       "      <div>\n",
       "<style scoped>\n",
       "    .dataframe tbody tr th:only-of-type {\n",
       "        vertical-align: middle;\n",
       "    }\n",
       "\n",
       "    .dataframe tbody tr th {\n",
       "        vertical-align: top;\n",
       "    }\n",
       "\n",
       "    .dataframe thead th {\n",
       "        text-align: right;\n",
       "    }\n",
       "</style>\n",
       "<table border=\"1\" class=\"dataframe\">\n",
       "  <thead>\n",
       "    <tr style=\"text-align: right;\">\n",
       "      <th></th>\n",
       "      <th>date_order</th>\n",
       "      <th>Количество заказов</th>\n",
       "    </tr>\n",
       "  </thead>\n",
       "  <tbody>\n",
       "    <tr>\n",
       "      <th>147</th>\n",
       "      <td>2019-03-01</td>\n",
       "      <td>17</td>\n",
       "    </tr>\n",
       "    <tr>\n",
       "      <th>201</th>\n",
       "      <td>2019-04-24</td>\n",
       "      <td>16</td>\n",
       "    </tr>\n",
       "    <tr>\n",
       "      <th>152</th>\n",
       "      <td>2019-03-06</td>\n",
       "      <td>15</td>\n",
       "    </tr>\n",
       "    <tr>\n",
       "      <th>139</th>\n",
       "      <td>2019-02-21</td>\n",
       "      <td>15</td>\n",
       "    </tr>\n",
       "    <tr>\n",
       "      <th>144</th>\n",
       "      <td>2019-02-26</td>\n",
       "      <td>14</td>\n",
       "    </tr>\n",
       "    <tr>\n",
       "      <th>...</th>\n",
       "      <td>...</td>\n",
       "      <td>...</td>\n",
       "    </tr>\n",
       "    <tr>\n",
       "      <th>326</th>\n",
       "      <td>2019-08-30</td>\n",
       "      <td>1</td>\n",
       "    </tr>\n",
       "    <tr>\n",
       "      <th>92</th>\n",
       "      <td>2019-01-04</td>\n",
       "      <td>1</td>\n",
       "    </tr>\n",
       "    <tr>\n",
       "      <th>213</th>\n",
       "      <td>2019-05-06</td>\n",
       "      <td>1</td>\n",
       "    </tr>\n",
       "    <tr>\n",
       "      <th>5</th>\n",
       "      <td>2018-10-06</td>\n",
       "      <td>1</td>\n",
       "    </tr>\n",
       "    <tr>\n",
       "      <th>52</th>\n",
       "      <td>2018-11-22</td>\n",
       "      <td>1</td>\n",
       "    </tr>\n",
       "  </tbody>\n",
       "</table>\n",
       "<p>388 rows × 2 columns</p>\n",
       "</div>\n",
       "      <button class=\"colab-df-convert\" onclick=\"convertToInteractive('df-21470ecb-bbe7-4dec-abcd-4a57d2069a62')\"\n",
       "              title=\"Convert this dataframe to an interactive table.\"\n",
       "              style=\"display:none;\">\n",
       "        \n",
       "  <svg xmlns=\"http://www.w3.org/2000/svg\" height=\"24px\"viewBox=\"0 0 24 24\"\n",
       "       width=\"24px\">\n",
       "    <path d=\"M0 0h24v24H0V0z\" fill=\"none\"/>\n",
       "    <path d=\"M18.56 5.44l.94 2.06.94-2.06 2.06-.94-2.06-.94-.94-2.06-.94 2.06-2.06.94zm-11 1L8.5 8.5l.94-2.06 2.06-.94-2.06-.94L8.5 2.5l-.94 2.06-2.06.94zm10 10l.94 2.06.94-2.06 2.06-.94-2.06-.94-.94-2.06-.94 2.06-2.06.94z\"/><path d=\"M17.41 7.96l-1.37-1.37c-.4-.4-.92-.59-1.43-.59-.52 0-1.04.2-1.43.59L10.3 9.45l-7.72 7.72c-.78.78-.78 2.05 0 2.83L4 21.41c.39.39.9.59 1.41.59.51 0 1.02-.2 1.41-.59l7.78-7.78 2.81-2.81c.8-.78.8-2.07 0-2.86zM5.41 20L4 18.59l7.72-7.72 1.47 1.35L5.41 20z\"/>\n",
       "  </svg>\n",
       "      </button>\n",
       "      \n",
       "  <style>\n",
       "    .colab-df-container {\n",
       "      display:flex;\n",
       "      flex-wrap:wrap;\n",
       "      gap: 12px;\n",
       "    }\n",
       "\n",
       "    .colab-df-convert {\n",
       "      background-color: #E8F0FE;\n",
       "      border: none;\n",
       "      border-radius: 50%;\n",
       "      cursor: pointer;\n",
       "      display: none;\n",
       "      fill: #1967D2;\n",
       "      height: 32px;\n",
       "      padding: 0 0 0 0;\n",
       "      width: 32px;\n",
       "    }\n",
       "\n",
       "    .colab-df-convert:hover {\n",
       "      background-color: #E2EBFA;\n",
       "      box-shadow: 0px 1px 2px rgba(60, 64, 67, 0.3), 0px 1px 3px 1px rgba(60, 64, 67, 0.15);\n",
       "      fill: #174EA6;\n",
       "    }\n",
       "\n",
       "    [theme=dark] .colab-df-convert {\n",
       "      background-color: #3B4455;\n",
       "      fill: #D2E3FC;\n",
       "    }\n",
       "\n",
       "    [theme=dark] .colab-df-convert:hover {\n",
       "      background-color: #434B5C;\n",
       "      box-shadow: 0px 1px 3px 1px rgba(0, 0, 0, 0.15);\n",
       "      filter: drop-shadow(0px 1px 2px rgba(0, 0, 0, 0.3));\n",
       "      fill: #FFFFFF;\n",
       "    }\n",
       "  </style>\n",
       "\n",
       "      <script>\n",
       "        const buttonEl =\n",
       "          document.querySelector('#df-21470ecb-bbe7-4dec-abcd-4a57d2069a62 button.colab-df-convert');\n",
       "        buttonEl.style.display =\n",
       "          google.colab.kernel.accessAllowed ? 'block' : 'none';\n",
       "\n",
       "        async function convertToInteractive(key) {\n",
       "          const element = document.querySelector('#df-21470ecb-bbe7-4dec-abcd-4a57d2069a62');\n",
       "          const dataTable =\n",
       "            await google.colab.kernel.invokeFunction('convertToInteractive',\n",
       "                                                     [key], {});\n",
       "          if (!dataTable) return;\n",
       "\n",
       "          const docLinkHtml = 'Like what you see? Visit the ' +\n",
       "            '<a target=\"_blank\" href=https://colab.research.google.com/notebooks/data_table.ipynb>data table notebook</a>'\n",
       "            + ' to learn more about interactive tables.';\n",
       "          element.innerHTML = '';\n",
       "          dataTable['output_type'] = 'display_data';\n",
       "          await google.colab.output.renderOutput(dataTable, element);\n",
       "          const docLink = document.createElement('div');\n",
       "          docLink.innerHTML = docLinkHtml;\n",
       "          element.appendChild(docLink);\n",
       "        }\n",
       "      </script>\n",
       "    </div>\n",
       "  </div>\n",
       "  "
      ],
      "text/plain": [
       "     date_order  Количество заказов\n",
       "147  2019-03-01                  17\n",
       "201  2019-04-24                  16\n",
       "152  2019-03-06                  15\n",
       "139  2019-02-21                  15\n",
       "144  2019-02-26                  14\n",
       "..          ...                 ...\n",
       "326  2019-08-30                   1\n",
       "92   2019-01-04                   1\n",
       "213  2019-05-06                   1\n",
       "5    2018-10-06                   1\n",
       "52   2018-11-22                   1\n",
       "\n",
       "[388 rows x 2 columns]"
      ]
     },
     "execution_count": 181,
     "metadata": {},
     "output_type": "execute_result"
    }
   ],
   "source": [
    "orders_by_day = df.groupby('date_order').agg({'order_id':'nunique'})\n",
    "orders_by_day = orders_by_day.reset_index().rename(columns={'day': 'Дата', 'order_id':'Количество заказов'})\n",
    "orders_by_day.sort_values(by='Количество заказов', ascending=False)"
   ]
  },
  {
   "cell_type": "markdown",
   "metadata": {
    "id": "esTtoGtK-XAC",
    "pycharm": {
     "name": "#%% md\n"
    }
   },
   "source": [
    "Сгруппируем данные по неделям и посчитаем количество покупок"
   ]
  },
  {
   "cell_type": "code",
   "execution_count": 183,
   "metadata": {
    "colab": {
     "base_uri": "https://localhost:8080/",
     "height": 206
    },
    "id": "NmBCXe_c-HK1",
    "outputId": "d6915fe2-39fe-4e8a-df15-a010f7c169e4",
    "pycharm": {
     "name": "#%%\n"
    }
   },
   "outputs": [
    {
     "data": {
      "text/html": [
       "\n",
       "  <div id=\"df-594ec067-d1ba-4260-865a-83abdb61c759\">\n",
       "    <div class=\"colab-df-container\">\n",
       "      <div>\n",
       "<style scoped>\n",
       "    .dataframe tbody tr th:only-of-type {\n",
       "        vertical-align: middle;\n",
       "    }\n",
       "\n",
       "    .dataframe tbody tr th {\n",
       "        vertical-align: top;\n",
       "    }\n",
       "\n",
       "    .dataframe thead th {\n",
       "        text-align: right;\n",
       "    }\n",
       "</style>\n",
       "<table border=\"1\" class=\"dataframe\">\n",
       "  <thead>\n",
       "    <tr style=\"text-align: right;\">\n",
       "      <th></th>\n",
       "      <th>Неделя</th>\n",
       "      <th>Количество заказов</th>\n",
       "    </tr>\n",
       "  </thead>\n",
       "  <tbody>\n",
       "    <tr>\n",
       "      <th>21</th>\n",
       "      <td>2019-08</td>\n",
       "      <td>70</td>\n",
       "    </tr>\n",
       "    <tr>\n",
       "      <th>20</th>\n",
       "      <td>2019-07</td>\n",
       "      <td>68</td>\n",
       "    </tr>\n",
       "    <tr>\n",
       "      <th>22</th>\n",
       "      <td>2019-09</td>\n",
       "      <td>62</td>\n",
       "    </tr>\n",
       "    <tr>\n",
       "      <th>29</th>\n",
       "      <td>2019-16</td>\n",
       "      <td>62</td>\n",
       "    </tr>\n",
       "    <tr>\n",
       "      <th>11</th>\n",
       "      <td>2018-50</td>\n",
       "      <td>61</td>\n",
       "    </tr>\n",
       "  </tbody>\n",
       "</table>\n",
       "</div>\n",
       "      <button class=\"colab-df-convert\" onclick=\"convertToInteractive('df-594ec067-d1ba-4260-865a-83abdb61c759')\"\n",
       "              title=\"Convert this dataframe to an interactive table.\"\n",
       "              style=\"display:none;\">\n",
       "        \n",
       "  <svg xmlns=\"http://www.w3.org/2000/svg\" height=\"24px\"viewBox=\"0 0 24 24\"\n",
       "       width=\"24px\">\n",
       "    <path d=\"M0 0h24v24H0V0z\" fill=\"none\"/>\n",
       "    <path d=\"M18.56 5.44l.94 2.06.94-2.06 2.06-.94-2.06-.94-.94-2.06-.94 2.06-2.06.94zm-11 1L8.5 8.5l.94-2.06 2.06-.94-2.06-.94L8.5 2.5l-.94 2.06-2.06.94zm10 10l.94 2.06.94-2.06 2.06-.94-2.06-.94-.94-2.06-.94 2.06-2.06.94z\"/><path d=\"M17.41 7.96l-1.37-1.37c-.4-.4-.92-.59-1.43-.59-.52 0-1.04.2-1.43.59L10.3 9.45l-7.72 7.72c-.78.78-.78 2.05 0 2.83L4 21.41c.39.39.9.59 1.41.59.51 0 1.02-.2 1.41-.59l7.78-7.78 2.81-2.81c.8-.78.8-2.07 0-2.86zM5.41 20L4 18.59l7.72-7.72 1.47 1.35L5.41 20z\"/>\n",
       "  </svg>\n",
       "      </button>\n",
       "      \n",
       "  <style>\n",
       "    .colab-df-container {\n",
       "      display:flex;\n",
       "      flex-wrap:wrap;\n",
       "      gap: 12px;\n",
       "    }\n",
       "\n",
       "    .colab-df-convert {\n",
       "      background-color: #E8F0FE;\n",
       "      border: none;\n",
       "      border-radius: 50%;\n",
       "      cursor: pointer;\n",
       "      display: none;\n",
       "      fill: #1967D2;\n",
       "      height: 32px;\n",
       "      padding: 0 0 0 0;\n",
       "      width: 32px;\n",
       "    }\n",
       "\n",
       "    .colab-df-convert:hover {\n",
       "      background-color: #E2EBFA;\n",
       "      box-shadow: 0px 1px 2px rgba(60, 64, 67, 0.3), 0px 1px 3px 1px rgba(60, 64, 67, 0.15);\n",
       "      fill: #174EA6;\n",
       "    }\n",
       "\n",
       "    [theme=dark] .colab-df-convert {\n",
       "      background-color: #3B4455;\n",
       "      fill: #D2E3FC;\n",
       "    }\n",
       "\n",
       "    [theme=dark] .colab-df-convert:hover {\n",
       "      background-color: #434B5C;\n",
       "      box-shadow: 0px 1px 3px 1px rgba(0, 0, 0, 0.15);\n",
       "      filter: drop-shadow(0px 1px 2px rgba(0, 0, 0, 0.3));\n",
       "      fill: #FFFFFF;\n",
       "    }\n",
       "  </style>\n",
       "\n",
       "      <script>\n",
       "        const buttonEl =\n",
       "          document.querySelector('#df-594ec067-d1ba-4260-865a-83abdb61c759 button.colab-df-convert');\n",
       "        buttonEl.style.display =\n",
       "          google.colab.kernel.accessAllowed ? 'block' : 'none';\n",
       "\n",
       "        async function convertToInteractive(key) {\n",
       "          const element = document.querySelector('#df-594ec067-d1ba-4260-865a-83abdb61c759');\n",
       "          const dataTable =\n",
       "            await google.colab.kernel.invokeFunction('convertToInteractive',\n",
       "                                                     [key], {});\n",
       "          if (!dataTable) return;\n",
       "\n",
       "          const docLinkHtml = 'Like what you see? Visit the ' +\n",
       "            '<a target=\"_blank\" href=https://colab.research.google.com/notebooks/data_table.ipynb>data table notebook</a>'\n",
       "            + ' to learn more about interactive tables.';\n",
       "          element.innerHTML = '';\n",
       "          dataTable['output_type'] = 'display_data';\n",
       "          await google.colab.output.renderOutput(dataTable, element);\n",
       "          const docLink = document.createElement('div');\n",
       "          docLink.innerHTML = docLinkHtml;\n",
       "          element.appendChild(docLink);\n",
       "        }\n",
       "      </script>\n",
       "    </div>\n",
       "  </div>\n",
       "  "
      ],
      "text/plain": [
       "     Неделя  Количество заказов\n",
       "21  2019-08                  70\n",
       "20  2019-07                  68\n",
       "22  2019-09                  62\n",
       "29  2019-16                  62\n",
       "11  2018-50                  61"
      ]
     },
     "execution_count": 183,
     "metadata": {},
     "output_type": "execute_result"
    }
   ],
   "source": [
    "orders_by_week = df.groupby('order_week').agg({'order_id':'nunique'})\n",
    "orders_by_week = orders_by_week.reset_index().rename(columns={'order_week': 'Неделя', \n",
    "                                                              'order_id': 'Количество заказов'\n",
    "                                                              })\n",
    "orders_by_week.sort_values(by='Количество заказов', ascending=False).head()"
   ]
  },
  {
   "cell_type": "markdown",
   "metadata": {
    "id": "Z5Vr0PsRm5mW",
    "pycharm": {
     "name": "#%% md\n"
    }
   },
   "source": [
    "Сгруппируем данные по месяцам и посчитаем количество покупок."
   ]
  },
  {
   "cell_type": "code",
   "execution_count": 184,
   "metadata": {
    "colab": {
     "base_uri": "https://localhost:8080/",
     "height": 457
    },
    "id": "a7t9FqAJm5mW",
    "outputId": "f0b01500-18f2-441c-b90d-21a2cc3d1634",
    "pycharm": {
     "name": "#%%\n"
    }
   },
   "outputs": [
    {
     "data": {
      "text/html": [
       "\n",
       "  <div id=\"df-c39dbb27-fcfb-4d66-8632-8f6eacbf69cd\">\n",
       "    <div class=\"colab-df-container\">\n",
       "      <div>\n",
       "<style scoped>\n",
       "    .dataframe tbody tr th:only-of-type {\n",
       "        vertical-align: middle;\n",
       "    }\n",
       "\n",
       "    .dataframe tbody tr th {\n",
       "        vertical-align: top;\n",
       "    }\n",
       "\n",
       "    .dataframe thead th {\n",
       "        text-align: right;\n",
       "    }\n",
       "</style>\n",
       "<table border=\"1\" class=\"dataframe\">\n",
       "  <thead>\n",
       "    <tr style=\"text-align: right;\">\n",
       "      <th></th>\n",
       "      <th>Месяц</th>\n",
       "      <th>Количество заказов</th>\n",
       "    </tr>\n",
       "  </thead>\n",
       "  <tbody>\n",
       "    <tr>\n",
       "      <th>4</th>\n",
       "      <td>2019-02</td>\n",
       "      <td>232</td>\n",
       "    </tr>\n",
       "    <tr>\n",
       "      <th>6</th>\n",
       "      <td>2019-04</td>\n",
       "      <td>224</td>\n",
       "    </tr>\n",
       "    <tr>\n",
       "      <th>2</th>\n",
       "      <td>2018-12</td>\n",
       "      <td>213</td>\n",
       "    </tr>\n",
       "    <tr>\n",
       "      <th>5</th>\n",
       "      <td>2019-03</td>\n",
       "      <td>198</td>\n",
       "    </tr>\n",
       "    <tr>\n",
       "      <th>0</th>\n",
       "      <td>2018-10</td>\n",
       "      <td>183</td>\n",
       "    </tr>\n",
       "    <tr>\n",
       "      <th>7</th>\n",
       "      <td>2019-05</td>\n",
       "      <td>158</td>\n",
       "    </tr>\n",
       "    <tr>\n",
       "      <th>12</th>\n",
       "      <td>2019-10</td>\n",
       "      <td>156</td>\n",
       "    </tr>\n",
       "    <tr>\n",
       "      <th>1</th>\n",
       "      <td>2018-11</td>\n",
       "      <td>155</td>\n",
       "    </tr>\n",
       "    <tr>\n",
       "      <th>9</th>\n",
       "      <td>2019-07</td>\n",
       "      <td>155</td>\n",
       "    </tr>\n",
       "    <tr>\n",
       "      <th>8</th>\n",
       "      <td>2019-06</td>\n",
       "      <td>137</td>\n",
       "    </tr>\n",
       "    <tr>\n",
       "      <th>11</th>\n",
       "      <td>2019-09</td>\n",
       "      <td>134</td>\n",
       "    </tr>\n",
       "    <tr>\n",
       "      <th>10</th>\n",
       "      <td>2019-08</td>\n",
       "      <td>132</td>\n",
       "    </tr>\n",
       "    <tr>\n",
       "      <th>3</th>\n",
       "      <td>2019-01</td>\n",
       "      <td>129</td>\n",
       "    </tr>\n",
       "  </tbody>\n",
       "</table>\n",
       "</div>\n",
       "      <button class=\"colab-df-convert\" onclick=\"convertToInteractive('df-c39dbb27-fcfb-4d66-8632-8f6eacbf69cd')\"\n",
       "              title=\"Convert this dataframe to an interactive table.\"\n",
       "              style=\"display:none;\">\n",
       "        \n",
       "  <svg xmlns=\"http://www.w3.org/2000/svg\" height=\"24px\"viewBox=\"0 0 24 24\"\n",
       "       width=\"24px\">\n",
       "    <path d=\"M0 0h24v24H0V0z\" fill=\"none\"/>\n",
       "    <path d=\"M18.56 5.44l.94 2.06.94-2.06 2.06-.94-2.06-.94-.94-2.06-.94 2.06-2.06.94zm-11 1L8.5 8.5l.94-2.06 2.06-.94-2.06-.94L8.5 2.5l-.94 2.06-2.06.94zm10 10l.94 2.06.94-2.06 2.06-.94-2.06-.94-.94-2.06-.94 2.06-2.06.94z\"/><path d=\"M17.41 7.96l-1.37-1.37c-.4-.4-.92-.59-1.43-.59-.52 0-1.04.2-1.43.59L10.3 9.45l-7.72 7.72c-.78.78-.78 2.05 0 2.83L4 21.41c.39.39.9.59 1.41.59.51 0 1.02-.2 1.41-.59l7.78-7.78 2.81-2.81c.8-.78.8-2.07 0-2.86zM5.41 20L4 18.59l7.72-7.72 1.47 1.35L5.41 20z\"/>\n",
       "  </svg>\n",
       "      </button>\n",
       "      \n",
       "  <style>\n",
       "    .colab-df-container {\n",
       "      display:flex;\n",
       "      flex-wrap:wrap;\n",
       "      gap: 12px;\n",
       "    }\n",
       "\n",
       "    .colab-df-convert {\n",
       "      background-color: #E8F0FE;\n",
       "      border: none;\n",
       "      border-radius: 50%;\n",
       "      cursor: pointer;\n",
       "      display: none;\n",
       "      fill: #1967D2;\n",
       "      height: 32px;\n",
       "      padding: 0 0 0 0;\n",
       "      width: 32px;\n",
       "    }\n",
       "\n",
       "    .colab-df-convert:hover {\n",
       "      background-color: #E2EBFA;\n",
       "      box-shadow: 0px 1px 2px rgba(60, 64, 67, 0.3), 0px 1px 3px 1px rgba(60, 64, 67, 0.15);\n",
       "      fill: #174EA6;\n",
       "    }\n",
       "\n",
       "    [theme=dark] .colab-df-convert {\n",
       "      background-color: #3B4455;\n",
       "      fill: #D2E3FC;\n",
       "    }\n",
       "\n",
       "    [theme=dark] .colab-df-convert:hover {\n",
       "      background-color: #434B5C;\n",
       "      box-shadow: 0px 1px 3px 1px rgba(0, 0, 0, 0.15);\n",
       "      filter: drop-shadow(0px 1px 2px rgba(0, 0, 0, 0.3));\n",
       "      fill: #FFFFFF;\n",
       "    }\n",
       "  </style>\n",
       "\n",
       "      <script>\n",
       "        const buttonEl =\n",
       "          document.querySelector('#df-c39dbb27-fcfb-4d66-8632-8f6eacbf69cd button.colab-df-convert');\n",
       "        buttonEl.style.display =\n",
       "          google.colab.kernel.accessAllowed ? 'block' : 'none';\n",
       "\n",
       "        async function convertToInteractive(key) {\n",
       "          const element = document.querySelector('#df-c39dbb27-fcfb-4d66-8632-8f6eacbf69cd');\n",
       "          const dataTable =\n",
       "            await google.colab.kernel.invokeFunction('convertToInteractive',\n",
       "                                                     [key], {});\n",
       "          if (!dataTable) return;\n",
       "\n",
       "          const docLinkHtml = 'Like what you see? Visit the ' +\n",
       "            '<a target=\"_blank\" href=https://colab.research.google.com/notebooks/data_table.ipynb>data table notebook</a>'\n",
       "            + ' to learn more about interactive tables.';\n",
       "          element.innerHTML = '';\n",
       "          dataTable['output_type'] = 'display_data';\n",
       "          await google.colab.output.renderOutput(dataTable, element);\n",
       "          const docLink = document.createElement('div');\n",
       "          docLink.innerHTML = docLinkHtml;\n",
       "          element.appendChild(docLink);\n",
       "        }\n",
       "      </script>\n",
       "    </div>\n",
       "  </div>\n",
       "  "
      ],
      "text/plain": [
       "      Месяц  Количество заказов\n",
       "4   2019-02                 232\n",
       "6   2019-04                 224\n",
       "2   2018-12                 213\n",
       "5   2019-03                 198\n",
       "0   2018-10                 183\n",
       "7   2019-05                 158\n",
       "12  2019-10                 156\n",
       "1   2018-11                 155\n",
       "9   2019-07                 155\n",
       "8   2019-06                 137\n",
       "11  2019-09                 134\n",
       "10  2019-08                 132\n",
       "3   2019-01                 129"
      ]
     },
     "execution_count": 184,
     "metadata": {},
     "output_type": "execute_result"
    }
   ],
   "source": [
    "orders_by_month = df.groupby('order_year').agg({'order_id':'nunique'})\n",
    "orders_by_month = orders_by_month.reset_index().rename(columns={'order_year': 'Месяц', \n",
    "                                                                'order_id': 'Количество заказов'})\n",
    "orders_by_month.sort_values(by='Количество заказов', ascending=False)"
   ]
  },
  {
   "cell_type": "code",
   "execution_count": 188,
   "metadata": {
    "colab": {
     "base_uri": "https://localhost:8080/",
     "height": 414
    },
    "id": "0Mgym05ym5mX",
    "outputId": "6e2e994f-249c-48fb-a4df-53b0bcafd8d9",
    "pycharm": {
     "name": "#%%\n"
    }
   },
   "outputs": [
    {
     "data": {
      "image/png": "[encoded data removed]",
      "text/plain": [
       "<Figure size 864x432 with 1 Axes>"
      ]
     },
     "metadata": {
      "needs_background": "light"
     },
     "output_type": "display_data"
    }
   ],
   "source": [
    "fig, ax = plt.subplots(figsize=(12,6))\n",
    "ax = sns.barplot(x = 'Месяц',  \n",
    "                 y = 'Количество заказов',\n",
    "                 data = orders_by_month)\n",
    "ax.set_xticklabels(ax.get_xticklabels(), rotation = 30, ha = \"right\", fontsize = 12);\n",
    "plt.show()"
   ]
  },
  {
   "cell_type": "markdown",
   "metadata": {
    "id": "QX9bU-1Jm5mX",
    "pycharm": {
     "name": "#%% md\n"
    }
   },
   "source": [
    "**Вывод**"
   ]
  },
  {
   "cell_type": "markdown",
   "metadata": {
    "id": "OWeU-mQj058h",
    "pycharm": {
     "name": "#%% md\n"
    }
   },
   "source": [
    "## Стоимость заказов по дням"
   ]
  },
  {
   "cell_type": "code",
   "execution_count": 193,
   "metadata": {
    "colab": {
     "base_uri": "https://localhost:8080/",
     "height": 424
    },
    "id": "U2ZilB9SCaJO",
    "outputId": "91119269-2411-41a6-8708-414c5fdb9530",
    "pycharm": {
     "name": "#%%\n"
    }
   },
   "outputs": [
    {
     "data": {
      "text/html": [
       "\n",
       "  <div id=\"df-c35fe87d-f6ce-46b2-b2f0-221d5d5f4d90\">\n",
       "    <div class=\"colab-df-container\">\n",
       "      <div>\n",
       "<style scoped>\n",
       "    .dataframe tbody tr th:only-of-type {\n",
       "        vertical-align: middle;\n",
       "    }\n",
       "\n",
       "    .dataframe tbody tr th {\n",
       "        vertical-align: top;\n",
       "    }\n",
       "\n",
       "    .dataframe thead th {\n",
       "        text-align: right;\n",
       "    }\n",
       "</style>\n",
       "<table border=\"1\" class=\"dataframe\">\n",
       "  <thead>\n",
       "    <tr style=\"text-align: right;\">\n",
       "      <th></th>\n",
       "      <th>Дата</th>\n",
       "      <th>Стоимость заказов</th>\n",
       "    </tr>\n",
       "  </thead>\n",
       "  <tbody>\n",
       "    <tr>\n",
       "      <th>125</th>\n",
       "      <td>2019-02-07</td>\n",
       "      <td>21513.0</td>\n",
       "    </tr>\n",
       "    <tr>\n",
       "      <th>57</th>\n",
       "      <td>2018-11-27</td>\n",
       "      <td>17846.0</td>\n",
       "    </tr>\n",
       "    <tr>\n",
       "      <th>37</th>\n",
       "      <td>2018-11-07</td>\n",
       "      <td>17782.0</td>\n",
       "    </tr>\n",
       "    <tr>\n",
       "      <th>147</th>\n",
       "      <td>2019-03-01</td>\n",
       "      <td>16721.0</td>\n",
       "    </tr>\n",
       "    <tr>\n",
       "      <th>201</th>\n",
       "      <td>2019-04-24</td>\n",
       "      <td>15175.0</td>\n",
       "    </tr>\n",
       "    <tr>\n",
       "      <th>...</th>\n",
       "      <td>...</td>\n",
       "      <td>...</td>\n",
       "    </tr>\n",
       "    <tr>\n",
       "      <th>95</th>\n",
       "      <td>2019-01-07</td>\n",
       "      <td>134.0</td>\n",
       "    </tr>\n",
       "    <tr>\n",
       "      <th>306</th>\n",
       "      <td>2019-08-10</td>\n",
       "      <td>127.0</td>\n",
       "    </tr>\n",
       "    <tr>\n",
       "      <th>294</th>\n",
       "      <td>2019-07-29</td>\n",
       "      <td>94.0</td>\n",
       "    </tr>\n",
       "    <tr>\n",
       "      <th>252</th>\n",
       "      <td>2019-06-14</td>\n",
       "      <td>74.0</td>\n",
       "    </tr>\n",
       "    <tr>\n",
       "      <th>380</th>\n",
       "      <td>2019-10-24</td>\n",
       "      <td>58.0</td>\n",
       "    </tr>\n",
       "  </tbody>\n",
       "</table>\n",
       "<p>388 rows × 2 columns</p>\n",
       "</div>\n",
       "      <button class=\"colab-df-convert\" onclick=\"convertToInteractive('df-c35fe87d-f6ce-46b2-b2f0-221d5d5f4d90')\"\n",
       "              title=\"Convert this dataframe to an interactive table.\"\n",
       "              style=\"display:none;\">\n",
       "        \n",
       "  <svg xmlns=\"http://www.w3.org/2000/svg\" height=\"24px\"viewBox=\"0 0 24 24\"\n",
       "       width=\"24px\">\n",
       "    <path d=\"M0 0h24v24H0V0z\" fill=\"none\"/>\n",
       "    <path d=\"M18.56 5.44l.94 2.06.94-2.06 2.06-.94-2.06-.94-.94-2.06-.94 2.06-2.06.94zm-11 1L8.5 8.5l.94-2.06 2.06-.94-2.06-.94L8.5 2.5l-.94 2.06-2.06.94zm10 10l.94 2.06.94-2.06 2.06-.94-2.06-.94-.94-2.06-.94 2.06-2.06.94z\"/><path d=\"M17.41 7.96l-1.37-1.37c-.4-.4-.92-.59-1.43-.59-.52 0-1.04.2-1.43.59L10.3 9.45l-7.72 7.72c-.78.78-.78 2.05 0 2.83L4 21.41c.39.39.9.59 1.41.59.51 0 1.02-.2 1.41-.59l7.78-7.78 2.81-2.81c.8-.78.8-2.07 0-2.86zM5.41 20L4 18.59l7.72-7.72 1.47 1.35L5.41 20z\"/>\n",
       "  </svg>\n",
       "      </button>\n",
       "      \n",
       "  <style>\n",
       "    .colab-df-container {\n",
       "      display:flex;\n",
       "      flex-wrap:wrap;\n",
       "      gap: 12px;\n",
       "    }\n",
       "\n",
       "    .colab-df-convert {\n",
       "      background-color: #E8F0FE;\n",
       "      border: none;\n",
       "      border-radius: 50%;\n",
       "      cursor: pointer;\n",
       "      display: none;\n",
       "      fill: #1967D2;\n",
       "      height: 32px;\n",
       "      padding: 0 0 0 0;\n",
       "      width: 32px;\n",
       "    }\n",
       "\n",
       "    .colab-df-convert:hover {\n",
       "      background-color: #E2EBFA;\n",
       "      box-shadow: 0px 1px 2px rgba(60, 64, 67, 0.3), 0px 1px 3px 1px rgba(60, 64, 67, 0.15);\n",
       "      fill: #174EA6;\n",
       "    }\n",
       "\n",
       "    [theme=dark] .colab-df-convert {\n",
       "      background-color: #3B4455;\n",
       "      fill: #D2E3FC;\n",
       "    }\n",
       "\n",
       "    [theme=dark] .colab-df-convert:hover {\n",
       "      background-color: #434B5C;\n",
       "      box-shadow: 0px 1px 3px 1px rgba(0, 0, 0, 0.15);\n",
       "      filter: drop-shadow(0px 1px 2px rgba(0, 0, 0, 0.3));\n",
       "      fill: #FFFFFF;\n",
       "    }\n",
       "  </style>\n",
       "\n",
       "      <script>\n",
       "        const buttonEl =\n",
       "          document.querySelector('#df-c35fe87d-f6ce-46b2-b2f0-221d5d5f4d90 button.colab-df-convert');\n",
       "        buttonEl.style.display =\n",
       "          google.colab.kernel.accessAllowed ? 'block' : 'none';\n",
       "\n",
       "        async function convertToInteractive(key) {\n",
       "          const element = document.querySelector('#df-c35fe87d-f6ce-46b2-b2f0-221d5d5f4d90');\n",
       "          const dataTable =\n",
       "            await google.colab.kernel.invokeFunction('convertToInteractive',\n",
       "                                                     [key], {});\n",
       "          if (!dataTable) return;\n",
       "\n",
       "          const docLinkHtml = 'Like what you see? Visit the ' +\n",
       "            '<a target=\"_blank\" href=https://colab.research.google.com/notebooks/data_table.ipynb>data table notebook</a>'\n",
       "            + ' to learn more about interactive tables.';\n",
       "          element.innerHTML = '';\n",
       "          dataTable['output_type'] = 'display_data';\n",
       "          await google.colab.output.renderOutput(dataTable, element);\n",
       "          const docLink = document.createElement('div');\n",
       "          docLink.innerHTML = docLinkHtml;\n",
       "          element.appendChild(docLink);\n",
       "        }\n",
       "      </script>\n",
       "    </div>\n",
       "  </div>\n",
       "  "
      ],
      "text/plain": [
       "           Дата  Стоимость заказов\n",
       "125  2019-02-07            21513.0\n",
       "57   2018-11-27            17846.0\n",
       "37   2018-11-07            17782.0\n",
       "147  2019-03-01            16721.0\n",
       "201  2019-04-24            15175.0\n",
       "..          ...                ...\n",
       "95   2019-01-07              134.0\n",
       "306  2019-08-10              127.0\n",
       "294  2019-07-29               94.0\n",
       "252  2019-06-14               74.0\n",
       "380  2019-10-24               58.0\n",
       "\n",
       "[388 rows x 2 columns]"
      ]
     },
     "execution_count": 193,
     "metadata": {},
     "output_type": "execute_result"
    }
   ],
   "source": [
    "cost_by_day = df.groupby('date_order').agg({'cost_product':'sum'})\n",
    "cost_by_day = cost_by_day.reset_index().rename(columns={'date_order': 'Дата', 'cost_product':'Стоимость заказов'})\n",
    "cost_by_day.sort_values(by='Стоимость заказов', ascending=False)"
   ]
  },
  {
   "cell_type": "markdown",
   "metadata": {
    "id": "rmzwl9a0DNkg",
    "pycharm": {
     "name": "#%% md\n"
    }
   },
   "source": [
    "Сгруппируем данные по неделям и посчитаем стоимость заказов."
   ]
  },
  {
   "cell_type": "code",
   "execution_count": 194,
   "metadata": {
    "colab": {
     "base_uri": "https://localhost:8080/",
     "height": 1000
    },
    "id": "tQN5XQq_CaGg",
    "outputId": "4a691428-9ab4-4175-f9fa-389c42109cc8",
    "pycharm": {
     "name": "#%%\n"
    }
   },
   "outputs": [
    {
     "data": {
      "text/html": [
       "\n",
       "  <div id=\"df-e3965d8d-04a2-40a7-8d19-bf9c0da3b21f\">\n",
       "    <div class=\"colab-df-container\">\n",
       "      <div>\n",
       "<style scoped>\n",
       "    .dataframe tbody tr th:only-of-type {\n",
       "        vertical-align: middle;\n",
       "    }\n",
       "\n",
       "    .dataframe tbody tr th {\n",
       "        vertical-align: top;\n",
       "    }\n",
       "\n",
       "    .dataframe thead th {\n",
       "        text-align: right;\n",
       "    }\n",
       "</style>\n",
       "<table border=\"1\" class=\"dataframe\">\n",
       "  <thead>\n",
       "    <tr style=\"text-align: right;\">\n",
       "      <th></th>\n",
       "      <th>Неделя</th>\n",
       "      <th>Стоимость заказов</th>\n",
       "    </tr>\n",
       "  </thead>\n",
       "  <tbody>\n",
       "    <tr>\n",
       "      <th>21</th>\n",
       "      <td>2019-08</td>\n",
       "      <td>50814.0</td>\n",
       "    </tr>\n",
       "    <tr>\n",
       "      <th>5</th>\n",
       "      <td>2018-44</td>\n",
       "      <td>49759.0</td>\n",
       "    </tr>\n",
       "    <tr>\n",
       "      <th>29</th>\n",
       "      <td>2019-16</td>\n",
       "      <td>48222.0</td>\n",
       "    </tr>\n",
       "    <tr>\n",
       "      <th>3</th>\n",
       "      <td>2018-42</td>\n",
       "      <td>47006.0</td>\n",
       "    </tr>\n",
       "    <tr>\n",
       "      <th>18</th>\n",
       "      <td>2019-05</td>\n",
       "      <td>45176.0</td>\n",
       "    </tr>\n",
       "    <tr>\n",
       "      <th>32</th>\n",
       "      <td>2019-19</td>\n",
       "      <td>44045.0</td>\n",
       "    </tr>\n",
       "    <tr>\n",
       "      <th>35</th>\n",
       "      <td>2019-22</td>\n",
       "      <td>41965.0</td>\n",
       "    </tr>\n",
       "    <tr>\n",
       "      <th>1</th>\n",
       "      <td>2018-40</td>\n",
       "      <td>41613.0</td>\n",
       "    </tr>\n",
       "    <tr>\n",
       "      <th>34</th>\n",
       "      <td>2019-21</td>\n",
       "      <td>40202.0</td>\n",
       "    </tr>\n",
       "    <tr>\n",
       "      <th>11</th>\n",
       "      <td>2018-50</td>\n",
       "      <td>39208.0</td>\n",
       "    </tr>\n",
       "    <tr>\n",
       "      <th>8</th>\n",
       "      <td>2018-47</td>\n",
       "      <td>37627.0</td>\n",
       "    </tr>\n",
       "    <tr>\n",
       "      <th>31</th>\n",
       "      <td>2019-18</td>\n",
       "      <td>37515.0</td>\n",
       "    </tr>\n",
       "    <tr>\n",
       "      <th>20</th>\n",
       "      <td>2019-07</td>\n",
       "      <td>37413.0</td>\n",
       "    </tr>\n",
       "    <tr>\n",
       "      <th>26</th>\n",
       "      <td>2019-13</td>\n",
       "      <td>37148.0</td>\n",
       "    </tr>\n",
       "    <tr>\n",
       "      <th>2</th>\n",
       "      <td>2018-41</td>\n",
       "      <td>35867.0</td>\n",
       "    </tr>\n",
       "    <tr>\n",
       "      <th>7</th>\n",
       "      <td>2018-46</td>\n",
       "      <td>33797.0</td>\n",
       "    </tr>\n",
       "    <tr>\n",
       "      <th>22</th>\n",
       "      <td>2019-09</td>\n",
       "      <td>33401.0</td>\n",
       "    </tr>\n",
       "    <tr>\n",
       "      <th>28</th>\n",
       "      <td>2019-15</td>\n",
       "      <td>32419.0</td>\n",
       "    </tr>\n",
       "    <tr>\n",
       "      <th>9</th>\n",
       "      <td>2018-48</td>\n",
       "      <td>32370.0</td>\n",
       "    </tr>\n",
       "    <tr>\n",
       "      <th>12</th>\n",
       "      <td>2018-51</td>\n",
       "      <td>31506.0</td>\n",
       "    </tr>\n",
       "    <tr>\n",
       "      <th>0</th>\n",
       "      <td>2018-39</td>\n",
       "      <td>31350.0</td>\n",
       "    </tr>\n",
       "    <tr>\n",
       "      <th>40</th>\n",
       "      <td>2019-27</td>\n",
       "      <td>31245.0</td>\n",
       "    </tr>\n",
       "    <tr>\n",
       "      <th>10</th>\n",
       "      <td>2018-49</td>\n",
       "      <td>30229.0</td>\n",
       "    </tr>\n",
       "    <tr>\n",
       "      <th>53</th>\n",
       "      <td>2019-40</td>\n",
       "      <td>28341.0</td>\n",
       "    </tr>\n",
       "    <tr>\n",
       "      <th>36</th>\n",
       "      <td>2019-23</td>\n",
       "      <td>27654.0</td>\n",
       "    </tr>\n",
       "    <tr>\n",
       "      <th>39</th>\n",
       "      <td>2019-26</td>\n",
       "      <td>26151.0</td>\n",
       "    </tr>\n",
       "    <tr>\n",
       "      <th>4</th>\n",
       "      <td>2018-43</td>\n",
       "      <td>26106.0</td>\n",
       "    </tr>\n",
       "    <tr>\n",
       "      <th>19</th>\n",
       "      <td>2019-06</td>\n",
       "      <td>25671.0</td>\n",
       "    </tr>\n",
       "    <tr>\n",
       "      <th>27</th>\n",
       "      <td>2019-14</td>\n",
       "      <td>25077.0</td>\n",
       "    </tr>\n",
       "    <tr>\n",
       "      <th>25</th>\n",
       "      <td>2019-12</td>\n",
       "      <td>25061.0</td>\n",
       "    </tr>\n",
       "    <tr>\n",
       "      <th>17</th>\n",
       "      <td>2019-04</td>\n",
       "      <td>24699.0</td>\n",
       "    </tr>\n",
       "    <tr>\n",
       "      <th>30</th>\n",
       "      <td>2019-17</td>\n",
       "      <td>24474.0</td>\n",
       "    </tr>\n",
       "    <tr>\n",
       "      <th>51</th>\n",
       "      <td>2019-38</td>\n",
       "      <td>24184.0</td>\n",
       "    </tr>\n",
       "    <tr>\n",
       "      <th>42</th>\n",
       "      <td>2019-29</td>\n",
       "      <td>24143.0</td>\n",
       "    </tr>\n",
       "    <tr>\n",
       "      <th>16</th>\n",
       "      <td>2019-03</td>\n",
       "      <td>23749.0</td>\n",
       "    </tr>\n",
       "    <tr>\n",
       "      <th>24</th>\n",
       "      <td>2019-11</td>\n",
       "      <td>23130.0</td>\n",
       "    </tr>\n",
       "    <tr>\n",
       "      <th>6</th>\n",
       "      <td>2018-45</td>\n",
       "      <td>22251.0</td>\n",
       "    </tr>\n",
       "    <tr>\n",
       "      <th>33</th>\n",
       "      <td>2019-20</td>\n",
       "      <td>21921.0</td>\n",
       "    </tr>\n",
       "    <tr>\n",
       "      <th>23</th>\n",
       "      <td>2019-10</td>\n",
       "      <td>20540.0</td>\n",
       "    </tr>\n",
       "    <tr>\n",
       "      <th>54</th>\n",
       "      <td>2019-41</td>\n",
       "      <td>19338.0</td>\n",
       "    </tr>\n",
       "    <tr>\n",
       "      <th>52</th>\n",
       "      <td>2019-39</td>\n",
       "      <td>19136.0</td>\n",
       "    </tr>\n",
       "    <tr>\n",
       "      <th>47</th>\n",
       "      <td>2019-34</td>\n",
       "      <td>18926.0</td>\n",
       "    </tr>\n",
       "    <tr>\n",
       "      <th>46</th>\n",
       "      <td>2019-33</td>\n",
       "      <td>18339.0</td>\n",
       "    </tr>\n",
       "    <tr>\n",
       "      <th>41</th>\n",
       "      <td>2019-28</td>\n",
       "      <td>18212.0</td>\n",
       "    </tr>\n",
       "    <tr>\n",
       "      <th>15</th>\n",
       "      <td>2019-02</td>\n",
       "      <td>17751.0</td>\n",
       "    </tr>\n",
       "    <tr>\n",
       "      <th>14</th>\n",
       "      <td>2019-01</td>\n",
       "      <td>16784.0</td>\n",
       "    </tr>\n",
       "    <tr>\n",
       "      <th>45</th>\n",
       "      <td>2019-32</td>\n",
       "      <td>16680.0</td>\n",
       "    </tr>\n",
       "    <tr>\n",
       "      <th>37</th>\n",
       "      <td>2019-24</td>\n",
       "      <td>14986.0</td>\n",
       "    </tr>\n",
       "    <tr>\n",
       "      <th>48</th>\n",
       "      <td>2019-35</td>\n",
       "      <td>14552.0</td>\n",
       "    </tr>\n",
       "    <tr>\n",
       "      <th>49</th>\n",
       "      <td>2019-36</td>\n",
       "      <td>13815.0</td>\n",
       "    </tr>\n",
       "    <tr>\n",
       "      <th>43</th>\n",
       "      <td>2019-30</td>\n",
       "      <td>12931.0</td>\n",
       "    </tr>\n",
       "    <tr>\n",
       "      <th>38</th>\n",
       "      <td>2019-25</td>\n",
       "      <td>12863.0</td>\n",
       "    </tr>\n",
       "    <tr>\n",
       "      <th>55</th>\n",
       "      <td>2019-42</td>\n",
       "      <td>11458.0</td>\n",
       "    </tr>\n",
       "    <tr>\n",
       "      <th>56</th>\n",
       "      <td>2019-43</td>\n",
       "      <td>10405.0</td>\n",
       "    </tr>\n",
       "    <tr>\n",
       "      <th>44</th>\n",
       "      <td>2019-31</td>\n",
       "      <td>10219.0</td>\n",
       "    </tr>\n",
       "    <tr>\n",
       "      <th>50</th>\n",
       "      <td>2019-37</td>\n",
       "      <td>9491.0</td>\n",
       "    </tr>\n",
       "    <tr>\n",
       "      <th>13</th>\n",
       "      <td>2019-00</td>\n",
       "      <td>5843.0</td>\n",
       "    </tr>\n",
       "  </tbody>\n",
       "</table>\n",
       "</div>\n",
       "      <button class=\"colab-df-convert\" onclick=\"convertToInteractive('df-e3965d8d-04a2-40a7-8d19-bf9c0da3b21f')\"\n",
       "              title=\"Convert this dataframe to an interactive table.\"\n",
       "              style=\"display:none;\">\n",
       "        \n",
       "  <svg xmlns=\"http://www.w3.org/2000/svg\" height=\"24px\"viewBox=\"0 0 24 24\"\n",
       "       width=\"24px\">\n",
       "    <path d=\"M0 0h24v24H0V0z\" fill=\"none\"/>\n",
       "    <path d=\"M18.56 5.44l.94 2.06.94-2.06 2.06-.94-2.06-.94-.94-2.06-.94 2.06-2.06.94zm-11 1L8.5 8.5l.94-2.06 2.06-.94-2.06-.94L8.5 2.5l-.94 2.06-2.06.94zm10 10l.94 2.06.94-2.06 2.06-.94-2.06-.94-.94-2.06-.94 2.06-2.06.94z\"/><path d=\"M17.41 7.96l-1.37-1.37c-.4-.4-.92-.59-1.43-.59-.52 0-1.04.2-1.43.59L10.3 9.45l-7.72 7.72c-.78.78-.78 2.05 0 2.83L4 21.41c.39.39.9.59 1.41.59.51 0 1.02-.2 1.41-.59l7.78-7.78 2.81-2.81c.8-.78.8-2.07 0-2.86zM5.41 20L4 18.59l7.72-7.72 1.47 1.35L5.41 20z\"/>\n",
       "  </svg>\n",
       "      </button>\n",
       "      \n",
       "  <style>\n",
       "    .colab-df-container {\n",
       "      display:flex;\n",
       "      flex-wrap:wrap;\n",
       "      gap: 12px;\n",
       "    }\n",
       "\n",
       "    .colab-df-convert {\n",
       "      background-color: #E8F0FE;\n",
       "      border: none;\n",
       "      border-radius: 50%;\n",
       "      cursor: pointer;\n",
       "      display: none;\n",
       "      fill: #1967D2;\n",
       "      height: 32px;\n",
       "      padding: 0 0 0 0;\n",
       "      width: 32px;\n",
       "    }\n",
       "\n",
       "    .colab-df-convert:hover {\n",
       "      background-color: #E2EBFA;\n",
       "      box-shadow: 0px 1px 2px rgba(60, 64, 67, 0.3), 0px 1px 3px 1px rgba(60, 64, 67, 0.15);\n",
       "      fill: #174EA6;\n",
       "    }\n",
       "\n",
       "    [theme=dark] .colab-df-convert {\n",
       "      background-color: #3B4455;\n",
       "      fill: #D2E3FC;\n",
       "    }\n",
       "\n",
       "    [theme=dark] .colab-df-convert:hover {\n",
       "      background-color: #434B5C;\n",
       "      box-shadow: 0px 1px 3px 1px rgba(0, 0, 0, 0.15);\n",
       "      filter: drop-shadow(0px 1px 2px rgba(0, 0, 0, 0.3));\n",
       "      fill: #FFFFFF;\n",
       "    }\n",
       "  </style>\n",
       "\n",
       "      <script>\n",
       "        const buttonEl =\n",
       "          document.querySelector('#df-e3965d8d-04a2-40a7-8d19-bf9c0da3b21f button.colab-df-convert');\n",
       "        buttonEl.style.display =\n",
       "          google.colab.kernel.accessAllowed ? 'block' : 'none';\n",
       "\n",
       "        async function convertToInteractive(key) {\n",
       "          const element = document.querySelector('#df-e3965d8d-04a2-40a7-8d19-bf9c0da3b21f');\n",
       "          const dataTable =\n",
       "            await google.colab.kernel.invokeFunction('convertToInteractive',\n",
       "                                                     [key], {});\n",
       "          if (!dataTable) return;\n",
       "\n",
       "          const docLinkHtml = 'Like what you see? Visit the ' +\n",
       "            '<a target=\"_blank\" href=https://colab.research.google.com/notebooks/data_table.ipynb>data table notebook</a>'\n",
       "            + ' to learn more about interactive tables.';\n",
       "          element.innerHTML = '';\n",
       "          dataTable['output_type'] = 'display_data';\n",
       "          await google.colab.output.renderOutput(dataTable, element);\n",
       "          const docLink = document.createElement('div');\n",
       "          docLink.innerHTML = docLinkHtml;\n",
       "          element.appendChild(docLink);\n",
       "        }\n",
       "      </script>\n",
       "    </div>\n",
       "  </div>\n",
       "  "
      ],
      "text/plain": [
       "     Неделя  Стоимость заказов\n",
       "21  2019-08            50814.0\n",
       "5   2018-44            49759.0\n",
       "29  2019-16            48222.0\n",
       "3   2018-42            47006.0\n",
       "18  2019-05            45176.0\n",
       "32  2019-19            44045.0\n",
       "35  2019-22            41965.0\n",
       "1   2018-40            41613.0\n",
       "34  2019-21            40202.0\n",
       "11  2018-50            39208.0\n",
       "8   2018-47            37627.0\n",
       "31  2019-18            37515.0\n",
       "20  2019-07            37413.0\n",
       "26  2019-13            37148.0\n",
       "2   2018-41            35867.0\n",
       "7   2018-46            33797.0\n",
       "22  2019-09            33401.0\n",
       "28  2019-15            32419.0\n",
       "9   2018-48            32370.0\n",
       "12  2018-51            31506.0\n",
       "0   2018-39            31350.0\n",
       "40  2019-27            31245.0\n",
       "10  2018-49            30229.0\n",
       "53  2019-40            28341.0\n",
       "36  2019-23            27654.0\n",
       "39  2019-26            26151.0\n",
       "4   2018-43            26106.0\n",
       "19  2019-06            25671.0\n",
       "27  2019-14            25077.0\n",
       "25  2019-12            25061.0\n",
       "17  2019-04            24699.0\n",
       "30  2019-17            24474.0\n",
       "51  2019-38            24184.0\n",
       "42  2019-29            24143.0\n",
       "16  2019-03            23749.0\n",
       "24  2019-11            23130.0\n",
       "6   2018-45            22251.0\n",
       "33  2019-20            21921.0\n",
       "23  2019-10            20540.0\n",
       "54  2019-41            19338.0\n",
       "52  2019-39            19136.0\n",
       "47  2019-34            18926.0\n",
       "46  2019-33            18339.0\n",
       "41  2019-28            18212.0\n",
       "15  2019-02            17751.0\n",
       "14  2019-01            16784.0\n",
       "45  2019-32            16680.0\n",
       "37  2019-24            14986.0\n",
       "48  2019-35            14552.0\n",
       "49  2019-36            13815.0\n",
       "43  2019-30            12931.0\n",
       "38  2019-25            12863.0\n",
       "55  2019-42            11458.0\n",
       "56  2019-43            10405.0\n",
       "44  2019-31            10219.0\n",
       "50  2019-37             9491.0\n",
       "13  2019-00             5843.0"
      ]
     },
     "execution_count": 194,
     "metadata": {},
     "output_type": "execute_result"
    }
   ],
   "source": [
    "cost_by_week = df.groupby('order_week').agg({'cost_product':'sum'})\n",
    "cost_by_week = cost_by_week.reset_index().rename(columns={'order_week': 'Неделя', \n",
    "                                                          'cost_product':'Стоимость заказов'})\n",
    "cost_by_week.sort_values(by='Стоимость заказов', ascending=False)"
   ]
  },
  {
   "cell_type": "markdown",
   "metadata": {
    "id": "IHORwKzWDzPa",
    "pycharm": {
     "name": "#%% md\n"
    }
   },
   "source": [
    "Сгруппируем данные по месяцам и посчитаем стоимость заказов"
   ]
  },
  {
   "cell_type": "code",
   "execution_count": 195,
   "metadata": {
    "colab": {
     "base_uri": "https://localhost:8080/",
     "height": 457
    },
    "id": "BYIL4aYVCaEV",
    "outputId": "c94dc30a-bd32-48fd-84e2-46701f10b0ff",
    "pycharm": {
     "name": "#%%\n"
    }
   },
   "outputs": [
    {
     "data": {
      "text/html": [
       "\n",
       "  <div id=\"df-1ea6a185-6ee1-481c-a352-11491bb87928\">\n",
       "    <div class=\"colab-df-container\">\n",
       "      <div>\n",
       "<style scoped>\n",
       "    .dataframe tbody tr th:only-of-type {\n",
       "        vertical-align: middle;\n",
       "    }\n",
       "\n",
       "    .dataframe tbody tr th {\n",
       "        vertical-align: top;\n",
       "    }\n",
       "\n",
       "    .dataframe thead th {\n",
       "        text-align: right;\n",
       "    }\n",
       "</style>\n",
       "<table border=\"1\" class=\"dataframe\">\n",
       "  <thead>\n",
       "    <tr style=\"text-align: right;\">\n",
       "      <th></th>\n",
       "      <th>Месяц</th>\n",
       "      <th>Стоимость заказов</th>\n",
       "    </tr>\n",
       "  </thead>\n",
       "  <tbody>\n",
       "    <tr>\n",
       "      <th>0</th>\n",
       "      <td>2018-10</td>\n",
       "      <td>171839.0</td>\n",
       "    </tr>\n",
       "    <tr>\n",
       "      <th>6</th>\n",
       "      <td>2019-04</td>\n",
       "      <td>156613.0</td>\n",
       "    </tr>\n",
       "    <tr>\n",
       "      <th>1</th>\n",
       "      <td>2018-11</td>\n",
       "      <td>151263.0</td>\n",
       "    </tr>\n",
       "    <tr>\n",
       "      <th>7</th>\n",
       "      <td>2019-05</td>\n",
       "      <td>150696.0</td>\n",
       "    </tr>\n",
       "    <tr>\n",
       "      <th>4</th>\n",
       "      <td>2019-02</td>\n",
       "      <td>145874.0</td>\n",
       "    </tr>\n",
       "    <tr>\n",
       "      <th>2</th>\n",
       "      <td>2018-12</td>\n",
       "      <td>135587.0</td>\n",
       "    </tr>\n",
       "    <tr>\n",
       "      <th>5</th>\n",
       "      <td>2019-03</td>\n",
       "      <td>122315.0</td>\n",
       "    </tr>\n",
       "    <tr>\n",
       "      <th>9</th>\n",
       "      <td>2019-07</td>\n",
       "      <td>102595.0</td>\n",
       "    </tr>\n",
       "    <tr>\n",
       "      <th>8</th>\n",
       "      <td>2019-06</td>\n",
       "      <td>101287.0</td>\n",
       "    </tr>\n",
       "    <tr>\n",
       "      <th>12</th>\n",
       "      <td>2019-10</td>\n",
       "      <td>85299.0</td>\n",
       "    </tr>\n",
       "    <tr>\n",
       "      <th>3</th>\n",
       "      <td>2019-01</td>\n",
       "      <td>84880.0</td>\n",
       "    </tr>\n",
       "    <tr>\n",
       "      <th>10</th>\n",
       "      <td>2019-08</td>\n",
       "      <td>71109.0</td>\n",
       "    </tr>\n",
       "    <tr>\n",
       "      <th>11</th>\n",
       "      <td>2019-09</td>\n",
       "      <td>65421.0</td>\n",
       "    </tr>\n",
       "  </tbody>\n",
       "</table>\n",
       "</div>\n",
       "      <button class=\"colab-df-convert\" onclick=\"convertToInteractive('df-1ea6a185-6ee1-481c-a352-11491bb87928')\"\n",
       "              title=\"Convert this dataframe to an interactive table.\"\n",
       "              style=\"display:none;\">\n",
       "        \n",
       "  <svg xmlns=\"http://www.w3.org/2000/svg\" height=\"24px\"viewBox=\"0 0 24 24\"\n",
       "       width=\"24px\">\n",
       "    <path d=\"M0 0h24v24H0V0z\" fill=\"none\"/>\n",
       "    <path d=\"M18.56 5.44l.94 2.06.94-2.06 2.06-.94-2.06-.94-.94-2.06-.94 2.06-2.06.94zm-11 1L8.5 8.5l.94-2.06 2.06-.94-2.06-.94L8.5 2.5l-.94 2.06-2.06.94zm10 10l.94 2.06.94-2.06 2.06-.94-2.06-.94-.94-2.06-.94 2.06-2.06.94z\"/><path d=\"M17.41 7.96l-1.37-1.37c-.4-.4-.92-.59-1.43-.59-.52 0-1.04.2-1.43.59L10.3 9.45l-7.72 7.72c-.78.78-.78 2.05 0 2.83L4 21.41c.39.39.9.59 1.41.59.51 0 1.02-.2 1.41-.59l7.78-7.78 2.81-2.81c.8-.78.8-2.07 0-2.86zM5.41 20L4 18.59l7.72-7.72 1.47 1.35L5.41 20z\"/>\n",
       "  </svg>\n",
       "      </button>\n",
       "      \n",
       "  <style>\n",
       "    .colab-df-container {\n",
       "      display:flex;\n",
       "      flex-wrap:wrap;\n",
       "      gap: 12px;\n",
       "    }\n",
       "\n",
       "    .colab-df-convert {\n",
       "      background-color: #E8F0FE;\n",
       "      border: none;\n",
       "      border-radius: 50%;\n",
       "      cursor: pointer;\n",
       "      display: none;\n",
       "      fill: #1967D2;\n",
       "      height: 32px;\n",
       "      padding: 0 0 0 0;\n",
       "      width: 32px;\n",
       "    }\n",
       "\n",
       "    .colab-df-convert:hover {\n",
       "      background-color: #E2EBFA;\n",
       "      box-shadow: 0px 1px 2px rgba(60, 64, 67, 0.3), 0px 1px 3px 1px rgba(60, 64, 67, 0.15);\n",
       "      fill: #174EA6;\n",
       "    }\n",
       "\n",
       "    [theme=dark] .colab-df-convert {\n",
       "      background-color: #3B4455;\n",
       "      fill: #D2E3FC;\n",
       "    }\n",
       "\n",
       "    [theme=dark] .colab-df-convert:hover {\n",
       "      background-color: #434B5C;\n",
       "      box-shadow: 0px 1px 3px 1px rgba(0, 0, 0, 0.15);\n",
       "      filter: drop-shadow(0px 1px 2px rgba(0, 0, 0, 0.3));\n",
       "      fill: #FFFFFF;\n",
       "    }\n",
       "  </style>\n",
       "\n",
       "      <script>\n",
       "        const buttonEl =\n",
       "          document.querySelector('#df-1ea6a185-6ee1-481c-a352-11491bb87928 button.colab-df-convert');\n",
       "        buttonEl.style.display =\n",
       "          google.colab.kernel.accessAllowed ? 'block' : 'none';\n",
       "\n",
       "        async function convertToInteractive(key) {\n",
       "          const element = document.querySelector('#df-1ea6a185-6ee1-481c-a352-11491bb87928');\n",
       "          const dataTable =\n",
       "            await google.colab.kernel.invokeFunction('convertToInteractive',\n",
       "                                                     [key], {});\n",
       "          if (!dataTable) return;\n",
       "\n",
       "          const docLinkHtml = 'Like what you see? Visit the ' +\n",
       "            '<a target=\"_blank\" href=https://colab.research.google.com/notebooks/data_table.ipynb>data table notebook</a>'\n",
       "            + ' to learn more about interactive tables.';\n",
       "          element.innerHTML = '';\n",
       "          dataTable['output_type'] = 'display_data';\n",
       "          await google.colab.output.renderOutput(dataTable, element);\n",
       "          const docLink = document.createElement('div');\n",
       "          docLink.innerHTML = docLinkHtml;\n",
       "          element.appendChild(docLink);\n",
       "        }\n",
       "      </script>\n",
       "    </div>\n",
       "  </div>\n",
       "  "
      ],
      "text/plain": [
       "      Месяц  Стоимость заказов\n",
       "0   2018-10           171839.0\n",
       "6   2019-04           156613.0\n",
       "1   2018-11           151263.0\n",
       "7   2019-05           150696.0\n",
       "4   2019-02           145874.0\n",
       "2   2018-12           135587.0\n",
       "5   2019-03           122315.0\n",
       "9   2019-07           102595.0\n",
       "8   2019-06           101287.0\n",
       "12  2019-10            85299.0\n",
       "3   2019-01            84880.0\n",
       "10  2019-08            71109.0\n",
       "11  2019-09            65421.0"
      ]
     },
     "execution_count": 195,
     "metadata": {},
     "output_type": "execute_result"
    }
   ],
   "source": [
    "cost_by_month = df.groupby('order_year').agg({'cost_product':'sum'})\n",
    "cost_by_month = cost_by_month.reset_index().rename(columns={'order_year': 'Месяц', \n",
    "                                                            'cost_product':'Стоимость заказов'})\n",
    "cost_by_month.sort_values(by='Стоимость заказов', ascending=False)"
   ]
  },
  {
   "cell_type": "code",
   "execution_count": 196,
   "metadata": {
    "colab": {
     "base_uri": "https://localhost:8080/",
     "height": 414
    },
    "id": "YrCS2byTCaB_",
    "outputId": "f60b7876-844f-4294-b44b-81eced7371d5",
    "pycharm": {
     "name": "#%%\n"
    }
   },
   "outputs": [
    {
     "data": {
      "image/png": "[encoded data removed]",
      "text/plain": [
       "<Figure size 864x432 with 1 Axes>"
      ]
     },
     "metadata": {
      "needs_background": "light"
     },
     "output_type": "display_data"
    }
   ],
   "source": [
    "fig, ax = plt.subplots(figsize=(12,6))\n",
    "ax = sns.barplot(x = 'Месяц',  \n",
    "                 y = 'Стоимость заказов',\n",
    "                 data = cost_by_month)\n",
    "ax.set_xticklabels(ax.get_xticklabels(), rotation = 30, ha = \"right\", fontsize = 12);\n",
    "plt.show()"
   ]
  },
  {
   "cell_type": "markdown",
   "metadata": {
    "id": "ShI7OCe-CWNH",
    "pycharm": {
     "name": "#%% md\n"
    }
   },
   "source": [
    "**Вывод:**"
   ]
  },
  {
   "cell_type": "markdown",
   "metadata": {
    "id": "vI9XmSaRE62z",
    "pycharm": {
     "name": "#%% md\n"
    }
   },
   "source": [
    "**Распределение заказов по сумме**"
   ]
  },
  {
   "cell_type": "code",
   "execution_count": 197,
   "metadata": {
    "id": "5CkMy2UNCVn7",
    "pycharm": {
     "name": "#%%\n"
    }
   },
   "outputs": [],
   "source": [
    "orders_by_total = df.groupby('order_id').agg({'cost_product':'sum'})\n",
    "orders_by_total = orders_by_total.reset_index().rename(columns={'order_id': 'Заказ', 'cost_product':'Сумма заказа'})"
   ]
  },
  {
   "cell_type": "code",
   "execution_count": 198,
   "metadata": {
    "colab": {
     "base_uri": "https://localhost:8080/",
     "height": 424
    },
    "id": "a8hWZcXLFKmx",
    "outputId": "114a1e09-3330-4d6d-b28a-f0f11202bf9e",
    "pycharm": {
     "name": "#%%\n"
    }
   },
   "outputs": [
    {
     "data": {
      "text/html": [
       "\n",
       "  <div id=\"df-1894c793-2864-42eb-81fe-9f16e90add69\">\n",
       "    <div class=\"colab-df-container\">\n",
       "      <div>\n",
       "<style scoped>\n",
       "    .dataframe tbody tr th:only-of-type {\n",
       "        vertical-align: middle;\n",
       "    }\n",
       "\n",
       "    .dataframe tbody tr th {\n",
       "        vertical-align: top;\n",
       "    }\n",
       "\n",
       "    .dataframe thead th {\n",
       "        text-align: right;\n",
       "    }\n",
       "</style>\n",
       "<table border=\"1\" class=\"dataframe\">\n",
       "  <thead>\n",
       "    <tr style=\"text-align: right;\">\n",
       "      <th></th>\n",
       "      <th>Заказ</th>\n",
       "      <th>Сумма заказа</th>\n",
       "    </tr>\n",
       "  </thead>\n",
       "  <tbody>\n",
       "    <tr>\n",
       "      <th>447</th>\n",
       "      <td>68760</td>\n",
       "      <td>11320.0</td>\n",
       "    </tr>\n",
       "    <tr>\n",
       "      <th>990</th>\n",
       "      <td>70135</td>\n",
       "      <td>11000.0</td>\n",
       "    </tr>\n",
       "    <tr>\n",
       "      <th>152</th>\n",
       "      <td>14735</td>\n",
       "      <td>10656.0</td>\n",
       "    </tr>\n",
       "    <tr>\n",
       "      <th>608</th>\n",
       "      <td>69127</td>\n",
       "      <td>9915.0</td>\n",
       "    </tr>\n",
       "    <tr>\n",
       "      <th>435</th>\n",
       "      <td>68727</td>\n",
       "      <td>9010.0</td>\n",
       "    </tr>\n",
       "    <tr>\n",
       "      <th>...</th>\n",
       "      <td>...</td>\n",
       "      <td>...</td>\n",
       "    </tr>\n",
       "    <tr>\n",
       "      <th>1452</th>\n",
       "      <td>71245</td>\n",
       "      <td>22.0</td>\n",
       "    </tr>\n",
       "    <tr>\n",
       "      <th>1425</th>\n",
       "      <td>71178</td>\n",
       "      <td>22.0</td>\n",
       "    </tr>\n",
       "    <tr>\n",
       "      <th>547</th>\n",
       "      <td>68985</td>\n",
       "      <td>15.0</td>\n",
       "    </tr>\n",
       "    <tr>\n",
       "      <th>1608</th>\n",
       "      <td>71661</td>\n",
       "      <td>15.0</td>\n",
       "    </tr>\n",
       "    <tr>\n",
       "      <th>1596</th>\n",
       "      <td>71634</td>\n",
       "      <td>14.0</td>\n",
       "    </tr>\n",
       "  </tbody>\n",
       "</table>\n",
       "<p>2201 rows × 2 columns</p>\n",
       "</div>\n",
       "      <button class=\"colab-df-convert\" onclick=\"convertToInteractive('df-1894c793-2864-42eb-81fe-9f16e90add69')\"\n",
       "              title=\"Convert this dataframe to an interactive table.\"\n",
       "              style=\"display:none;\">\n",
       "        \n",
       "  <svg xmlns=\"http://www.w3.org/2000/svg\" height=\"24px\"viewBox=\"0 0 24 24\"\n",
       "       width=\"24px\">\n",
       "    <path d=\"M0 0h24v24H0V0z\" fill=\"none\"/>\n",
       "    <path d=\"M18.56 5.44l.94 2.06.94-2.06 2.06-.94-2.06-.94-.94-2.06-.94 2.06-2.06.94zm-11 1L8.5 8.5l.94-2.06 2.06-.94-2.06-.94L8.5 2.5l-.94 2.06-2.06.94zm10 10l.94 2.06.94-2.06 2.06-.94-2.06-.94-.94-2.06-.94 2.06-2.06.94z\"/><path d=\"M17.41 7.96l-1.37-1.37c-.4-.4-.92-.59-1.43-.59-.52 0-1.04.2-1.43.59L10.3 9.45l-7.72 7.72c-.78.78-.78 2.05 0 2.83L4 21.41c.39.39.9.59 1.41.59.51 0 1.02-.2 1.41-.59l7.78-7.78 2.81-2.81c.8-.78.8-2.07 0-2.86zM5.41 20L4 18.59l7.72-7.72 1.47 1.35L5.41 20z\"/>\n",
       "  </svg>\n",
       "      </button>\n",
       "      \n",
       "  <style>\n",
       "    .colab-df-container {\n",
       "      display:flex;\n",
       "      flex-wrap:wrap;\n",
       "      gap: 12px;\n",
       "    }\n",
       "\n",
       "    .colab-df-convert {\n",
       "      background-color: #E8F0FE;\n",
       "      border: none;\n",
       "      border-radius: 50%;\n",
       "      cursor: pointer;\n",
       "      display: none;\n",
       "      fill: #1967D2;\n",
       "      height: 32px;\n",
       "      padding: 0 0 0 0;\n",
       "      width: 32px;\n",
       "    }\n",
       "\n",
       "    .colab-df-convert:hover {\n",
       "      background-color: #E2EBFA;\n",
       "      box-shadow: 0px 1px 2px rgba(60, 64, 67, 0.3), 0px 1px 3px 1px rgba(60, 64, 67, 0.15);\n",
       "      fill: #174EA6;\n",
       "    }\n",
       "\n",
       "    [theme=dark] .colab-df-convert {\n",
       "      background-color: #3B4455;\n",
       "      fill: #D2E3FC;\n",
       "    }\n",
       "\n",
       "    [theme=dark] .colab-df-convert:hover {\n",
       "      background-color: #434B5C;\n",
       "      box-shadow: 0px 1px 3px 1px rgba(0, 0, 0, 0.15);\n",
       "      filter: drop-shadow(0px 1px 2px rgba(0, 0, 0, 0.3));\n",
       "      fill: #FFFFFF;\n",
       "    }\n",
       "  </style>\n",
       "\n",
       "      <script>\n",
       "        const buttonEl =\n",
       "          document.querySelector('#df-1894c793-2864-42eb-81fe-9f16e90add69 button.colab-df-convert');\n",
       "        buttonEl.style.display =\n",
       "          google.colab.kernel.accessAllowed ? 'block' : 'none';\n",
       "\n",
       "        async function convertToInteractive(key) {\n",
       "          const element = document.querySelector('#df-1894c793-2864-42eb-81fe-9f16e90add69');\n",
       "          const dataTable =\n",
       "            await google.colab.kernel.invokeFunction('convertToInteractive',\n",
       "                                                     [key], {});\n",
       "          if (!dataTable) return;\n",
       "\n",
       "          const docLinkHtml = 'Like what you see? Visit the ' +\n",
       "            '<a target=\"_blank\" href=https://colab.research.google.com/notebooks/data_table.ipynb>data table notebook</a>'\n",
       "            + ' to learn more about interactive tables.';\n",
       "          element.innerHTML = '';\n",
       "          dataTable['output_type'] = 'display_data';\n",
       "          await google.colab.output.renderOutput(dataTable, element);\n",
       "          const docLink = document.createElement('div');\n",
       "          docLink.innerHTML = docLinkHtml;\n",
       "          element.appendChild(docLink);\n",
       "        }\n",
       "      </script>\n",
       "    </div>\n",
       "  </div>\n",
       "  "
      ],
      "text/plain": [
       "      Заказ  Сумма заказа\n",
       "447   68760       11320.0\n",
       "990   70135       11000.0\n",
       "152   14735       10656.0\n",
       "608   69127        9915.0\n",
       "435   68727        9010.0\n",
       "...     ...           ...\n",
       "1452  71245          22.0\n",
       "1425  71178          22.0\n",
       "547   68985          15.0\n",
       "1608  71661          15.0\n",
       "1596  71634          14.0\n",
       "\n",
       "[2201 rows x 2 columns]"
      ]
     },
     "execution_count": 198,
     "metadata": {},
     "output_type": "execute_result"
    }
   ],
   "source": [
    "orders_by_total.sort_values(by='Сумма заказа', ascending=False)"
   ]
  },
  {
   "cell_type": "code",
   "execution_count": 199,
   "metadata": {
    "id": "bw0qRF-lFKZC",
    "pycharm": {
     "name": "#%%\n"
    }
   },
   "outputs": [],
   "source": [
    "order_total_mean = orders_by_total['Сумма заказа'].mean()\n",
    "order_total_median = orders_by_total['Сумма заказа'].median()\n",
    "order_total_mode = orders_by_total['Сумма заказа'].mode()[0]"
   ]
  },
  {
   "cell_type": "code",
   "execution_count": 223,
   "metadata": {
    "colab": {
     "base_uri": "https://localhost:8080/",
     "height": 406
    },
    "id": "VPq-2QvlFeii",
    "outputId": "bae827b4-b6c0-484a-c2f1-c08e8d236467",
    "pycharm": {
     "name": "#%%\n"
    }
   },
   "outputs": [
    {
     "data": {
      "text/plain": [
       "<Figure size 1296x1296 with 0 Axes>"
      ]
     },
     "metadata": {},
     "output_type": "display_data"
    },
    {
     "data": {
      "image/png": "[encoded data removed]",
      "text/plain": [
       "<Figure size 360x360 with 1 Axes>"
      ]
     },
     "metadata": {
      "needs_background": "light"
     },
     "output_type": "display_data"
    }
   ],
   "source": [
    "plt.figure(figsize=(18,18))\n",
    "sns.displot(x = 'Сумма заказа', data = orders_by_total, bins=100)\n",
    "plt.axvline(order_total_mean, color='red', linestyle='--', \n",
    "            label = f'Среднее {order_total_mean:.0f} руб.');\n",
    "plt.axvline(order_total_median, color='green', linestyle='--', \n",
    "            label = f'Медиана {order_total_median:.0f} руб.');\n",
    "plt.axvline(order_total_mode, color='blue', linestyle='--', \n",
    "            label = f'Мода {order_total_mode:.0f} руб.');\n",
    "plt.xlim([0, 10000])\n",
    "plt.title('Распределение заказов по сумме', fontsize=14)\n",
    "plt.xlabel('Сумма заказа', fontsize=12)\n",
    "plt.ylabel('Количество заказов', fontsize=12)\n",
    "plt.legend()\n",
    "plt.show()"
   ]
  },
  {
   "cell_type": "markdown",
   "metadata": {
    "id": "M5Gx72Xw053j",
    "pycharm": {
     "name": "#%% md\n"
    }
   },
   "source": [
    "# Анализ торгового асортимента"
   ]
  },
  {
   "cell_type": "markdown",
   "metadata": {
    "id": "3DpahJSSm5mc",
    "pycharm": {
     "name": "#%% md\n"
    }
   },
   "source": [
    "### Категории товаров"
   ]
  },
  {
   "cell_type": "code",
   "execution_count": 206,
   "metadata": {
    "colab": {
     "base_uri": "https://localhost:8080/"
    },
    "id": "-6bmRCoYm5mc",
    "outputId": "b4c0ba25-6c77-4c1d-dce5-c3523c0913e0",
    "pycharm": {
     "name": "#%%\n"
    }
   },
   "outputs": [
    {
     "data": {
      "text/plain": [
       "пеларгония розебудная red pandora укорененный черенок                                                      65\n",
       "пеларгония розебудная prins nikolai укорененный черенок                                                    55\n",
       "пеларгония зональная диам. 12 см сиреневый полумахровый                                                    52\n",
       "сумка-тележка 2-х колесная gimi argo синяя                                                                 47\n",
       "пеларгония розебудная mary укорененный черенок                                                             39\n",
       "пеларгония розебудная queen ingrid укорененный черенок                                                     30\n",
       "пеларгония розебудная margaretha укорененный черенок                                                       29\n",
       "пеларгония зональная махровая лососевая                                                                    24\n",
       "пеларгония зональная ринго вайт d-7 см h-10 см укорененный черенок                                         24\n",
       "пеларгония зональная диам. 12 см коралловая полумахровая                                                   24\n",
       "пеларгония зональная диам. 12 см красная махровая                                                          21\n",
       "однолетнее растение петуния махровая в кассете 4 шт, россия                                                21\n",
       "пеларгония зональная диам. 12 см темнорозовая полумахровая                                                 21\n",
       "пеларгония розебудная rosebud red d-7 см                                                                   17\n",
       "сушилка для белья настенная zalger prima 510-720 веревочная 7 линий 25 м                                   17\n",
       "тележка багажная delta тбр-20 синий грузоподъемность 25 кг сумка и 50 кг каркас россия                     16\n",
       "тележка багажная delta тбр-20 коричневый с оранжевым грузоподъемность 25 кг сумка и 50 кг каркас россия    16\n",
       "пеларгония зональная мультиблум скарлет ай d-7 см h-10 см укорененный черенок                              16\n",
       "пеларгония toscana angeleyes bicolor укорененный черенок                                                   16\n",
       "петуния махровая рассада однолетних цветов в кассете по 6 шт                                               16\n",
       "Name: product, dtype: int64"
      ]
     },
     "execution_count": 206,
     "metadata": {},
     "output_type": "execute_result"
    }
   ],
   "source": [
    "df['product'].value_counts().head(20)"
   ]
  },
  {
   "cell_type": "markdown",
   "metadata": {
    "id": "eMUiZNSOm5md",
    "pycharm": {
     "name": "#%% md\n"
    }
   },
   "source": [
    "Для деления товаров на категории выделим первое слово в названии и посчитаем как часто оно встречается в заказах."
   ]
  },
  {
   "cell_type": "code",
   "execution_count": 210,
   "metadata": {
    "colab": {
     "base_uri": "https://localhost:8080/"
    },
    "id": "e7tvhaeQm5md",
    "outputId": "911777cb-38db-4aad-f111-661f64355e19",
    "pycharm": {
     "name": "#%%\n"
    }
   },
   "outputs": [
    {
     "name": "stdout",
     "output_type": "stream",
     "text": [
      "Всего ключевых слов 418\n"
     ]
    }
   ],
   "source": [
    "products = df['product'].to_list()\n",
    "keywords = []\n",
    "for product in products:\n",
    "    keywords.append(product.split()[0])\n",
    "keywords_cnt = Counter(keywords)\n",
    "print('Всего ключевых слов', len(keywords_cnt))\n",
    "keywords_cnt.most_common();"
   ]
  },
  {
   "cell_type": "markdown",
   "metadata": {
    "id": "ExMgB6edm5me",
    "pycharm": {
     "name": "#%% md\n"
    }
   },
   "source": [
    "Для выделения категорий товара воспользуемся каталогом интернет-магазинов [Леруа Мерлен](https://leroymerlin.ru/catalogue/) и [Ozon](https://www.ozon.ru/category/)."
   ]
  },
  {
   "cell_type": "code",
   "execution_count": 209,
   "metadata": {
    "id": "jYPtvMkom5me",
    "pycharm": {
     "name": "#%%\n"
    }
   },
   "outputs": [],
   "source": [
    "categorys ={\n",
    "    'Посуда': \n",
    "           ['тарелка', 'набор', 'салатник', 'чайник', 'банка', 'нож', 'кружка', 'контейнер', 'салфетка', \n",
    "            'сковорода', 'ложка', 'кувшин', 'термокружка', 'вилка', 'стакан', 'кастрюля', 'чайный', 'жестяная', \n",
    "            'термос', 'tepмокружка', 'терка', 'измельчитель',  'лоток', 'миска', 'хлебница', 'стеклянная', \n",
    "            'овощеварка', 'столовая', 'чайная', 'разделочная', 'емкость', 'форма', 'толкушка', 'сервировочная', \n",
    "            'рыбочистка', 'лопатка', 'кисточка', 'термостакан', 'столовый', 'блюдце', 'просеиватель', 'кухонное', \n",
    "            'блюдо', 'бидон', 'крышка', 'сахарница', 'соковарка', 'мини-сковорода', 'котел', 'готовая', \n",
    "            'противень', 'вкладыши', 'ножеточка', 'масленка', 'салфетница', 'овощечистка', 'мантоварка', \n",
    "            'кухонные', 'картофелемялка', 'пресс', 'защитный', 'фарфоровая', 'бульонница', 'мантоварка-пароварка',\n",
    "            'орехоколка', 'скалка', 'венчик', 'сито', 'тортница', 'сотейник', 'отделитель', 'шприц',\n",
    "            'пьезозажигалка', 'соковыжималка', 'половник', 'мерный', 'модульная', 'универсальный'],\n",
    "    'Текстиль': \n",
    "           ['скатерть', 'плед', 'полотенце', 'махровое', 'простыня', 'подушка', 'покрывало',\n",
    "            'наматрасник', 'наматрицник-чехол', 'халат', 'одеяло', 'махровый', 'наволочка', \n",
    "            'пододеяльник', 'кольца', 'двуспальное', 'простынь', 'наматрацник'],\n",
    "    'Декор': \n",
    "           ['муляж', 'искусственный', 'карниз', 'новогоднее', 'искусственная', 'ковер', 'декоративная', \n",
    "            'фоторамка', 'ключница', 'ваза'],\n",
    "    'Сад': \n",
    "           ['пеларгония', 'рассада', 'томата', 'петуния', 'герань', 'однолетнее', 'роза', 'калибрахоа', \n",
    "            'бакопа', 'цветок', 'подвесное', 'мята', 'фуксия', 'базилик', 'флокс', 'декабрист', \n",
    "            'примула', 'вербена', 'эвкалипт', 'фиалка', 'дыня', 'лобелия', 'цикламен', 'комнатное', \n",
    "            'капуста', 'бегония', 'бальзамин', 'пуансеттия', 'циперус', 'газания', 'антуриум', 'виола', \n",
    "            'колокольчик', 'арбуз', 'тимьян', 'хлорофитум', 'хризантема', 'космея', 'огурец', 'алиссум', \n",
    "            'эхеверия', 'лаванда', 'львиный', 'подарочный', 'томат', 'мирт', 'кофе', 'лавр',  'табак', \n",
    "            'камнеломка', 'петрушка', 'многолетнее', 'азалия', 'розмарин', 'дендробиум', 'мимоза',\n",
    "            'гвоздика', 'фаленопсис', 'аптения', 'седум', 'овсянница', 'цинния', 'тагетис', 'патиссон', \n",
    "            'мединилла', 'калатея', 'гортензия', 'каланхое', 'настурция', 'календула', 'кореопсис', 'лапчатка', \n",
    "            'алоэ', 'спатифиллум', 'аквилегия', 'земляника', 'калла', 'чабер', 'вербейник', 'котовник', \n",
    "            'ясколка', 'гардения', 'астра', 'клубника', 'нивянник', 'зверобой', 'шеффлера', 'цветущее', \n",
    "            'кориандр', 'аспарагус', 'афеляндра', 'молодило', 'гербера', 'душица', 'крассула', 'цинерария', \n",
    "            'диффенбахия', 'цикламен,', 'эхинокактус', 'гипсофила', 'укроп', 'ранункулус', 'папоротник', \n",
    "            'девичий', 'колеус', 'цинерания', 'портулак', 'аргирантерум', 'вероника', 'целозия', 'сальвия', \n",
    "            'фатсия', 'монарда', 'осина', 'лен', 'лантана', 'сельдерей', 'салат', 'радермахера', \n",
    "            'хризолидокарпус', 'юкка', 'суккулент', 'адиантум', 'кампанула', 'нолина', 'глоксиния', \n",
    "            'иссоп', 'сантолина', 'мелисса', 'альбука', 'артемизия', 'калоцефалус', 'антижир', 'каллуна', \n",
    "            'капсикум', 'соланум', 'бархатцы', 'морковь', 'годеция', 'эшшольция', 'подсолнечник', \n",
    "            'пуансетия', 'гиностемма', 'ель', 'кипарисовик', 'скиммия', 'фиттония', 'фикус', 'кодонанта', \n",
    "            'гимнокалициум', 'крокусы', 'эпипремнум', 'горох', 'незабудка', 'нефролепис', 'тюльпан', \n",
    "            'гиацинт', 'георгина', 'смолевка', 'эхинацея', 'лилейник', 'платикодон', 'энотера', \n",
    "            'цитрофортунелла', 'пеперомия', 'циния', 'синнингия', 'мускари', 'пиретрум', 'агератум', \n",
    "            'муррайя', 'левкой', 'баклажан', 'маттиола', 'лук', 'джункус', 'драцена', 'хоста', 'гайлардия', \n",
    "            'рудбекия', 'барвинок', 'сциндапсус', 'пряные', 'бузульник', 'солидаго', 'физостегия', 'бадан', \n",
    "            'лаватера', 'анемона', 'буддлея', 'валериана', 'змееголовник', 'любисток', 'шалфей', 'вигна', \n",
    "            'кабачок', 'тыква', 'хамедорея', 'импатиенс', 'клен', 'замиокулькас', 'амариллис', 'пахира',\n",
    "            'литопс'],\n",
    "    'Хозтовары': \n",
    "           ['сушилка', 'гладильная', 'коврик', 'чехол', 'штора', 'таз', \n",
    "            'ерш', 'подкладка', 'щетка', 'швабра', 'подрукавник', 'ведро', 'перчатки', \n",
    "            'щетка-сметка', 'штанга', 'окномойка', 'корыто', 'сиденье', 'настенная', 'шнур', \n",
    "            'рукав', 'насадка', 'покрытие', 'дозатор', 'подголовник', 'термометр', \n",
    "            'скребок', 'совок', 'ткань', 'доска', 'мусорный', 'бензин',\n",
    "            'пробка', 'ковш', 'сетка', 'вантуз', 'веник', 'насадка-моп', 'тряпкодержатель', \n",
    "            'бельевые', 'шпагат', 'мешок', 'настольная', 'сметка', 'держатель', \n",
    "            'губка', 'ролик', 'сменный', 'рассекатель', 'мыльница', 'насадка-отжим', \n",
    "            'нетканые', 'фал', 'бак', 'сменная', 'урна-пепельница', 'отжим', \n",
    "            'ванна', 'прищепки', 'веревка', 'запасная', 'тряпка', 'стяжки', 'автоматическая',\n",
    "            'щетка-утюжок', 'комплект', \n",
    "            'средство', 'зубная', 'мыло', 'паста', 'стиральный', 'чистящий', 'жидкое', 'пена', \n",
    "            'универсальное', 'ароматизированное', 'бальзам', 'ополаскиватель', 'кондиционер',\n",
    "            'защитная', 'гипоаллергенный', 'увлажняющая', 'мыло-скраб', 'концентрат', 'антинакипин',\n",
    "            'отбеливатель', \n",
    "            'весы', 'миксер', 'утюг', 'пылесос', 'светильник', 'фен', 'электроштопор', \n",
    "            'кипятильник'],\n",
    "    'Дача':\n",
    "           ['сумка-тележка', 'тележка', 'сумка', 'урна'],\n",
    "    'Хранение вещей':\n",
    "           ['вешалка', 'полки', 'корзина', 'кофр', 'подставка', 'вешалка-плечики', 'крючок', 'этажерка',\n",
    "            'плечики', 'комод', 'ящик', 'коробка', 'вешалка-стойка', 'вешалки', 'стеллаж', 'короб',\n",
    "            'полка', 'вешалка-сушилка', 'вешалка-перекладина', 'обувница-3', 'корзинка', 'вакуумный',\n",
    "            'складной', 'складная'],\n",
    "    'Ремонт':\n",
    "           ['стремянка', 'лестница-стремянка', 'стремянки', 'сверло-фреза,', 'измерительный', \n",
    "            'стяжка', 'холодная', 'петля', 'стремянка-табурет', 'линейка,', 'петля-стрела', \n",
    "            'шило', 'многофункциональный', 'лестница', 'крепеж', 'штангенциркуль', 'сверло', \n",
    "            'фиксатор-шар', 'завертка', 'ручка', 'решетка', 'уголок', 'основание', 'пружина',\n",
    "            'ручка-скоба', 'шпингалет']}"
   ]
  },
  {
   "cell_type": "code",
   "execution_count": 215,
   "metadata": {
    "id": "X73jD5vem5mf",
    "pycharm": {
     "name": "#%%\n"
    }
   },
   "outputs": [],
   "source": [
    "def product_category(product):\n",
    "    for key, value in categorys.items():\n",
    "        if product.split()[0] in value:\n",
    "            return key"
   ]
  },
  {
   "cell_type": "code",
   "execution_count": 216,
   "metadata": {
    "colab": {
     "base_uri": "https://localhost:8080/",
     "height": 35
    },
    "id": "6Pd0UTZOm5mg",
    "outputId": "f59c6d27-cb4c-44eb-dbcb-be2d18eb9a4a",
    "pycharm": {
     "name": "#%%\n"
    }
   },
   "outputs": [
    {
     "data": {
      "application/vnd.google.colaboratory.intrinsic+json": {
       "type": "string"
      },
      "text/plain": [
       "'Ремонт'"
      ]
     },
     "execution_count": 216,
     "metadata": {},
     "output_type": "execute_result"
    }
   ],
   "source": [
    "keyword = 'шпингалет'\n",
    "product_category(keyword)"
   ]
  },
  {
   "cell_type": "code",
   "execution_count": 217,
   "metadata": {
    "id": "t8wi8Hztm5mg",
    "pycharm": {
     "name": "#%%\n"
    }
   },
   "outputs": [],
   "source": [
    "df['category'] = df['product'].apply(product_category)"
   ]
  },
  {
   "cell_type": "markdown",
   "metadata": {
    "id": "n3dTMhmym5mg",
    "pycharm": {
     "name": "#%% md\n"
    }
   },
   "source": [
    "Посмотрим есть ли пропуски."
   ]
  },
  {
   "cell_type": "code",
   "execution_count": 220,
   "metadata": {
    "colab": {
     "base_uri": "https://localhost:8080/"
    },
    "id": "NDWU8AYpm5mg",
    "outputId": "9884a628-534e-4979-97d1-af9b61b245ee",
    "pycharm": {
     "name": "#%%\n"
    }
   },
   "outputs": [
    {
     "data": {
      "text/plain": [
       "0"
      ]
     },
     "execution_count": 220,
     "metadata": {},
     "output_type": "execute_result"
    }
   ],
   "source": [
    "df['category'].isna().sum()"
   ]
  },
  {
   "cell_type": "markdown",
   "metadata": {
    "id": "erOt08tDm5mh",
    "pycharm": {
     "name": "#%% md\n"
    }
   },
   "source": [
    "Посмотрим сколько уникальных товаров в каждой категории."
   ]
  },
  {
   "cell_type": "code",
   "execution_count": 221,
   "metadata": {
    "colab": {
     "base_uri": "https://localhost:8080/",
     "height": 300
    },
    "id": "41UFx3CBm5mh",
    "outputId": "e631c1a2-fa69-4b85-f4b0-dd62af204e4c",
    "pycharm": {
     "name": "#%%\n"
    }
   },
   "outputs": [
    {
     "data": {
      "text/html": [
       "\n",
       "  <div id=\"df-852feb3f-aeb2-42c3-ae4b-b0436d84123b\">\n",
       "    <div class=\"colab-df-container\">\n",
       "      <div>\n",
       "<style scoped>\n",
       "    .dataframe tbody tr th:only-of-type {\n",
       "        vertical-align: middle;\n",
       "    }\n",
       "\n",
       "    .dataframe tbody tr th {\n",
       "        vertical-align: top;\n",
       "    }\n",
       "\n",
       "    .dataframe thead th {\n",
       "        text-align: right;\n",
       "    }\n",
       "</style>\n",
       "<table border=\"1\" class=\"dataframe\">\n",
       "  <thead>\n",
       "    <tr style=\"text-align: right;\">\n",
       "      <th></th>\n",
       "      <th>category</th>\n",
       "      <th>nunique</th>\n",
       "    </tr>\n",
       "  </thead>\n",
       "  <tbody>\n",
       "    <tr>\n",
       "      <th>0</th>\n",
       "      <td>Дача</td>\n",
       "      <td>36</td>\n",
       "    </tr>\n",
       "    <tr>\n",
       "      <th>1</th>\n",
       "      <td>Декор</td>\n",
       "      <td>131</td>\n",
       "    </tr>\n",
       "    <tr>\n",
       "      <th>2</th>\n",
       "      <td>Посуда</td>\n",
       "      <td>278</td>\n",
       "    </tr>\n",
       "    <tr>\n",
       "      <th>3</th>\n",
       "      <td>Ремонт</td>\n",
       "      <td>31</td>\n",
       "    </tr>\n",
       "    <tr>\n",
       "      <th>4</th>\n",
       "      <td>Сад</td>\n",
       "      <td>932</td>\n",
       "    </tr>\n",
       "    <tr>\n",
       "      <th>5</th>\n",
       "      <td>Текстиль</td>\n",
       "      <td>36</td>\n",
       "    </tr>\n",
       "    <tr>\n",
       "      <th>6</th>\n",
       "      <td>Хозтовары</td>\n",
       "      <td>421</td>\n",
       "    </tr>\n",
       "    <tr>\n",
       "      <th>7</th>\n",
       "      <td>Хранение вещей</td>\n",
       "      <td>88</td>\n",
       "    </tr>\n",
       "  </tbody>\n",
       "</table>\n",
       "</div>\n",
       "      <button class=\"colab-df-convert\" onclick=\"convertToInteractive('df-852feb3f-aeb2-42c3-ae4b-b0436d84123b')\"\n",
       "              title=\"Convert this dataframe to an interactive table.\"\n",
       "              style=\"display:none;\">\n",
       "        \n",
       "  <svg xmlns=\"http://www.w3.org/2000/svg\" height=\"24px\"viewBox=\"0 0 24 24\"\n",
       "       width=\"24px\">\n",
       "    <path d=\"M0 0h24v24H0V0z\" fill=\"none\"/>\n",
       "    <path d=\"M18.56 5.44l.94 2.06.94-2.06 2.06-.94-2.06-.94-.94-2.06-.94 2.06-2.06.94zm-11 1L8.5 8.5l.94-2.06 2.06-.94-2.06-.94L8.5 2.5l-.94 2.06-2.06.94zm10 10l.94 2.06.94-2.06 2.06-.94-2.06-.94-.94-2.06-.94 2.06-2.06.94z\"/><path d=\"M17.41 7.96l-1.37-1.37c-.4-.4-.92-.59-1.43-.59-.52 0-1.04.2-1.43.59L10.3 9.45l-7.72 7.72c-.78.78-.78 2.05 0 2.83L4 21.41c.39.39.9.59 1.41.59.51 0 1.02-.2 1.41-.59l7.78-7.78 2.81-2.81c.8-.78.8-2.07 0-2.86zM5.41 20L4 18.59l7.72-7.72 1.47 1.35L5.41 20z\"/>\n",
       "  </svg>\n",
       "      </button>\n",
       "      \n",
       "  <style>\n",
       "    .colab-df-container {\n",
       "      display:flex;\n",
       "      flex-wrap:wrap;\n",
       "      gap: 12px;\n",
       "    }\n",
       "\n",
       "    .colab-df-convert {\n",
       "      background-color: #E8F0FE;\n",
       "      border: none;\n",
       "      border-radius: 50%;\n",
       "      cursor: pointer;\n",
       "      display: none;\n",
       "      fill: #1967D2;\n",
       "      height: 32px;\n",
       "      padding: 0 0 0 0;\n",
       "      width: 32px;\n",
       "    }\n",
       "\n",
       "    .colab-df-convert:hover {\n",
       "      background-color: #E2EBFA;\n",
       "      box-shadow: 0px 1px 2px rgba(60, 64, 67, 0.3), 0px 1px 3px 1px rgba(60, 64, 67, 0.15);\n",
       "      fill: #174EA6;\n",
       "    }\n",
       "\n",
       "    [theme=dark] .colab-df-convert {\n",
       "      background-color: #3B4455;\n",
       "      fill: #D2E3FC;\n",
       "    }\n",
       "\n",
       "    [theme=dark] .colab-df-convert:hover {\n",
       "      background-color: #434B5C;\n",
       "      box-shadow: 0px 1px 3px 1px rgba(0, 0, 0, 0.15);\n",
       "      filter: drop-shadow(0px 1px 2px rgba(0, 0, 0, 0.3));\n",
       "      fill: #FFFFFF;\n",
       "    }\n",
       "  </style>\n",
       "\n",
       "      <script>\n",
       "        const buttonEl =\n",
       "          document.querySelector('#df-852feb3f-aeb2-42c3-ae4b-b0436d84123b button.colab-df-convert');\n",
       "        buttonEl.style.display =\n",
       "          google.colab.kernel.accessAllowed ? 'block' : 'none';\n",
       "\n",
       "        async function convertToInteractive(key) {\n",
       "          const element = document.querySelector('#df-852feb3f-aeb2-42c3-ae4b-b0436d84123b');\n",
       "          const dataTable =\n",
       "            await google.colab.kernel.invokeFunction('convertToInteractive',\n",
       "                                                     [key], {});\n",
       "          if (!dataTable) return;\n",
       "\n",
       "          const docLinkHtml = 'Like what you see? Visit the ' +\n",
       "            '<a target=\"_blank\" href=https://colab.research.google.com/notebooks/data_table.ipynb>data table notebook</a>'\n",
       "            + ' to learn more about interactive tables.';\n",
       "          element.innerHTML = '';\n",
       "          dataTable['output_type'] = 'display_data';\n",
       "          await google.colab.output.renderOutput(dataTable, element);\n",
       "          const docLink = document.createElement('div');\n",
       "          docLink.innerHTML = docLinkHtml;\n",
       "          element.appendChild(docLink);\n",
       "        }\n",
       "      </script>\n",
       "    </div>\n",
       "  </div>\n",
       "  "
      ],
      "text/plain": [
       "         category  nunique\n",
       "0            Дача       36\n",
       "1           Декор      131\n",
       "2          Посуда      278\n",
       "3          Ремонт       31\n",
       "4             Сад      932\n",
       "5        Текстиль       36\n",
       "6       Хозтовары      421\n",
       "7  Хранение вещей       88"
      ]
     },
     "execution_count": 221,
     "metadata": {},
     "output_type": "execute_result"
    }
   ],
   "source": [
    "product_nunique = df.groupby('category')['product'].agg(nunique='nunique').reset_index()\n",
    "product_nunique"
   ]
  },
  {
   "cell_type": "code",
   "execution_count": 222,
   "metadata": {
    "colab": {
     "base_uri": "https://localhost:8080/",
     "height": 463
    },
    "id": "c5FYQyeam5mh",
    "outputId": "a06de2e5-7bb6-4a41-8afb-cfc00a270dc1",
    "pycharm": {
     "name": "#%%\n"
    }
   },
   "outputs": [
    {
     "data": {
      "image/png": "[encoded data removed]",
      "text/plain": [
       "<Figure size 864x432 with 1 Axes>"
      ]
     },
     "metadata": {
      "needs_background": "light"
     },
     "output_type": "display_data"
    }
   ],
   "source": [
    "fig, ax = plt.subplots(figsize = (12,6))\n",
    "ax=sns.barplot(x = 'category', \n",
    "               y = 'nunique', \n",
    "               data = product_nunique.sort_values(by='nunique', ascending=False),\n",
    "              )\n",
    "ax.set_xticklabels(ax.get_xticklabels(), rotation=30,  ha=\"right\", fontsize=12)\n",
    "ax.set_title('Распределение ассортимента по категориям', fontsize=14)\n",
    "plt.xlabel('Категория', fontsize=12)\n",
    "plt.ylabel('Наименований товара', fontsize=12)\n",
    "plt.show()"
   ]
  },
  {
   "cell_type": "markdown",
   "metadata": {
    "id": "UFTfRTvZm5mj",
    "pycharm": {
     "name": "#%% md\n"
    }
   },
   "source": [
    "**Вывод**"
   ]
  },
  {
   "cell_type": "markdown",
   "metadata": {
    "id": "oMi56CbHMtcK",
    "pycharm": {
     "name": "#%% md\n"
    }
   },
   "source": [
    "## Анализ заказов по категориям"
   ]
  },
  {
   "cell_type": "markdown",
   "metadata": {
    "id": "rwObaE_aM5Ea",
    "pycharm": {
     "name": "#%% md\n"
    }
   },
   "source": [
    "Посчитаем для каждой категории число заказов, суммарную, среднюю и медианную стоимость заказа."
   ]
  },
  {
   "cell_type": "code",
   "execution_count": 224,
   "metadata": {
    "id": "nKF8Q1o7M43f",
    "pycharm": {
     "name": "#%%\n"
    }
   },
   "outputs": [],
   "source": [
    "category_describe = df.groupby('category')['cost_product'].agg(count='count', \n",
    "                                                               sum='sum', \n",
    "                                                               mean='mean', \n",
    "                                                               median='median').reset_index()"
   ]
  },
  {
   "cell_type": "code",
   "execution_count": 225,
   "metadata": {
    "colab": {
     "base_uri": "https://localhost:8080/",
     "height": 300
    },
    "id": "kW7saCnlMs70",
    "outputId": "617460fd-e1a4-4665-843e-d1168b8e2761",
    "pycharm": {
     "name": "#%%\n"
    }
   },
   "outputs": [
    {
     "data": {
      "text/html": [
       "\n",
       "  <div id=\"df-019e76be-9952-4ac3-9997-c886e1cd39e9\">\n",
       "    <div class=\"colab-df-container\">\n",
       "      <div>\n",
       "<style scoped>\n",
       "    .dataframe tbody tr th:only-of-type {\n",
       "        vertical-align: middle;\n",
       "    }\n",
       "\n",
       "    .dataframe tbody tr th {\n",
       "        vertical-align: top;\n",
       "    }\n",
       "\n",
       "    .dataframe thead th {\n",
       "        text-align: right;\n",
       "    }\n",
       "</style>\n",
       "<table border=\"1\" class=\"dataframe\">\n",
       "  <thead>\n",
       "    <tr style=\"text-align: right;\">\n",
       "      <th></th>\n",
       "      <th>category</th>\n",
       "      <th>count</th>\n",
       "      <th>sum</th>\n",
       "      <th>mean</th>\n",
       "      <th>median</th>\n",
       "    </tr>\n",
       "  </thead>\n",
       "  <tbody>\n",
       "    <tr>\n",
       "      <th>0</th>\n",
       "      <td>Дача</td>\n",
       "      <td>184</td>\n",
       "      <td>156245.0</td>\n",
       "      <td>849.0</td>\n",
       "      <td>824.0</td>\n",
       "    </tr>\n",
       "    <tr>\n",
       "      <th>1</th>\n",
       "      <td>Декор</td>\n",
       "      <td>269</td>\n",
       "      <td>88334.0</td>\n",
       "      <td>328.0</td>\n",
       "      <td>156.0</td>\n",
       "    </tr>\n",
       "    <tr>\n",
       "      <th>2</th>\n",
       "      <td>Посуда</td>\n",
       "      <td>334</td>\n",
       "      <td>208460.0</td>\n",
       "      <td>624.0</td>\n",
       "      <td>403.0</td>\n",
       "    </tr>\n",
       "    <tr>\n",
       "      <th>3</th>\n",
       "      <td>Ремонт</td>\n",
       "      <td>36</td>\n",
       "      <td>14990.0</td>\n",
       "      <td>416.0</td>\n",
       "      <td>244.0</td>\n",
       "    </tr>\n",
       "    <tr>\n",
       "      <th>4</th>\n",
       "      <td>Сад</td>\n",
       "      <td>2504</td>\n",
       "      <td>470590.0</td>\n",
       "      <td>188.0</td>\n",
       "      <td>135.0</td>\n",
       "    </tr>\n",
       "    <tr>\n",
       "      <th>5</th>\n",
       "      <td>Текстиль</td>\n",
       "      <td>38</td>\n",
       "      <td>35879.0</td>\n",
       "      <td>944.0</td>\n",
       "      <td>638.0</td>\n",
       "    </tr>\n",
       "    <tr>\n",
       "      <th>6</th>\n",
       "      <td>Хозтовары</td>\n",
       "      <td>743</td>\n",
       "      <td>480042.0</td>\n",
       "      <td>646.0</td>\n",
       "      <td>487.0</td>\n",
       "    </tr>\n",
       "    <tr>\n",
       "      <th>7</th>\n",
       "      <td>Хранение вещей</td>\n",
       "      <td>113</td>\n",
       "      <td>90238.0</td>\n",
       "      <td>799.0</td>\n",
       "      <td>599.0</td>\n",
       "    </tr>\n",
       "  </tbody>\n",
       "</table>\n",
       "</div>\n",
       "      <button class=\"colab-df-convert\" onclick=\"convertToInteractive('df-019e76be-9952-4ac3-9997-c886e1cd39e9')\"\n",
       "              title=\"Convert this dataframe to an interactive table.\"\n",
       "              style=\"display:none;\">\n",
       "        \n",
       "  <svg xmlns=\"http://www.w3.org/2000/svg\" height=\"24px\"viewBox=\"0 0 24 24\"\n",
       "       width=\"24px\">\n",
       "    <path d=\"M0 0h24v24H0V0z\" fill=\"none\"/>\n",
       "    <path d=\"M18.56 5.44l.94 2.06.94-2.06 2.06-.94-2.06-.94-.94-2.06-.94 2.06-2.06.94zm-11 1L8.5 8.5l.94-2.06 2.06-.94-2.06-.94L8.5 2.5l-.94 2.06-2.06.94zm10 10l.94 2.06.94-2.06 2.06-.94-2.06-.94-.94-2.06-.94 2.06-2.06.94z\"/><path d=\"M17.41 7.96l-1.37-1.37c-.4-.4-.92-.59-1.43-.59-.52 0-1.04.2-1.43.59L10.3 9.45l-7.72 7.72c-.78.78-.78 2.05 0 2.83L4 21.41c.39.39.9.59 1.41.59.51 0 1.02-.2 1.41-.59l7.78-7.78 2.81-2.81c.8-.78.8-2.07 0-2.86zM5.41 20L4 18.59l7.72-7.72 1.47 1.35L5.41 20z\"/>\n",
       "  </svg>\n",
       "      </button>\n",
       "      \n",
       "  <style>\n",
       "    .colab-df-container {\n",
       "      display:flex;\n",
       "      flex-wrap:wrap;\n",
       "      gap: 12px;\n",
       "    }\n",
       "\n",
       "    .colab-df-convert {\n",
       "      background-color: #E8F0FE;\n",
       "      border: none;\n",
       "      border-radius: 50%;\n",
       "      cursor: pointer;\n",
       "      display: none;\n",
       "      fill: #1967D2;\n",
       "      height: 32px;\n",
       "      padding: 0 0 0 0;\n",
       "      width: 32px;\n",
       "    }\n",
       "\n",
       "    .colab-df-convert:hover {\n",
       "      background-color: #E2EBFA;\n",
       "      box-shadow: 0px 1px 2px rgba(60, 64, 67, 0.3), 0px 1px 3px 1px rgba(60, 64, 67, 0.15);\n",
       "      fill: #174EA6;\n",
       "    }\n",
       "\n",
       "    [theme=dark] .colab-df-convert {\n",
       "      background-color: #3B4455;\n",
       "      fill: #D2E3FC;\n",
       "    }\n",
       "\n",
       "    [theme=dark] .colab-df-convert:hover {\n",
       "      background-color: #434B5C;\n",
       "      box-shadow: 0px 1px 3px 1px rgba(0, 0, 0, 0.15);\n",
       "      filter: drop-shadow(0px 1px 2px rgba(0, 0, 0, 0.3));\n",
       "      fill: #FFFFFF;\n",
       "    }\n",
       "  </style>\n",
       "\n",
       "      <script>\n",
       "        const buttonEl =\n",
       "          document.querySelector('#df-019e76be-9952-4ac3-9997-c886e1cd39e9 button.colab-df-convert');\n",
       "        buttonEl.style.display =\n",
       "          google.colab.kernel.accessAllowed ? 'block' : 'none';\n",
       "\n",
       "        async function convertToInteractive(key) {\n",
       "          const element = document.querySelector('#df-019e76be-9952-4ac3-9997-c886e1cd39e9');\n",
       "          const dataTable =\n",
       "            await google.colab.kernel.invokeFunction('convertToInteractive',\n",
       "                                                     [key], {});\n",
       "          if (!dataTable) return;\n",
       "\n",
       "          const docLinkHtml = 'Like what you see? Visit the ' +\n",
       "            '<a target=\"_blank\" href=https://colab.research.google.com/notebooks/data_table.ipynb>data table notebook</a>'\n",
       "            + ' to learn more about interactive tables.';\n",
       "          element.innerHTML = '';\n",
       "          dataTable['output_type'] = 'display_data';\n",
       "          await google.colab.output.renderOutput(dataTable, element);\n",
       "          const docLink = document.createElement('div');\n",
       "          docLink.innerHTML = docLinkHtml;\n",
       "          element.appendChild(docLink);\n",
       "        }\n",
       "      </script>\n",
       "    </div>\n",
       "  </div>\n",
       "  "
      ],
      "text/plain": [
       "         category  count       sum   mean  median\n",
       "0            Дача    184  156245.0  849.0   824.0\n",
       "1           Декор    269   88334.0  328.0   156.0\n",
       "2          Посуда    334  208460.0  624.0   403.0\n",
       "3          Ремонт     36   14990.0  416.0   244.0\n",
       "4             Сад   2504  470590.0  188.0   135.0\n",
       "5        Текстиль     38   35879.0  944.0   638.0\n",
       "6       Хозтовары    743  480042.0  646.0   487.0\n",
       "7  Хранение вещей    113   90238.0  799.0   599.0"
      ]
     },
     "execution_count": 225,
     "metadata": {},
     "output_type": "execute_result"
    }
   ],
   "source": [
    "category_describe.round()"
   ]
  },
  {
   "cell_type": "code",
   "execution_count": 226,
   "metadata": {
    "colab": {
     "base_uri": "https://localhost:8080/",
     "height": 463
    },
    "id": "H6BBTTOzNGDb",
    "outputId": "768c7369-e9c3-4629-ad1b-1991406746a7",
    "pycharm": {
     "name": "#%%\n"
    }
   },
   "outputs": [
    {
     "data": {
      "image/png": "[encoded data removed]",
      "text/plain": [
       "<Figure size 864x432 with 1 Axes>"
      ]
     },
     "metadata": {
      "needs_background": "light"
     },
     "output_type": "display_data"
    }
   ],
   "source": [
    "fig, ax = plt.subplots(figsize = (12,6))\n",
    "ax=sns.barplot(x = 'category', \n",
    "               y = 'count', \n",
    "               data = category_describe.sort_values(by='count', ascending=False),\n",
    "              )\n",
    "ax.set_xticklabels(ax.get_xticklabels(), rotation=30,  ha=\"right\", fontsize=12)\n",
    "ax.set_title('Число покупок по категориям', fontsize=14)\n",
    "plt.xlabel('Категория', fontsize=12)\n",
    "plt.ylabel('Покупок', fontsize=12)\n",
    "plt.show()"
   ]
  },
  {
   "cell_type": "code",
   "execution_count": 227,
   "metadata": {
    "colab": {
     "base_uri": "https://localhost:8080/",
     "height": 463
    },
    "id": "mCk2C9L0NOJo",
    "outputId": "d1b7aea7-f888-4c80-826c-da9afa078d7a",
    "pycharm": {
     "name": "#%%\n"
    }
   },
   "outputs": [
    {
     "data": {
      "image/png": "[encoded data removed]",
      "text/plain": [
       "<Figure size 864x432 with 1 Axes>"
      ]
     },
     "metadata": {
      "needs_background": "light"
     },
     "output_type": "display_data"
    }
   ],
   "source": [
    "fig, ax = plt.subplots(figsize = (12,6))\n",
    "ax=sns.barplot(x = 'category', \n",
    "               y = 'sum', \n",
    "               data = category_describe.sort_values(by='sum', ascending=False),\n",
    "              )\n",
    "ax.set_xticklabels(ax.get_xticklabels(), rotation=30,  ha=\"right\", fontsize=12)\n",
    "ax.set_title('Выручка по категориям', fontsize=14)\n",
    "plt.xlabel('Категория', fontsize=12)\n",
    "plt.ylabel('Сумма покупок', fontsize=12)\n",
    "plt.show()"
   ]
  },
  {
   "cell_type": "code",
   "execution_count": 228,
   "metadata": {
    "colab": {
     "base_uri": "https://localhost:8080/",
     "height": 463
    },
    "id": "oPJ0ojMnNdDq",
    "outputId": "4e538ab1-7878-46e4-fd46-a6c32682ce50",
    "pycharm": {
     "name": "#%%\n"
    }
   },
   "outputs": [
    {
     "data": {
      "image/png": "[encoded data removed]",
      "text/plain": [
       "<Figure size 864x432 with 1 Axes>"
      ]
     },
     "metadata": {
      "needs_background": "light"
     },
     "output_type": "display_data"
    }
   ],
   "source": [
    "fig, ax = plt.subplots(figsize = (12,6))\n",
    "ax=sns.barplot(x = 'category', \n",
    "               y = 'mean', \n",
    "               data = category_describe.sort_values(by='mean', ascending=False),\n",
    "              )\n",
    "ax.set_xticklabels(ax.get_xticklabels(), rotation=30,  ha=\"right\", fontsize=12)\n",
    "ax.set_title('Средний чек по категориям', fontsize=14)\n",
    "plt.xlabel('Категория', fontsize=12)\n",
    "plt.ylabel('Средний чек', fontsize=12)\n",
    "plt.show()"
   ]
  },
  {
   "cell_type": "code",
   "execution_count": 229,
   "metadata": {
    "colab": {
     "base_uri": "https://localhost:8080/",
     "height": 463
    },
    "id": "YqQRclLQNzd6",
    "outputId": "c689a1f4-a09e-425a-b083-0b37202481a7",
    "pycharm": {
     "name": "#%%\n"
    }
   },
   "outputs": [
    {
     "data": {
      "image/png": "[encoded data removed]",
      "text/plain": [
       "<Figure size 864x432 with 1 Axes>"
      ]
     },
     "metadata": {
      "needs_background": "light"
     },
     "output_type": "display_data"
    }
   ],
   "source": [
    "fig, ax = plt.subplots(figsize = (12,6))\n",
    "ax=sns.barplot(x = 'category', \n",
    "               y = 'median', \n",
    "               data = category_describe.sort_values(by='median', ascending=False),\n",
    "              )\n",
    "ax.set_xticklabels(ax.get_xticklabels(), rotation=30,  ha=\"right\", fontsize=12)\n",
    "ax.set_title('Медианная стоимость заказа по категориям', fontsize=14)\n",
    "plt.xlabel('Категория', fontsize=12)\n",
    "plt.ylabel('Медианная стоимость заказа', fontsize=12)\n",
    "plt.show()"
   ]
  },
  {
   "cell_type": "markdown",
   "metadata": {
    "id": "kw1cQn1jOIQk",
    "pycharm": {
     "name": "#%% md\n"
    }
   },
   "source": [
    "Найдем для каждой категории среднюю стоимость единицы товара."
   ]
  },
  {
   "cell_type": "code",
   "execution_count": 230,
   "metadata": {
    "colab": {
     "base_uri": "https://localhost:8080/",
     "height": 332
    },
    "id": "xyUM374SOCwb",
    "outputId": "f487cadc-dd60-48e0-8a91-7d41ef1d0559",
    "pycharm": {
     "name": "#%%\n"
    }
   },
   "outputs": [
    {
     "data": {
      "text/html": [
       "\n",
       "  <div id=\"df-8d05172b-99ce-41e5-851f-659c2d093dc7\">\n",
       "    <div class=\"colab-df-container\">\n",
       "      <div>\n",
       "<style scoped>\n",
       "    .dataframe tbody tr th:only-of-type {\n",
       "        vertical-align: middle;\n",
       "    }\n",
       "\n",
       "    .dataframe tbody tr th {\n",
       "        vertical-align: top;\n",
       "    }\n",
       "\n",
       "    .dataframe thead th {\n",
       "        text-align: right;\n",
       "    }\n",
       "</style>\n",
       "<table border=\"1\" class=\"dataframe\">\n",
       "  <thead>\n",
       "    <tr style=\"text-align: right;\">\n",
       "      <th></th>\n",
       "      <th>mean</th>\n",
       "    </tr>\n",
       "    <tr>\n",
       "      <th>category</th>\n",
       "      <th></th>\n",
       "    </tr>\n",
       "  </thead>\n",
       "  <tbody>\n",
       "    <tr>\n",
       "      <th>Дача</th>\n",
       "      <td>841.42</td>\n",
       "    </tr>\n",
       "    <tr>\n",
       "      <th>Текстиль</th>\n",
       "      <td>536.55</td>\n",
       "    </tr>\n",
       "    <tr>\n",
       "      <th>Хозтовары</th>\n",
       "      <td>434.13</td>\n",
       "    </tr>\n",
       "    <tr>\n",
       "      <th>Хранение вещей</th>\n",
       "      <td>396.57</td>\n",
       "    </tr>\n",
       "    <tr>\n",
       "      <th>Ремонт</th>\n",
       "      <td>303.97</td>\n",
       "    </tr>\n",
       "    <tr>\n",
       "      <th>Посуда</th>\n",
       "      <td>285.62</td>\n",
       "    </tr>\n",
       "    <tr>\n",
       "      <th>Сад</th>\n",
       "      <td>134.15</td>\n",
       "    </tr>\n",
       "    <tr>\n",
       "      <th>Декор</th>\n",
       "      <td>133.26</td>\n",
       "    </tr>\n",
       "  </tbody>\n",
       "</table>\n",
       "</div>\n",
       "      <button class=\"colab-df-convert\" onclick=\"convertToInteractive('df-8d05172b-99ce-41e5-851f-659c2d093dc7')\"\n",
       "              title=\"Convert this dataframe to an interactive table.\"\n",
       "              style=\"display:none;\">\n",
       "        \n",
       "  <svg xmlns=\"http://www.w3.org/2000/svg\" height=\"24px\"viewBox=\"0 0 24 24\"\n",
       "       width=\"24px\">\n",
       "    <path d=\"M0 0h24v24H0V0z\" fill=\"none\"/>\n",
       "    <path d=\"M18.56 5.44l.94 2.06.94-2.06 2.06-.94-2.06-.94-.94-2.06-.94 2.06-2.06.94zm-11 1L8.5 8.5l.94-2.06 2.06-.94-2.06-.94L8.5 2.5l-.94 2.06-2.06.94zm10 10l.94 2.06.94-2.06 2.06-.94-2.06-.94-.94-2.06-.94 2.06-2.06.94z\"/><path d=\"M17.41 7.96l-1.37-1.37c-.4-.4-.92-.59-1.43-.59-.52 0-1.04.2-1.43.59L10.3 9.45l-7.72 7.72c-.78.78-.78 2.05 0 2.83L4 21.41c.39.39.9.59 1.41.59.51 0 1.02-.2 1.41-.59l7.78-7.78 2.81-2.81c.8-.78.8-2.07 0-2.86zM5.41 20L4 18.59l7.72-7.72 1.47 1.35L5.41 20z\"/>\n",
       "  </svg>\n",
       "      </button>\n",
       "      \n",
       "  <style>\n",
       "    .colab-df-container {\n",
       "      display:flex;\n",
       "      flex-wrap:wrap;\n",
       "      gap: 12px;\n",
       "    }\n",
       "\n",
       "    .colab-df-convert {\n",
       "      background-color: #E8F0FE;\n",
       "      border: none;\n",
       "      border-radius: 50%;\n",
       "      cursor: pointer;\n",
       "      display: none;\n",
       "      fill: #1967D2;\n",
       "      height: 32px;\n",
       "      padding: 0 0 0 0;\n",
       "      width: 32px;\n",
       "    }\n",
       "\n",
       "    .colab-df-convert:hover {\n",
       "      background-color: #E2EBFA;\n",
       "      box-shadow: 0px 1px 2px rgba(60, 64, 67, 0.3), 0px 1px 3px 1px rgba(60, 64, 67, 0.15);\n",
       "      fill: #174EA6;\n",
       "    }\n",
       "\n",
       "    [theme=dark] .colab-df-convert {\n",
       "      background-color: #3B4455;\n",
       "      fill: #D2E3FC;\n",
       "    }\n",
       "\n",
       "    [theme=dark] .colab-df-convert:hover {\n",
       "      background-color: #434B5C;\n",
       "      box-shadow: 0px 1px 3px 1px rgba(0, 0, 0, 0.15);\n",
       "      filter: drop-shadow(0px 1px 2px rgba(0, 0, 0, 0.3));\n",
       "      fill: #FFFFFF;\n",
       "    }\n",
       "  </style>\n",
       "\n",
       "      <script>\n",
       "        const buttonEl =\n",
       "          document.querySelector('#df-8d05172b-99ce-41e5-851f-659c2d093dc7 button.colab-df-convert');\n",
       "        buttonEl.style.display =\n",
       "          google.colab.kernel.accessAllowed ? 'block' : 'none';\n",
       "\n",
       "        async function convertToInteractive(key) {\n",
       "          const element = document.querySelector('#df-8d05172b-99ce-41e5-851f-659c2d093dc7');\n",
       "          const dataTable =\n",
       "            await google.colab.kernel.invokeFunction('convertToInteractive',\n",
       "                                                     [key], {});\n",
       "          if (!dataTable) return;\n",
       "\n",
       "          const docLinkHtml = 'Like what you see? Visit the ' +\n",
       "            '<a target=\"_blank\" href=https://colab.research.google.com/notebooks/data_table.ipynb>data table notebook</a>'\n",
       "            + ' to learn more about interactive tables.';\n",
       "          element.innerHTML = '';\n",
       "          dataTable['output_type'] = 'display_data';\n",
       "          await google.colab.output.renderOutput(dataTable, element);\n",
       "          const docLink = document.createElement('div');\n",
       "          docLink.innerHTML = docLinkHtml;\n",
       "          element.appendChild(docLink);\n",
       "        }\n",
       "      </script>\n",
       "    </div>\n",
       "  </div>\n",
       "  "
      ],
      "text/plain": [
       "                  mean\n",
       "category              \n",
       "Дача            841.42\n",
       "Текстиль        536.55\n",
       "Хозтовары       434.13\n",
       "Хранение вещей  396.57\n",
       "Ремонт          303.97\n",
       "Посуда          285.62\n",
       "Сад             134.15\n",
       "Декор           133.26"
      ]
     },
     "execution_count": 230,
     "metadata": {},
     "output_type": "execute_result"
    }
   ],
   "source": [
    "price_mean = df.groupby('category')['price'].agg(mean='mean').sort_values(by='mean', ascending=False)\n",
    "price_mean.round(2)"
   ]
  },
  {
   "cell_type": "code",
   "execution_count": 231,
   "metadata": {
    "colab": {
     "base_uri": "https://localhost:8080/",
     "height": 463
    },
    "id": "G2V7UyCyONg-",
    "outputId": "698f83c4-f8fe-40d4-fd0f-0c2c53d86b17",
    "pycharm": {
     "name": "#%%\n"
    }
   },
   "outputs": [
    {
     "data": {
      "image/png": "[encoded data removed]",
      "text/plain": [
       "<Figure size 864x432 with 1 Axes>"
      ]
     },
     "metadata": {
      "needs_background": "light"
     },
     "output_type": "display_data"
    }
   ],
   "source": [
    "fig, ax = plt.subplots(figsize = (12,6))\n",
    "ax=sns.barplot(x = price_mean.index,\n",
    "               y = 'mean', \n",
    "               data = price_mean,\n",
    "              )\n",
    "ax.set_xticklabels(ax.get_xticklabels(), rotation=30,  ha=\"right\", fontsize=12)\n",
    "ax.set_title('Средняя стоимость товара по категориям', fontsize=14)\n",
    "plt.xlabel('Категория', fontsize=12)\n",
    "plt.ylabel('Средняя стоимость товара', fontsize=12)\n",
    "plt.show()"
   ]
  },
  {
   "cell_type": "code",
   "execution_count": 233,
   "metadata": {
    "colab": {
     "base_uri": "https://localhost:8080/"
    },
    "id": "TqlSroxJPGnM",
    "outputId": "ab1a0fff-9cae-4693-a86d-c065fa8dea31",
    "pycharm": {
     "name": "#%%\n"
    }
   },
   "outputs": [
    {
     "data": {
      "text/plain": [
       "array(['Сад', 'Хозтовары', 'Хранение вещей', 'Посуда', 'Дача', 'Декор',\n",
       "       'Текстиль', 'Ремонт'], dtype=object)"
      ]
     },
     "execution_count": 233,
     "metadata": {},
     "output_type": "execute_result"
    }
   ],
   "source": [
    "df.category.unique()"
   ]
  },
  {
   "cell_type": "markdown",
   "metadata": {
    "id": "7d9HdXUDm5mu",
    "pycharm": {
     "name": "#%% md\n"
    }
   },
   "source": [
    "# Статистические гипотезы"
   ]
  },
  {
   "cell_type": "markdown",
   "metadata": {
    "id": "zH6GGop4m5mu",
    "pycharm": {
     "name": "#%% md\n"
    }
   },
   "source": [
    "С помощью *критерия Шапиро-Уилка* проверим для каждой категории распределение суммарной стоимости товара на нормальность.\n",
    "\n",
    "Выберем критический уровень статистической значимости равным 0,05."
   ]
  },
  {
   "cell_type": "code",
   "execution_count": 244,
   "metadata": {
    "colab": {
     "base_uri": "https://localhost:8080/"
    },
    "id": "DZK3JWlFm5mv",
    "outputId": "2129100e-a8cb-43fa-8f68-204c0edcc883",
    "pycharm": {
     "name": "#%%\n"
    }
   },
   "outputs": [
    {
     "name": "stdout",
     "output_type": "stream",
     "text": [
      "Категория Сад\n",
      "P-value:  0.0\n",
      "Распределение в категории Сад не нормально.\n",
      "Категория Хозтовары\n",
      "P-value:  3.583120173278557e-42\n",
      "Распределение в категории Хозтовары не нормально.\n",
      "Категория Хранение вещей\n",
      "P-value:  5.615670146778828e-13\n",
      "Распределение в категории Хранение вещей не нормально.\n",
      "Категория Посуда\n",
      "P-value:  3.6703825916027735e-27\n",
      "Распределение в категории Посуда не нормально.\n",
      "Категория Дача\n",
      "P-value:  5.139818692184717e-12\n",
      "Распределение в категории Дача не нормально.\n",
      "Категория Декор\n",
      "P-value:  8.910330295147102e-27\n",
      "Распределение в категории Декор не нормально.\n",
      "Категория Текстиль\n",
      "P-value:  1.6100923372341924e-10\n",
      "Распределение в категории Текстиль не нормально.\n",
      "Категория Ремонт\n",
      "P-value:  0.00013552354357670993\n",
      "Распределение в категории Ремонт не нормально.\n"
     ]
    }
   ],
   "source": [
    "categorys = list(df.category.unique())\n",
    "alpha = 0.05\n",
    "\n",
    "for cat in categorys:\n",
    "    results = st.shapiro(df[df['category'] == cat]['cost_product'])\n",
    "    p_value = results[1]\n",
    "    print('Категория {}'.format(cat))\n",
    "    print('P-value: ', p_value)\n",
    "    if p_value < alpha:\n",
    "        print(f'Распределение в категории {cat} не нормально.')\n",
    "    else:\n",
    "        print('В категории {cat} всё нормально.')"
   ]
  },
  {
   "cell_type": "markdown",
   "metadata": {
    "id": "HtDHhBg8m5mv",
    "pycharm": {
     "name": "#%% md\n"
    }
   },
   "source": [
    "Так как во всех категориях суммарная стоимость товара распределена не нормально, то для проверки гипотез будем использовать непараметрический тест *Уилкоксона-Манна-Уитни*.\n",
    "\n",
    "Будем сравнивать средний чек в категории Сад со средними чеками в остальных категориях.\n",
    "\n",
    "Сформулируем статистические гипотезы:\n",
    "- нулевая гипотеза $H_0$: *средние чеки для выбранных категорий товара равны*;\n",
    "- альтернативная гипотеза $H_1$: *средние чеки для выбранных категорий товара не равны*."
   ]
  },
  {
   "cell_type": "code",
   "execution_count": 252,
   "metadata": {
    "id": "_1225sP0m5mw",
    "pycharm": {
     "name": "#%%\n"
    }
   },
   "outputs": [],
   "source": [
    "def test_hypothesis(cat1, cat2, alpha):\n",
    "    df1 = df[df['category'] == cat1]['cost_product']\n",
    "    df2 = df[df['category'] == cat2]['cost_product']\n",
    "    results = st.mannwhitneyu(df1, df2)\n",
    "    print('Результат проверки гипотезы H_0 для категорий {} и {}'.format(cat1, cat2))\n",
    "    print(f'Уровень значимости α = {alpha}')\n",
    "    print('P-value:', results.pvalue)\n",
    "    if results.pvalue < alpha:\n",
    "        print('Отвергаем нулевую гипотезу:', \n",
    "              f'разница между средними чеками в категориях {cat1} и {cat2} статистически значима.', sep='\\n')\n",
    "    else: print('Не получилось отвергнуть нулевую гипотезу:',\n",
    "                f'разница между средними чеками в  категориях {cat1} и {cat2} статистически незначима.', sep='\\n')"
   ]
  },
  {
   "cell_type": "code",
   "execution_count": 257,
   "metadata": {
    "colab": {
     "base_uri": "https://localhost:8080/"
    },
    "id": "MMOFKS1om5mw",
    "outputId": "4cef2e95-5eff-4c3f-c55e-9efd0a450935",
    "pycharm": {
     "name": "#%%\n"
    }
   },
   "outputs": [
    {
     "name": "stdout",
     "output_type": "stream",
     "text": [
      "Результат проверки гипотезы H_0 для категорий Сад и Хозтовары\n",
      "Уровень значимости α = 0.05\n",
      "P-value: 1.901619319494043e-177\n",
      "Отвергаем нулевую гипотезу:\n",
      "разница между средними чеками в категориях Сад и Хозтовары статистически значима.\n",
      "Результат проверки гипотезы H_0 для категорий Сад и Хранение вещей\n",
      "Уровень значимости α = 0.05\n",
      "P-value: 9.397644873472233e-41\n",
      "Отвергаем нулевую гипотезу:\n",
      "разница между средними чеками в категориях Сад и Хранение вещей статистически значима.\n",
      "Результат проверки гипотезы H_0 для категорий Сад и Посуда\n",
      "Уровень значимости α = 0.05\n",
      "P-value: 2.5679195079121476e-57\n",
      "Отвергаем нулевую гипотезу:\n",
      "разница между средними чеками в категориях Сад и Посуда статистически значима.\n",
      "Результат проверки гипотезы H_0 для категорий Сад и Дача\n",
      "Уровень значимости α = 0.05\n",
      "P-value: 1.4175188871998455e-100\n",
      "Отвергаем нулевую гипотезу:\n",
      "разница между средними чеками в категориях Сад и Дача статистически значима.\n",
      "Результат проверки гипотезы H_0 для категорий Сад и Декор\n",
      "Уровень значимости α = 0.05\n",
      "P-value: 0.32820240694134994\n",
      "Не получилось отвергнуть нулевую гипотезу:\n",
      "разница между средними чеками в  категориях Сад и Декор статистически незначима.\n",
      "Результат проверки гипотезы H_0 для категорий Сад и Текстиль\n",
      "Уровень значимости α = 0.05\n",
      "P-value: 1.2324631769397091e-13\n",
      "Отвергаем нулевую гипотезу:\n",
      "разница между средними чеками в категориях Сад и Текстиль статистически значима.\n",
      "Результат проверки гипотезы H_0 для категорий Сад и Ремонт\n",
      "Уровень значимости α = 0.05\n",
      "P-value: 0.0011712682231807615\n",
      "Отвергаем нулевую гипотезу:\n",
      "разница между средними чеками в категориях Сад и Ремонт статистически значима.\n"
     ]
    }
   ],
   "source": [
    "cat1 = 'Сад'\n",
    "categorys = ['Хозтовары', 'Хранение вещей', 'Посуда', 'Дача', 'Декор', 'Текстиль', 'Ремонт']\n",
    "\n",
    "for cat2 in categorys:\n",
    "    test_hypothesis(cat1, cat2, alpha)"
   ]
  },
  {
   "cell_type": "markdown",
   "metadata": {
    "id": "rZjOBX2Dm5mx",
    "pycharm": {
     "name": "#%% md\n"
    }
   },
   "source": [
    "### Вывод\n",
    "\n",
    "Видим, что средний чек в категории *Сад* не равен среднему чеку в категориях *Посуда*, *Текстиль*, *Хозтовары*, *Дача*, *Хранение вещей* и *Ремонт*. Разница между средними чеками в  категориях  *Сад* и *Декор* статистически незначима."
   ]
  },
  {
   "cell_type": "code",
   "execution_count": 255,
   "metadata": {
    "colab": {
     "base_uri": "https://localhost:8080/"
    },
    "id": "avnPJCUmR66C",
    "outputId": "42fdc94e-b52d-4752-beb9-f01d3ff9db15",
    "pycharm": {
     "name": "#%%\n"
    }
   },
   "outputs": [
    {
     "data": {
      "text/plain": [
       "category\n",
       "Дача              849.157609\n",
       "Декор             328.379182\n",
       "Посуда            624.131737\n",
       "Ремонт            416.388889\n",
       "Сад               187.935304\n",
       "Текстиль          944.184211\n",
       "Хозтовары         646.086137\n",
       "Хранение вещей    798.566372\n",
       "Name: cost_product, dtype: float64"
      ]
     },
     "execution_count": 255,
     "metadata": {},
     "output_type": "execute_result"
    }
   ],
   "source": [
    "df.groupby('category')['cost_product'].mean()"
   ]
  },
  {
   "cell_type": "code",
   "execution_count": null,
   "metadata": {
    "id": "K-BaSvTDSh6l",
    "pycharm": {
     "name": "#%%\n"
    }
   },
   "outputs": [],
   "source": []
  }
 ],
 "metadata": {
  "colab": {
   "collapsed_sections": [],
   "provenance": []
  },
  "kernelspec": {
   "display_name": "Python 3 (ipykernel)",
   "language": "python",
   "name": "python3"
  },
  "language_info": {
   "codemirror_mode": {
    "name": "ipython",
    "version": 3
   },
   "file_extension": ".py",
   "mimetype": "text/x-python",
   "name": "python",
   "nbconvert_exporter": "python",
   "pygments_lexer": "ipython3",
   "version": "3.9.12"
  }
 },
 "nbformat": 4,
 "nbformat_minor": 1
}
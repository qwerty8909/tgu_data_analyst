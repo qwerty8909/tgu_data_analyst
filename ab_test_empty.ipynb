{
 "cells": [
  {
   "cell_type": "markdown",
   "metadata": {
    "id": "cI1ewbMN56Q0",
    "pycharm": {
     "name": "#%% md\n"
    }
   },
   "source": [
    "# Мобильное приложение по продаже продуктов питания "
   ]
  },
  {
   "cell_type": "markdown",
   "metadata": {
    "id": "TXpPd8f356Q1",
    "pycharm": {
     "name": "#%% md\n"
    }
   },
   "source": [
    "## Общее описание проекта\n",
    "\n",
    "Имеется мобильное приложение по продаже продуктов питания. С целью улучшения взаимодействия пользователей с приложением дизайнеры поменяли шрифты. Однако для принятия окончательного решения о переходе на приложение с новыми шрифтами проведен `A/B`-тест: \n",
    "- группа пользователей `A` работа со старой версией приложения;\n",
    "- группа пользователей `B` работа с новой версией приложения.\n",
    "\n",
    "\n",
    "В Вашем распоряжении результаты проведенного `A/B`-теста. Необходимо выяснить повлияло ли изменение шрифтов на поведение пользователей."
   ]
  },
  {
   "cell_type": "markdown",
   "metadata": {
    "id": "hiaOawC656Q1",
    "pycharm": {
     "name": "#%% md\n"
    }
   },
   "source": [
    "## Описание данных \n",
    "\n",
    "Имеется лог-файл, содержащий информацию о действиях пользователя нашего мобильного приложения. Каждая запись в логе — это действие пользователя, или событие.\n",
    "\n",
    "|Признак|Описание|\n",
    "|----:|:----|\n",
    "|EventName | название события|\n",
    "|DeviceIDHash | уникальный идентификатор пользователя|\n",
    "|EventTimestamp | время события|\n",
    "|ExpId | номер эксперимента: 247 контрольная группа, а 248 — экспериментальная|"
   ]
  },
  {
   "cell_type": "markdown",
   "metadata": {
    "id": "K4JLJLDI56Q1",
    "pycharm": {
     "name": "#%% md\n"
    }
   },
   "source": [
    "## Инструкция по выполнению проекта\n",
    "- Шаг 1. Открыть файл с данными и изучить общую информацию\n",
    "- Шаг 2. Подготовить данные\n",
    "    - Заменить названия столбцов на удобные для вас;\n",
    "    - Проверить пропуски и типы данных. Откорректировать, если нужно;\n",
    "    - Добавить столбец даты и времени, а также отдельный столбец дат;\n",
    "- Шаг 3. Изучить и проверить данные\n",
    "    - Сколько всего событий в логе?\n",
    "    - Сколько всего пользователей в логе?\n",
    "    - Сколько в среднем событий приходится на пользователя?\n",
    "    - Данными за какой период мы располагаем? Найти максимальную и минимальную дату. Построить гистограмму по дате и времени. Можно ли быть уверенным, что данные одинаково полные за весь период? Определить, с какого момента данные полные и отбросить более старые. Данными за какой период времени мы располагаем на самом деле?\n",
    "    - Много ли событий и пользователей потеряли, отбросив старые данные?\n",
    "    - Проверить, что у нас есть пользователи из всех групп.\n",
    "- Шаг 4. Изучить воронку событий\n",
    "    - Посмотреть, какие события есть в логах, как часто они встречаются. Отсортировать события по частоте.\n",
    "    - Посчитать, сколько пользователей совершали каждое из этих событий. Отсортировать события по числу пользователей. Посчитать долю пользователей, которые хоть раз совершали событие.\n",
    "    - Предположить, в каком порядке происходят события. Все ли они выстраиваются в последовательную цепочку? Их не нужно учитывать при расчёте воронки.\n",
    "    - По воронке событий посчитать, какая доля пользователей проходит на следующий шаг воронки (от числа пользователей на предыдущем). То есть для последовательности событий A → B → C посчитать отношение числа пользователей с событием B к количеству пользователей с событием A, а также отношение числа пользователей с событием C к количеству пользователей с событием B.\n",
    "    - На каком шаге теряете больше всего пользователей?\n",
    "    - Какая доля пользователей доходит от первого события до оплаты?\n",
    "- Шаг 5. Изучить результаты эксперимента\n",
    "    - Сколько пользователей в каждой группе?\n",
    "    - Выбрать самое популярное событие. Посчитать число пользователей, совершивших это событие в каждой группе. Посчитать долю пользователей, совершивших это событие. Проверить, будет ли отличие между группами статистически достоверным. Проделать то же самое для всех других событий?\n",
    "    - Сделать выводы из эксперимента."
   ]
  },
  {
   "cell_type": "code",
   "source": [
    "import pandas as pd\n",
    "import numpy as np\n",
    "import datetime as dt\n",
    "import seaborn as sns\n",
    "import matplotlib.pyplot as plt"
   ],
   "metadata": {
    "id": "hu0n-1Sm6nV6",
    "executionInfo": {
     "status": "ok",
     "timestamp": 1661760794961,
     "user_tz": -180,
     "elapsed": 590,
     "user": {
      "displayName": "Сергей ДПО",
      "userId": "02314231685143924763"
     }
    },
    "pycharm": {
     "name": "#%%\n"
    }
   },
   "execution_count": 1,
   "outputs": []
  },
  {
   "cell_type": "markdown",
   "source": [
    "# Загрузка данных"
   ],
   "metadata": {
    "id": "DWm2vFSpqYhp",
    "pycharm": {
     "name": "#%% md\n"
    }
   }
  },
  {
   "cell_type": "code",
   "source": [
    "df = pd.read_csv('ab_test.csv', \n",
    "                 delimiter = '\\t')\n",
    "df.head()"
   ],
   "metadata": {
    "colab": {
     "base_uri": "https://localhost:8080/",
     "height": 424
    },
    "id": "3J8cmzO5qX7m",
    "executionInfo": {
     "status": "ok",
     "timestamp": 1661761097155,
     "user_tz": -180,
     "elapsed": 431,
     "user": {
      "displayName": "Сергей ДПО",
      "userId": "02314231685143924763"
     }
    },
    "outputId": "e8811f99-f94c-4ee4-b6bf-8c0ba55f9dd3",
    "pycharm": {
     "name": "#%%\n"
    }
   },
   "execution_count": 5,
   "outputs": [
    {
     "data": {
      "text/plain": "                 EventName         DeviceIDHash  EventTimestamp  ExpId\n0  PaymentScreenSuccessful  3518123091307005509      1564054127    248\n1         CartScreenAppear  3518123091307005509      1564054127    248\n2  PaymentScreenSuccessful  6217807653094995999      1564055322    248\n3         CartScreenAppear  6217807653094995999      1564055323    248\n4         MainScreenAppear  1850981295691852772      1564086702    247",
      "text/html": "<div>\n<style scoped>\n    .dataframe tbody tr th:only-of-type {\n        vertical-align: middle;\n    }\n\n    .dataframe tbody tr th {\n        vertical-align: top;\n    }\n\n    .dataframe thead th {\n        text-align: right;\n    }\n</style>\n<table border=\"1\" class=\"dataframe\">\n  <thead>\n    <tr style=\"text-align: right;\">\n      <th></th>\n      <th>EventName</th>\n      <th>DeviceIDHash</th>\n      <th>EventTimestamp</th>\n      <th>ExpId</th>\n    </tr>\n  </thead>\n  <tbody>\n    <tr>\n      <th>0</th>\n      <td>PaymentScreenSuccessful</td>\n      <td>3518123091307005509</td>\n      <td>1564054127</td>\n      <td>248</td>\n    </tr>\n    <tr>\n      <th>1</th>\n      <td>CartScreenAppear</td>\n      <td>3518123091307005509</td>\n      <td>1564054127</td>\n      <td>248</td>\n    </tr>\n    <tr>\n      <th>2</th>\n      <td>PaymentScreenSuccessful</td>\n      <td>6217807653094995999</td>\n      <td>1564055322</td>\n      <td>248</td>\n    </tr>\n    <tr>\n      <th>3</th>\n      <td>CartScreenAppear</td>\n      <td>6217807653094995999</td>\n      <td>1564055323</td>\n      <td>248</td>\n    </tr>\n    <tr>\n      <th>4</th>\n      <td>MainScreenAppear</td>\n      <td>1850981295691852772</td>\n      <td>1564086702</td>\n      <td>247</td>\n    </tr>\n  </tbody>\n</table>\n</div>"
     },
     "execution_count": 5,
     "metadata": {},
     "output_type": "execute_result"
    }
   ]
  },
  {
   "cell_type": "code",
   "source": [
    "df.info()"
   ],
   "metadata": {
    "colab": {
     "base_uri": "https://localhost:8080/"
    },
    "id": "WKj79VfAqWsD",
    "executionInfo": {
     "status": "ok",
     "timestamp": 1661761276596,
     "user_tz": -180,
     "elapsed": 15,
     "user": {
      "displayName": "Сергей ДПО",
      "userId": "02314231685143924763"
     }
    },
    "outputId": "a34a172a-73f4-4870-a94c-167c6aeb8d80",
    "pycharm": {
     "name": "#%%\n"
    }
   },
   "execution_count": 3,
   "outputs": [
    {
     "name": "stdout",
     "output_type": "stream",
     "text": [
      "<class 'pandas.core.frame.DataFrame'>\n",
      "RangeIndex: 163822 entries, 0 to 163821\n",
      "Data columns (total 4 columns):\n",
      " #   Column          Non-Null Count   Dtype \n",
      "---  ------          --------------   ----- \n",
      " 0   EventName       163822 non-null  object\n",
      " 1   DeviceIDHash    163822 non-null  int64 \n",
      " 2   EventTimestamp  163822 non-null  int64 \n",
      " 3   ExpId           163822 non-null  int64 \n",
      "dtypes: int64(3), object(1)\n",
      "memory usage: 5.0+ MB\n"
     ]
    }
   ]
  },
  {
   "cell_type": "code",
   "source": [
    "df.describe()"
   ],
   "metadata": {
    "colab": {
     "base_uri": "https://localhost:8080/",
     "height": 300
    },
    "id": "TfminRYXsMZY",
    "executionInfo": {
     "status": "ok",
     "timestamp": 1661761402569,
     "user_tz": -180,
     "elapsed": 24,
     "user": {
      "displayName": "Сергей ДПО",
      "userId": "02314231685143924763"
     }
    },
    "outputId": "6eae8657-eb05-4d20-9dc6-dd2fe87cbcf0",
    "pycharm": {
     "name": "#%%\n"
    }
   },
   "execution_count": 6,
   "outputs": [
    {
     "output_type": "execute_result",
     "data": {
      "text/plain": [
       "       DeviceIDHash  EventTimestamp          ExpId\n",
       "count  1.638220e+05    1.638220e+05  163822.000000\n",
       "mean   4.667422e+18    1.564911e+09     247.523416\n",
       "std    2.582490e+18    1.773846e+05       0.499453\n",
       "min    6.909562e+15    1.564054e+09     247.000000\n",
       "25%    2.458858e+18    1.564754e+09     247.000000\n",
       "50%    4.623192e+18    1.564917e+09     248.000000\n",
       "75%    6.887424e+18    1.565072e+09     248.000000\n",
       "max    9.222603e+18    1.565212e+09     248.000000"
      ],
      "text/html": [
       "\n",
       "  <div id=\"df-d239dd25-ff04-4366-9dda-c7c28a384fc2\">\n",
       "    <div class=\"colab-df-container\">\n",
       "      <div>\n",
       "<style scoped>\n",
       "    .dataframe tbody tr th:only-of-type {\n",
       "        vertical-align: middle;\n",
       "    }\n",
       "\n",
       "    .dataframe tbody tr th {\n",
       "        vertical-align: top;\n",
       "    }\n",
       "\n",
       "    .dataframe thead th {\n",
       "        text-align: right;\n",
       "    }\n",
       "</style>\n",
       "<table border=\"1\" class=\"dataframe\">\n",
       "  <thead>\n",
       "    <tr style=\"text-align: right;\">\n",
       "      <th></th>\n",
       "      <th>DeviceIDHash</th>\n",
       "      <th>EventTimestamp</th>\n",
       "      <th>ExpId</th>\n",
       "    </tr>\n",
       "  </thead>\n",
       "  <tbody>\n",
       "    <tr>\n",
       "      <th>count</th>\n",
       "      <td>1.638220e+05</td>\n",
       "      <td>1.638220e+05</td>\n",
       "      <td>163822.000000</td>\n",
       "    </tr>\n",
       "    <tr>\n",
       "      <th>mean</th>\n",
       "      <td>4.667422e+18</td>\n",
       "      <td>1.564911e+09</td>\n",
       "      <td>247.523416</td>\n",
       "    </tr>\n",
       "    <tr>\n",
       "      <th>std</th>\n",
       "      <td>2.582490e+18</td>\n",
       "      <td>1.773846e+05</td>\n",
       "      <td>0.499453</td>\n",
       "    </tr>\n",
       "    <tr>\n",
       "      <th>min</th>\n",
       "      <td>6.909562e+15</td>\n",
       "      <td>1.564054e+09</td>\n",
       "      <td>247.000000</td>\n",
       "    </tr>\n",
       "    <tr>\n",
       "      <th>25%</th>\n",
       "      <td>2.458858e+18</td>\n",
       "      <td>1.564754e+09</td>\n",
       "      <td>247.000000</td>\n",
       "    </tr>\n",
       "    <tr>\n",
       "      <th>50%</th>\n",
       "      <td>4.623192e+18</td>\n",
       "      <td>1.564917e+09</td>\n",
       "      <td>248.000000</td>\n",
       "    </tr>\n",
       "    <tr>\n",
       "      <th>75%</th>\n",
       "      <td>6.887424e+18</td>\n",
       "      <td>1.565072e+09</td>\n",
       "      <td>248.000000</td>\n",
       "    </tr>\n",
       "    <tr>\n",
       "      <th>max</th>\n",
       "      <td>9.222603e+18</td>\n",
       "      <td>1.565212e+09</td>\n",
       "      <td>248.000000</td>\n",
       "    </tr>\n",
       "  </tbody>\n",
       "</table>\n",
       "</div>\n",
       "      <button class=\"colab-df-convert\" onclick=\"convertToInteractive('df-d239dd25-ff04-4366-9dda-c7c28a384fc2')\"\n",
       "              title=\"Convert this dataframe to an interactive table.\"\n",
       "              style=\"display:none;\">\n",
       "        \n",
       "  <svg xmlns=\"http://www.w3.org/2000/svg\" height=\"24px\"viewBox=\"0 0 24 24\"\n",
       "       width=\"24px\">\n",
       "    <path d=\"M0 0h24v24H0V0z\" fill=\"none\"/>\n",
       "    <path d=\"M18.56 5.44l.94 2.06.94-2.06 2.06-.94-2.06-.94-.94-2.06-.94 2.06-2.06.94zm-11 1L8.5 8.5l.94-2.06 2.06-.94-2.06-.94L8.5 2.5l-.94 2.06-2.06.94zm10 10l.94 2.06.94-2.06 2.06-.94-2.06-.94-.94-2.06-.94 2.06-2.06.94z\"/><path d=\"M17.41 7.96l-1.37-1.37c-.4-.4-.92-.59-1.43-.59-.52 0-1.04.2-1.43.59L10.3 9.45l-7.72 7.72c-.78.78-.78 2.05 0 2.83L4 21.41c.39.39.9.59 1.41.59.51 0 1.02-.2 1.41-.59l7.78-7.78 2.81-2.81c.8-.78.8-2.07 0-2.86zM5.41 20L4 18.59l7.72-7.72 1.47 1.35L5.41 20z\"/>\n",
       "  </svg>\n",
       "      </button>\n",
       "      \n",
       "  <style>\n",
       "    .colab-df-container {\n",
       "      display:flex;\n",
       "      flex-wrap:wrap;\n",
       "      gap: 12px;\n",
       "    }\n",
       "\n",
       "    .colab-df-convert {\n",
       "      background-color: #E8F0FE;\n",
       "      border: none;\n",
       "      border-radius: 50%;\n",
       "      cursor: pointer;\n",
       "      display: none;\n",
       "      fill: #1967D2;\n",
       "      height: 32px;\n",
       "      padding: 0 0 0 0;\n",
       "      width: 32px;\n",
       "    }\n",
       "\n",
       "    .colab-df-convert:hover {\n",
       "      background-color: #E2EBFA;\n",
       "      box-shadow: 0px 1px 2px rgba(60, 64, 67, 0.3), 0px 1px 3px 1px rgba(60, 64, 67, 0.15);\n",
       "      fill: #174EA6;\n",
       "    }\n",
       "\n",
       "    [theme=dark] .colab-df-convert {\n",
       "      background-color: #3B4455;\n",
       "      fill: #D2E3FC;\n",
       "    }\n",
       "\n",
       "    [theme=dark] .colab-df-convert:hover {\n",
       "      background-color: #434B5C;\n",
       "      box-shadow: 0px 1px 3px 1px rgba(0, 0, 0, 0.15);\n",
       "      filter: drop-shadow(0px 1px 2px rgba(0, 0, 0, 0.3));\n",
       "      fill: #FFFFFF;\n",
       "    }\n",
       "  </style>\n",
       "\n",
       "      <script>\n",
       "        const buttonEl =\n",
       "          document.querySelector('#df-d239dd25-ff04-4366-9dda-c7c28a384fc2 button.colab-df-convert');\n",
       "        buttonEl.style.display =\n",
       "          google.colab.kernel.accessAllowed ? 'block' : 'none';\n",
       "\n",
       "        async function convertToInteractive(key) {\n",
       "          const element = document.querySelector('#df-d239dd25-ff04-4366-9dda-c7c28a384fc2');\n",
       "          const dataTable =\n",
       "            await google.colab.kernel.invokeFunction('convertToInteractive',\n",
       "                                                     [key], {});\n",
       "          if (!dataTable) return;\n",
       "\n",
       "          const docLinkHtml = 'Like what you see? Visit the ' +\n",
       "            '<a target=\"_blank\" href=https://colab.research.google.com/notebooks/data_table.ipynb>data table notebook</a>'\n",
       "            + ' to learn more about interactive tables.';\n",
       "          element.innerHTML = '';\n",
       "          dataTable['output_type'] = 'display_data';\n",
       "          await google.colab.output.renderOutput(dataTable, element);\n",
       "          const docLink = document.createElement('div');\n",
       "          docLink.innerHTML = docLinkHtml;\n",
       "          element.appendChild(docLink);\n",
       "        }\n",
       "      </script>\n",
       "    </div>\n",
       "  </div>\n",
       "  "
      ]
     },
     "metadata": {},
     "execution_count": 6
    }
   ]
  },
  {
   "cell_type": "code",
   "source": [
    "df.loc[df.duplicated()].shape[0]"
   ],
   "metadata": {
    "colab": {
     "base_uri": "https://localhost:8080/"
    },
    "id": "Du_pvXBjsrGL",
    "executionInfo": {
     "status": "ok",
     "timestamp": 1661761968060,
     "user_tz": -180,
     "elapsed": 13,
     "user": {
      "displayName": "Сергей ДПО",
      "userId": "02314231685143924763"
     }
    },
    "outputId": "d56cea74-6985-4fb7-bddf-7e4019f5265b",
    "pycharm": {
     "name": "#%%\n"
    }
   },
   "execution_count": 15,
   "outputs": [
    {
     "output_type": "execute_result",
     "data": {
      "text/plain": [
       "290"
      ]
     },
     "metadata": {},
     "execution_count": 15
    }
   ]
  },
  {
   "cell_type": "code",
   "execution_count": 6,
   "outputs": [
    {
     "data": {
      "text/plain": "290"
     },
     "execution_count": 6,
     "metadata": {},
     "output_type": "execute_result"
    }
   ],
   "source": [
    "# можно так посчитать\n",
    "df.duplicated().sum()"
   ],
   "metadata": {
    "collapsed": false,
    "pycharm": {
     "name": "#%%\n"
    }
   }
  },
  {
   "cell_type": "code",
   "source": [
    "var_desc = ['EventName', 'ExpId']\n",
    "\n",
    "for col in var_desc:\n",
    "    print('----{}----'.format(col))\n",
    "    print(df[col].unique()) \n",
    "    print('--------')\n",
    "    "
   ],
   "metadata": {
    "colab": {
     "base_uri": "https://localhost:8080/"
    },
    "id": "KKG2cZghs5LE",
    "executionInfo": {
     "status": "ok",
     "timestamp": 1661761649965,
     "user_tz": -180,
     "elapsed": 16,
     "user": {
      "displayName": "Сергей ДПО",
      "userId": "02314231685143924763"
     }
    },
    "outputId": "43682bae-616b-45fa-ddf7-f9df37c41112",
    "pycharm": {
     "name": "#%%\n"
    }
   },
   "execution_count": 9,
   "outputs": [
    {
     "output_type": "stream",
     "name": "stdout",
     "text": [
      "----EventName----\n",
      "['PaymentScreenSuccessful' 'CartScreenAppear' 'MainScreenAppear'\n",
      " 'Tutorial' 'OffersScreenAppear']\n",
      "--------\n",
      "----ExpId----\n",
      "[248 247]\n",
      "--------\n"
     ]
    }
   ]
  },
  {
   "cell_type": "markdown",
   "source": [
    "# Предобработка данных\n",
    "\n",
    "1. Корректировка заголовков; \n",
    "2. Преобразование типов;\n",
    "3. Удаление дублей.\n"
   ],
   "metadata": {
    "id": "69xVLLjWvDsP",
    "pycharm": {
     "name": "#%% md\n"
    }
   }
  },
  {
   "cell_type": "markdown",
   "source": [
    "## Корректировка заголовков"
   ],
   "metadata": {
    "id": "o5opQtHYv4m9",
    "pycharm": {
     "name": "#%% md\n"
    }
   }
  },
  {
   "cell_type": "code",
   "source": [
    "df.columns = ['event_name', 'user_id', 'event_date_time', 'exp_id']"
   ],
   "metadata": {
    "id": "UwHNmimUv11n",
    "executionInfo": {
     "status": "ok",
     "timestamp": 1661762483910,
     "user_tz": -180,
     "elapsed": 353,
     "user": {
      "displayName": "Сергей ДПО",
      "userId": "02314231685143924763"
     }
    },
    "pycharm": {
     "name": "#%%\n"
    }
   },
   "execution_count": 7,
   "outputs": []
  },
  {
   "cell_type": "code",
   "source": [
    "# df.rename({'':'',\n",
    "           \n",
    "#            axis = 1})"
   ],
   "metadata": {
    "id": "NzauRdAStXwx",
    "pycharm": {
     "name": "#%%\n"
    }
   },
   "execution_count": null,
   "outputs": []
  },
  {
   "cell_type": "code",
   "source": [
    "df.columns"
   ],
   "metadata": {
    "colab": {
     "base_uri": "https://localhost:8080/"
    },
    "id": "8lAZg6k6xQai",
    "executionInfo": {
     "status": "ok",
     "timestamp": 1661762609700,
     "user_tz": -180,
     "elapsed": 28,
     "user": {
      "displayName": "Сергей ДПО",
      "userId": "02314231685143924763"
     }
    },
    "outputId": "006cc274-0a84-493e-cb11-bd898b4b508e",
    "pycharm": {
     "name": "#%%\n"
    }
   },
   "execution_count": 8,
   "outputs": [
    {
     "data": {
      "text/plain": "Index(['event_name', 'user_id', 'event_date_time', 'exp_id'], dtype='object')"
     },
     "execution_count": 8,
     "metadata": {},
     "output_type": "execute_result"
    }
   ]
  },
  {
   "cell_type": "code",
   "source": [
    "df['event_date_time'] = pd.to_datetime(df['event_date_time'], origin='unix', unit = 's')"
   ],
   "metadata": {
    "id": "vK0pdsuuxRxW",
    "executionInfo": {
     "status": "ok",
     "timestamp": 1661762896102,
     "user_tz": -180,
     "elapsed": 9,
     "user": {
      "displayName": "Сергей ДПО",
      "userId": "02314231685143924763"
     }
    },
    "pycharm": {
     "name": "#%%\n"
    }
   },
   "execution_count": 9,
   "outputs": []
  },
  {
   "cell_type": "code",
   "source": [
    "df.head()"
   ],
   "metadata": {
    "colab": {
     "base_uri": "https://localhost:8080/",
     "height": 112
    },
    "id": "eAbO_chZxZCB",
    "executionInfo": {
     "status": "ok",
     "timestamp": 1661762904546,
     "user_tz": -180,
     "elapsed": 117,
     "user": {
      "displayName": "Сергей ДПО",
      "userId": "02314231685143924763"
     }
    },
    "outputId": "f0bf3b71-83b5-4a4b-8131-ef515a067376",
    "pycharm": {
     "name": "#%%\n"
    }
   },
   "execution_count": 12,
   "outputs": [
    {
     "data": {
      "text/plain": "                event_name              user_id     event_date_time  exp_id\n0  PaymentScreenSuccessful  3518123091307005509 2019-07-25 11:28:47     248\n1         CartScreenAppear  3518123091307005509 2019-07-25 11:28:47     248\n2  PaymentScreenSuccessful  6217807653094995999 2019-07-25 11:48:42     248\n3         CartScreenAppear  6217807653094995999 2019-07-25 11:48:43     248\n4         MainScreenAppear  1850981295691852772 2019-07-25 20:31:42     247",
      "text/html": "<div>\n<style scoped>\n    .dataframe tbody tr th:only-of-type {\n        vertical-align: middle;\n    }\n\n    .dataframe tbody tr th {\n        vertical-align: top;\n    }\n\n    .dataframe thead th {\n        text-align: right;\n    }\n</style>\n<table border=\"1\" class=\"dataframe\">\n  <thead>\n    <tr style=\"text-align: right;\">\n      <th></th>\n      <th>event_name</th>\n      <th>user_id</th>\n      <th>event_date_time</th>\n      <th>exp_id</th>\n    </tr>\n  </thead>\n  <tbody>\n    <tr>\n      <th>0</th>\n      <td>PaymentScreenSuccessful</td>\n      <td>3518123091307005509</td>\n      <td>2019-07-25 11:28:47</td>\n      <td>248</td>\n    </tr>\n    <tr>\n      <th>1</th>\n      <td>CartScreenAppear</td>\n      <td>3518123091307005509</td>\n      <td>2019-07-25 11:28:47</td>\n      <td>248</td>\n    </tr>\n    <tr>\n      <th>2</th>\n      <td>PaymentScreenSuccessful</td>\n      <td>6217807653094995999</td>\n      <td>2019-07-25 11:48:42</td>\n      <td>248</td>\n    </tr>\n    <tr>\n      <th>3</th>\n      <td>CartScreenAppear</td>\n      <td>6217807653094995999</td>\n      <td>2019-07-25 11:48:43</td>\n      <td>248</td>\n    </tr>\n    <tr>\n      <th>4</th>\n      <td>MainScreenAppear</td>\n      <td>1850981295691852772</td>\n      <td>2019-07-25 20:31:42</td>\n      <td>247</td>\n    </tr>\n  </tbody>\n</table>\n</div>"
     },
     "execution_count": 12,
     "metadata": {},
     "output_type": "execute_result"
    }
   ]
  },
  {
   "cell_type": "code",
   "source": [
    "df.info()"
   ],
   "metadata": {
    "colab": {
     "base_uri": "https://localhost:8080/"
    },
    "id": "VSaBOu1gyZr7",
    "executionInfo": {
     "status": "ok",
     "timestamp": 1661763145194,
     "user_tz": -180,
     "elapsed": 466,
     "user": {
      "displayName": "Сергей ДПО",
      "userId": "02314231685143924763"
     }
    },
    "outputId": "292e6943-3510-4f40-b7c9-35a70cbba840",
    "pycharm": {
     "name": "#%%\n"
    }
   },
   "execution_count": 11,
   "outputs": [
    {
     "name": "stdout",
     "output_type": "stream",
     "text": [
      "<class 'pandas.core.frame.DataFrame'>\n",
      "RangeIndex: 163822 entries, 0 to 163821\n",
      "Data columns (total 4 columns):\n",
      " #   Column           Non-Null Count   Dtype         \n",
      "---  ------           --------------   -----         \n",
      " 0   event_name       163822 non-null  object        \n",
      " 1   user_id          163822 non-null  int64         \n",
      " 2   event_date_time  163822 non-null  datetime64[ns]\n",
      " 3   exp_id           163822 non-null  int64         \n",
      "dtypes: datetime64[ns](1), int64(2), object(1)\n",
      "memory usage: 5.0+ MB\n"
     ]
    }
   ]
  },
  {
   "cell_type": "code",
   "source": [
    "df['event_date'] = df.event_date_time.dt.date"
   ],
   "metadata": {
    "id": "k0B-c6QtzUVh",
    "executionInfo": {
     "status": "ok",
     "timestamp": 1661763193552,
     "user_tz": -180,
     "elapsed": 11,
     "user": {
      "displayName": "Сергей ДПО",
      "userId": "02314231685143924763"
     }
    },
    "pycharm": {
     "name": "#%%\n"
    }
   },
   "execution_count": 13,
   "outputs": []
  },
  {
   "cell_type": "code",
   "source": [
    "df.head()"
   ],
   "metadata": {
    "colab": {
     "base_uri": "https://localhost:8080/",
     "height": 424
    },
    "id": "aa1AUvofzgXN",
    "executionInfo": {
     "status": "ok",
     "timestamp": 1661763199155,
     "user_tz": -180,
     "elapsed": 42,
     "user": {
      "displayName": "Сергей ДПО",
      "userId": "02314231685143924763"
     }
    },
    "outputId": "f26b7e36-d7e1-4ec4-f0fb-183350f1488d",
    "pycharm": {
     "name": "#%%\n"
    }
   },
   "execution_count": 15,
   "outputs": [
    {
     "data": {
      "text/plain": "                event_name              user_id     event_date_time  exp_id  \\\n0  PaymentScreenSuccessful  3518123091307005509 2019-07-25 11:28:47     248   \n1         CartScreenAppear  3518123091307005509 2019-07-25 11:28:47     248   \n2  PaymentScreenSuccessful  6217807653094995999 2019-07-25 11:48:42     248   \n3         CartScreenAppear  6217807653094995999 2019-07-25 11:48:43     248   \n4         MainScreenAppear  1850981295691852772 2019-07-25 20:31:42     247   \n\n   event_date  \n0  2019-07-25  \n1  2019-07-25  \n2  2019-07-25  \n3  2019-07-25  \n4  2019-07-25  ",
      "text/html": "<div>\n<style scoped>\n    .dataframe tbody tr th:only-of-type {\n        vertical-align: middle;\n    }\n\n    .dataframe tbody tr th {\n        vertical-align: top;\n    }\n\n    .dataframe thead th {\n        text-align: right;\n    }\n</style>\n<table border=\"1\" class=\"dataframe\">\n  <thead>\n    <tr style=\"text-align: right;\">\n      <th></th>\n      <th>event_name</th>\n      <th>user_id</th>\n      <th>event_date_time</th>\n      <th>exp_id</th>\n      <th>event_date</th>\n    </tr>\n  </thead>\n  <tbody>\n    <tr>\n      <th>0</th>\n      <td>PaymentScreenSuccessful</td>\n      <td>3518123091307005509</td>\n      <td>2019-07-25 11:28:47</td>\n      <td>248</td>\n      <td>2019-07-25</td>\n    </tr>\n    <tr>\n      <th>1</th>\n      <td>CartScreenAppear</td>\n      <td>3518123091307005509</td>\n      <td>2019-07-25 11:28:47</td>\n      <td>248</td>\n      <td>2019-07-25</td>\n    </tr>\n    <tr>\n      <th>2</th>\n      <td>PaymentScreenSuccessful</td>\n      <td>6217807653094995999</td>\n      <td>2019-07-25 11:48:42</td>\n      <td>248</td>\n      <td>2019-07-25</td>\n    </tr>\n    <tr>\n      <th>3</th>\n      <td>CartScreenAppear</td>\n      <td>6217807653094995999</td>\n      <td>2019-07-25 11:48:43</td>\n      <td>248</td>\n      <td>2019-07-25</td>\n    </tr>\n    <tr>\n      <th>4</th>\n      <td>MainScreenAppear</td>\n      <td>1850981295691852772</td>\n      <td>2019-07-25 20:31:42</td>\n      <td>247</td>\n      <td>2019-07-25</td>\n    </tr>\n  </tbody>\n</table>\n</div>"
     },
     "execution_count": 15,
     "metadata": {},
     "output_type": "execute_result"
    }
   ]
  },
  {
   "cell_type": "code",
   "source": [
    "#df_new = df.loc[~df.duplicated()]\n",
    "\n",
    "df.drop_duplicates(inplace = True)"
   ],
   "metadata": {
    "id": "kUByMF03zhof",
    "executionInfo": {
     "status": "ok",
     "timestamp": 1661763453642,
     "user_tz": -180,
     "elapsed": 11,
     "user": {
      "displayName": "Сергей ДПО",
      "userId": "02314231685143924763"
     }
    },
    "pycharm": {
     "name": "#%%\n"
    }
   },
   "execution_count": 16,
   "outputs": []
  },
  {
   "cell_type": "code",
   "source": [
    "df.duplicated().sum()"
   ],
   "metadata": {
    "colab": {
     "base_uri": "https://localhost:8080/"
    },
    "id": "r3BdtJ5C0fvC",
    "executionInfo": {
     "status": "ok",
     "timestamp": 1661763469599,
     "user_tz": -180,
     "elapsed": 44,
     "user": {
      "displayName": "Сергей ДПО",
      "userId": "02314231685143924763"
     }
    },
    "outputId": "4331fb1d-060e-432e-cde9-736cea9fbcbe",
    "pycharm": {
     "name": "#%%\n"
    }
   },
   "execution_count": 17,
   "outputs": [
    {
     "data": {
      "text/plain": "0"
     },
     "execution_count": 17,
     "metadata": {},
     "output_type": "execute_result"
    }
   ]
  },
  {
   "cell_type": "code",
   "source": [
    "df.info()"
   ],
   "metadata": {
    "colab": {
     "base_uri": "https://localhost:8080/"
    },
    "id": "o1KAilI30jpW",
    "executionInfo": {
     "status": "ok",
     "timestamp": 1661763520513,
     "user_tz": -180,
     "elapsed": 4,
     "user": {
      "displayName": "Сергей ДПО",
      "userId": "02314231685143924763"
     }
    },
    "outputId": "e4fa4f40-4b43-469c-f916-bc83eaf7cf42",
    "pycharm": {
     "name": "#%%\n"
    }
   },
   "execution_count": 19,
   "outputs": [
    {
     "name": "stdout",
     "output_type": "stream",
     "text": [
      "<class 'pandas.core.frame.DataFrame'>\n",
      "Int64Index: 163532 entries, 0 to 163821\n",
      "Data columns (total 5 columns):\n",
      " #   Column           Non-Null Count   Dtype         \n",
      "---  ------           --------------   -----         \n",
      " 0   event_name       163532 non-null  object        \n",
      " 1   user_id          163532 non-null  int64         \n",
      " 2   event_date_time  163532 non-null  datetime64[ns]\n",
      " 3   exp_id           163532 non-null  int64         \n",
      " 4   event_date       163532 non-null  object        \n",
      "dtypes: datetime64[ns](1), int64(2), object(2)\n",
      "memory usage: 7.5+ MB\n"
     ]
    }
   ]
  },
  {
   "cell_type": "markdown",
   "source": [
    "# Изучить и проверить данные\n",
    "\n",
    "- Сколько всего событий в логе?\n",
    "- Сколько всего пользователей в логе?\n",
    "- Сколько в среднем событий приходится на пользователя?\n",
    "- Данными за какой период мы располагаем? Найти максимальную и минимальную дату. Построить гистограмму по дате и времени. Можно ли быть уверенным, что данные одинаково полные за весь период? Определить, с какого момента данные полные и отбросить более старые. Данными за какой период времени мы располагаем на самом деле?\n",
    "- Много ли событий и пользователей потеряли, отбросив старые данные?\n",
    "- Проверить, что у нас есть пользователи из всех групп.\n"
   ],
   "metadata": {
    "id": "NeQZSB9_1_rl",
    "pycharm": {
     "name": "#%% md\n"
    }
   }
  },
  {
   "cell_type": "code",
   "source": [
    "print('''\n",
    "Всего событий --- {}.\n",
    "Уникальных событий --- {}.\n",
    "'''.format(df.shape[0], len(df.event_name.unique())))"
   ],
   "metadata": {
    "colab": {
     "base_uri": "https://localhost:8080/"
    },
    "id": "gqOA5_2H0wRh",
    "executionInfo": {
     "status": "ok",
     "timestamp": 1661764272732,
     "user_tz": -180,
     "elapsed": 18,
     "user": {
      "displayName": "Сергей ДПО",
      "userId": "02314231685143924763"
     }
    },
    "outputId": "6de508a0-74ed-483e-cac2-7498be97c528",
    "pycharm": {
     "name": "#%%\n"
    }
   },
   "execution_count": 21,
   "outputs": [
    {
     "name": "stdout",
     "output_type": "stream",
     "text": [
      "\n",
      "Всего событий --- 163532. \n",
      "Уникальных событий --- 5.\n",
      "\n"
     ]
    }
   ]
  },
  {
   "cell_type": "code",
   "source": [
    "print('Всего пользователей --- {}.'.format(df.user_id.nunique()))"
   ],
   "metadata": {
    "colab": {
     "base_uri": "https://localhost:8080/"
    },
    "id": "1TBbTn-82sq5",
    "executionInfo": {
     "status": "ok",
     "timestamp": 1661764584925,
     "user_tz": -180,
     "elapsed": 395,
     "user": {
      "displayName": "Сергей ДПО",
      "userId": "02314231685143924763"
     }
    },
    "outputId": "384bee3a-065a-492a-dc9d-f93387f21cf9",
    "pycharm": {
     "name": "#%%\n"
    }
   },
   "execution_count": 22,
   "outputs": [
    {
     "name": "stdout",
     "output_type": "stream",
     "text": [
      "Всего пользователей --- 5062.\n"
     ]
    }
   ]
  },
  {
   "cell_type": "code",
   "source": [
    "len(df.user_id.unique())"
   ],
   "metadata": {
    "colab": {
     "base_uri": "https://localhost:8080/"
    },
    "id": "56vOl-Jy4E7C",
    "executionInfo": {
     "status": "ok",
     "timestamp": 1661764423806,
     "user_tz": -180,
     "elapsed": 14,
     "user": {
      "displayName": "Сергей ДПО",
      "userId": "02314231685143924763"
     }
    },
    "outputId": "cab6899f-0268-4a47-dd84-23f971ab2f57",
    "pycharm": {
     "name": "#%%\n"
    }
   },
   "execution_count": 23,
   "outputs": [
    {
     "data": {
      "text/plain": "5062"
     },
     "execution_count": 23,
     "metadata": {},
     "output_type": "execute_result"
    }
   ]
  },
  {
   "cell_type": "code",
   "source": [
    "#Сколько в среднем событий приходится на пользователя?\n",
    "int(df.groupby('user_id').event_name.count().mean())"
   ],
   "metadata": {
    "colab": {
     "base_uri": "https://localhost:8080/"
    },
    "id": "3GzaXgMq4Je2",
    "executionInfo": {
     "status": "ok",
     "timestamp": 1661765279186,
     "user_tz": -180,
     "elapsed": 16,
     "user": {
      "displayName": "Сергей ДПО",
      "userId": "02314231685143924763"
     }
    },
    "outputId": "efdb8b13-60ea-4da4-c937-d3d682733809",
    "pycharm": {
     "name": "#%%\n"
    }
   },
   "execution_count": 24,
   "outputs": [
    {
     "data": {
      "text/plain": "32"
     },
     "execution_count": 24,
     "metadata": {},
     "output_type": "execute_result"
    }
   ]
  },
  {
   "cell_type": "code",
   "source": [
    "int(df.groupby('user_id').event_name.count().median())"
   ],
   "metadata": {
    "colab": {
     "base_uri": "https://localhost:8080/"
    },
    "id": "2BCF9h3Q7BsM",
    "executionInfo": {
     "status": "ok",
     "timestamp": 1661765305022,
     "user_tz": -180,
     "elapsed": 406,
     "user": {
      "displayName": "Сергей ДПО",
      "userId": "02314231685143924763"
     }
    },
    "outputId": "32511de6-1f66-4c49-c44a-201e351236e0",
    "pycharm": {
     "name": "#%%\n"
    }
   },
   "execution_count": 25,
   "outputs": [
    {
     "data": {
      "text/plain": "20"
     },
     "execution_count": 25,
     "metadata": {},
     "output_type": "execute_result"
    }
   ]
  },
  {
   "cell_type": "code",
   "source": [
    "int(df.groupby('user_id').event_name.count().mode()[0])"
   ],
   "metadata": {
    "colab": {
     "base_uri": "https://localhost:8080/"
    },
    "id": "Eh2ymTeJ7UZG",
    "executionInfo": {
     "status": "ok",
     "timestamp": 1661765343960,
     "user_tz": -180,
     "elapsed": 359,
     "user": {
      "displayName": "Сергей ДПО",
      "userId": "02314231685143924763"
     }
    },
    "outputId": "7a8af3e8-5759-4625-c16b-4ee346a60bbf",
    "pycharm": {
     "name": "#%%\n"
    }
   },
   "execution_count": 28,
   "outputs": [
    {
     "data": {
      "text/plain": "5"
     },
     "execution_count": 28,
     "metadata": {},
     "output_type": "execute_result"
    }
   ]
  },
  {
   "cell_type": "code",
   "source": [
    "# Данными за какой период мы располагаем? \n",
    "# Найти максимальную и минимальную дату. \n",
    "# Построить гистограмму по дате и времени. \n",
    "# Можно ли быть уверенным, что данные одинаково полные за весь период? \n",
    "# Определить, с какого момента данные полные и отбросить более старые. Данными за какой период времени мы располагаем на самом деле?"
   ],
   "metadata": {
    "id": "ky-v5Pb47qsR",
    "pycharm": {
     "name": "#%%\n"
    }
   },
   "execution_count": null,
   "outputs": []
  },
  {
   "cell_type": "code",
   "source": [
    "df.event_date.min()"
   ],
   "metadata": {
    "colab": {
     "base_uri": "https://localhost:8080/"
    },
    "id": "-im7ARup8lpD",
    "executionInfo": {
     "status": "ok",
     "timestamp": 1661765590301,
     "user_tz": -180,
     "elapsed": 29,
     "user": {
      "displayName": "Сергей ДПО",
      "userId": "02314231685143924763"
     }
    },
    "outputId": "b3727046-aa53-4dbd-928e-5949130371f9",
    "pycharm": {
     "name": "#%%\n"
    }
   },
   "execution_count": 29,
   "outputs": [
    {
     "data": {
      "text/plain": "datetime.date(2019, 7, 25)"
     },
     "execution_count": 29,
     "metadata": {},
     "output_type": "execute_result"
    }
   ]
  },
  {
   "cell_type": "code",
   "source": [
    "df.event_date.max()"
   ],
   "metadata": {
    "colab": {
     "base_uri": "https://localhost:8080/"
    },
    "id": "73Lm4ix28pfE",
    "executionInfo": {
     "status": "ok",
     "timestamp": 1661765613313,
     "user_tz": -180,
     "elapsed": 14,
     "user": {
      "displayName": "Сергей ДПО",
      "userId": "02314231685143924763"
     }
    },
    "outputId": "9e3e429c-8b84-4bf3-cf67-c107eb9436cb",
    "pycharm": {
     "name": "#%%\n"
    }
   },
   "execution_count": 30,
   "outputs": [
    {
     "data": {
      "text/plain": "datetime.date(2019, 8, 7)"
     },
     "execution_count": 30,
     "metadata": {},
     "output_type": "execute_result"
    }
   ]
  },
  {
   "cell_type": "code",
   "source": [
    "df.event_date.max() - df.event_date.min()"
   ],
   "metadata": {
    "colab": {
     "base_uri": "https://localhost:8080/"
    },
    "id": "LDXG-atf8vDf",
    "executionInfo": {
     "status": "ok",
     "timestamp": 1661765648732,
     "user_tz": -180,
     "elapsed": 16,
     "user": {
      "displayName": "Сергей ДПО",
      "userId": "02314231685143924763"
     }
    },
    "outputId": "51be797b-405b-44fe-a28a-2d71fad77931",
    "pycharm": {
     "name": "#%%\n"
    }
   },
   "execution_count": 31,
   "outputs": [
    {
     "data": {
      "text/plain": "datetime.timedelta(days=13)"
     },
     "execution_count": 31,
     "metadata": {},
     "output_type": "execute_result"
    }
   ]
  },
  {
   "cell_type": "code",
   "source": [
    "df.event_date.unique()"
   ],
   "metadata": {
    "colab": {
     "base_uri": "https://localhost:8080/"
    },
    "id": "sR_MwfUl83oh",
    "executionInfo": {
     "status": "ok",
     "timestamp": 1661765740099,
     "user_tz": -180,
     "elapsed": 9,
     "user": {
      "displayName": "Сергей ДПО",
      "userId": "02314231685143924763"
     }
    },
    "outputId": "2c8dd0e4-041d-45ad-d8e3-00377310d5ae",
    "pycharm": {
     "name": "#%%\n"
    }
   },
   "execution_count": 33,
   "outputs": [
    {
     "data": {
      "text/plain": "array([datetime.date(2019, 7, 25), datetime.date(2019, 7, 26),\n       datetime.date(2019, 7, 27), datetime.date(2019, 7, 28),\n       datetime.date(2019, 7, 29), datetime.date(2019, 7, 30),\n       datetime.date(2019, 7, 31), datetime.date(2019, 8, 1),\n       datetime.date(2019, 8, 2), datetime.date(2019, 8, 3),\n       datetime.date(2019, 8, 4), datetime.date(2019, 8, 5),\n       datetime.date(2019, 8, 6), datetime.date(2019, 8, 7)], dtype=object)"
     },
     "execution_count": 33,
     "metadata": {},
     "output_type": "execute_result"
    }
   ]
  },
  {
   "cell_type": "code",
   "source": [
    "fig = plt.figure(figsize=(8,5))\n",
    "ax = plt.axes()\n",
    "ax = sns.countplot(y = 'event_date', data = df)\n",
    "ax.set_yticklabels(ax.get_yticklabels(), rotation = 30, fontsize = 10);\n",
    "#ax.set({''})\n"
   ],
   "metadata": {
    "colab": {
     "base_uri": "https://localhost:8080/",
     "height": 497
    },
    "id": "ppuiEKQ59OCq",
    "executionInfo": {
     "status": "ok",
     "timestamp": 1661766760305,
     "user_tz": -180,
     "elapsed": 1144,
     "user": {
      "displayName": "Сергей ДПО",
      "userId": "02314231685143924763"
     }
    },
    "outputId": "824001d5-75f4-4d79-f8b7-d26a5a362205",
    "pycharm": {
     "name": "#%%\n"
    }
   },
   "execution_count": 39,
   "outputs": [
    {
     "data": {
      "text/plain": "<Figure size 800x500 with 1 Axes>",
      "image/png": "[encoded data removed]"
     },
     "metadata": {},
     "output_type": "display_data"
    }
   ]
  },
  {
   "cell_type": "code",
   "source": [],
   "metadata": {
    "id": "E2iuNCNn9tcr",
    "pycharm": {
     "name": "#%%\n"
    }
   },
   "execution_count": null,
   "outputs": []
  }
 ],
 "metadata": {
  "kernelspec": {
   "display_name": "Python 3",
   "language": "python",
   "name": "python3"
  },
  "language_info": {
   "codemirror_mode": {
    "name": "ipython",
    "version": 3
   },
   "file_extension": ".py",
   "mimetype": "text/x-python",
   "name": "python",
   "nbconvert_exporter": "python",
   "pygments_lexer": "ipython3",
   "version": "3.7.8"
  },
  "toc": {
   "base_numbering": 1,
   "nav_menu": {},
   "number_sections": true,
   "sideBar": true,
   "skip_h1_title": false,
   "title_cell": "Оглавление",
   "title_sidebar": "Оглавление",
   "toc_cell": true,
   "toc_position": {
    "height": "calc(100% - 180px)",
    "left": "10px",
    "top": "150px",
    "width": "285.98px"
   },
   "toc_section_display": true,
   "toc_window_display": false
  },
  "colab": {
   "name": "ab_test_empty.ipynb",
   "provenance": [],
   "collapsed_sections": []
  }
 },
 "nbformat": 4,
 "nbformat_minor": 0
}
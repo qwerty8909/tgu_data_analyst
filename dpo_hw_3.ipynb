{
 "cells": [
  {
   "cell_type": "markdown",
   "metadata": {
    "id": "lh4q5EJmXfiK"
   },
   "source": [
    "Имеется следующий словарь с данными о студентах. Вам предлагается выполнить ряд заданий. "
   ]
  },
  {
   "cell_type": "code",
   "execution_count": 15,
   "metadata": {
    "id": "BOUyTEH3Xdbf"
   },
   "outputs": [],
   "source": [
    "dict_to_df = {'student_fio': ['Иванов', 'Петров', 'Сидорова', 'Волкова', 'Сотников'],\n",
    "              'name': ['Сергей', 'Николай', 'Ольга', 'Полина', 'Илья'],\n",
    "              'gender' : ['M', 'M', 'F', 'F', 'M'],\n",
    "              'age' : [23, 23, 24, 25, 36],\n",
    "              'curs' : [1,2,2,4,4]}"
   ]
  },
  {
   "cell_type": "markdown",
   "metadata": {
    "id": "Sh3zWuLIXwzF"
   },
   "source": [
    "Задание 1. На базе данного словаря создайте датафрейм со значениями индекса `a`, `b`, `c`, `d` и `e`. "
   ]
  },
  {
   "cell_type": "code",
   "execution_count": 16,
   "metadata": {
    "colab": {
     "base_uri": "https://localhost:8080/",
     "height": 206
    },
    "executionInfo": {
     "elapsed": 359,
     "status": "ok",
     "timestamp": 1659122161497,
     "user": {
      "displayName": "Сергей ДПО",
      "userId": "02314231685143924763"
     },
     "user_tz": -180
    },
    "id": "0UBoh-G_Utxp",
    "outputId": "e29190d8-ffba-4835-d373-7c5abb80c911"
   },
   "outputs": [
    {
     "data": {
      "text/html": [
       "<div>\n",
       "<style scoped>\n",
       "    .dataframe tbody tr th:only-of-type {\n",
       "        vertical-align: middle;\n",
       "    }\n",
       "\n",
       "    .dataframe tbody tr th {\n",
       "        vertical-align: top;\n",
       "    }\n",
       "\n",
       "    .dataframe thead th {\n",
       "        text-align: right;\n",
       "    }\n",
       "</style>\n",
       "<table border=\"1\" class=\"dataframe\">\n",
       "  <thead>\n",
       "    <tr style=\"text-align: right;\">\n",
       "      <th></th>\n",
       "      <th>student_fio</th>\n",
       "      <th>name</th>\n",
       "      <th>gender</th>\n",
       "      <th>age</th>\n",
       "      <th>curs</th>\n",
       "    </tr>\n",
       "  </thead>\n",
       "  <tbody>\n",
       "    <tr>\n",
       "      <th>a</th>\n",
       "      <td>Иванов</td>\n",
       "      <td>Сергей</td>\n",
       "      <td>M</td>\n",
       "      <td>23</td>\n",
       "      <td>1</td>\n",
       "    </tr>\n",
       "    <tr>\n",
       "      <th>b</th>\n",
       "      <td>Петров</td>\n",
       "      <td>Николай</td>\n",
       "      <td>M</td>\n",
       "      <td>23</td>\n",
       "      <td>2</td>\n",
       "    </tr>\n",
       "    <tr>\n",
       "      <th>c</th>\n",
       "      <td>Сидорова</td>\n",
       "      <td>Ольга</td>\n",
       "      <td>F</td>\n",
       "      <td>24</td>\n",
       "      <td>2</td>\n",
       "    </tr>\n",
       "    <tr>\n",
       "      <th>d</th>\n",
       "      <td>Волкова</td>\n",
       "      <td>Полина</td>\n",
       "      <td>F</td>\n",
       "      <td>25</td>\n",
       "      <td>4</td>\n",
       "    </tr>\n",
       "    <tr>\n",
       "      <th>e</th>\n",
       "      <td>Сотников</td>\n",
       "      <td>Илья</td>\n",
       "      <td>M</td>\n",
       "      <td>36</td>\n",
       "      <td>4</td>\n",
       "    </tr>\n",
       "  </tbody>\n",
       "</table>\n",
       "</div>"
      ],
      "text/plain": [
       "  student_fio     name gender  age  curs\n",
       "a      Иванов   Сергей      M   23     1\n",
       "b      Петров  Николай      M   23     2\n",
       "c    Сидорова    Ольга      F   24     2\n",
       "d     Волкова   Полина      F   25     4\n",
       "e    Сотников     Илья      M   36     4"
      ]
     },
     "execution_count": 16,
     "metadata": {},
     "output_type": "execute_result"
    }
   ],
   "source": [
    "#Ваш код здесь\n",
    "#Вывод датафрейма по его имени \n",
    "import pandas as pd\n",
    "df = pd.DataFrame(dict_to_df, index = ['a', 'b', 'c', 'd', 'e'])\n",
    "df "
   ]
  },
  {
   "cell_type": "markdown",
   "metadata": {
    "id": "AO6TPIo-ZFdy"
   },
   "source": [
    "Задание 2. С использованием методов `head()`, `tail()`, `sample()` и `take()` получите:\n",
    "1. Две любые случайные строки датафрейма;\n",
    "2. Первые две строки датафрейма;\n",
    "3. Последние две строки датафрейма;\n",
    "4. Строки датафрейма с номерами позиций 3 и 4."
   ]
  },
  {
   "cell_type": "code",
   "execution_count": 19,
   "metadata": {},
   "outputs": [
    {
     "data": {
      "text/html": [
       "<div>\n",
       "<style scoped>\n",
       "    .dataframe tbody tr th:only-of-type {\n",
       "        vertical-align: middle;\n",
       "    }\n",
       "\n",
       "    .dataframe tbody tr th {\n",
       "        vertical-align: top;\n",
       "    }\n",
       "\n",
       "    .dataframe thead th {\n",
       "        text-align: right;\n",
       "    }\n",
       "</style>\n",
       "<table border=\"1\" class=\"dataframe\">\n",
       "  <thead>\n",
       "    <tr style=\"text-align: right;\">\n",
       "      <th></th>\n",
       "      <th>student_fio</th>\n",
       "      <th>name</th>\n",
       "      <th>gender</th>\n",
       "      <th>age</th>\n",
       "      <th>curs</th>\n",
       "    </tr>\n",
       "  </thead>\n",
       "  <tbody>\n",
       "    <tr>\n",
       "      <th>b</th>\n",
       "      <td>Петров</td>\n",
       "      <td>Николай</td>\n",
       "      <td>M</td>\n",
       "      <td>23</td>\n",
       "      <td>2</td>\n",
       "    </tr>\n",
       "    <tr>\n",
       "      <th>d</th>\n",
       "      <td>Волкова</td>\n",
       "      <td>Полина</td>\n",
       "      <td>F</td>\n",
       "      <td>25</td>\n",
       "      <td>4</td>\n",
       "    </tr>\n",
       "  </tbody>\n",
       "</table>\n",
       "</div>"
      ],
      "text/plain": [
       "  student_fio     name gender  age  curs\n",
       "b      Петров  Николай      M   23     2\n",
       "d     Волкова   Полина      F   25     4"
      ]
     },
     "execution_count": 19,
     "metadata": {},
     "output_type": "execute_result"
    }
   ],
   "source": [
    "# Две любые случайные строки датафрейма;\n",
    "df.sample(2)"
   ]
  },
  {
   "cell_type": "code",
   "execution_count": 18,
   "metadata": {
    "executionInfo": {
     "elapsed": 353,
     "status": "ok",
     "timestamp": 1659122457250,
     "user": {
      "displayName": "Сергей ДПО",
      "userId": "02314231685143924763"
     },
     "user_tz": -180
    },
    "id": "A44z2sDmZE4i"
   },
   "outputs": [
    {
     "data": {
      "text/html": [
       "<div>\n",
       "<style scoped>\n",
       "    .dataframe tbody tr th:only-of-type {\n",
       "        vertical-align: middle;\n",
       "    }\n",
       "\n",
       "    .dataframe tbody tr th {\n",
       "        vertical-align: top;\n",
       "    }\n",
       "\n",
       "    .dataframe thead th {\n",
       "        text-align: right;\n",
       "    }\n",
       "</style>\n",
       "<table border=\"1\" class=\"dataframe\">\n",
       "  <thead>\n",
       "    <tr style=\"text-align: right;\">\n",
       "      <th></th>\n",
       "      <th>student_fio</th>\n",
       "      <th>name</th>\n",
       "      <th>gender</th>\n",
       "      <th>age</th>\n",
       "      <th>curs</th>\n",
       "    </tr>\n",
       "  </thead>\n",
       "  <tbody>\n",
       "    <tr>\n",
       "      <th>a</th>\n",
       "      <td>Иванов</td>\n",
       "      <td>Сергей</td>\n",
       "      <td>M</td>\n",
       "      <td>23</td>\n",
       "      <td>1</td>\n",
       "    </tr>\n",
       "    <tr>\n",
       "      <th>b</th>\n",
       "      <td>Петров</td>\n",
       "      <td>Николай</td>\n",
       "      <td>M</td>\n",
       "      <td>23</td>\n",
       "      <td>2</td>\n",
       "    </tr>\n",
       "  </tbody>\n",
       "</table>\n",
       "</div>"
      ],
      "text/plain": [
       "  student_fio     name gender  age  curs\n",
       "a      Иванов   Сергей      M   23     1\n",
       "b      Петров  Николай      M   23     2"
      ]
     },
     "execution_count": 18,
     "metadata": {},
     "output_type": "execute_result"
    }
   ],
   "source": [
    "# Первые две строки датафрейма;\n",
    "df.head(2)"
   ]
  },
  {
   "cell_type": "code",
   "execution_count": 12,
   "metadata": {},
   "outputs": [
    {
     "data": {
      "text/html": [
       "<div>\n",
       "<style scoped>\n",
       "    .dataframe tbody tr th:only-of-type {\n",
       "        vertical-align: middle;\n",
       "    }\n",
       "\n",
       "    .dataframe tbody tr th {\n",
       "        vertical-align: top;\n",
       "    }\n",
       "\n",
       "    .dataframe thead th {\n",
       "        text-align: right;\n",
       "    }\n",
       "</style>\n",
       "<table border=\"1\" class=\"dataframe\">\n",
       "  <thead>\n",
       "    <tr style=\"text-align: right;\">\n",
       "      <th></th>\n",
       "      <th>student_fio</th>\n",
       "      <th>name</th>\n",
       "      <th>gender</th>\n",
       "      <th>age</th>\n",
       "      <th>curs</th>\n",
       "    </tr>\n",
       "  </thead>\n",
       "  <tbody>\n",
       "    <tr>\n",
       "      <th>d</th>\n",
       "      <td>Волкова</td>\n",
       "      <td>Полина</td>\n",
       "      <td>F</td>\n",
       "      <td>25</td>\n",
       "      <td>4</td>\n",
       "    </tr>\n",
       "    <tr>\n",
       "      <th>e</th>\n",
       "      <td>Сотников</td>\n",
       "      <td>Илья</td>\n",
       "      <td>M</td>\n",
       "      <td>36</td>\n",
       "      <td>4</td>\n",
       "    </tr>\n",
       "  </tbody>\n",
       "</table>\n",
       "</div>"
      ],
      "text/plain": [
       "  student_fio    name gender  age  curs\n",
       "d     Волкова  Полина      F   25     4\n",
       "e    Сотников    Илья      M   36     4"
      ]
     },
     "execution_count": 12,
     "metadata": {},
     "output_type": "execute_result"
    }
   ],
   "source": [
    "# Последние две строки датафрейма;\n",
    "df.tail(2)"
   ]
  },
  {
   "cell_type": "code",
   "execution_count": 24,
   "metadata": {},
   "outputs": [
    {
     "data": {
      "text/html": [
       "<div>\n",
       "<style scoped>\n",
       "    .dataframe tbody tr th:only-of-type {\n",
       "        vertical-align: middle;\n",
       "    }\n",
       "\n",
       "    .dataframe tbody tr th {\n",
       "        vertical-align: top;\n",
       "    }\n",
       "\n",
       "    .dataframe thead th {\n",
       "        text-align: right;\n",
       "    }\n",
       "</style>\n",
       "<table border=\"1\" class=\"dataframe\">\n",
       "  <thead>\n",
       "    <tr style=\"text-align: right;\">\n",
       "      <th></th>\n",
       "      <th>student_fio</th>\n",
       "      <th>name</th>\n",
       "      <th>gender</th>\n",
       "      <th>age</th>\n",
       "      <th>curs</th>\n",
       "    </tr>\n",
       "  </thead>\n",
       "  <tbody>\n",
       "    <tr>\n",
       "      <th>d</th>\n",
       "      <td>Волкова</td>\n",
       "      <td>Полина</td>\n",
       "      <td>F</td>\n",
       "      <td>25</td>\n",
       "      <td>4</td>\n",
       "    </tr>\n",
       "    <tr>\n",
       "      <th>e</th>\n",
       "      <td>Сотников</td>\n",
       "      <td>Илья</td>\n",
       "      <td>M</td>\n",
       "      <td>36</td>\n",
       "      <td>4</td>\n",
       "    </tr>\n",
       "  </tbody>\n",
       "</table>\n",
       "</div>"
      ],
      "text/plain": [
       "  student_fio    name gender  age  curs\n",
       "d     Волкова  Полина      F   25     4\n",
       "e    Сотников    Илья      M   36     4"
      ]
     },
     "execution_count": 24,
     "metadata": {},
     "output_type": "execute_result"
    }
   ],
   "source": [
    "# Строки датафрейма с номерами позиций 3 и 4\n",
    "df.take([3, 4])"
   ]
  },
  {
   "cell_type": "markdown",
   "metadata": {
    "id": "d0eKkE2ZZ9_Z"
   },
   "source": [
    "Задание 3. С использованием метода `print()` и приемами форматирования строк  выведите количество строк и столбцов датафрейма. "
   ]
  },
  {
   "cell_type": "code",
   "execution_count": 14,
   "metadata": {
    "executionInfo": {
     "elapsed": 342,
     "status": "ok",
     "timestamp": 1659122750415,
     "user": {
      "displayName": "Сергей ДПО",
      "userId": "02314231685143924763"
     },
     "user_tz": -180
    },
    "id": "tNb_RQLZV-bm"
   },
   "outputs": [
    {
     "name": "stdout",
     "output_type": "stream",
     "text": [
      "В датафрейме 5 строк и 4 столбцов\n"
     ]
    }
   ],
   "source": [
    "#Ваш код здесь\n",
    "print('В датафрейме {} строк и {} столбцов'. format (df.shape[0], df.shape[1])) \n",
    "#Результат вывода должен быть таким:\n",
    "#В датафрейме 5 строк и 5 столбцов"
   ]
  },
  {
   "cell_type": "markdown",
   "metadata": {
    "id": "uSWV5zk-bGLf"
   },
   "source": [
    "Задание 4. Получите информацию о типах данных признаков датафрейма"
   ]
  },
  {
   "cell_type": "code",
   "execution_count": 51,
   "metadata": {
    "executionInfo": {
     "elapsed": 367,
     "status": "ok",
     "timestamp": 1659122852445,
     "user": {
      "displayName": "Сергей ДПО",
      "userId": "02314231685143924763"
     },
     "user_tz": -180
    },
    "id": "8SOJBnWhbE-n"
   },
   "outputs": [
    {
     "data": {
      "text/plain": [
       "student_fio    object\n",
       "name           object\n",
       "gender         object\n",
       "age             int64\n",
       "curs            int64\n",
       "dtype: object"
      ]
     },
     "execution_count": 51,
     "metadata": {},
     "output_type": "execute_result"
    }
   ],
   "source": [
    "#Ваш код здесь\n",
    "df.dtypes"
   ]
  },
  {
   "cell_type": "markdown",
   "metadata": {
    "id": "_d1_3osBdWDg"
   },
   "source": [
    "Задание 5. Какие и сколько уникальных значений принимает признак `gender`. Вывод оформите с помощью метода `print()`."
   ]
  },
  {
   "cell_type": "code",
   "execution_count": 86,
   "metadata": {
    "id": "ox-Cm00RdkGo"
   },
   "outputs": [
    {
     "name": "stdout",
     "output_type": "stream",
     "text": [
      "признак gender принимает 2 уникальных знечения, а именно ['M' 'F']\n"
     ]
    }
   ],
   "source": [
    "#Ваш код здесь\n",
    "print('признак gender принимает {} уникальных знечения, а именно {}'. format(len(df.gender.unique()), df.gender.unique()))"
   ]
  },
  {
   "cell_type": "markdown",
   "metadata": {
    "id": "AlkrnEARba0S"
   },
   "source": [
    "Задание 6. Выведите данные столбцов `student_fio` и `name`."
   ]
  },
  {
   "cell_type": "code",
   "execution_count": 90,
   "metadata": {
    "id": "N7boGL_Qa3F_"
   },
   "outputs": [
    {
     "data": {
      "text/html": [
       "<div>\n",
       "<style scoped>\n",
       "    .dataframe tbody tr th:only-of-type {\n",
       "        vertical-align: middle;\n",
       "    }\n",
       "\n",
       "    .dataframe tbody tr th {\n",
       "        vertical-align: top;\n",
       "    }\n",
       "\n",
       "    .dataframe thead th {\n",
       "        text-align: right;\n",
       "    }\n",
       "</style>\n",
       "<table border=\"1\" class=\"dataframe\">\n",
       "  <thead>\n",
       "    <tr style=\"text-align: right;\">\n",
       "      <th></th>\n",
       "      <th>student_fio</th>\n",
       "      <th>name</th>\n",
       "    </tr>\n",
       "  </thead>\n",
       "  <tbody>\n",
       "    <tr>\n",
       "      <th>a</th>\n",
       "      <td>Иванов</td>\n",
       "      <td>Сергей</td>\n",
       "    </tr>\n",
       "    <tr>\n",
       "      <th>b</th>\n",
       "      <td>Петров</td>\n",
       "      <td>Николай</td>\n",
       "    </tr>\n",
       "    <tr>\n",
       "      <th>c</th>\n",
       "      <td>Сидорова</td>\n",
       "      <td>Ольга</td>\n",
       "    </tr>\n",
       "    <tr>\n",
       "      <th>d</th>\n",
       "      <td>Волкова</td>\n",
       "      <td>Полина</td>\n",
       "    </tr>\n",
       "    <tr>\n",
       "      <th>e</th>\n",
       "      <td>Сотников</td>\n",
       "      <td>Илья</td>\n",
       "    </tr>\n",
       "  </tbody>\n",
       "</table>\n",
       "</div>"
      ],
      "text/plain": [
       "  student_fio     name\n",
       "a      Иванов   Сергей\n",
       "b      Петров  Николай\n",
       "c    Сидорова    Ольга\n",
       "d     Волкова   Полина\n",
       "e    Сотников     Илья"
      ]
     },
     "execution_count": 90,
     "metadata": {},
     "output_type": "execute_result"
    }
   ],
   "source": [
    "#Ваш код здесь\n",
    "dfn = df[['student_fio', 'name']]\n",
    "dfn"
   ]
  },
  {
   "cell_type": "markdown",
   "metadata": {
    "id": "4WwHM4SOb3cF"
   },
   "source": [
    "Задание 7. Используя логические выражения, получите ответы на следующие вопросы:\n",
    "1. Сколько в исходном датафрейме юношей;\n",
    "2. Сколько девушек учится на 2-м курсе;\n",
    "3. Какой процент от общего числа составляют студенты 2-го курса; \n",
    "4. Выведите только фамилии юношей, обучающихся на 2-м и 4-м курсах. \n",
    "\n",
    "Ответы оформляйте с помощью метода `print()` и элементов форматирования строк."
   ]
  },
  {
   "cell_type": "code",
   "execution_count": 20,
   "metadata": {
    "executionInfo": {
     "elapsed": 6,
     "status": "ok",
     "timestamp": 1659123544541,
     "user": {
      "displayName": "Сергей ДПО",
      "userId": "02314231685143924763"
     },
     "user_tz": -180
    },
    "id": "Gp3HWZoSd0A4"
   },
   "outputs": [],
   "source": [
    "#Ваш код здесь"
   ]
  },
  {
   "cell_type": "markdown",
   "metadata": {
    "id": "ak8zfrFXeT7N"
   },
   "source": [
    "Задание 8. С использованием свойств `.loc[]` и `.iloc[]` сформируйте датафреймы, состоящие из строк с метками индекса `b`, `c` и `d`, а также столбцами `student_fio` и `name`. Для формирования датафреймов используйте оба свойства."
   ]
  },
  {
   "cell_type": "code",
   "execution_count": 110,
   "metadata": {
    "executionInfo": {
     "elapsed": 2,
     "status": "ok",
     "timestamp": 1659123900504,
     "user": {
      "displayName": "Сергей ДПО",
      "userId": "02314231685143924763"
     },
     "user_tz": -180
    },
    "id": "uFgPUcsxeC2A"
   },
   "outputs": [
    {
     "data": {
      "text/html": [
       "<div>\n",
       "<style scoped>\n",
       "    .dataframe tbody tr th:only-of-type {\n",
       "        vertical-align: middle;\n",
       "    }\n",
       "\n",
       "    .dataframe tbody tr th {\n",
       "        vertical-align: top;\n",
       "    }\n",
       "\n",
       "    .dataframe thead th {\n",
       "        text-align: right;\n",
       "    }\n",
       "</style>\n",
       "<table border=\"1\" class=\"dataframe\">\n",
       "  <thead>\n",
       "    <tr style=\"text-align: right;\">\n",
       "      <th></th>\n",
       "      <th>student_fio</th>\n",
       "      <th>name</th>\n",
       "    </tr>\n",
       "  </thead>\n",
       "  <tbody>\n",
       "    <tr>\n",
       "      <th>b</th>\n",
       "      <td>Петров</td>\n",
       "      <td>Николай</td>\n",
       "    </tr>\n",
       "    <tr>\n",
       "      <th>c</th>\n",
       "      <td>Сидорова</td>\n",
       "      <td>Ольга</td>\n",
       "    </tr>\n",
       "    <tr>\n",
       "      <th>d</th>\n",
       "      <td>Волкова</td>\n",
       "      <td>Полина</td>\n",
       "    </tr>\n",
       "  </tbody>\n",
       "</table>\n",
       "</div>"
      ],
      "text/plain": [
       "  student_fio     name\n",
       "b      Петров  Николай\n",
       "c    Сидорова    Ольга\n",
       "d     Волкова   Полина"
      ]
     },
     "metadata": {},
     "output_type": "display_data"
    },
    {
     "data": {
      "text/html": [
       "<div>\n",
       "<style scoped>\n",
       "    .dataframe tbody tr th:only-of-type {\n",
       "        vertical-align: middle;\n",
       "    }\n",
       "\n",
       "    .dataframe tbody tr th {\n",
       "        vertical-align: top;\n",
       "    }\n",
       "\n",
       "    .dataframe thead th {\n",
       "        text-align: right;\n",
       "    }\n",
       "</style>\n",
       "<table border=\"1\" class=\"dataframe\">\n",
       "  <thead>\n",
       "    <tr style=\"text-align: right;\">\n",
       "      <th></th>\n",
       "      <th>student_fio</th>\n",
       "      <th>name</th>\n",
       "    </tr>\n",
       "  </thead>\n",
       "  <tbody>\n",
       "    <tr>\n",
       "      <th>b</th>\n",
       "      <td>Петров</td>\n",
       "      <td>Николай</td>\n",
       "    </tr>\n",
       "    <tr>\n",
       "      <th>c</th>\n",
       "      <td>Сидорова</td>\n",
       "      <td>Ольга</td>\n",
       "    </tr>\n",
       "    <tr>\n",
       "      <th>d</th>\n",
       "      <td>Волкова</td>\n",
       "      <td>Полина</td>\n",
       "    </tr>\n",
       "  </tbody>\n",
       "</table>\n",
       "</div>"
      ],
      "text/plain": [
       "  student_fio     name\n",
       "b      Петров  Николай\n",
       "c    Сидорова    Ольга\n",
       "d     Волкова   Полина"
      ]
     },
     "metadata": {},
     "output_type": "display_data"
    }
   ],
   "source": [
    "#Ваш код здесь\n",
    "dfm = df[['student_fio', 'name']]\n",
    "display (dfm.iloc[1:4])\n",
    "display (dfm.loc[['b','c','d']])"
   ]
  },
  {
   "cell_type": "code",
   "execution_count": null,
   "metadata": {},
   "outputs": [],
   "source": []
  }
 ],
 "metadata": {
  "colab": {
   "authorship_tag": "ABX9TyM70vfryDwREYYPgDO7D+GJ",
   "collapsed_sections": [],
   "name": "dpo3_dataframe.ipynb",
   "provenance": []
  },
  "kernelspec": {
   "display_name": "Python 3 (ipykernel)",
   "language": "python",
   "name": "python3"
  },
  "language_info": {
   "codemirror_mode": {
    "name": "ipython",
    "version": 3
   },
   "file_extension": ".py",
   "mimetype": "text/x-python",
   "name": "python",
   "nbconvert_exporter": "python",
   "pygments_lexer": "ipython3",
   "version": "3.9.12"
  }
 },
 "nbformat": 4,
 "nbformat_minor": 1
}

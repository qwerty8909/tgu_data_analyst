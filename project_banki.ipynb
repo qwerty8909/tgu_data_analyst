{
 "cells": [
  {
   "cell_type": "markdown",
   "metadata": {
    "id": "jLInVKjCBNgQ",
    "pycharm": {
     "name": "#%% md\n"
    }
   },
   "source": [
    "# Описание данных\n",
    "\n",
    "Имеются данные о клиентах банка, расположенного в Город_A, Город_B и Город_C. Каждый клиент характеризуется следующим набором данных:\n",
    "\n",
    "|Признак|Описание признака|\n",
    "|---:|:---|\n",
    "|`userid`|идентификатор пользователя|\n",
    "|`score`|баллы кредитного скоринга|\n",
    "|`City`|город|\n",
    "|`Gender`|пол|\n",
    "|`Age`|возраст|\n",
    "|`Objects`|количество объектов в собственности|\n",
    "|`Balance`|баланс на счете|\n",
    "|`Products`|количество продуктов, которыми пользуется клиент|\n",
    "|`CreditCard`|есть ли кредитная карта|\n",
    "|`Loyalty`|активный клиент|\n",
    "|`estimated_salary`|заработная плата клиента|\n",
    "|`Churn`|ушел или нет|\n",
    "\n",
    "Заказчику проекта необходимо разработать меры по **удержанию клиентов**. Для этого ему необходимо иметь представление и том, какие клиенты склонны к оттоку. \n",
    "\n",
    "В связи с этим необходимо сформировать портреты клиентов, склонных к оттоку из банка."
   ]
  },
  {
   "cell_type": "markdown",
   "source": [
    "## Инструкция по выполнению проекта\n",
    "\n",
    "1. Общее описание проекта\n",
    "2. Загрузка данных\n",
    "3. Предобработка данных\n",
    " - 3.1 Корректировка заголовков признаков\n",
    " - 3.2 Анализ типов данных\n",
    " - 3.3 Описательные статистики\n",
    " - 3.4 Поиск дубликатов\n",
    " - 3.5 Анализ аномальных значений\n",
    " - 3.6 Восстановление пропущенных значений\n",
    " - 3.7 Визуализация данных после предобработки\n",
    "4. Исследовательский анализ данных\n",
    " - 4.1 Изучение признаков по группам: интервальные признаки\n",
    " - 4.2 Гистограммы и распределения: интервальные признаки\n",
    " - 4.4 Корреляционный анализ\n",
    "5. Проверка гипотез\n",
    " - Гипотезы по каждому признаку из портрета пользователя, склонного к оттоку."
   ],
   "metadata": {
    "id": "C9l7aH11CCVO",
    "pycharm": {
     "name": "#%% md\n"
    }
   }
  },
  {
   "cell_type": "code",
   "source": [
    "# Ваш код здесь"
   ],
   "metadata": {
    "id": "5AITAt1NDM_a",
    "pycharm": {
     "name": "#%%\n"
    }
   },
   "execution_count": null,
   "outputs": []
  },
  {
   "cell_type": "code",
   "source": [],
   "metadata": {
    "id": "_LCJ6FndPg-I",
    "pycharm": {
     "name": "#%%\n"
    }
   },
   "execution_count": null,
   "outputs": []
  }
 ],
 "metadata": {
  "ExecuteTimeLog": [
   {
    "duration": 1466,
    "start_time": "2021-06-28T12:55:07.201Z"
   },
   {
    "duration": 32,
    "start_time": "2021-06-28T12:55:31.655Z"
   },
   {
    "duration": 91,
    "start_time": "2021-06-28T12:56:15.703Z"
   },
   {
    "duration": 5,
    "start_time": "2021-06-28T12:56:35.408Z"
   },
   {
    "duration": 6,
    "start_time": "2021-06-28T12:56:45.441Z"
   },
   {
    "duration": 6,
    "start_time": "2021-06-28T12:57:15.623Z"
   },
   {
    "duration": 4,
    "start_time": "2021-06-28T12:57:37.662Z"
   },
   {
    "duration": 11,
    "start_time": "2021-06-28T12:58:21.354Z"
   },
   {
    "duration": 65,
    "start_time": "2021-06-28T12:59:23.207Z"
   },
   {
    "duration": 4,
    "start_time": "2021-06-28T13:00:47.006Z"
   },
   {
    "duration": 560,
    "start_time": "2021-06-28T13:00:56.126Z"
   },
   {
    "duration": 21,
    "start_time": "2021-06-28T13:01:49.006Z"
   },
   {
    "duration": 25,
    "start_time": "2021-06-28T13:02:03.755Z"
   },
   {
    "duration": 547,
    "start_time": "2021-06-28T14:17:44.333Z"
   },
   {
    "duration": 4,
    "start_time": "2021-06-28T14:19:15.624Z"
   },
   {
    "duration": 833,
    "start_time": "2021-06-28T14:19:18.638Z"
   },
   {
    "duration": 4,
    "start_time": "2021-06-28T14:28:20.579Z"
   },
   {
    "duration": 1143,
    "start_time": "2021-06-28T14:28:22.297Z"
   },
   {
    "duration": 3,
    "start_time": "2021-06-28T14:34:48.561Z"
   },
   {
    "duration": 435,
    "start_time": "2021-06-28T14:38:47.131Z"
   },
   {
    "duration": 875,
    "start_time": "2021-06-28T14:39:18.083Z"
   },
   {
    "duration": 4,
    "start_time": "2021-06-28T14:39:41.794Z"
   },
   {
    "duration": 782,
    "start_time": "2021-06-28T14:39:42.657Z"
   },
   {
    "duration": 969,
    "start_time": "2021-06-28T14:40:00.381Z"
   },
   {
    "duration": 1039,
    "start_time": "2021-06-28T14:41:00.697Z"
   },
   {
    "duration": 1027,
    "start_time": "2021-06-28T14:42:08.516Z"
   },
   {
    "duration": 1200,
    "start_time": "2021-06-28T14:43:16.494Z"
   },
   {
    "duration": 604,
    "start_time": "2021-06-28T14:44:20.752Z"
   },
   {
    "duration": 1358,
    "start_time": "2021-06-28T14:44:38.414Z"
   },
   {
    "duration": 1355,
    "start_time": "2021-06-28T14:47:10.321Z"
   },
   {
    "duration": 1444,
    "start_time": "2021-06-28T14:47:35.244Z"
   },
   {
    "duration": 1364,
    "start_time": "2021-06-28T14:47:41.815Z"
   },
   {
    "duration": 1382,
    "start_time": "2021-06-28T14:47:59.527Z"
   },
   {
    "duration": 1371,
    "start_time": "2021-06-28T14:48:08.256Z"
   },
   {
    "duration": 1437,
    "start_time": "2021-06-28T14:48:57.927Z"
   },
   {
    "duration": 1370,
    "start_time": "2021-06-28T14:49:21.468Z"
   },
   {
    "duration": 1395,
    "start_time": "2021-06-28T14:49:46.180Z"
   },
   {
    "duration": 1384,
    "start_time": "2021-06-28T14:50:01.301Z"
   },
   {
    "duration": 1444,
    "start_time": "2021-06-28T14:50:41.856Z"
   },
   {
    "duration": 1381,
    "start_time": "2021-06-28T14:52:26.231Z"
   },
   {
    "duration": 3,
    "start_time": "2021-06-28T14:53:38.873Z"
   },
   {
    "duration": 481,
    "start_time": "2021-06-28T14:53:44.680Z"
   },
   {
    "duration": 3,
    "start_time": "2021-06-28T14:54:02.729Z"
   },
   {
    "duration": 1349,
    "start_time": "2021-06-28T14:54:03.456Z"
   },
   {
    "duration": 1010,
    "start_time": "2021-06-28T14:54:36.286Z"
   },
   {
    "duration": 669,
    "start_time": "2021-06-28T15:00:36.948Z"
   },
   {
    "duration": 829,
    "start_time": "2021-06-28T15:01:37.881Z"
   },
   {
    "duration": 604,
    "start_time": "2021-06-28T15:01:57.207Z"
   },
   {
    "duration": 1049,
    "start_time": "2021-06-28T15:02:11.721Z"
   },
   {
    "duration": 423,
    "start_time": "2021-06-28T22:25:33.969Z"
   },
   {
    "duration": 1566,
    "start_time": "2021-06-28T22:25:45.171Z"
   },
   {
    "duration": 31,
    "start_time": "2021-06-28T22:25:46.740Z"
   },
   {
    "duration": 6,
    "start_time": "2021-06-28T22:25:46.775Z"
   },
   {
    "duration": 8,
    "start_time": "2021-06-28T22:25:46.784Z"
   },
   {
    "duration": 7,
    "start_time": "2021-06-28T22:25:46.795Z"
   },
   {
    "duration": 6,
    "start_time": "2021-06-28T22:25:46.805Z"
   },
   {
    "duration": 57,
    "start_time": "2021-06-28T22:25:46.814Z"
   },
   {
    "duration": 89,
    "start_time": "2021-06-28T22:25:46.875Z"
   },
   {
    "duration": 4,
    "start_time": "2021-06-28T22:25:46.967Z"
   },
   {
    "duration": 1160,
    "start_time": "2021-06-28T22:25:46.974Z"
   },
   {
    "duration": 4,
    "start_time": "2021-06-28T22:25:48.137Z"
   },
   {
    "duration": 3,
    "start_time": "2021-06-28T22:25:49.575Z"
   },
   {
    "duration": 1488,
    "start_time": "2021-06-28T22:25:50.132Z"
   },
   {
    "duration": 1933,
    "start_time": "2021-06-28T22:27:33.616Z"
   },
   {
    "duration": 3,
    "start_time": "2021-06-28T22:27:45.932Z"
   },
   {
    "duration": 1407,
    "start_time": "2021-06-28T22:27:46.610Z"
   },
   {
    "duration": 1790,
    "start_time": "2021-06-28T22:28:10.219Z"
   },
   {
    "duration": 715,
    "start_time": "2021-06-28T22:30:13.355Z"
   },
   {
    "duration": 1461,
    "start_time": "2021-06-28T22:31:32.355Z"
   },
   {
    "duration": 1039,
    "start_time": "2021-06-28T22:32:36.036Z"
   },
   {
    "duration": 178,
    "start_time": "2021-06-28T22:35:02.286Z"
   },
   {
    "duration": 146,
    "start_time": "2021-06-28T22:38:45.209Z"
   },
   {
    "duration": 1554,
    "start_time": "2021-06-28T22:38:52.039Z"
   },
   {
    "duration": 868,
    "start_time": "2021-06-28T22:39:05.521Z"
   },
   {
    "duration": 357,
    "start_time": "2021-06-28T22:39:58.593Z"
   },
   {
    "duration": 359,
    "start_time": "2021-06-28T22:40:13.012Z"
   },
   {
    "duration": 353,
    "start_time": "2021-06-28T22:40:19.274Z"
   },
   {
    "duration": 1111,
    "start_time": "2021-06-28T22:41:04.651Z"
   },
   {
    "duration": 1111,
    "start_time": "2021-06-28T22:41:26.196Z"
   },
   {
    "duration": 1126,
    "start_time": "2021-06-28T22:44:55.401Z"
   },
   {
    "duration": 8,
    "start_time": "2021-06-28T22:47:34.831Z"
   },
   {
    "duration": 356,
    "start_time": "2021-06-28T22:47:53.307Z"
   },
   {
    "duration": 10,
    "start_time": "2021-06-28T22:47:59.434Z"
   },
   {
    "duration": 674,
    "start_time": "2021-06-28T22:49:59.342Z"
   },
   {
    "duration": 1353,
    "start_time": "2021-06-28T22:50:10.595Z"
   },
   {
    "duration": 1378,
    "start_time": "2021-06-28T22:50:17.533Z"
   },
   {
    "duration": 1441,
    "start_time": "2021-06-28T22:50:22.378Z"
   },
   {
    "duration": 7,
    "start_time": "2021-06-28T22:50:33.875Z"
   },
   {
    "duration": 6,
    "start_time": "2021-06-28T22:50:49.996Z"
   },
   {
    "duration": 7,
    "start_time": "2021-06-28T22:53:13.454Z"
   },
   {
    "duration": 902,
    "start_time": "2021-06-28T22:53:14.355Z"
   },
   {
    "duration": 891,
    "start_time": "2021-06-28T22:53:35.455Z"
   },
   {
    "duration": 913,
    "start_time": "2021-06-28T22:54:24.505Z"
   },
   {
    "duration": 911,
    "start_time": "2021-06-28T22:54:34.412Z"
   },
   {
    "duration": 97,
    "start_time": "2021-06-28T22:54:35.755Z"
   },
   {
    "duration": 1010,
    "start_time": "2021-06-28T22:54:50.656Z"
   },
   {
    "duration": 923,
    "start_time": "2021-06-28T22:54:58.534Z"
   },
   {
    "duration": 113,
    "start_time": "2021-06-28T22:55:21.957Z"
   },
   {
    "duration": 13,
    "start_time": "2021-06-28T22:57:16.028Z"
   },
   {
    "duration": 12,
    "start_time": "2021-06-28T22:57:33.263Z"
   },
   {
    "duration": 4,
    "start_time": "2021-06-28T22:57:41.007Z"
   },
   {
    "duration": 34,
    "start_time": "2021-06-28T22:57:41.014Z"
   },
   {
    "duration": 5,
    "start_time": "2021-06-28T22:57:41.051Z"
   },
   {
    "duration": 12,
    "start_time": "2021-06-28T22:57:41.059Z"
   },
   {
    "duration": 9,
    "start_time": "2021-06-28T22:57:41.074Z"
   },
   {
    "duration": 13,
    "start_time": "2021-06-28T22:57:41.086Z"
   },
   {
    "duration": 20,
    "start_time": "2021-06-28T22:57:41.102Z"
   },
   {
    "duration": 78,
    "start_time": "2021-06-28T22:57:41.126Z"
   },
   {
    "duration": 3,
    "start_time": "2021-06-28T22:57:41.207Z"
   },
   {
    "duration": 1141,
    "start_time": "2021-06-28T22:57:41.213Z"
   },
   {
    "duration": 9,
    "start_time": "2021-06-28T22:57:42.357Z"
   },
   {
    "duration": 954,
    "start_time": "2021-06-28T22:57:42.369Z"
   },
   {
    "duration": 136,
    "start_time": "2021-06-28T22:57:43.325Z"
   },
   {
    "duration": 126,
    "start_time": "2021-06-28T22:57:45.462Z"
   },
   {
    "duration": 13,
    "start_time": "2021-06-28T22:57:46.337Z"
   },
   {
    "duration": 14,
    "start_time": "2021-06-28T22:58:26.543Z"
   },
   {
    "duration": 11,
    "start_time": "2021-06-28T22:58:59.506Z"
   },
   {
    "duration": 10,
    "start_time": "2021-06-28T22:59:31.940Z"
   },
   {
    "duration": 11,
    "start_time": "2021-06-28T23:00:05.939Z"
   },
   {
    "duration": 22,
    "start_time": "2021-06-28T23:00:27.680Z"
   },
   {
    "duration": 14,
    "start_time": "2021-06-28T23:00:47.325Z"
   },
   {
    "duration": 3,
    "start_time": "2021-06-28T23:01:36.239Z"
   },
   {
    "duration": 1040,
    "start_time": "2021-06-28T23:01:36.990Z"
   },
   {
    "duration": 14,
    "start_time": "2021-06-28T23:11:05.966Z"
   },
   {
    "duration": 11,
    "start_time": "2021-06-28T23:11:20.443Z"
   },
   {
    "duration": 1462,
    "start_time": "2021-06-29T06:17:46.965Z"
   },
   {
    "duration": 41,
    "start_time": "2021-06-29T06:17:48.430Z"
   },
   {
    "duration": 6,
    "start_time": "2021-06-29T06:17:48.474Z"
   },
   {
    "duration": 14,
    "start_time": "2021-06-29T06:17:48.483Z"
   },
   {
    "duration": 6,
    "start_time": "2021-06-29T06:17:48.743Z"
   },
   {
    "duration": 5,
    "start_time": "2021-06-29T06:17:49.198Z"
   },
   {
    "duration": 11,
    "start_time": "2021-06-29T06:17:50.991Z"
   },
   {
    "duration": 59,
    "start_time": "2021-06-29T06:17:52.341Z"
   },
   {
    "duration": 4,
    "start_time": "2021-06-29T06:17:55.475Z"
   },
   {
    "duration": 1099,
    "start_time": "2021-06-29T06:17:56.100Z"
   },
   {
    "duration": 4,
    "start_time": "2021-06-29T06:17:57.989Z"
   },
   {
    "duration": 1009,
    "start_time": "2021-06-29T06:17:58.448Z"
   },
   {
    "duration": 98,
    "start_time": "2021-06-29T06:18:00.081Z"
   },
   {
    "duration": 10,
    "start_time": "2021-06-29T06:18:00.320Z"
   },
   {
    "duration": 4,
    "start_time": "2021-06-29T06:22:14.335Z"
   },
   {
    "duration": 35,
    "start_time": "2021-06-29T06:22:14.342Z"
   },
   {
    "duration": 5,
    "start_time": "2021-06-29T06:22:14.379Z"
   },
   {
    "duration": 19,
    "start_time": "2021-06-29T06:22:14.386Z"
   },
   {
    "duration": 14,
    "start_time": "2021-06-29T06:22:14.407Z"
   },
   {
    "duration": 5,
    "start_time": "2021-06-29T06:22:14.423Z"
   },
   {
    "duration": 21,
    "start_time": "2021-06-29T06:22:14.430Z"
   },
   {
    "duration": 132,
    "start_time": "2021-06-29T06:22:14.454Z"
   },
   {
    "duration": 3,
    "start_time": "2021-06-29T06:22:14.588Z"
   },
   {
    "duration": 1120,
    "start_time": "2021-06-29T06:22:14.593Z"
   },
   {
    "duration": 9,
    "start_time": "2021-06-29T06:22:15.715Z"
   },
   {
    "duration": 1032,
    "start_time": "2021-06-29T06:22:15.727Z"
   },
   {
    "duration": 11,
    "start_time": "2021-06-29T06:22:20.182Z"
   },
   {
    "duration": 8,
    "start_time": "2021-06-29T06:23:10.400Z"
   },
   {
    "duration": 9,
    "start_time": "2021-06-29T06:23:57.495Z"
   },
   {
    "duration": 5,
    "start_time": "2021-06-29T06:33:52.188Z"
   },
   {
    "duration": 154,
    "start_time": "2021-06-29T06:44:19.388Z"
   },
   {
    "duration": 25,
    "start_time": "2021-06-29T06:45:23.642Z"
   },
   {
    "duration": 23,
    "start_time": "2021-06-29T07:07:22.647Z"
   },
   {
    "duration": 26,
    "start_time": "2021-06-29T07:07:24.204Z"
   },
   {
    "duration": 10,
    "start_time": "2021-06-29T07:37:06.230Z"
   },
   {
    "duration": 10,
    "start_time": "2021-06-29T08:15:40.917Z"
   },
   {
    "duration": 10,
    "start_time": "2021-06-29T08:15:59.542Z"
   },
   {
    "duration": 399,
    "start_time": "2021-06-29T08:21:04.902Z"
   },
   {
    "duration": 12,
    "start_time": "2021-06-29T08:21:24.726Z"
   },
   {
    "duration": 14,
    "start_time": "2021-06-29T08:22:56.425Z"
   },
   {
    "duration": 59,
    "start_time": "2021-06-29T08:23:28.631Z"
   },
   {
    "duration": 9,
    "start_time": "2021-06-29T08:23:57.087Z"
   },
   {
    "duration": 5,
    "start_time": "2021-06-29T08:23:57.666Z"
   },
   {
    "duration": 24,
    "start_time": "2021-06-29T08:23:59.809Z"
   },
   {
    "duration": 27,
    "start_time": "2021-06-29T08:24:00.254Z"
   },
   {
    "duration": 10,
    "start_time": "2021-06-29T08:24:02.078Z"
   },
   {
    "duration": 56,
    "start_time": "2021-06-29T08:24:03.136Z"
   },
   {
    "duration": 9,
    "start_time": "2021-06-29T08:24:19.591Z"
   },
   {
    "duration": 1131,
    "start_time": "2021-06-29T08:24:21.318Z"
   },
   {
    "duration": 9,
    "start_time": "2021-06-29T08:24:33.665Z"
   },
   {
    "duration": 5,
    "start_time": "2021-06-29T08:24:34.776Z"
   },
   {
    "duration": 22,
    "start_time": "2021-06-29T08:24:36.439Z"
   },
   {
    "duration": 25,
    "start_time": "2021-06-29T08:24:36.636Z"
   },
   {
    "duration": 10,
    "start_time": "2021-06-29T08:24:38.101Z"
   },
   {
    "duration": 60,
    "start_time": "2021-06-29T08:24:38.830Z"
   },
   {
    "duration": 57,
    "start_time": "2021-06-29T08:25:38.682Z"
   },
   {
    "duration": 62,
    "start_time": "2021-06-29T08:26:04.890Z"
   },
   {
    "duration": 86,
    "start_time": "2021-06-29T08:26:29.985Z"
   },
   {
    "duration": 85,
    "start_time": "2021-06-29T08:26:38.045Z"
   },
   {
    "duration": 5,
    "start_time": "2021-06-29T08:26:41.926Z"
   },
   {
    "duration": 62,
    "start_time": "2021-06-29T08:26:53.488Z"
   },
   {
    "duration": 9,
    "start_time": "2021-06-29T08:27:16.919Z"
   },
   {
    "duration": 60,
    "start_time": "2021-06-29T08:27:18.212Z"
   },
   {
    "duration": 5,
    "start_time": "2021-06-29T08:27:20.725Z"
   },
   {
    "duration": 20,
    "start_time": "2021-06-29T08:27:41.986Z"
   },
   {
    "duration": 24,
    "start_time": "2021-06-29T08:27:43.096Z"
   },
   {
    "duration": 9,
    "start_time": "2021-06-29T08:28:46.514Z"
   },
   {
    "duration": 55,
    "start_time": "2021-06-29T08:28:47.807Z"
   },
   {
    "duration": 6,
    "start_time": "2021-06-29T08:28:51.258Z"
   },
   {
    "duration": 20,
    "start_time": "2021-06-29T08:28:57.457Z"
   },
   {
    "duration": 24,
    "start_time": "2021-06-29T08:28:58.775Z"
   },
   {
    "duration": 10,
    "start_time": "2021-06-29T08:29:36.682Z"
   },
   {
    "duration": 56,
    "start_time": "2021-06-29T08:29:39.111Z"
   },
   {
    "duration": 5,
    "start_time": "2021-06-29T08:29:41.793Z"
   },
   {
    "duration": 18,
    "start_time": "2021-06-29T08:29:47.020Z"
   },
   {
    "duration": 33,
    "start_time": "2021-06-29T08:30:16.097Z"
   },
   {
    "duration": 9,
    "start_time": "2021-06-29T08:30:19.535Z"
   },
   {
    "duration": 55,
    "start_time": "2021-06-29T08:30:20.288Z"
   },
   {
    "duration": 18,
    "start_time": "2021-06-29T08:30:22.518Z"
   },
   {
    "duration": 14,
    "start_time": "2021-06-29T08:33:37.330Z"
   },
   {
    "duration": 10,
    "start_time": "2021-06-29T08:34:17.157Z"
   },
   {
    "duration": 10,
    "start_time": "2021-06-29T08:34:28.560Z"
   },
   {
    "duration": 4,
    "start_time": "2021-06-29T08:34:39.115Z"
   },
   {
    "duration": 35,
    "start_time": "2021-06-29T08:34:39.122Z"
   },
   {
    "duration": 5,
    "start_time": "2021-06-29T08:34:39.257Z"
   },
   {
    "duration": 11,
    "start_time": "2021-06-29T08:34:39.264Z"
   },
   {
    "duration": 6,
    "start_time": "2021-06-29T08:34:39.278Z"
   },
   {
    "duration": 6,
    "start_time": "2021-06-29T08:34:39.287Z"
   },
   {
    "duration": 13,
    "start_time": "2021-06-29T08:34:39.295Z"
   },
   {
    "duration": 58,
    "start_time": "2021-06-29T08:34:39.323Z"
   },
   {
    "duration": 4,
    "start_time": "2021-06-29T08:34:39.384Z"
   },
   {
    "duration": 1117,
    "start_time": "2021-06-29T08:34:39.392Z"
   },
   {
    "duration": 12,
    "start_time": "2021-06-29T08:34:40.512Z"
   },
   {
    "duration": 1099,
    "start_time": "2021-06-29T08:34:40.527Z"
   },
   {
    "duration": 9,
    "start_time": "2021-06-29T08:34:41.629Z"
   },
   {
    "duration": 103,
    "start_time": "2021-06-29T08:34:41.641Z"
   },
   {
    "duration": 6,
    "start_time": "2021-06-29T08:34:41.747Z"
   },
   {
    "duration": 26,
    "start_time": "2021-06-29T08:34:41.756Z"
   },
   {
    "duration": 59,
    "start_time": "2021-06-29T08:34:41.785Z"
   },
   {
    "duration": 8,
    "start_time": "2021-06-29T08:34:41.847Z"
   },
   {
    "duration": 5,
    "start_time": "2021-06-29T08:35:12.063Z"
   },
   {
    "duration": 36,
    "start_time": "2021-06-29T08:35:12.071Z"
   },
   {
    "duration": 4,
    "start_time": "2021-06-29T08:35:12.110Z"
   },
   {
    "duration": 16,
    "start_time": "2021-06-29T08:35:12.117Z"
   },
   {
    "duration": 11,
    "start_time": "2021-06-29T08:35:12.136Z"
   },
   {
    "duration": 8,
    "start_time": "2021-06-29T08:35:12.150Z"
   },
   {
    "duration": 12,
    "start_time": "2021-06-29T08:35:12.162Z"
   },
   {
    "duration": 80,
    "start_time": "2021-06-29T08:35:12.177Z"
   },
   {
    "duration": 4,
    "start_time": "2021-06-29T08:35:12.259Z"
   },
   {
    "duration": 1106,
    "start_time": "2021-06-29T08:35:12.265Z"
   },
   {
    "duration": 4,
    "start_time": "2021-06-29T08:35:13.374Z"
   },
   {
    "duration": 1050,
    "start_time": "2021-06-29T08:35:13.381Z"
   },
   {
    "duration": 9,
    "start_time": "2021-06-29T08:35:14.433Z"
   },
   {
    "duration": 57,
    "start_time": "2021-06-29T08:35:14.444Z"
   },
   {
    "duration": 23,
    "start_time": "2021-06-29T08:35:14.503Z"
   },
   {
    "duration": 19,
    "start_time": "2021-06-29T08:35:14.528Z"
   },
   {
    "duration": 22,
    "start_time": "2021-06-29T08:35:14.550Z"
   },
   {
    "duration": 10,
    "start_time": "2021-06-29T08:35:14.575Z"
   },
   {
    "duration": 10,
    "start_time": "2021-06-29T08:35:17.729Z"
   },
   {
    "duration": 13,
    "start_time": "2021-06-29T08:35:18.566Z"
   },
   {
    "duration": 11,
    "start_time": "2021-06-29T08:35:24.051Z"
   },
   {
    "duration": 10,
    "start_time": "2021-06-29T08:35:39.332Z"
   },
   {
    "duration": 10,
    "start_time": "2021-06-29T08:35:54.817Z"
   },
   {
    "duration": 14,
    "start_time": "2021-06-29T08:35:59.907Z"
   },
   {
    "duration": 10,
    "start_time": "2021-06-29T08:36:04.196Z"
   },
   {
    "duration": 17,
    "start_time": "2021-06-29T08:36:13.529Z"
   },
   {
    "duration": 13,
    "start_time": "2021-06-29T08:36:20.873Z"
   },
   {
    "duration": 33,
    "start_time": "2021-06-29T08:37:04.284Z"
   },
   {
    "duration": 11,
    "start_time": "2021-06-29T08:37:17.168Z"
   },
   {
    "duration": 10,
    "start_time": "2021-06-29T08:37:25.166Z"
   },
   {
    "duration": 11,
    "start_time": "2021-06-29T08:37:31.846Z"
   },
   {
    "duration": 10,
    "start_time": "2021-06-29T08:37:36.494Z"
   },
   {
    "duration": 10,
    "start_time": "2021-06-29T08:37:42.398Z"
   },
   {
    "duration": 28,
    "start_time": "2021-06-29T08:37:50.559Z"
   },
   {
    "duration": 27,
    "start_time": "2021-06-29T08:38:19.935Z"
   },
   {
    "duration": 28,
    "start_time": "2021-06-29T08:38:37.093Z"
   },
   {
    "duration": 4,
    "start_time": "2021-06-29T08:38:51.198Z"
   },
   {
    "duration": 40,
    "start_time": "2021-06-29T08:38:51.205Z"
   },
   {
    "duration": 4,
    "start_time": "2021-06-29T08:38:51.248Z"
   },
   {
    "duration": 10,
    "start_time": "2021-06-29T08:38:51.255Z"
   },
   {
    "duration": 11,
    "start_time": "2021-06-29T08:38:51.268Z"
   },
   {
    "duration": 8,
    "start_time": "2021-06-29T08:38:51.281Z"
   },
   {
    "duration": 41,
    "start_time": "2021-06-29T08:38:51.291Z"
   },
   {
    "duration": 56,
    "start_time": "2021-06-29T08:38:51.336Z"
   },
   {
    "duration": 4,
    "start_time": "2021-06-29T08:38:51.394Z"
   },
   {
    "duration": 1124,
    "start_time": "2021-06-29T08:38:51.400Z"
   },
   {
    "duration": 4,
    "start_time": "2021-06-29T08:38:52.526Z"
   },
   {
    "duration": 1114,
    "start_time": "2021-06-29T08:38:52.532Z"
   },
   {
    "duration": 9,
    "start_time": "2021-06-29T08:38:53.648Z"
   },
   {
    "duration": 77,
    "start_time": "2021-06-29T08:38:53.659Z"
   },
   {
    "duration": 4,
    "start_time": "2021-06-29T08:38:53.738Z"
   },
   {
    "duration": 25,
    "start_time": "2021-06-29T08:38:53.745Z"
   },
   {
    "duration": 24,
    "start_time": "2021-06-29T08:38:53.772Z"
   },
   {
    "duration": 51,
    "start_time": "2021-06-29T08:38:53.798Z"
   },
   {
    "duration": 9,
    "start_time": "2021-06-29T08:38:57.776Z"
   },
   {
    "duration": 28,
    "start_time": "2021-06-29T08:38:58.764Z"
   },
   {
    "duration": 28,
    "start_time": "2021-06-29T08:39:08.020Z"
   },
   {
    "duration": 28,
    "start_time": "2021-06-29T08:39:32.045Z"
   },
   {
    "duration": 11,
    "start_time": "2021-06-29T08:39:43.435Z"
   },
   {
    "duration": 11,
    "start_time": "2021-06-29T08:39:54.602Z"
   },
   {
    "duration": 30,
    "start_time": "2021-06-29T08:40:15.621Z"
   },
   {
    "duration": 30,
    "start_time": "2021-06-29T08:40:32.019Z"
   },
   {
    "duration": 296,
    "start_time": "2021-06-29T08:44:30.427Z"
   },
   {
    "duration": 278,
    "start_time": "2021-06-29T08:44:41.039Z"
   },
   {
    "duration": 799,
    "start_time": "2021-06-29T08:44:50.075Z"
   },
   {
    "duration": 358,
    "start_time": "2021-06-29T08:47:10.011Z"
   },
   {
    "duration": 32,
    "start_time": "2021-06-29T08:47:18.700Z"
   },
   {
    "duration": 381,
    "start_time": "2021-06-29T08:47:37.328Z"
   },
   {
    "duration": 111,
    "start_time": "2021-06-29T08:47:54.978Z"
   },
   {
    "duration": 270,
    "start_time": "2021-06-29T08:48:19.372Z"
   },
   {
    "duration": 28,
    "start_time": "2021-06-29T08:49:30.563Z"
   },
   {
    "duration": 9,
    "start_time": "2021-06-29T08:49:55.799Z"
   },
   {
    "duration": 58,
    "start_time": "2021-06-29T08:49:56.957Z"
   },
   {
    "duration": 5,
    "start_time": "2021-06-29T08:50:00.126Z"
   },
   {
    "duration": 47,
    "start_time": "2021-06-29T08:51:55.089Z"
   },
   {
    "duration": 101,
    "start_time": "2021-06-29T08:54:50.129Z"
   },
   {
    "duration": 12,
    "start_time": "2021-06-29T08:55:04.421Z"
   },
   {
    "duration": 13,
    "start_time": "2021-06-29T08:55:19.104Z"
   },
   {
    "duration": 12,
    "start_time": "2021-06-29T08:55:25.136Z"
   },
   {
    "duration": 30,
    "start_time": "2021-06-29T08:55:52.829Z"
   },
   {
    "duration": 8,
    "start_time": "2021-06-29T08:57:47.895Z"
   },
   {
    "duration": 57,
    "start_time": "2021-06-29T08:57:48.771Z"
   },
   {
    "duration": 1470,
    "start_time": "2021-06-29T20:30:36.934Z"
   },
   {
    "duration": 31,
    "start_time": "2021-06-29T20:30:38.407Z"
   },
   {
    "duration": 5,
    "start_time": "2021-06-29T20:30:38.441Z"
   },
   {
    "duration": 9,
    "start_time": "2021-06-29T20:30:38.449Z"
   },
   {
    "duration": 6,
    "start_time": "2021-06-29T20:30:38.623Z"
   },
   {
    "duration": 5,
    "start_time": "2021-06-29T20:30:39.043Z"
   },
   {
    "duration": 11,
    "start_time": "2021-06-29T20:30:39.803Z"
   },
   {
    "duration": 62,
    "start_time": "2021-06-29T20:30:40.375Z"
   },
   {
    "duration": 4,
    "start_time": "2021-06-29T20:30:41.738Z"
   },
   {
    "duration": 1141,
    "start_time": "2021-06-29T20:30:41.984Z"
   },
   {
    "duration": 3,
    "start_time": "2021-06-29T20:30:44.349Z"
   },
   {
    "duration": 1067,
    "start_time": "2021-06-29T20:31:02.196Z"
   },
   {
    "duration": 9,
    "start_time": "2021-06-29T20:31:04.204Z"
   },
   {
    "duration": 60,
    "start_time": "2021-06-29T20:31:05.489Z"
   },
   {
    "duration": 5,
    "start_time": "2021-06-29T20:31:11.598Z"
   },
   {
    "duration": 31,
    "start_time": "2021-06-29T20:31:13.783Z"
   },
   {
    "duration": 13,
    "start_time": "2021-06-29T20:32:10.039Z"
   },
   {
    "duration": 1131,
    "start_time": "2021-06-29T20:36:26.429Z"
   },
   {
    "duration": 4,
    "start_time": "2021-06-29T20:36:29.580Z"
   },
   {
    "duration": 1068,
    "start_time": "2021-06-29T20:36:30.247Z"
   },
   {
    "duration": 1165,
    "start_time": "2021-06-29T20:40:39.518Z"
   },
   {
    "duration": 1419,
    "start_time": "2021-06-29T20:41:47.035Z"
   },
   {
    "duration": 1548,
    "start_time": "2021-06-29T20:41:56.089Z"
   },
   {
    "duration": 1411,
    "start_time": "2021-06-29T20:42:08.358Z"
   },
   {
    "duration": 1113,
    "start_time": "2021-06-29T20:42:20.813Z"
   },
   {
    "duration": 1445,
    "start_time": "2021-06-29T20:42:29.966Z"
   },
   {
    "duration": 1797,
    "start_time": "2021-06-29T20:43:21.861Z"
   },
   {
    "duration": 2751,
    "start_time": "2021-06-29T20:46:46.265Z"
   },
   {
    "duration": 1892,
    "start_time": "2021-06-29T20:47:02.231Z"
   },
   {
    "duration": 750,
    "start_time": "2021-06-29T21:02:02.573Z"
   },
   {
    "duration": 1025,
    "start_time": "2021-06-29T21:02:12.971Z"
   },
   {
    "duration": 1285,
    "start_time": "2021-06-29T21:08:10.149Z"
   },
   {
    "duration": 3,
    "start_time": "2021-06-29T21:08:29.589Z"
   },
   {
    "duration": 315,
    "start_time": "2021-06-29T21:09:05.007Z"
   },
   {
    "duration": 302,
    "start_time": "2021-06-29T21:09:19.142Z"
   },
   {
    "duration": 1288,
    "start_time": "2021-06-29T21:10:02.749Z"
   },
   {
    "duration": 315,
    "start_time": "2021-06-29T21:10:08.180Z"
   },
   {
    "duration": 539,
    "start_time": "2021-06-29T21:10:20.999Z"
   },
   {
    "duration": 415,
    "start_time": "2021-06-29T21:10:28.651Z"
   },
   {
    "duration": 409,
    "start_time": "2021-06-29T21:10:51.207Z"
   },
   {
    "duration": 1089,
    "start_time": "2021-06-29T21:11:20.452Z"
   },
   {
    "duration": 2528,
    "start_time": "2021-06-29T21:12:04.070Z"
   },
   {
    "duration": 2480,
    "start_time": "2021-06-29T21:12:28.226Z"
   },
   {
    "duration": 2604,
    "start_time": "2021-06-29T21:12:57.670Z"
   },
   {
    "duration": 2639,
    "start_time": "2021-06-29T21:13:12.288Z"
   },
   {
    "duration": 1628,
    "start_time": "2021-06-29T21:26:42.971Z"
   },
   {
    "duration": 2775,
    "start_time": "2021-06-29T21:27:03.817Z"
   },
   {
    "duration": 2474,
    "start_time": "2021-06-29T21:29:05.895Z"
   },
   {
    "duration": 2568,
    "start_time": "2021-06-29T21:29:14.708Z"
   },
   {
    "duration": 1324,
    "start_time": "2021-06-29T21:31:01.799Z"
   },
   {
    "duration": 1264,
    "start_time": "2021-06-29T21:31:13.049Z"
   },
   {
    "duration": 1715,
    "start_time": "2021-06-29T21:36:42.244Z"
   },
   {
    "duration": 1579,
    "start_time": "2021-06-29T21:37:00.486Z"
   },
   {
    "duration": 1164,
    "start_time": "2021-06-29T21:37:17.807Z"
   },
   {
    "duration": 1121,
    "start_time": "2021-06-29T21:37:28.295Z"
   },
   {
    "duration": 1597,
    "start_time": "2021-06-29T21:37:41.878Z"
   },
   {
    "duration": 1469,
    "start_time": "2021-06-29T21:37:55.141Z"
   },
   {
    "duration": 2431,
    "start_time": "2021-06-29T21:39:11.245Z"
   },
   {
    "duration": 1472,
    "start_time": "2021-06-29T21:39:28.343Z"
   },
   {
    "duration": 1470,
    "start_time": "2021-06-29T21:40:13.232Z"
   },
   {
    "duration": 1516,
    "start_time": "2021-06-29T21:40:37.442Z"
   },
   {
    "duration": 1620,
    "start_time": "2021-06-29T21:41:30.558Z"
   },
   {
    "duration": 1449,
    "start_time": "2021-06-29T21:43:24.486Z"
   },
   {
    "duration": 1018,
    "start_time": "2021-06-29T21:43:51.945Z"
   },
   {
    "duration": 1911,
    "start_time": "2021-06-29T21:44:09.216Z"
   },
   {
    "duration": 1449,
    "start_time": "2021-06-29T21:44:56.669Z"
   },
   {
    "duration": 1472,
    "start_time": "2021-06-29T21:47:12.537Z"
   },
   {
    "duration": 1463,
    "start_time": "2021-06-29T21:47:37.486Z"
   },
   {
    "duration": 1429,
    "start_time": "2021-06-29T21:47:51.825Z"
   },
   {
    "duration": 4,
    "start_time": "2021-06-29T21:49:07.398Z"
   },
   {
    "duration": 117,
    "start_time": "2021-06-29T21:56:20.069Z"
   },
   {
    "duration": 644,
    "start_time": "2021-06-29T21:56:41.034Z"
   },
   {
    "duration": 1511,
    "start_time": "2021-06-29T21:57:35.143Z"
   },
   {
    "duration": 1108,
    "start_time": "2021-06-29T21:57:48.679Z"
   },
   {
    "duration": 1999,
    "start_time": "2021-06-29T21:58:05.703Z"
   },
   {
    "duration": 1818,
    "start_time": "2021-06-29T21:58:21.587Z"
   },
   {
    "duration": 2088,
    "start_time": "2021-06-29T21:58:49.605Z"
   },
   {
    "duration": 825,
    "start_time": "2021-06-29T21:59:21.607Z"
   },
   {
    "duration": 800,
    "start_time": "2021-06-29T21:59:58.167Z"
   },
   {
    "duration": 885,
    "start_time": "2021-06-29T22:00:15.299Z"
   },
   {
    "duration": 808,
    "start_time": "2021-06-29T22:00:30.148Z"
   },
   {
    "duration": 1439,
    "start_time": "2021-06-29T22:01:01.493Z"
   },
   {
    "duration": 500,
    "start_time": "2021-06-29T22:03:13.812Z"
   },
   {
    "duration": 713,
    "start_time": "2021-06-29T22:03:25.367Z"
   },
   {
    "duration": 962,
    "start_time": "2021-06-29T22:03:35.086Z"
   },
   {
    "duration": 978,
    "start_time": "2021-06-29T22:04:06.655Z"
   },
   {
    "duration": 1556,
    "start_time": "2021-06-29T22:04:41.008Z"
   },
   {
    "duration": 1319,
    "start_time": "2021-06-29T22:05:27.690Z"
   },
   {
    "duration": 1407,
    "start_time": "2021-06-29T22:05:46.770Z"
   },
   {
    "duration": 1713,
    "start_time": "2021-06-29T22:05:58.952Z"
   },
   {
    "duration": 1334,
    "start_time": "2021-06-29T22:06:20.052Z"
   },
   {
    "duration": 921,
    "start_time": "2021-06-29T22:07:01.493Z"
   },
   {
    "duration": 1515,
    "start_time": "2021-06-29T22:07:08.979Z"
   },
   {
    "duration": 3360,
    "start_time": "2021-06-29T22:10:18.414Z"
   },
   {
    "duration": 1715,
    "start_time": "2021-06-29T22:10:33.802Z"
   },
   {
    "duration": 1464,
    "start_time": "2021-06-29T22:11:24.220Z"
   },
   {
    "duration": 1443,
    "start_time": "2021-06-29T22:11:59.499Z"
   },
   {
    "duration": 2502,
    "start_time": "2021-06-29T22:12:19.712Z"
   },
   {
    "duration": 2551,
    "start_time": "2021-06-29T22:12:37.123Z"
   },
   {
    "duration": 1914,
    "start_time": "2021-06-29T22:13:29.027Z"
   },
   {
    "duration": 2245,
    "start_time": "2021-06-29T22:13:47.908Z"
   },
   {
    "duration": 2377,
    "start_time": "2021-06-29T22:14:02.694Z"
   },
   {
    "duration": 2234,
    "start_time": "2021-06-29T22:15:48.285Z"
   },
   {
    "duration": 2417,
    "start_time": "2021-06-29T22:16:55.874Z"
   },
   {
    "duration": 1646,
    "start_time": "2021-06-29T22:16:58.295Z"
   },
   {
    "duration": 2147,
    "start_time": "2021-06-29T22:17:12.337Z"
   },
   {
    "duration": 2012,
    "start_time": "2021-06-29T22:17:38.505Z"
   },
   {
    "duration": 1797,
    "start_time": "2021-06-29T22:17:52.971Z"
   },
   {
    "duration": 2766,
    "start_time": "2021-06-29T22:18:05.565Z"
   },
   {
    "duration": 2198,
    "start_time": "2021-06-29T22:18:21.142Z"
   },
   {
    "duration": 2427,
    "start_time": "2021-06-29T22:19:36.047Z"
   },
   {
    "duration": 2608,
    "start_time": "2021-06-29T22:20:14.221Z"
   },
   {
    "duration": 2406,
    "start_time": "2021-06-29T22:20:52.995Z"
   },
   {
    "duration": 106,
    "start_time": "2021-06-29T22:22:26.000Z"
   },
   {
    "duration": 1438,
    "start_time": "2021-06-29T22:22:38.560Z"
   },
   {
    "duration": 1728,
    "start_time": "2021-06-29T22:22:54.428Z"
   },
   {
    "duration": 1832,
    "start_time": "2021-06-29T22:23:44.696Z"
   },
   {
    "duration": 3763,
    "start_time": "2021-06-29T22:24:56.813Z"
   },
   {
    "duration": 1405,
    "start_time": "2021-06-29T22:25:39.536Z"
   },
   {
    "duration": 1269,
    "start_time": "2021-06-29T22:26:33.115Z"
   },
   {
    "duration": 1552,
    "start_time": "2021-06-29T22:28:41.712Z"
   },
   {
    "duration": 990,
    "start_time": "2021-06-29T22:31:38.885Z"
   },
   {
    "duration": 2284,
    "start_time": "2021-06-29T22:32:22.571Z"
   },
   {
    "duration": 1464,
    "start_time": "2021-06-29T22:34:19.684Z"
   },
   {
    "duration": 1003,
    "start_time": "2021-06-29T22:34:37.227Z"
   },
   {
    "duration": 967,
    "start_time": "2021-06-29T22:35:06.249Z"
   },
   {
    "duration": 1305,
    "start_time": "2021-06-29T22:35:22.898Z"
   },
   {
    "duration": 1153,
    "start_time": "2021-06-29T22:35:35.846Z"
   },
   {
    "duration": 1439,
    "start_time": "2021-06-29T22:36:03.055Z"
   },
   {
    "duration": 1145,
    "start_time": "2021-06-29T22:36:20.545Z"
   },
   {
    "duration": 1520,
    "start_time": "2021-06-29T22:36:59.199Z"
   },
   {
    "duration": 1461,
    "start_time": "2021-06-29T22:37:09.389Z"
   },
   {
    "duration": 1497,
    "start_time": "2021-06-29T22:37:24.130Z"
   },
   {
    "duration": 1290,
    "start_time": "2021-06-29T22:37:30.519Z"
   },
   {
    "duration": 911,
    "start_time": "2021-06-29T22:38:24.447Z"
   },
   {
    "duration": 1124,
    "start_time": "2021-06-29T22:38:36.425Z"
   },
   {
    "duration": 568,
    "start_time": "2021-06-29T22:40:26.777Z"
   },
   {
    "duration": 1167,
    "start_time": "2021-06-29T22:42:22.892Z"
   },
   {
    "duration": 1343,
    "start_time": "2021-06-29T22:42:35.234Z"
   },
   {
    "duration": 1439,
    "start_time": "2021-06-29T22:44:53.759Z"
   },
   {
    "duration": 1452,
    "start_time": "2021-06-29T22:45:17.829Z"
   },
   {
    "duration": 1594,
    "start_time": "2021-06-29T22:45:36.883Z"
   },
   {
    "duration": 990,
    "start_time": "2021-06-29T22:45:45.441Z"
   },
   {
    "duration": 1157,
    "start_time": "2021-06-29T22:46:10.080Z"
   },
   {
    "duration": 1126,
    "start_time": "2021-06-29T22:46:25.507Z"
   },
   {
    "duration": 1685,
    "start_time": "2021-06-29T22:48:58.429Z"
   },
   {
    "duration": 662,
    "start_time": "2021-06-29T22:49:37.496Z"
   },
   {
    "duration": 800,
    "start_time": "2021-06-29T22:50:01.259Z"
   },
   {
    "duration": 696,
    "start_time": "2021-06-29T22:50:24.122Z"
   },
   {
    "duration": 565,
    "start_time": "2021-06-29T22:50:34.492Z"
   },
   {
    "duration": 1137,
    "start_time": "2021-06-29T22:51:04.631Z"
   },
   {
    "duration": 1140,
    "start_time": "2021-06-29T22:52:27.033Z"
   },
   {
    "duration": 1129,
    "start_time": "2021-06-29T22:52:48.390Z"
   },
   {
    "duration": 1004,
    "start_time": "2021-06-29T22:53:04.323Z"
   },
   {
    "duration": 707,
    "start_time": "2021-06-29T22:53:37.741Z"
   },
   {
    "duration": 696,
    "start_time": "2021-06-29T22:54:06.620Z"
   },
   {
    "duration": 1279,
    "start_time": "2021-06-29T22:57:48.502Z"
   },
   {
    "duration": 1159,
    "start_time": "2021-06-29T22:57:58.863Z"
   },
   {
    "duration": 1143,
    "start_time": "2021-06-29T23:00:13.723Z"
   },
   {
    "duration": 1212,
    "start_time": "2021-06-29T23:00:26.997Z"
   },
   {
    "duration": 1144,
    "start_time": "2021-06-29T23:02:27.990Z"
   },
   {
    "duration": 1341,
    "start_time": "2021-06-29T23:02:36.773Z"
   },
   {
    "duration": 1132,
    "start_time": "2021-06-29T23:02:51.720Z"
   },
   {
    "duration": 1111,
    "start_time": "2021-06-29T23:03:28.981Z"
   },
   {
    "duration": 1363,
    "start_time": "2021-06-29T23:05:18.566Z"
   },
   {
    "duration": 1197,
    "start_time": "2021-06-29T23:10:00.758Z"
   },
   {
    "duration": 776,
    "start_time": "2021-06-29T23:10:09.279Z"
   },
   {
    "duration": 710,
    "start_time": "2021-06-29T23:10:12.869Z"
   },
   {
    "duration": 372,
    "start_time": "2021-06-29T23:10:25.314Z"
   },
   {
    "duration": 502,
    "start_time": "2021-06-29T23:10:54.435Z"
   },
   {
    "duration": 664,
    "start_time": "2021-06-29T23:11:42.747Z"
   },
   {
    "duration": 801,
    "start_time": "2021-06-29T23:12:07.168Z"
   },
   {
    "duration": 929,
    "start_time": "2021-06-29T23:13:32.273Z"
   },
   {
    "duration": 975,
    "start_time": "2021-06-29T23:14:19.538Z"
   },
   {
    "duration": 760,
    "start_time": "2021-06-29T23:14:37.755Z"
   },
   {
    "duration": 700,
    "start_time": "2021-06-29T23:15:03.977Z"
   },
   {
    "duration": 708,
    "start_time": "2021-06-29T23:15:12.092Z"
   },
   {
    "duration": 898,
    "start_time": "2021-06-29T23:15:18.962Z"
   },
   {
    "duration": 743,
    "start_time": "2021-06-29T23:15:29.014Z"
   },
   {
    "duration": 760,
    "start_time": "2021-06-29T23:15:55.448Z"
   },
   {
    "duration": 836,
    "start_time": "2021-06-29T23:16:20.116Z"
   },
   {
    "duration": 745,
    "start_time": "2021-06-29T23:16:32.969Z"
   },
   {
    "duration": 756,
    "start_time": "2021-06-29T23:16:41.728Z"
   },
   {
    "duration": 918,
    "start_time": "2021-06-29T23:16:58.009Z"
   },
   {
    "duration": 763,
    "start_time": "2021-06-29T23:17:11.492Z"
   },
   {
    "duration": 1153,
    "start_time": "2021-06-29T23:17:54.959Z"
   },
   {
    "duration": 1943,
    "start_time": "2021-06-29T23:18:29.510Z"
   },
   {
    "duration": 1180,
    "start_time": "2021-06-29T23:19:02.966Z"
   },
   {
    "duration": 1727,
    "start_time": "2021-06-29T23:19:40.563Z"
   },
   {
    "duration": 1864,
    "start_time": "2021-06-29T23:20:31.501Z"
   },
   {
    "duration": 766,
    "start_time": "2021-06-29T23:20:52.442Z"
   },
   {
    "duration": 4577,
    "start_time": "2021-06-29T23:21:11.767Z"
   },
   {
    "duration": 124,
    "start_time": "2021-06-29T23:21:43.697Z"
   },
   {
    "duration": 4179,
    "start_time": "2021-06-29T23:21:46.963Z"
   },
   {
    "duration": 1108,
    "start_time": "2021-06-29T23:23:08.328Z"
   },
   {
    "duration": 1159,
    "start_time": "2021-06-29T23:23:15.666Z"
   },
   {
    "duration": 1193,
    "start_time": "2021-06-29T23:24:41.357Z"
   },
   {
    "duration": 633,
    "start_time": "2021-06-29T23:24:53.381Z"
   },
   {
    "duration": 844,
    "start_time": "2021-06-29T23:25:19.441Z"
   },
   {
    "duration": 1034,
    "start_time": "2021-06-29T23:25:30.365Z"
   },
   {
    "duration": 1019,
    "start_time": "2021-06-29T23:25:53.797Z"
   },
   {
    "duration": 993,
    "start_time": "2021-06-29T23:26:15.019Z"
   },
   {
    "duration": 1411,
    "start_time": "2021-06-29T23:27:11.153Z"
   },
   {
    "duration": 1565,
    "start_time": "2021-06-29T23:27:22.217Z"
   },
   {
    "duration": 1589,
    "start_time": "2021-06-29T23:28:37.540Z"
   },
   {
    "duration": 1484,
    "start_time": "2021-06-29T23:29:07.103Z"
   },
   {
    "duration": 1208,
    "start_time": "2021-06-29T23:29:31.933Z"
   },
   {
    "duration": 1292,
    "start_time": "2021-06-29T23:29:46.881Z"
   },
   {
    "duration": 1650,
    "start_time": "2021-06-29T23:30:14.893Z"
   },
   {
    "duration": 2463,
    "start_time": "2021-06-29T23:31:59.679Z"
   },
   {
    "duration": 1860,
    "start_time": "2021-06-29T23:32:28.174Z"
   },
   {
    "duration": 1125,
    "start_time": "2021-06-29T23:34:12.802Z"
   },
   {
    "duration": 1889,
    "start_time": "2021-06-29T23:34:56.643Z"
   },
   {
    "duration": 1908,
    "start_time": "2021-06-29T23:35:08.422Z"
   },
   {
    "duration": 2267,
    "start_time": "2021-06-29T23:35:22.942Z"
   },
   {
    "duration": 1155,
    "start_time": "2021-06-29T23:36:01.370Z"
   },
   {
    "duration": 1458,
    "start_time": "2021-06-29T23:36:30.176Z"
   },
   {
    "duration": 2117,
    "start_time": "2021-06-29T23:38:58.951Z"
   },
   {
    "duration": 1451,
    "start_time": "2021-06-29T23:39:43.019Z"
   },
   {
    "duration": 1004,
    "start_time": "2021-06-29T23:40:00.876Z"
   },
   {
    "duration": 1880,
    "start_time": "2021-06-29T23:40:22.904Z"
   },
   {
    "duration": 1007,
    "start_time": "2021-06-29T23:43:24.390Z"
   },
   {
    "duration": 2127,
    "start_time": "2021-06-29T23:44:08.255Z"
   },
   {
    "duration": 1575,
    "start_time": "2021-06-29T23:49:55.548Z"
   },
   {
    "duration": 1107,
    "start_time": "2021-06-29T23:50:25.545Z"
   },
   {
    "duration": 1120,
    "start_time": "2021-06-29T23:50:38.317Z"
   },
   {
    "duration": 1365,
    "start_time": "2021-06-29T23:50:52.557Z"
   },
   {
    "duration": 542,
    "start_time": "2021-06-29T23:51:15.934Z"
   },
   {
    "duration": 1213,
    "start_time": "2021-06-29T23:51:31.322Z"
   },
   {
    "duration": 1118,
    "start_time": "2021-06-29T23:53:23.665Z"
   },
   {
    "duration": 1230,
    "start_time": "2021-06-29T23:53:51.002Z"
   },
   {
    "duration": 1472,
    "start_time": "2021-06-29T23:54:11.618Z"
   },
   {
    "duration": 1177,
    "start_time": "2021-06-29T23:56:17.820Z"
   },
   {
    "duration": 1405,
    "start_time": "2021-06-29T23:57:31.725Z"
   },
   {
    "duration": 732,
    "start_time": "2021-06-29T23:57:49.152Z"
   },
   {
    "duration": 1509,
    "start_time": "2021-06-30T00:02:00.799Z"
   },
   {
    "duration": 1255,
    "start_time": "2021-06-30T00:02:22.589Z"
   },
   {
    "duration": 3,
    "start_time": "2021-06-30T00:02:26.706Z"
   },
   {
    "duration": 1447,
    "start_time": "2021-06-30T00:02:32.280Z"
   },
   {
    "duration": 1145,
    "start_time": "2021-06-30T00:03:06.057Z"
   },
   {
    "duration": 1472,
    "start_time": "2021-06-30T00:04:50.787Z"
   },
   {
    "duration": 1453,
    "start_time": "2021-06-30T00:05:07.628Z"
   },
   {
    "duration": 1030,
    "start_time": "2021-06-30T00:05:35.079Z"
   },
   {
    "duration": 1014,
    "start_time": "2021-06-30T00:05:53.453Z"
   },
   {
    "duration": 923,
    "start_time": "2021-06-30T00:06:39.446Z"
   },
   {
    "duration": 1076,
    "start_time": "2021-06-30T00:06:48.116Z"
   },
   {
    "duration": 4,
    "start_time": "2021-06-30T00:07:29.105Z"
   },
   {
    "duration": 1059,
    "start_time": "2021-06-30T00:07:38.773Z"
   },
   {
    "duration": 1068,
    "start_time": "2021-06-30T00:11:35.143Z"
   },
   {
    "duration": 1068,
    "start_time": "2021-06-30T00:11:55.430Z"
   },
   {
    "duration": 1080,
    "start_time": "2021-06-30T00:12:10.154Z"
   },
   {
    "duration": 1101,
    "start_time": "2021-06-30T00:12:22.155Z"
   },
   {
    "duration": 1069,
    "start_time": "2021-06-30T00:12:29.368Z"
   },
   {
    "duration": 1054,
    "start_time": "2021-06-30T00:12:35.608Z"
   },
   {
    "duration": 9,
    "start_time": "2021-06-30T00:14:13.781Z"
   },
   {
    "duration": 60,
    "start_time": "2021-06-30T00:14:14.470Z"
   },
   {
    "duration": 10,
    "start_time": "2021-06-30T00:16:14.847Z"
   },
   {
    "duration": 55,
    "start_time": "2021-06-30T00:16:15.663Z"
   },
   {
    "duration": 57,
    "start_time": "2021-06-30T00:17:59.728Z"
   },
   {
    "duration": 6,
    "start_time": "2021-06-30T00:18:00.800Z"
   },
   {
    "duration": 12,
    "start_time": "2021-06-30T00:18:04.600Z"
   },
   {
    "duration": 9,
    "start_time": "2021-06-30T00:19:06.137Z"
   },
   {
    "duration": 56,
    "start_time": "2021-06-30T00:19:07.320Z"
   },
   {
    "duration": 335,
    "start_time": "2021-06-30T00:19:42.847Z"
   },
   {
    "duration": 9,
    "start_time": "2021-06-30T00:20:04.993Z"
   },
   {
    "duration": 59,
    "start_time": "2021-06-30T00:20:08.076Z"
   },
   {
    "duration": 8,
    "start_time": "2021-06-30T00:20:53.642Z"
   },
   {
    "duration": 59,
    "start_time": "2021-06-30T00:20:55.415Z"
   },
   {
    "duration": 5,
    "start_time": "2021-06-30T00:21:18.005Z"
   },
   {
    "duration": 9,
    "start_time": "2021-06-30T00:21:58.481Z"
   },
   {
    "duration": 58,
    "start_time": "2021-06-30T00:21:59.090Z"
   },
   {
    "duration": 8,
    "start_time": "2021-06-30T00:22:51.965Z"
   },
   {
    "duration": 56,
    "start_time": "2021-06-30T00:22:53.369Z"
   },
   {
    "duration": 5,
    "start_time": "2021-06-30T00:23:03.901Z"
   },
   {
    "duration": 12,
    "start_time": "2021-06-30T00:23:22.743Z"
   },
   {
    "duration": 31,
    "start_time": "2021-06-30T00:24:25.973Z"
   },
   {
    "duration": 1322,
    "start_time": "2021-06-30T00:26:24.976Z"
   },
   {
    "duration": 1180,
    "start_time": "2021-06-30T00:26:39.881Z"
   },
   {
    "duration": 1368,
    "start_time": "2021-06-30T00:29:49.047Z"
   },
   {
    "duration": 2664,
    "start_time": "2021-06-30T00:29:59.207Z"
   },
   {
    "duration": 1186,
    "start_time": "2021-06-30T00:30:48.126Z"
   },
   {
    "duration": 1191,
    "start_time": "2021-06-30T00:30:57.518Z"
   },
   {
    "duration": 1034,
    "start_time": "2021-06-30T00:32:16.844Z"
   },
   {
    "duration": 1205,
    "start_time": "2021-06-30T00:32:31.065Z"
   },
   {
    "duration": 1486,
    "start_time": "2021-06-30T00:34:02.239Z"
   },
   {
    "duration": 1207,
    "start_time": "2021-06-30T00:34:21.601Z"
   },
   {
    "duration": 1193,
    "start_time": "2021-06-30T00:34:38.545Z"
   },
   {
    "duration": 1338,
    "start_time": "2021-06-30T00:35:50.863Z"
   },
   {
    "duration": 1228,
    "start_time": "2021-06-30T00:36:07.046Z"
   },
   {
    "duration": 1164,
    "start_time": "2021-06-30T00:37:49.959Z"
   },
   {
    "duration": 1339,
    "start_time": "2021-06-30T00:38:02.996Z"
   },
   {
    "duration": 1165,
    "start_time": "2021-06-30T00:38:12.478Z"
   },
   {
    "duration": 746,
    "start_time": "2021-06-30T00:38:37.158Z"
   },
   {
    "duration": 1180,
    "start_time": "2021-06-30T00:40:59.107Z"
   },
   {
    "duration": 1187,
    "start_time": "2021-06-30T00:41:32.174Z"
   },
   {
    "duration": 1193,
    "start_time": "2021-06-30T00:41:41.337Z"
   },
   {
    "duration": 1437,
    "start_time": "2021-06-30T00:41:53.990Z"
   },
   {
    "duration": 1204,
    "start_time": "2021-06-30T00:43:07.915Z"
   },
   {
    "duration": 1198,
    "start_time": "2021-06-30T00:43:18.515Z"
   },
   {
    "duration": 8,
    "start_time": "2021-06-30T00:50:52.060Z"
   },
   {
    "duration": 11,
    "start_time": "2021-06-30T00:51:13.938Z"
   },
   {
    "duration": 11,
    "start_time": "2021-06-30T00:51:34.969Z"
   },
   {
    "duration": 47,
    "start_time": "2021-06-30T00:52:01.645Z"
   },
   {
    "duration": 12,
    "start_time": "2021-06-30T00:52:57.390Z"
   },
   {
    "duration": 5,
    "start_time": "2021-06-30T00:52:59.509Z"
   },
   {
    "duration": 7,
    "start_time": "2021-06-30T00:53:53.830Z"
   },
   {
    "duration": 23,
    "start_time": "2021-06-30T00:54:07.798Z"
   },
   {
    "duration": 24,
    "start_time": "2021-06-30T00:54:18.118Z"
   },
   {
    "duration": 27,
    "start_time": "2021-06-30T00:54:36.390Z"
   },
   {
    "duration": 7,
    "start_time": "2021-06-30T00:55:00.891Z"
   },
   {
    "duration": 7,
    "start_time": "2021-06-30T00:55:15.731Z"
   },
   {
    "duration": 27,
    "start_time": "2021-06-30T00:55:25.003Z"
   },
   {
    "duration": 345,
    "start_time": "2021-06-30T00:56:05.431Z"
   },
   {
    "duration": 358,
    "start_time": "2021-06-30T00:56:20.967Z"
   },
   {
    "duration": 36,
    "start_time": "2021-06-30T00:58:33.488Z"
   },
   {
    "duration": 6,
    "start_time": "2021-06-30T00:59:56.670Z"
   },
   {
    "duration": 5,
    "start_time": "2021-06-30T01:00:17.899Z"
   },
   {
    "duration": 12,
    "start_time": "2021-06-30T01:01:49.782Z"
   },
   {
    "duration": 13,
    "start_time": "2021-06-30T01:07:26.359Z"
   },
   {
    "duration": 6,
    "start_time": "2021-06-30T01:09:47.488Z"
   },
   {
    "duration": 1576,
    "start_time": "2021-06-30T01:10:59.449Z"
   },
   {
    "duration": 7,
    "start_time": "2021-06-30T01:11:30.004Z"
   },
   {
    "duration": 50,
    "start_time": "2021-06-30T01:11:30.014Z"
   },
   {
    "duration": 5,
    "start_time": "2021-06-30T01:11:30.068Z"
   },
   {
    "duration": 13,
    "start_time": "2021-06-30T01:11:30.077Z"
   },
   {
    "duration": 21,
    "start_time": "2021-06-30T01:11:30.093Z"
   },
   {
    "duration": 27,
    "start_time": "2021-06-30T01:11:30.117Z"
   },
   {
    "duration": 39,
    "start_time": "2021-06-30T01:11:30.146Z"
   },
   {
    "duration": 70,
    "start_time": "2021-06-30T01:11:30.189Z"
   },
   {
    "duration": 4,
    "start_time": "2021-06-30T01:11:30.261Z"
   },
   {
    "duration": 1100,
    "start_time": "2021-06-30T01:11:30.268Z"
   },
   {
    "duration": 5,
    "start_time": "2021-06-30T01:11:31.371Z"
   },
   {
    "duration": 33,
    "start_time": "2021-06-30T01:11:31.378Z"
   },
   {
    "duration": 4,
    "start_time": "2021-06-30T01:11:33.091Z"
   },
   {
    "duration": 1861,
    "start_time": "2021-06-30T01:11:33.905Z"
   },
   {
    "duration": 1599,
    "start_time": "2021-06-30T01:12:33.947Z"
   },
   {
    "duration": 2048,
    "start_time": "2021-06-30T01:15:48.375Z"
   },
   {
    "duration": 2054,
    "start_time": "2021-06-30T01:16:43.468Z"
   },
   {
    "duration": 2356,
    "start_time": "2021-06-30T01:17:08.053Z"
   },
   {
    "duration": 2242,
    "start_time": "2021-06-30T01:17:55.022Z"
   },
   {
    "duration": 2071,
    "start_time": "2021-06-30T01:18:09.768Z"
   },
   {
    "duration": 4,
    "start_time": "2021-06-30T01:25:48.337Z"
   },
   {
    "duration": 3143,
    "start_time": "2021-06-30T01:25:49.570Z"
   },
   {
    "duration": 2673,
    "start_time": "2021-06-30T01:26:28.814Z"
   },
   {
    "duration": 2623,
    "start_time": "2021-06-30T01:27:06.930Z"
   },
   {
    "duration": 2718,
    "start_time": "2021-06-30T01:27:26.436Z"
   },
   {
    "duration": 2320,
    "start_time": "2021-06-30T01:27:38.477Z"
   },
   {
    "duration": 2916,
    "start_time": "2021-06-30T01:27:51.002Z"
   },
   {
    "duration": 2656,
    "start_time": "2021-06-30T01:28:02.714Z"
   },
   {
    "duration": 4,
    "start_time": "2021-06-30T01:29:28.824Z"
   },
   {
    "duration": 1741,
    "start_time": "2021-06-30T01:29:29.540Z"
   },
   {
    "duration": 1478,
    "start_time": "2021-06-30T01:29:42.326Z"
   },
   {
    "duration": 6,
    "start_time": "2021-06-30T01:29:48.593Z"
   },
   {
    "duration": 1439,
    "start_time": "2021-06-30T01:29:49.293Z"
   },
   {
    "duration": 1833,
    "start_time": "2021-06-30T01:30:14.696Z"
   },
   {
    "duration": 1677,
    "start_time": "2021-06-30T01:31:50.392Z"
   },
   {
    "duration": 1976,
    "start_time": "2021-06-30T01:31:58.901Z"
   },
   {
    "duration": 1689,
    "start_time": "2021-06-30T01:32:11.799Z"
   },
   {
    "duration": 1779,
    "start_time": "2021-06-30T01:32:40.812Z"
   },
   {
    "duration": 1778,
    "start_time": "2021-06-30T01:32:58.460Z"
   },
   {
    "duration": 2112,
    "start_time": "2021-06-30T01:33:16.676Z"
   },
   {
    "duration": 1905,
    "start_time": "2021-06-30T01:34:06.727Z"
   },
   {
    "duration": 4,
    "start_time": "2021-06-30T01:34:16.346Z"
   },
   {
    "duration": 1869,
    "start_time": "2021-06-30T01:34:16.954Z"
   },
   {
    "duration": 863,
    "start_time": "2021-06-30T01:35:19.015Z"
   },
   {
    "duration": 1301,
    "start_time": "2021-06-30T01:35:42.076Z"
   },
   {
    "duration": 949,
    "start_time": "2021-06-30T01:35:53.026Z"
   },
   {
    "duration": 1265,
    "start_time": "2021-06-30T01:36:03.397Z"
   },
   {
    "duration": 348,
    "start_time": "2021-06-30T01:39:12.370Z"
   },
   {
    "duration": 735,
    "start_time": "2021-06-30T01:39:34.897Z"
   },
   {
    "duration": 10,
    "start_time": "2021-06-30T01:39:46.746Z"
   },
   {
    "duration": 5,
    "start_time": "2021-06-30T01:39:49.065Z"
   },
   {
    "duration": 13,
    "start_time": "2021-06-30T01:39:52.739Z"
   },
   {
    "duration": 19,
    "start_time": "2021-06-30T01:46:07.215Z"
   },
   {
    "duration": 24,
    "start_time": "2021-06-30T01:46:08.289Z"
   },
   {
    "duration": 10,
    "start_time": "2021-06-30T01:46:18.549Z"
   },
   {
    "duration": 118,
    "start_time": "2021-06-30T01:46:22.347Z"
   },
   {
    "duration": 10,
    "start_time": "2021-06-30T01:47:05.001Z"
   },
   {
    "duration": 6,
    "start_time": "2021-06-30T01:47:05.816Z"
   },
   {
    "duration": 21,
    "start_time": "2021-06-30T01:48:46.292Z"
   },
   {
    "duration": 22,
    "start_time": "2021-06-30T01:49:03.468Z"
   },
   {
    "duration": 28,
    "start_time": "2021-06-30T01:49:04.306Z"
   },
   {
    "duration": 9,
    "start_time": "2021-06-30T01:49:38.447Z"
   },
   {
    "duration": 345,
    "start_time": "2021-06-30T01:58:40.633Z"
   },
   {
    "duration": 14,
    "start_time": "2021-06-30T01:59:24.956Z"
   },
   {
    "duration": 350,
    "start_time": "2021-06-30T02:00:24.756Z"
   },
   {
    "duration": 13,
    "start_time": "2021-06-30T02:01:05.681Z"
   },
   {
    "duration": 14,
    "start_time": "2021-06-30T02:01:56.693Z"
   },
   {
    "duration": 334,
    "start_time": "2021-06-30T02:02:45.201Z"
   },
   {
    "duration": 14,
    "start_time": "2021-06-30T02:03:08.106Z"
   },
   {
    "duration": 21,
    "start_time": "2021-06-30T02:04:59.846Z"
   },
   {
    "duration": 332,
    "start_time": "2021-06-30T02:06:10.279Z"
   },
   {
    "duration": 350,
    "start_time": "2021-06-30T02:06:28.353Z"
   },
   {
    "duration": 352,
    "start_time": "2021-06-30T02:06:50.055Z"
   },
   {
    "duration": 16,
    "start_time": "2021-06-30T02:06:56.503Z"
   },
   {
    "duration": 123,
    "start_time": "2021-06-30T02:07:24.961Z"
   },
   {
    "duration": 104,
    "start_time": "2021-06-30T02:07:32.927Z"
   },
   {
    "duration": 21,
    "start_time": "2021-06-30T02:07:45.519Z"
   },
   {
    "duration": 350,
    "start_time": "2021-06-30T02:07:55.750Z"
   },
   {
    "duration": 20,
    "start_time": "2021-06-30T02:08:04.344Z"
   },
   {
    "duration": 20,
    "start_time": "2021-06-30T02:08:26.331Z"
   },
   {
    "duration": 22,
    "start_time": "2021-06-30T02:09:39.021Z"
   },
   {
    "duration": 22,
    "start_time": "2021-06-30T02:10:19.456Z"
   },
   {
    "duration": 20,
    "start_time": "2021-06-30T02:10:38.294Z"
   },
   {
    "duration": 21,
    "start_time": "2021-06-30T02:10:51.397Z"
   },
   {
    "duration": 1032,
    "start_time": "2021-06-30T02:19:33.882Z"
   },
   {
    "duration": 65,
    "start_time": "2021-06-30T02:19:41.773Z"
   },
   {
    "duration": 21,
    "start_time": "2021-06-30T02:19:56.846Z"
   },
   {
    "duration": 24,
    "start_time": "2021-06-30T02:20:27.382Z"
   },
   {
    "duration": 19,
    "start_time": "2021-06-30T02:20:31.497Z"
   },
   {
    "duration": 325,
    "start_time": "2021-06-30T02:22:48.117Z"
   },
   {
    "duration": 19,
    "start_time": "2021-06-30T02:22:56.192Z"
   },
   {
    "duration": 114,
    "start_time": "2021-06-30T02:24:53.056Z"
   },
   {
    "duration": 374,
    "start_time": "2021-06-30T02:24:59.626Z"
   },
   {
    "duration": 121,
    "start_time": "2021-06-30T02:26:15.148Z"
   },
   {
    "duration": 354,
    "start_time": "2021-06-30T02:26:25.282Z"
   },
   {
    "duration": 363,
    "start_time": "2021-06-30T02:26:50.519Z"
   },
   {
    "duration": 20,
    "start_time": "2021-06-30T02:27:26.412Z"
   },
   {
    "duration": 119,
    "start_time": "2021-06-30T02:27:36.582Z"
   },
   {
    "duration": 19,
    "start_time": "2021-06-30T02:28:03.590Z"
   },
   {
    "duration": 20,
    "start_time": "2021-06-30T02:28:07.696Z"
   },
   {
    "duration": 387,
    "start_time": "2021-06-30T02:30:31.346Z"
   },
   {
    "duration": 26,
    "start_time": "2021-06-30T02:30:51.548Z"
   },
   {
    "duration": 25,
    "start_time": "2021-06-30T02:31:18.740Z"
   },
   {
    "duration": 1507,
    "start_time": "2021-06-30T07:22:51.037Z"
   },
   {
    "duration": 33,
    "start_time": "2021-06-30T07:22:52.546Z"
   },
   {
    "duration": 5,
    "start_time": "2021-06-30T07:22:52.582Z"
   },
   {
    "duration": 24,
    "start_time": "2021-06-30T07:22:52.590Z"
   },
   {
    "duration": 16,
    "start_time": "2021-06-30T07:22:52.617Z"
   },
   {
    "duration": 24,
    "start_time": "2021-06-30T07:22:52.636Z"
   },
   {
    "duration": 30,
    "start_time": "2021-06-30T07:22:52.663Z"
   },
   {
    "duration": 71,
    "start_time": "2021-06-30T07:22:52.698Z"
   },
   {
    "duration": 22,
    "start_time": "2021-06-30T07:22:52.772Z"
   },
   {
    "duration": 43,
    "start_time": "2021-06-30T07:22:52.797Z"
   },
   {
    "duration": 4,
    "start_time": "2021-06-30T07:22:52.842Z"
   },
   {
    "duration": 1776,
    "start_time": "2021-06-30T07:22:52.848Z"
   },
   {
    "duration": 4,
    "start_time": "2021-06-30T07:22:54.627Z"
   },
   {
    "duration": 1982,
    "start_time": "2021-06-30T07:22:54.633Z"
   },
   {
    "duration": 1152,
    "start_time": "2021-06-30T07:22:56.624Z"
   },
   {
    "duration": 10,
    "start_time": "2021-06-30T07:22:57.778Z"
   },
   {
    "duration": 7,
    "start_time": "2021-06-30T07:22:57.790Z"
   },
   {
    "duration": 15,
    "start_time": "2021-06-30T07:22:57.825Z"
   },
   {
    "duration": 701,
    "start_time": "2021-06-30T07:22:57.843Z"
   },
   {
    "duration": 1890,
    "start_time": "2021-06-30T07:24:31.816Z"
   },
   {
    "duration": 12,
    "start_time": "2021-06-30T07:28:17.259Z"
   },
   {
    "duration": 2119,
    "start_time": "2021-06-30T07:28:23.770Z"
   },
   {
    "duration": 11,
    "start_time": "2021-06-30T07:28:52.695Z"
   },
   {
    "duration": 6,
    "start_time": "2021-06-30T07:28:58.257Z"
   },
   {
    "duration": 14,
    "start_time": "2021-06-30T07:29:02.060Z"
   },
   {
    "duration": 27,
    "start_time": "2021-06-30T07:29:03.822Z"
   },
   {
    "duration": 1901,
    "start_time": "2021-06-30T07:29:06.629Z"
   },
   {
    "duration": 11,
    "start_time": "2021-06-30T07:46:00.856Z"
   },
   {
    "duration": 5,
    "start_time": "2021-06-30T07:46:01.498Z"
   },
   {
    "duration": 16,
    "start_time": "2021-06-30T07:46:02.802Z"
   },
   {
    "duration": 38,
    "start_time": "2021-06-30T07:46:11.168Z"
   },
   {
    "duration": 1898,
    "start_time": "2021-06-30T07:46:39.329Z"
   },
   {
    "duration": 2020,
    "start_time": "2021-06-30T07:47:18.838Z"
   },
   {
    "duration": 1743,
    "start_time": "2021-06-30T07:47:48.096Z"
   },
   {
    "duration": 1932,
    "start_time": "2021-06-30T07:48:12.299Z"
   },
   {
    "duration": 167,
    "start_time": "2021-06-30T08:11:30.765Z"
   },
   {
    "duration": 7,
    "start_time": "2021-06-30T08:11:42.478Z"
   },
   {
    "duration": 6,
    "start_time": "2021-06-30T08:12:11.266Z"
   },
   {
    "duration": 5,
    "start_time": "2021-06-30T08:13:54.905Z"
   },
   {
    "duration": 12,
    "start_time": "2021-06-30T08:14:02.366Z"
   },
   {
    "duration": 7,
    "start_time": "2021-06-30T08:14:58.236Z"
   },
   {
    "duration": 16,
    "start_time": "2021-06-30T08:15:04.768Z"
   },
   {
    "duration": 7,
    "start_time": "2021-06-30T08:15:55.491Z"
   },
   {
    "duration": 12,
    "start_time": "2021-06-30T08:16:02.098Z"
   },
   {
    "duration": 5,
    "start_time": "2021-06-30T08:16:48.880Z"
   },
   {
    "duration": 32,
    "start_time": "2021-06-30T08:16:48.889Z"
   },
   {
    "duration": 5,
    "start_time": "2021-06-30T08:16:48.925Z"
   },
   {
    "duration": 9,
    "start_time": "2021-06-30T08:16:48.934Z"
   },
   {
    "duration": 10,
    "start_time": "2021-06-30T08:16:48.946Z"
   },
   {
    "duration": 7,
    "start_time": "2021-06-30T08:16:48.959Z"
   },
   {
    "duration": 56,
    "start_time": "2021-06-30T08:16:48.969Z"
   },
   {
    "duration": 97,
    "start_time": "2021-06-30T08:16:49.029Z"
   },
   {
    "duration": 35,
    "start_time": "2021-06-30T08:16:49.131Z"
   },
   {
    "duration": 70,
    "start_time": "2021-06-30T08:16:49.170Z"
   },
   {
    "duration": 5,
    "start_time": "2021-06-30T08:16:49.243Z"
   },
   {
    "duration": 3024,
    "start_time": "2021-06-30T08:16:49.250Z"
   },
   {
    "duration": 5,
    "start_time": "2021-06-30T08:16:52.277Z"
   },
   {
    "duration": 3191,
    "start_time": "2021-06-30T08:16:52.285Z"
   },
   {
    "duration": 2258,
    "start_time": "2021-06-30T08:16:55.479Z"
   },
   {
    "duration": 14,
    "start_time": "2021-06-30T08:16:57.740Z"
   },
   {
    "duration": 9,
    "start_time": "2021-06-30T08:16:57.757Z"
   },
   {
    "duration": 18,
    "start_time": "2021-06-30T08:16:57.769Z"
   },
   {
    "duration": 44,
    "start_time": "2021-06-30T08:16:57.825Z"
   },
   {
    "duration": 3136,
    "start_time": "2021-06-30T08:16:57.872Z"
   },
   {
    "duration": 3298,
    "start_time": "2021-06-30T08:17:01.011Z"
   },
   {
    "duration": 182,
    "start_time": "2021-06-30T08:17:04.312Z"
   },
   {
    "duration": 156,
    "start_time": "2021-06-30T08:17:08.176Z"
   },
   {
    "duration": 13,
    "start_time": "2021-06-30T08:17:09.138Z"
   },
   {
    "duration": 245,
    "start_time": "2021-06-30T08:20:05.650Z"
   },
   {
    "duration": 252,
    "start_time": "2021-06-30T08:20:23.847Z"
   },
   {
    "duration": 11,
    "start_time": "2021-06-30T08:20:25.093Z"
   },
   {
    "duration": 428,
    "start_time": "2021-06-30T08:25:01.385Z"
   },
   {
    "duration": 20,
    "start_time": "2021-06-30T08:25:05.614Z"
   },
   {
    "duration": 10,
    "start_time": "2021-06-30T08:25:06.157Z"
   },
   {
    "duration": 17,
    "start_time": "2021-06-30T08:26:08.373Z"
   },
   {
    "duration": 184,
    "start_time": "2021-06-30T08:29:10.670Z"
   },
   {
    "duration": 1616,
    "start_time": "2021-06-30T08:29:29.204Z"
   },
   {
    "duration": 5,
    "start_time": "2021-06-30T08:29:40.340Z"
   },
   {
    "duration": 13,
    "start_time": "2021-06-30T08:29:50.061Z"
   },
   {
    "duration": 14,
    "start_time": "2021-06-30T08:30:06.667Z"
   },
   {
    "duration": 297,
    "start_time": "2021-06-30T08:31:43.112Z"
   },
   {
    "duration": 430,
    "start_time": "2021-06-30T08:31:53.283Z"
   },
   {
    "duration": 699,
    "start_time": "2021-06-30T08:32:15.289Z"
   },
   {
    "duration": 16,
    "start_time": "2021-06-30T08:32:22.020Z"
   },
   {
    "duration": 9,
    "start_time": "2021-06-30T08:32:33.386Z"
   },
   {
    "duration": 280,
    "start_time": "2021-06-30T08:33:00.367Z"
   },
   {
    "duration": 13,
    "start_time": "2021-06-30T08:33:09.104Z"
   },
   {
    "duration": 6,
    "start_time": "2021-06-30T08:35:40.253Z"
   },
   {
    "duration": 20,
    "start_time": "2021-06-30T08:35:46.776Z"
   },
   {
    "duration": 5,
    "start_time": "2021-06-30T08:35:47.410Z"
   },
   {
    "duration": 13,
    "start_time": "2021-06-30T08:35:55.606Z"
   },
   {
    "duration": 12,
    "start_time": "2021-06-30T08:36:24.992Z"
   },
   {
    "duration": 131,
    "start_time": "2021-06-30T08:38:19.944Z"
   },
   {
    "duration": 335,
    "start_time": "2021-06-30T08:38:35.965Z"
   },
   {
    "duration": 735,
    "start_time": "2021-06-30T08:38:54.281Z"
   },
   {
    "duration": 18,
    "start_time": "2021-06-30T08:39:01.780Z"
   },
   {
    "duration": 97,
    "start_time": "2021-06-30T08:40:16.895Z"
   },
   {
    "duration": 13,
    "start_time": "2021-06-30T08:40:43.150Z"
   },
   {
    "duration": 20,
    "start_time": "2021-06-30T08:58:20.714Z"
   },
   {
    "duration": 19,
    "start_time": "2021-06-30T08:58:21.245Z"
   },
   {
    "duration": 9,
    "start_time": "2021-06-30T08:59:14.879Z"
   },
   {
    "duration": 15,
    "start_time": "2021-06-30T08:59:40.036Z"
   },
   {
    "duration": 19,
    "start_time": "2021-06-30T08:59:50.896Z"
   },
   {
    "duration": 13,
    "start_time": "2021-06-30T08:59:51.500Z"
   },
   {
    "duration": 13,
    "start_time": "2021-06-30T09:03:02.229Z"
   },
   {
    "duration": 13,
    "start_time": "2021-06-30T09:04:48.778Z"
   },
   {
    "duration": 13,
    "start_time": "2021-06-30T09:16:58.924Z"
   },
   {
    "duration": 19,
    "start_time": "2021-06-30T09:17:39.578Z"
   },
   {
    "duration": 13,
    "start_time": "2021-06-30T09:17:40.425Z"
   },
   {
    "duration": 18,
    "start_time": "2021-06-30T09:17:42.225Z"
   },
   {
    "duration": 17,
    "start_time": "2021-06-30T09:17:43.372Z"
   },
   {
    "duration": 289,
    "start_time": "2021-06-30T09:18:53.880Z"
   },
   {
    "duration": 289,
    "start_time": "2021-06-30T09:19:02.301Z"
   },
   {
    "duration": 7,
    "start_time": "2021-06-30T09:20:23.155Z"
   },
   {
    "duration": 15,
    "start_time": "2021-06-30T09:20:29.060Z"
   },
   {
    "duration": 446,
    "start_time": "2021-06-30T11:05:01.922Z"
   },
   {
    "duration": 348,
    "start_time": "2021-06-30T11:05:02.612Z"
   },
   {
    "duration": 1427,
    "start_time": "2021-06-30T11:05:23.703Z"
   },
   {
    "duration": 30,
    "start_time": "2021-06-30T11:05:25.133Z"
   },
   {
    "duration": 4,
    "start_time": "2021-06-30T11:05:25.167Z"
   },
   {
    "duration": 10,
    "start_time": "2021-06-30T11:05:25.174Z"
   },
   {
    "duration": 9,
    "start_time": "2021-06-30T11:05:25.187Z"
   },
   {
    "duration": 6,
    "start_time": "2021-06-30T11:05:25.199Z"
   },
   {
    "duration": 19,
    "start_time": "2021-06-30T11:05:25.208Z"
   },
   {
    "duration": 86,
    "start_time": "2021-06-30T11:05:25.230Z"
   },
   {
    "duration": 49,
    "start_time": "2021-06-30T11:05:25.322Z"
   },
   {
    "duration": 37,
    "start_time": "2021-06-30T11:05:25.375Z"
   },
   {
    "duration": 4,
    "start_time": "2021-06-30T11:05:25.415Z"
   },
   {
    "duration": 1877,
    "start_time": "2021-06-30T11:05:25.422Z"
   },
   {
    "duration": 3,
    "start_time": "2021-06-30T11:05:27.301Z"
   },
   {
    "duration": 2172,
    "start_time": "2021-06-30T11:05:27.306Z"
   },
   {
    "duration": 1196,
    "start_time": "2021-06-30T11:05:29.480Z"
   },
   {
    "duration": 12,
    "start_time": "2021-06-30T11:05:30.678Z"
   },
   {
    "duration": 19,
    "start_time": "2021-06-30T11:05:30.692Z"
   },
   {
    "duration": 25,
    "start_time": "2021-06-30T11:05:30.714Z"
   },
   {
    "duration": 742,
    "start_time": "2021-06-30T11:05:30.743Z"
   },
   {
    "duration": 1925,
    "start_time": "2021-06-30T11:05:31.488Z"
   },
   {
    "duration": 2082,
    "start_time": "2021-06-30T11:05:33.416Z"
   },
   {
    "duration": 18,
    "start_time": "2021-06-30T11:05:37.288Z"
   },
   {
    "duration": 12,
    "start_time": "2021-06-30T11:05:38.888Z"
   },
   {
    "duration": 18,
    "start_time": "2021-06-30T11:05:51.355Z"
   },
   {
    "duration": 13,
    "start_time": "2021-06-30T11:05:52.551Z"
   },
   {
    "duration": 18,
    "start_time": "2021-06-30T11:06:20.479Z"
   },
   {
    "duration": 212,
    "start_time": "2021-06-30T11:06:21.132Z"
   },
   {
    "duration": 7,
    "start_time": "2021-06-30T11:06:30.130Z"
   },
   {
    "duration": 22,
    "start_time": "2021-06-30T11:06:32.558Z"
   },
   {
    "duration": 17,
    "start_time": "2021-06-30T11:06:58.308Z"
   },
   {
    "duration": 22,
    "start_time": "2021-06-30T11:07:28.916Z"
   },
   {
    "duration": 44,
    "start_time": "2021-06-30T11:08:23.336Z"
   },
   {
    "duration": 540,
    "start_time": "2021-06-30T11:09:45.572Z"
   },
   {
    "duration": 374,
    "start_time": "2021-06-30T11:10:12.332Z"
   },
   {
    "duration": 5,
    "start_time": "2021-06-30T11:10:19.687Z"
   },
   {
    "duration": 9,
    "start_time": "2021-06-30T11:10:26.166Z"
   },
   {
    "duration": 9,
    "start_time": "2021-06-30T11:10:44.841Z"
   },
   {
    "duration": 6,
    "start_time": "2021-06-30T11:11:34.409Z"
   },
   {
    "duration": 10,
    "start_time": "2021-06-30T11:11:41.087Z"
   },
   {
    "duration": 340,
    "start_time": "2021-06-30T11:13:06.450Z"
   },
   {
    "duration": 523,
    "start_time": "2021-06-30T11:13:26.791Z"
   },
   {
    "duration": 519,
    "start_time": "2021-06-30T11:14:24.620Z"
   },
   {
    "duration": 479,
    "start_time": "2021-06-30T11:15:07.470Z"
   },
   {
    "duration": 1296,
    "start_time": "2021-06-30T11:16:45.405Z"
   },
   {
    "duration": 1633,
    "start_time": "2021-06-30T11:17:16.469Z"
   },
   {
    "duration": 1126,
    "start_time": "2021-06-30T11:18:39.074Z"
   },
   {
    "duration": 1407,
    "start_time": "2021-06-30T11:19:00.399Z"
   },
   {
    "duration": 1106,
    "start_time": "2021-06-30T11:19:24.844Z"
   },
   {
    "duration": 583,
    "start_time": "2021-06-30T11:19:52.766Z"
   },
   {
    "duration": 8,
    "start_time": "2021-06-30T11:20:42.587Z"
   },
   {
    "duration": 9,
    "start_time": "2021-06-30T11:20:49.269Z"
   },
   {
    "duration": 9,
    "start_time": "2021-06-30T11:20:53.177Z"
   },
   {
    "duration": 13,
    "start_time": "2021-06-30T11:21:20.461Z"
   },
   {
    "duration": 6,
    "start_time": "2021-06-30T11:21:36.368Z"
   },
   {
    "duration": 456,
    "start_time": "2021-06-30T11:22:16.295Z"
   },
   {
    "duration": 429,
    "start_time": "2021-06-30T11:25:49.550Z"
   },
   {
    "duration": 398,
    "start_time": "2021-06-30T11:26:09.415Z"
   },
   {
    "duration": 409,
    "start_time": "2021-06-30T11:26:31.293Z"
   },
   {
    "duration": 400,
    "start_time": "2021-06-30T11:26:42.626Z"
   },
   {
    "duration": 415,
    "start_time": "2021-06-30T11:27:16.542Z"
   },
   {
    "duration": 5,
    "start_time": "2021-06-30T11:29:37.599Z"
   },
   {
    "duration": 802,
    "start_time": "2021-06-30T11:30:00.017Z"
   },
   {
    "duration": 1151,
    "start_time": "2021-06-30T11:31:05.171Z"
   },
   {
    "duration": 1497,
    "start_time": "2021-06-30T11:31:23.985Z"
   },
   {
    "duration": 1194,
    "start_time": "2021-06-30T11:32:23.237Z"
   },
   {
    "duration": 1522,
    "start_time": "2021-06-30T11:33:42.913Z"
   },
   {
    "duration": 1140,
    "start_time": "2021-06-30T11:33:57.738Z"
   },
   {
    "duration": 1147,
    "start_time": "2021-06-30T11:34:10.899Z"
   },
   {
    "duration": 1576,
    "start_time": "2021-06-30T11:35:41.669Z"
   },
   {
    "duration": 1661,
    "start_time": "2021-06-30T11:36:27.488Z"
   },
   {
    "duration": 1772,
    "start_time": "2021-06-30T11:36:46.759Z"
   },
   {
    "duration": 1161,
    "start_time": "2021-06-30T11:38:34.341Z"
   },
   {
    "duration": 1604,
    "start_time": "2021-06-30T11:40:08.289Z"
   },
   {
    "duration": 832,
    "start_time": "2021-06-30T11:40:52.760Z"
   },
   {
    "duration": 2363,
    "start_time": "2021-06-30T11:42:16.621Z"
   },
   {
    "duration": 1689,
    "start_time": "2021-06-30T11:43:03.386Z"
   },
   {
    "duration": 1083,
    "start_time": "2021-06-30T11:43:42.917Z"
   },
   {
    "duration": 811,
    "start_time": "2021-06-30T11:44:05.743Z"
   },
   {
    "duration": 1062,
    "start_time": "2021-06-30T11:44:22.086Z"
   },
   {
    "duration": 934,
    "start_time": "2021-06-30T11:44:42.943Z"
   },
   {
    "duration": 1121,
    "start_time": "2021-06-30T11:45:22.252Z"
   },
   {
    "duration": 775,
    "start_time": "2021-06-30T11:45:58.964Z"
   },
   {
    "duration": 1017,
    "start_time": "2021-06-30T11:46:14.568Z"
   },
   {
    "duration": 947,
    "start_time": "2021-06-30T11:50:47.268Z"
   },
   {
    "duration": 1124,
    "start_time": "2021-06-30T11:51:21.760Z"
   },
   {
    "duration": 5,
    "start_time": "2021-06-30T11:56:11.398Z"
   },
   {
    "duration": 19,
    "start_time": "2021-06-30T11:56:12.865Z"
   },
   {
    "duration": 6,
    "start_time": "2021-06-30T11:56:13.469Z"
   },
   {
    "duration": 999,
    "start_time": "2021-06-30T11:56:14.911Z"
   },
   {
    "duration": 3,
    "start_time": "2021-06-30T11:56:16.859Z"
   },
   {
    "duration": 11,
    "start_time": "2021-06-30T11:56:41.206Z"
   },
   {
    "duration": 16,
    "start_time": "2021-06-30T11:56:52.893Z"
   },
   {
    "duration": 7,
    "start_time": "2021-06-30T12:12:59.706Z"
   },
   {
    "duration": 38,
    "start_time": "2021-06-30T12:12:59.718Z"
   },
   {
    "duration": 6,
    "start_time": "2021-06-30T12:12:59.760Z"
   },
   {
    "duration": 8,
    "start_time": "2021-06-30T12:12:59.770Z"
   },
   {
    "duration": 8,
    "start_time": "2021-06-30T12:12:59.782Z"
   },
   {
    "duration": 6,
    "start_time": "2021-06-30T12:12:59.793Z"
   },
   {
    "duration": 16,
    "start_time": "2021-06-30T12:12:59.802Z"
   },
   {
    "duration": 76,
    "start_time": "2021-06-30T12:12:59.862Z"
   },
   {
    "duration": 36,
    "start_time": "2021-06-30T12:12:59.942Z"
   },
   {
    "duration": 28,
    "start_time": "2021-06-30T12:12:59.984Z"
   },
   {
    "duration": 3,
    "start_time": "2021-06-30T12:13:00.016Z"
   },
   {
    "duration": 2002,
    "start_time": "2021-06-30T12:13:00.022Z"
   },
   {
    "duration": 3,
    "start_time": "2021-06-30T12:13:02.027Z"
   },
   {
    "duration": 1949,
    "start_time": "2021-06-30T12:13:02.033Z"
   },
   {
    "duration": 1156,
    "start_time": "2021-06-30T12:13:03.985Z"
   },
   {
    "duration": 22,
    "start_time": "2021-06-30T12:13:05.144Z"
   },
   {
    "duration": 13,
    "start_time": "2021-06-30T12:13:05.169Z"
   },
   {
    "duration": 15,
    "start_time": "2021-06-30T12:13:05.185Z"
   },
   {
    "duration": 61,
    "start_time": "2021-06-30T12:13:05.203Z"
   },
   {
    "duration": 2035,
    "start_time": "2021-06-30T12:13:05.267Z"
   },
   {
    "duration": 1899,
    "start_time": "2021-06-30T12:13:07.304Z"
   },
   {
    "duration": 19,
    "start_time": "2021-06-30T12:13:09.205Z"
   },
   {
    "duration": 15,
    "start_time": "2021-06-30T12:13:09.226Z"
   },
   {
    "duration": 41,
    "start_time": "2021-06-30T12:13:09.244Z"
   },
   {
    "duration": 5,
    "start_time": "2021-06-30T12:13:09.288Z"
   },
   {
    "duration": 990,
    "start_time": "2021-06-30T12:13:09.296Z"
   },
   {
    "duration": 11,
    "start_time": "2021-06-30T12:13:10.289Z"
   },
   {
    "duration": 11,
    "start_time": "2021-06-30T12:13:12.075Z"
   },
   {
    "duration": 13,
    "start_time": "2021-06-30T12:13:13.815Z"
   },
   {
    "duration": 11,
    "start_time": "2021-06-30T12:28:39.762Z"
   },
   {
    "duration": 11,
    "start_time": "2021-06-30T12:29:12.857Z"
   },
   {
    "duration": 12,
    "start_time": "2021-06-30T12:29:24.076Z"
   },
   {
    "duration": 11,
    "start_time": "2021-06-30T12:29:32.679Z"
   },
   {
    "duration": 35,
    "start_time": "2021-06-30T12:30:48.594Z"
   },
   {
    "duration": 14,
    "start_time": "2021-06-30T12:31:11.991Z"
   },
   {
    "duration": 12,
    "start_time": "2021-06-30T12:32:29.961Z"
   },
   {
    "duration": 10,
    "start_time": "2021-06-30T12:32:42.243Z"
   },
   {
    "duration": 1466,
    "start_time": "2021-06-30T20:56:59.331Z"
   },
   {
    "duration": 44,
    "start_time": "2021-06-30T20:57:00.799Z"
   },
   {
    "duration": 6,
    "start_time": "2021-06-30T20:57:00.847Z"
   },
   {
    "duration": 16,
    "start_time": "2021-06-30T20:57:00.857Z"
   },
   {
    "duration": 14,
    "start_time": "2021-06-30T20:57:00.876Z"
   },
   {
    "duration": 23,
    "start_time": "2021-06-30T20:57:00.893Z"
   },
   {
    "duration": 25,
    "start_time": "2021-06-30T20:57:00.923Z"
   },
   {
    "duration": 104,
    "start_time": "2021-06-30T20:57:00.955Z"
   },
   {
    "duration": 33,
    "start_time": "2021-06-30T20:57:01.064Z"
   },
   {
    "duration": 48,
    "start_time": "2021-06-30T20:57:01.100Z"
   },
   {
    "duration": 3,
    "start_time": "2021-06-30T20:57:01.151Z"
   },
   {
    "duration": 1908,
    "start_time": "2021-06-30T20:57:01.157Z"
   },
   {
    "duration": 3,
    "start_time": "2021-06-30T20:57:03.067Z"
   },
   {
    "duration": 1941,
    "start_time": "2021-06-30T20:57:03.073Z"
   },
   {
    "duration": 1144,
    "start_time": "2021-06-30T20:57:05.024Z"
   },
   {
    "duration": 11,
    "start_time": "2021-06-30T20:57:06.171Z"
   },
   {
    "duration": 9,
    "start_time": "2021-06-30T20:57:06.184Z"
   },
   {
    "duration": 35,
    "start_time": "2021-06-30T20:57:06.196Z"
   },
   {
    "duration": 649,
    "start_time": "2021-06-30T20:57:06.234Z"
   },
   {
    "duration": 1786,
    "start_time": "2021-06-30T20:57:06.885Z"
   },
   {
    "duration": 2010,
    "start_time": "2021-06-30T20:57:08.673Z"
   },
   {
    "duration": 38,
    "start_time": "2021-06-30T20:57:10.686Z"
   },
   {
    "duration": 5,
    "start_time": "2021-06-30T20:57:10.728Z"
   },
   {
    "duration": 23,
    "start_time": "2021-06-30T20:57:10.737Z"
   },
   {
    "duration": 6,
    "start_time": "2021-06-30T20:57:10.763Z"
   },
   {
    "duration": 971,
    "start_time": "2021-06-30T20:57:10.772Z"
   },
   {
    "duration": 13,
    "start_time": "2021-06-30T20:57:11.745Z"
   },
   {
    "duration": 18,
    "start_time": "2021-06-30T20:57:11.760Z"
   },
   {
    "duration": 26,
    "start_time": "2021-06-30T21:02:42.136Z"
   },
   {
    "duration": 7,
    "start_time": "2021-06-30T21:02:43.221Z"
   },
   {
    "duration": 25,
    "start_time": "2021-06-30T21:02:44.305Z"
   },
   {
    "duration": 7,
    "start_time": "2021-06-30T21:02:45.031Z"
   },
   {
    "duration": 1069,
    "start_time": "2021-06-30T21:02:46.823Z"
   },
   {
    "duration": 11,
    "start_time": "2021-06-30T21:02:55.049Z"
   },
   {
    "duration": 10,
    "start_time": "2021-06-30T21:02:56.589Z"
   },
   {
    "duration": 25,
    "start_time": "2021-06-30T21:16:02.892Z"
   },
   {
    "duration": 5,
    "start_time": "2021-06-30T21:16:03.878Z"
   },
   {
    "duration": 24,
    "start_time": "2021-06-30T21:16:05.011Z"
   },
   {
    "duration": 5,
    "start_time": "2021-06-30T21:16:05.518Z"
   },
   {
    "duration": 935,
    "start_time": "2021-06-30T21:16:06.698Z"
   },
   {
    "duration": 10,
    "start_time": "2021-06-30T21:16:08.300Z"
   },
   {
    "duration": 12,
    "start_time": "2021-06-30T21:16:09.560Z"
   },
   {
    "duration": 2353,
    "start_time": "2021-06-30T21:18:36.283Z"
   },
   {
    "duration": 2388,
    "start_time": "2021-06-30T21:20:13.083Z"
   },
   {
    "duration": 2407,
    "start_time": "2021-06-30T21:21:01.611Z"
   },
   {
    "duration": 3943,
    "start_time": "2021-06-30T21:21:36.791Z"
   },
   {
    "duration": 2650,
    "start_time": "2021-06-30T21:21:57.399Z"
   },
   {
    "duration": 2423,
    "start_time": "2021-06-30T21:22:11.038Z"
   },
   {
    "duration": 3140,
    "start_time": "2021-06-30T21:33:27.437Z"
   },
   {
    "duration": 2585,
    "start_time": "2021-06-30T21:35:17.053Z"
   },
   {
    "duration": 2599,
    "start_time": "2021-06-30T21:35:56.130Z"
   },
   {
    "duration": 2820,
    "start_time": "2021-06-30T21:37:30.296Z"
   },
   {
    "duration": 5262,
    "start_time": "2021-06-30T21:39:12.525Z"
   },
   {
    "duration": 2007,
    "start_time": "2021-06-30T21:44:16.772Z"
   },
   {
    "duration": 3242,
    "start_time": "2021-06-30T21:44:43.806Z"
   },
   {
    "duration": 2532,
    "start_time": "2021-06-30T21:45:05.656Z"
   },
   {
    "duration": 1609,
    "start_time": "2021-06-30T21:47:14.815Z"
   },
   {
    "duration": 3136,
    "start_time": "2021-06-30T21:48:10.277Z"
   },
   {
    "duration": 3115,
    "start_time": "2021-06-30T21:49:02.598Z"
   },
   {
    "duration": 2981,
    "start_time": "2021-06-30T21:51:07.203Z"
   },
   {
    "duration": 3339,
    "start_time": "2021-06-30T21:52:01.793Z"
   },
   {
    "duration": 3173,
    "start_time": "2021-06-30T21:55:30.657Z"
   },
   {
    "duration": 107,
    "start_time": "2021-06-30T21:58:17.691Z"
   },
   {
    "duration": 4068,
    "start_time": "2021-06-30T21:58:25.257Z"
   },
   {
    "duration": 2418,
    "start_time": "2021-06-30T21:58:40.765Z"
   },
   {
    "duration": 3178,
    "start_time": "2021-06-30T21:59:06.046Z"
   },
   {
    "duration": 3107,
    "start_time": "2021-06-30T22:00:13.786Z"
   },
   {
    "duration": 3062,
    "start_time": "2021-06-30T22:00:37.327Z"
   },
   {
    "duration": 3284,
    "start_time": "2021-06-30T22:00:48.933Z"
   },
   {
    "duration": 41,
    "start_time": "2021-06-30T22:27:43.861Z"
   },
   {
    "duration": 17,
    "start_time": "2021-06-30T22:28:02.450Z"
   },
   {
    "duration": 6,
    "start_time": "2021-06-30T22:39:57.815Z"
   },
   {
    "duration": 5,
    "start_time": "2021-06-30T22:43:53.543Z"
   },
   {
    "duration": 6,
    "start_time": "2021-06-30T22:44:06.282Z"
   },
   {
    "duration": 6,
    "start_time": "2021-06-30T22:44:32.637Z"
   },
   {
    "duration": 5,
    "start_time": "2021-06-30T22:44:44.929Z"
   },
   {
    "duration": 5,
    "start_time": "2021-06-30T22:44:58.699Z"
   },
   {
    "duration": 6,
    "start_time": "2021-06-30T22:45:23.716Z"
   },
   {
    "duration": 6,
    "start_time": "2021-06-30T22:45:38.349Z"
   },
   {
    "duration": 93,
    "start_time": "2021-06-30T22:46:47.405Z"
   },
   {
    "duration": 6,
    "start_time": "2021-06-30T22:46:53.983Z"
   },
   {
    "duration": 313,
    "start_time": "2021-06-30T22:48:27.885Z"
   },
   {
    "duration": 78848,
    "start_time": "2021-06-30T22:49:05.123Z"
   },
   {
    "duration": 1031,
    "start_time": "2021-06-30T22:52:27.416Z"
   },
   {
    "duration": 1041,
    "start_time": "2021-06-30T22:54:03.377Z"
   },
   {
    "duration": 11,
    "start_time": "2021-06-30T22:54:06.743Z"
   },
   {
    "duration": 17,
    "start_time": "2021-06-30T22:55:04.899Z"
   },
   {
    "duration": 9,
    "start_time": "2021-06-30T22:55:47.249Z"
   },
   {
    "duration": 10,
    "start_time": "2021-06-30T22:56:11.472Z"
   },
   {
    "duration": 12,
    "start_time": "2021-06-30T22:57:11.810Z"
   },
   {
    "duration": 16,
    "start_time": "2021-06-30T22:59:42.601Z"
   },
   {
    "duration": 322,
    "start_time": "2021-06-30T23:04:10.353Z"
   },
   {
    "duration": 20,
    "start_time": "2021-06-30T23:04:24.275Z"
   },
   {
    "duration": 11,
    "start_time": "2021-06-30T23:04:41.094Z"
   },
   {
    "duration": 288,
    "start_time": "2021-06-30T23:04:51.424Z"
   },
   {
    "duration": 11,
    "start_time": "2021-06-30T23:05:00.513Z"
   },
   {
    "duration": 298,
    "start_time": "2021-06-30T23:06:15.659Z"
   },
   {
    "duration": 298,
    "start_time": "2021-06-30T23:06:40.398Z"
   },
   {
    "duration": 11,
    "start_time": "2021-06-30T23:06:53.919Z"
   },
   {
    "duration": 298,
    "start_time": "2021-06-30T23:07:12.158Z"
   },
   {
    "duration": 12,
    "start_time": "2021-06-30T23:07:20.115Z"
   },
   {
    "duration": 287,
    "start_time": "2021-06-30T23:07:37.982Z"
   },
   {
    "duration": 302,
    "start_time": "2021-06-30T23:07:48.154Z"
   },
   {
    "duration": 295,
    "start_time": "2021-06-30T23:08:00.253Z"
   },
   {
    "duration": 307,
    "start_time": "2021-06-30T23:08:07.489Z"
   },
   {
    "duration": 19,
    "start_time": "2021-06-30T23:10:42.374Z"
   },
   {
    "duration": 11,
    "start_time": "2021-06-30T23:11:09.065Z"
   },
   {
    "duration": 13,
    "start_time": "2021-06-30T23:11:30.958Z"
   },
   {
    "duration": 11,
    "start_time": "2021-06-30T23:11:54.987Z"
   },
   {
    "duration": 14,
    "start_time": "2021-06-30T23:12:34.875Z"
   },
   {
    "duration": 14,
    "start_time": "2021-06-30T23:12:51.739Z"
   },
   {
    "duration": 10,
    "start_time": "2021-06-30T23:13:30.119Z"
   },
   {
    "duration": 718,
    "start_time": "2021-06-30T23:13:42.571Z"
   },
   {
    "duration": 13,
    "start_time": "2021-06-30T23:14:16.937Z"
   },
   {
    "duration": 14,
    "start_time": "2021-06-30T23:14:32.860Z"
   },
   {
    "duration": 290,
    "start_time": "2021-06-30T23:14:58.996Z"
   },
   {
    "duration": 15,
    "start_time": "2021-06-30T23:15:04.796Z"
   },
   {
    "duration": 315,
    "start_time": "2021-06-30T23:16:28.197Z"
   },
   {
    "duration": 23,
    "start_time": "2021-06-30T23:16:42.461Z"
   },
   {
    "duration": 26,
    "start_time": "2021-06-30T23:16:54.371Z"
   },
   {
    "duration": 22,
    "start_time": "2021-06-30T23:17:21.699Z"
   },
   {
    "duration": 16,
    "start_time": "2021-06-30T23:17:34.578Z"
   },
   {
    "duration": 295,
    "start_time": "2021-06-30T23:18:16.398Z"
   },
   {
    "duration": 289,
    "start_time": "2021-06-30T23:18:41.211Z"
   },
   {
    "duration": 23,
    "start_time": "2021-06-30T23:18:47.222Z"
   },
   {
    "duration": 15,
    "start_time": "2021-06-30T23:19:11.137Z"
   },
   {
    "duration": 300,
    "start_time": "2021-06-30T23:19:20.139Z"
   },
   {
    "duration": 303,
    "start_time": "2021-06-30T23:19:47.508Z"
   },
   {
    "duration": 281,
    "start_time": "2021-06-30T23:21:35.164Z"
   },
   {
    "duration": 12,
    "start_time": "2021-06-30T23:21:45.117Z"
   },
   {
    "duration": 17,
    "start_time": "2021-06-30T23:22:17.904Z"
   },
   {
    "duration": 10,
    "start_time": "2021-06-30T23:25:20.790Z"
   },
   {
    "duration": 11,
    "start_time": "2021-06-30T23:25:30.505Z"
   },
   {
    "duration": 17,
    "start_time": "2021-06-30T23:25:47.004Z"
   },
   {
    "duration": 11,
    "start_time": "2021-06-30T23:27:47.109Z"
   },
   {
    "duration": 286,
    "start_time": "2021-06-30T23:28:40.818Z"
   },
   {
    "duration": 288,
    "start_time": "2021-06-30T23:28:49.536Z"
   },
   {
    "duration": 12,
    "start_time": "2021-06-30T23:29:13.893Z"
   },
   {
    "duration": 9,
    "start_time": "2021-06-30T23:29:31.920Z"
   },
   {
    "duration": 107,
    "start_time": "2021-06-30T23:29:34.068Z"
   },
   {
    "duration": 13,
    "start_time": "2021-06-30T23:29:40.826Z"
   },
   {
    "duration": 14,
    "start_time": "2021-06-30T23:29:53.885Z"
   },
   {
    "duration": 15,
    "start_time": "2021-06-30T23:31:04.765Z"
   },
   {
    "duration": 15,
    "start_time": "2021-06-30T23:34:12.948Z"
   },
   {
    "duration": 19,
    "start_time": "2021-06-30T23:34:45.111Z"
   },
   {
    "duration": 18,
    "start_time": "2021-06-30T23:35:32.685Z"
   },
   {
    "duration": 276,
    "start_time": "2021-06-30T23:36:09.753Z"
   },
   {
    "duration": 21,
    "start_time": "2021-06-30T23:36:16.288Z"
   },
   {
    "duration": 16,
    "start_time": "2021-06-30T23:36:41.528Z"
   },
   {
    "duration": 14,
    "start_time": "2021-06-30T23:36:56.949Z"
   },
   {
    "duration": 19,
    "start_time": "2021-06-30T23:37:07.535Z"
   },
   {
    "duration": 25,
    "start_time": "2021-06-30T23:37:18.985Z"
   },
   {
    "duration": 16,
    "start_time": "2021-06-30T23:37:44.705Z"
   },
   {
    "duration": 22,
    "start_time": "2021-06-30T23:37:51.257Z"
   },
   {
    "duration": 476,
    "start_time": "2021-06-30T23:38:06.102Z"
   },
   {
    "duration": 23,
    "start_time": "2021-06-30T23:38:40.193Z"
   },
   {
    "duration": 299,
    "start_time": "2021-06-30T23:39:01.375Z"
   },
   {
    "duration": 234,
    "start_time": "2021-06-30T23:44:02.025Z"
   },
   {
    "duration": 247,
    "start_time": "2021-06-30T23:44:52.212Z"
   },
   {
    "duration": 245,
    "start_time": "2021-06-30T23:45:24.303Z"
   },
   {
    "duration": 9,
    "start_time": "2021-06-30T23:48:51.812Z"
   },
   {
    "duration": 9,
    "start_time": "2021-06-30T23:49:17.767Z"
   },
   {
    "duration": 8,
    "start_time": "2021-06-30T23:51:07.960Z"
   },
   {
    "duration": 199,
    "start_time": "2021-06-30T23:54:17.378Z"
   },
   {
    "duration": 207,
    "start_time": "2021-06-30T23:54:43.031Z"
   },
   {
    "duration": 239,
    "start_time": "2021-06-30T23:55:20.144Z"
   },
   {
    "duration": 283,
    "start_time": "2021-06-30T23:57:57.663Z"
   },
   {
    "duration": 92,
    "start_time": "2021-06-30T23:58:32.589Z"
   },
   {
    "duration": 234,
    "start_time": "2021-06-30T23:58:48.829Z"
   },
   {
    "duration": 704,
    "start_time": "2021-07-01T00:01:31.220Z"
   },
   {
    "duration": 728,
    "start_time": "2021-07-01T00:01:57.367Z"
   },
   {
    "duration": 108,
    "start_time": "2021-07-01T00:03:18.125Z"
   },
   {
    "duration": 409,
    "start_time": "2021-07-01T00:03:24.120Z"
   },
   {
    "duration": 402,
    "start_time": "2021-07-01T00:03:44.279Z"
   },
   {
    "duration": 218,
    "start_time": "2021-07-01T00:08:38.891Z"
   },
   {
    "duration": 242,
    "start_time": "2021-07-01T00:09:17.177Z"
   },
   {
    "duration": 245,
    "start_time": "2021-07-01T00:12:41.063Z"
   },
   {
    "duration": 258,
    "start_time": "2021-07-01T00:13:10.124Z"
   },
   {
    "duration": 237,
    "start_time": "2021-07-01T00:13:16.765Z"
   },
   {
    "duration": 262,
    "start_time": "2021-07-01T00:13:38.548Z"
   },
   {
    "duration": 250,
    "start_time": "2021-07-01T00:13:44.240Z"
   },
   {
    "duration": 263,
    "start_time": "2021-07-01T00:13:50.954Z"
   },
   {
    "duration": 274,
    "start_time": "2021-07-01T00:14:56.048Z"
   },
   {
    "duration": 10,
    "start_time": "2021-07-01T00:16:16.101Z"
   },
   {
    "duration": 319,
    "start_time": "2021-07-01T00:16:19.232Z"
   },
   {
    "duration": 300,
    "start_time": "2021-07-01T00:18:06.040Z"
   },
   {
    "duration": 439,
    "start_time": "2021-07-01T00:18:48.060Z"
   },
   {
    "duration": 524,
    "start_time": "2021-07-01T00:19:41.066Z"
   },
   {
    "duration": 530,
    "start_time": "2021-07-01T00:19:58.249Z"
   },
   {
    "duration": 729,
    "start_time": "2021-07-01T00:20:16.337Z"
   },
   {
    "duration": 628,
    "start_time": "2021-07-01T00:20:51.972Z"
   },
   {
    "duration": 319,
    "start_time": "2021-07-01T00:21:27.226Z"
   },
   {
    "duration": 308,
    "start_time": "2021-07-01T00:21:37.547Z"
   },
   {
    "duration": 520,
    "start_time": "2021-07-01T00:21:45.132Z"
   },
   {
    "duration": 293,
    "start_time": "2021-07-01T00:22:34.627Z"
   },
   {
    "duration": 419,
    "start_time": "2021-07-01T00:27:31.405Z"
   },
   {
    "duration": 1835,
    "start_time": "2021-07-01T00:30:44.837Z"
   },
   {
    "duration": 420,
    "start_time": "2021-07-01T00:31:54.229Z"
   },
   {
    "duration": 2854,
    "start_time": "2021-07-01T00:32:53.986Z"
   },
   {
    "duration": 2903,
    "start_time": "2021-07-01T00:33:23.783Z"
   },
   {
    "duration": 2927,
    "start_time": "2021-07-01T00:34:34.590Z"
   },
   {
    "duration": 1716,
    "start_time": "2021-07-01T00:34:55.111Z"
   },
   {
    "duration": 1920,
    "start_time": "2021-07-01T00:35:01.235Z"
   },
   {
    "duration": 1499,
    "start_time": "2021-07-01T00:36:28.675Z"
   },
   {
    "duration": 2112,
    "start_time": "2021-07-01T00:36:40.094Z"
   },
   {
    "duration": 1790,
    "start_time": "2021-07-01T00:37:07.897Z"
   },
   {
    "duration": 10,
    "start_time": "2021-07-01T00:38:05.979Z"
   },
   {
    "duration": 1783,
    "start_time": "2021-07-01T00:38:48.975Z"
   },
   {
    "duration": 1800,
    "start_time": "2021-07-01T00:43:14.058Z"
   },
   {
    "duration": 2007,
    "start_time": "2021-07-01T00:43:28.980Z"
   },
   {
    "duration": 1785,
    "start_time": "2021-07-01T00:43:54.597Z"
   },
   {
    "duration": 5313,
    "start_time": "2021-07-01T00:44:08.704Z"
   },
   {
    "duration": 2456,
    "start_time": "2021-07-01T00:44:50.953Z"
   },
   {
    "duration": 2516,
    "start_time": "2021-07-01T00:45:16.885Z"
   },
   {
    "duration": 1839,
    "start_time": "2021-07-01T00:45:48.513Z"
   },
   {
    "duration": 1850,
    "start_time": "2021-07-01T00:46:01.682Z"
   },
   {
    "duration": 1774,
    "start_time": "2021-07-01T00:47:42.646Z"
   },
   {
    "duration": 1211,
    "start_time": "2021-07-01T00:47:50.849Z"
   },
   {
    "duration": 1229,
    "start_time": "2021-07-01T00:48:04.932Z"
   },
   {
    "duration": 1566,
    "start_time": "2021-07-01T00:48:11.599Z"
   },
   {
    "duration": 1492,
    "start_time": "2021-07-01T00:48:28.477Z"
   },
   {
    "duration": 1749,
    "start_time": "2021-07-01T00:48:37.877Z"
   },
   {
    "duration": 1801,
    "start_time": "2021-07-01T00:48:48.781Z"
   },
   {
    "duration": 277,
    "start_time": "2021-07-01T00:57:54.367Z"
   },
   {
    "duration": 1580,
    "start_time": "2021-07-01T00:58:27.287Z"
   },
   {
    "duration": 1656,
    "start_time": "2021-07-01T00:58:38.268Z"
   },
   {
    "duration": 1614,
    "start_time": "2021-07-01T00:58:48.448Z"
   },
   {
    "duration": 1874,
    "start_time": "2021-07-01T00:58:57.715Z"
   },
   {
    "duration": 2174,
    "start_time": "2021-07-01T00:59:17.337Z"
   },
   {
    "duration": 2212,
    "start_time": "2021-07-01T00:59:32.805Z"
   },
   {
    "duration": 1634,
    "start_time": "2021-07-01T00:59:48.199Z"
   },
   {
    "duration": 4162,
    "start_time": "2021-07-01T01:00:09.438Z"
   },
   {
    "duration": 3796,
    "start_time": "2021-07-01T01:00:32.843Z"
   },
   {
    "duration": 4091,
    "start_time": "2021-07-01T01:00:47.166Z"
   },
   {
    "duration": 3009,
    "start_time": "2021-07-01T01:01:03.495Z"
   },
   {
    "duration": 10,
    "start_time": "2021-07-01T01:04:49.395Z"
   },
   {
    "duration": 1775,
    "start_time": "2021-07-01T01:05:55.001Z"
   },
   {
    "duration": 1099,
    "start_time": "2021-07-01T01:06:10.233Z"
   },
   {
    "duration": 938,
    "start_time": "2021-07-01T01:06:36.844Z"
   },
   {
    "duration": 928,
    "start_time": "2021-07-01T01:07:13.472Z"
   },
   {
    "duration": 907,
    "start_time": "2021-07-01T01:07:24.293Z"
   },
   {
    "duration": 1072,
    "start_time": "2021-07-01T01:07:36.233Z"
   },
   {
    "duration": 953,
    "start_time": "2021-07-01T01:07:54.837Z"
   },
   {
    "duration": 278,
    "start_time": "2021-07-01T01:10:00.231Z"
   },
   {
    "duration": 811,
    "start_time": "2021-07-01T01:10:58.888Z"
   },
   {
    "duration": 318,
    "start_time": "2021-07-01T01:11:15.034Z"
   },
   {
    "duration": 1878,
    "start_time": "2021-07-01T01:11:23.330Z"
   },
   {
    "duration": 2090,
    "start_time": "2021-07-01T01:11:38.951Z"
   },
   {
    "duration": 1770,
    "start_time": "2021-07-01T01:11:54.218Z"
   },
   {
    "duration": 1549,
    "start_time": "2021-07-01T01:12:17.827Z"
   },
   {
    "duration": 1810,
    "start_time": "2021-07-01T01:12:38.550Z"
   },
   {
    "duration": 1534,
    "start_time": "2021-07-01T01:12:45.512Z"
   },
   {
    "duration": 1734,
    "start_time": "2021-07-01T01:13:02.614Z"
   },
   {
    "duration": 1937,
    "start_time": "2021-07-01T01:13:12.782Z"
   },
   {
    "duration": 1779,
    "start_time": "2021-07-01T01:13:26.053Z"
   },
   {
    "duration": 5568,
    "start_time": "2021-07-01T01:13:58.745Z"
   },
   {
    "duration": 1968,
    "start_time": "2021-07-01T01:14:30.156Z"
   },
   {
    "duration": 2032,
    "start_time": "2021-07-01T01:16:06.385Z"
   },
   {
    "duration": 1978,
    "start_time": "2021-07-01T01:16:23.985Z"
   },
   {
    "duration": 2716,
    "start_time": "2021-07-01T01:16:49.354Z"
   },
   {
    "duration": 2644,
    "start_time": "2021-07-01T01:17:01.800Z"
   },
   {
    "duration": 3310,
    "start_time": "2021-07-01T01:21:06.010Z"
   },
   {
    "duration": 1654,
    "start_time": "2021-07-01T01:21:32.645Z"
   },
   {
    "duration": 5,
    "start_time": "2021-07-01T01:21:46.822Z"
   },
   {
    "duration": 43,
    "start_time": "2021-07-01T01:21:46.879Z"
   },
   {
    "duration": 15,
    "start_time": "2021-07-01T01:21:46.925Z"
   },
   {
    "duration": 5,
    "start_time": "2021-07-01T01:21:46.943Z"
   },
   {
    "duration": 12,
    "start_time": "2021-07-01T01:21:46.951Z"
   },
   {
    "duration": 12,
    "start_time": "2021-07-01T01:21:46.965Z"
   },
   {
    "duration": 6,
    "start_time": "2021-07-01T01:21:46.980Z"
   },
   {
    "duration": 46,
    "start_time": "2021-07-01T01:21:46.989Z"
   },
   {
    "duration": 53,
    "start_time": "2021-07-01T01:21:47.038Z"
   },
   {
    "duration": 46,
    "start_time": "2021-07-01T01:21:47.093Z"
   },
   {
    "duration": 26,
    "start_time": "2021-07-01T01:21:47.141Z"
   },
   {
    "duration": 4,
    "start_time": "2021-07-01T01:21:47.169Z"
   },
   {
    "duration": 4,
    "start_time": "2021-07-01T01:21:49.517Z"
   },
   {
    "duration": 5025,
    "start_time": "2021-07-01T01:21:51.934Z"
   },
   {
    "duration": 1728,
    "start_time": "2021-07-01T01:23:35.271Z"
   },
   {
    "duration": 2303,
    "start_time": "2021-07-01T01:24:02.135Z"
   },
   {
    "duration": 1991,
    "start_time": "2021-07-01T01:24:25.217Z"
   },
   {
    "duration": 2142,
    "start_time": "2021-07-01T01:24:49.372Z"
   },
   {
    "duration": 9,
    "start_time": "2021-07-01T01:25:14.186Z"
   },
   {
    "duration": 53,
    "start_time": "2021-07-01T01:25:14.198Z"
   },
   {
    "duration": 17,
    "start_time": "2021-07-01T01:25:14.256Z"
   },
   {
    "duration": 12,
    "start_time": "2021-07-01T01:25:14.277Z"
   },
   {
    "duration": 7,
    "start_time": "2021-07-01T01:25:14.325Z"
   },
   {
    "duration": 8,
    "start_time": "2021-07-01T01:25:14.335Z"
   },
   {
    "duration": 12,
    "start_time": "2021-07-01T01:25:14.345Z"
   },
   {
    "duration": 13,
    "start_time": "2021-07-01T01:25:14.362Z"
   },
   {
    "duration": 55,
    "start_time": "2021-07-01T01:25:14.424Z"
   },
   {
    "duration": 48,
    "start_time": "2021-07-01T01:25:14.482Z"
   },
   {
    "duration": 29,
    "start_time": "2021-07-01T01:25:14.534Z"
   },
   {
    "duration": 4,
    "start_time": "2021-07-01T01:25:14.565Z"
   },
   {
    "duration": 1799,
    "start_time": "2021-07-01T01:25:14.571Z"
   },
   {
    "duration": 3,
    "start_time": "2021-07-01T01:25:16.372Z"
   },
   {
    "duration": 1956,
    "start_time": "2021-07-01T01:25:16.378Z"
   },
   {
    "duration": 2241,
    "start_time": "2021-07-01T01:25:18.337Z"
   },
   {
    "duration": 15,
    "start_time": "2021-07-01T01:25:20.581Z"
   },
   {
    "duration": 25,
    "start_time": "2021-07-01T01:25:20.599Z"
   },
   {
    "duration": 17,
    "start_time": "2021-07-01T01:25:20.627Z"
   },
   {
    "duration": 26,
    "start_time": "2021-07-01T01:25:20.647Z"
   },
   {
    "duration": 1787,
    "start_time": "2021-07-01T01:25:20.676Z"
   },
   {
    "duration": 1902,
    "start_time": "2021-07-01T01:25:22.465Z"
   },
   {
    "duration": 18,
    "start_time": "2021-07-01T01:25:24.372Z"
   },
   {
    "duration": 5,
    "start_time": "2021-07-01T01:25:24.393Z"
   },
   {
    "duration": 18,
    "start_time": "2021-07-01T01:25:24.424Z"
   },
   {
    "duration": 5,
    "start_time": "2021-07-01T01:25:24.444Z"
   },
   {
    "duration": 920,
    "start_time": "2021-07-01T01:25:24.451Z"
   },
   {
    "duration": 12,
    "start_time": "2021-07-01T01:25:25.374Z"
   },
   {
    "duration": 36,
    "start_time": "2021-07-01T01:25:25.389Z"
   },
   {
    "duration": 2709,
    "start_time": "2021-07-01T01:25:25.428Z"
   },
   {
    "duration": 3233,
    "start_time": "2021-07-01T01:25:28.140Z"
   },
   {
    "duration": 8,
    "start_time": "2021-07-01T01:25:31.376Z"
   },
   {
    "duration": 273,
    "start_time": "2021-07-01T01:25:31.387Z"
   },
   {
    "duration": 227,
    "start_time": "2021-07-01T01:25:34.966Z"
   },
   {
    "duration": 2019,
    "start_time": "2021-07-01T01:26:15.313Z"
   },
   {
    "duration": 2126,
    "start_time": "2021-07-01T01:26:44.154Z"
   },
   {
    "duration": 2359,
    "start_time": "2021-07-01T01:27:17.373Z"
   },
   {
    "duration": 2662,
    "start_time": "2021-07-01T01:27:29.129Z"
   },
   {
    "duration": 95,
    "start_time": "2021-07-01T01:28:07.647Z"
   },
   {
    "duration": 2450,
    "start_time": "2021-07-01T01:28:13.574Z"
   },
   {
    "duration": 2536,
    "start_time": "2021-07-01T01:28:48.192Z"
   },
   {
    "duration": 2155,
    "start_time": "2021-07-01T01:29:22.970Z"
   },
   {
    "duration": 3801,
    "start_time": "2021-07-01T01:29:33.039Z"
   },
   {
    "duration": 2134,
    "start_time": "2021-07-01T01:29:49.800Z"
   },
   {
    "duration": 664,
    "start_time": "2021-07-01T01:30:05.993Z"
   },
   {
    "duration": 356,
    "start_time": "2021-07-01T01:30:17.676Z"
   },
   {
    "duration": 3672,
    "start_time": "2021-07-01T01:30:35.395Z"
   },
   {
    "duration": 3973,
    "start_time": "2021-07-01T01:31:31.037Z"
   },
   {
    "duration": 3616,
    "start_time": "2021-07-01T01:32:00.649Z"
   },
   {
    "duration": 2231,
    "start_time": "2021-07-01T01:32:16.693Z"
   },
   {
    "duration": 2142,
    "start_time": "2021-07-01T01:32:30.237Z"
   },
   {
    "duration": 2050,
    "start_time": "2021-07-01T01:33:02.814Z"
   },
   {
    "duration": 2078,
    "start_time": "2021-07-01T01:33:27.787Z"
   },
   {
    "duration": 1574,
    "start_time": "2021-07-01T01:33:44.179Z"
   },
   {
    "duration": 1560,
    "start_time": "2021-07-01T01:35:31.542Z"
   },
   {
    "duration": 97,
    "start_time": "2021-07-01T01:36:21.050Z"
   },
   {
    "duration": 1557,
    "start_time": "2021-07-01T01:36:26.569Z"
   },
   {
    "duration": 1528,
    "start_time": "2021-07-01T01:36:34.836Z"
   },
   {
    "duration": 1618,
    "start_time": "2021-07-01T01:37:00.184Z"
   },
   {
    "duration": 1520,
    "start_time": "2021-07-01T01:37:42.928Z"
   },
   {
    "duration": 313,
    "start_time": "2021-07-01T01:41:13.427Z"
   },
   {
    "duration": 579,
    "start_time": "2021-07-01T01:41:29.458Z"
   },
   {
    "duration": 784,
    "start_time": "2021-07-01T01:41:37.035Z"
   },
   {
    "duration": 29,
    "start_time": "2021-07-01T01:42:25.880Z"
   },
   {
    "duration": 29,
    "start_time": "2021-07-01T01:42:33.681Z"
   },
   {
    "duration": 539,
    "start_time": "2021-07-01T01:42:47.410Z"
   },
   {
    "duration": 703,
    "start_time": "2021-07-01T01:43:12.392Z"
   },
   {
    "duration": 738,
    "start_time": "2021-07-01T01:43:38.571Z"
   },
   {
    "duration": 404,
    "start_time": "2021-07-01T01:44:11.369Z"
   },
   {
    "duration": 561,
    "start_time": "2021-07-01T01:44:30.946Z"
   },
   {
    "duration": 284,
    "start_time": "2021-07-01T01:44:37.810Z"
   },
   {
    "duration": 285,
    "start_time": "2021-07-01T01:44:44.771Z"
   },
   {
    "duration": 233,
    "start_time": "2021-07-01T01:46:35.364Z"
   },
   {
    "duration": 235,
    "start_time": "2021-07-01T01:47:03.592Z"
   },
   {
    "duration": 418,
    "start_time": "2021-07-01T01:47:07.313Z"
   },
   {
    "duration": 413,
    "start_time": "2021-07-01T01:47:21.382Z"
   },
   {
    "duration": 384,
    "start_time": "2021-07-01T01:47:33.496Z"
   },
   {
    "duration": 407,
    "start_time": "2021-07-01T01:47:41.150Z"
   },
   {
    "duration": 1952,
    "start_time": "2021-07-01T01:49:33.472Z"
   },
   {
    "duration": 1631,
    "start_time": "2021-07-01T01:50:41.722Z"
   },
   {
    "duration": 1636,
    "start_time": "2021-07-01T01:51:08.138Z"
   },
   {
    "duration": 1682,
    "start_time": "2021-07-01T01:51:41.349Z"
   },
   {
    "duration": 1443,
    "start_time": "2021-07-01T01:51:55.761Z"
   },
   {
    "duration": 5,
    "start_time": "2021-07-01T01:52:38.297Z"
   },
   {
    "duration": 724,
    "start_time": "2021-07-01T01:52:51.591Z"
   },
   {
    "duration": 1481,
    "start_time": "2021-07-01T01:53:10.589Z"
   },
   {
    "duration": 1878,
    "start_time": "2021-07-01T01:53:48.096Z"
   },
   {
    "duration": 2141,
    "start_time": "2021-07-01T01:54:30.307Z"
   },
   {
    "duration": 2399,
    "start_time": "2021-07-01T01:54:49.378Z"
   },
   {
    "duration": 2153,
    "start_time": "2021-07-01T01:55:05.801Z"
   },
   {
    "duration": 2243,
    "start_time": "2021-07-01T01:55:18.321Z"
   },
   {
    "duration": 2279,
    "start_time": "2021-07-01T01:55:27.228Z"
   },
   {
    "duration": 2071,
    "start_time": "2021-07-01T01:55:37.209Z"
   },
   {
    "duration": 2476,
    "start_time": "2021-07-01T01:55:46.608Z"
   },
   {
    "duration": 7,
    "start_time": "2021-07-01T01:57:27.371Z"
   },
   {
    "duration": 17181,
    "start_time": "2021-07-01T01:57:29.490Z"
   },
   {
    "duration": 4,
    "start_time": "2021-07-01T01:59:22.868Z"
   },
   {
    "duration": 2335,
    "start_time": "2021-07-01T01:59:23.841Z"
   },
   {
    "duration": 3,
    "start_time": "2021-07-01T02:01:38.804Z"
   },
   {
    "duration": 2680,
    "start_time": "2021-07-01T02:03:58.218Z"
   },
   {
    "duration": 2223,
    "start_time": "2021-07-01T02:04:43.503Z"
   },
   {
    "duration": 2475,
    "start_time": "2021-07-01T02:05:17.753Z"
   },
   {
    "duration": 4,
    "start_time": "2021-07-01T02:06:11.882Z"
   },
   {
    "duration": 3895,
    "start_time": "2021-07-01T02:06:12.571Z"
   },
   {
    "duration": 5,
    "start_time": "2021-07-01T02:07:32.966Z"
   },
   {
    "duration": 4139,
    "start_time": "2021-07-01T02:07:33.753Z"
   },
   {
    "duration": 3937,
    "start_time": "2021-07-01T02:08:09.787Z"
   },
   {
    "duration": 2933,
    "start_time": "2021-07-01T02:09:24.737Z"
   },
   {
    "duration": 3976,
    "start_time": "2021-07-01T02:09:41.235Z"
   },
   {
    "duration": 2325,
    "start_time": "2021-07-01T02:10:33.405Z"
   },
   {
    "duration": 2334,
    "start_time": "2021-07-01T02:11:22.123Z"
   },
   {
    "duration": 2353,
    "start_time": "2021-07-01T02:11:59.325Z"
   },
   {
    "duration": 3837,
    "start_time": "2021-07-01T02:12:59.048Z"
   },
   {
    "duration": 3942,
    "start_time": "2021-07-01T02:13:33.831Z"
   },
   {
    "duration": 2323,
    "start_time": "2021-07-01T02:18:20.068Z"
   },
   {
    "duration": 2108,
    "start_time": "2021-07-01T02:18:49.455Z"
   },
   {
    "duration": 2178,
    "start_time": "2021-07-01T02:19:48.182Z"
   },
   {
    "duration": 2332,
    "start_time": "2021-07-01T02:20:03.645Z"
   },
   {
    "duration": 2261,
    "start_time": "2021-07-01T02:20:32.343Z"
   },
   {
    "duration": 2116,
    "start_time": "2021-07-01T02:23:55.920Z"
   },
   {
    "duration": 2151,
    "start_time": "2021-07-01T02:24:35.243Z"
   },
   {
    "duration": 2318,
    "start_time": "2021-07-01T02:24:53.056Z"
   },
   {
    "duration": 2174,
    "start_time": "2021-07-01T02:26:19.133Z"
   },
   {
    "duration": 2127,
    "start_time": "2021-07-01T02:27:46.338Z"
   },
   {
    "duration": 2501,
    "start_time": "2021-07-01T02:28:08.212Z"
   },
   {
    "duration": 1492,
    "start_time": "2021-07-01T02:29:51.054Z"
   },
   {
    "duration": 1921,
    "start_time": "2021-07-01T02:30:58.010Z"
   },
   {
    "duration": 1692,
    "start_time": "2021-07-01T02:31:56.258Z"
   },
   {
    "duration": 1021,
    "start_time": "2021-07-01T02:32:06.837Z"
   },
   {
    "duration": 1535,
    "start_time": "2021-07-01T02:32:15.315Z"
   },
   {
    "duration": 1488,
    "start_time": "2021-07-01T02:33:39.428Z"
   },
   {
    "duration": 1147,
    "start_time": "2021-07-01T02:34:03.710Z"
   },
   {
    "duration": 1423,
    "start_time": "2021-07-01T02:34:52.179Z"
   },
   {
    "duration": 1721,
    "start_time": "2021-07-01T02:37:14.633Z"
   },
   {
    "duration": 1438,
    "start_time": "2021-07-01T02:38:47.493Z"
   },
   {
    "duration": 1079,
    "start_time": "2021-07-01T02:39:23.591Z"
   },
   {
    "duration": 6,
    "start_time": "2021-07-01T02:39:45.230Z"
   },
   {
    "duration": 306,
    "start_time": "2021-07-01T02:41:52.944Z"
   },
   {
    "duration": 315,
    "start_time": "2021-07-01T02:42:21.671Z"
   },
   {
    "duration": 476,
    "start_time": "2021-07-01T02:42:39.148Z"
   },
   {
    "duration": 569,
    "start_time": "2021-07-01T02:42:49.572Z"
   },
   {
    "duration": 304,
    "start_time": "2021-07-01T02:43:11.022Z"
   },
   {
    "duration": 290,
    "start_time": "2021-07-01T02:43:35.625Z"
   },
   {
    "duration": 287,
    "start_time": "2021-07-01T02:43:47.490Z"
   },
   {
    "duration": 1740,
    "start_time": "2021-07-01T02:44:43.626Z"
   },
   {
    "duration": 4066,
    "start_time": "2021-07-01T02:45:41.266Z"
   },
   {
    "duration": 54,
    "start_time": "2021-07-01T02:46:59.296Z"
   },
   {
    "duration": 85,
    "start_time": "2021-07-01T02:47:18.954Z"
   },
   {
    "duration": 81,
    "start_time": "2021-07-01T02:47:43.549Z"
   },
   {
    "duration": 1120,
    "start_time": "2021-07-01T02:48:21.957Z"
   },
   {
    "duration": 91,
    "start_time": "2021-07-01T02:48:30.139Z"
   },
   {
    "duration": 1866,
    "start_time": "2021-07-01T02:49:27.192Z"
   },
   {
    "duration": 1978,
    "start_time": "2021-07-01T02:50:27.489Z"
   },
   {
    "duration": 3493,
    "start_time": "2021-07-01T02:53:06.452Z"
   },
   {
    "duration": 3258,
    "start_time": "2021-07-01T02:54:09.905Z"
   },
   {
    "duration": 3452,
    "start_time": "2021-07-01T02:54:19.772Z"
   },
   {
    "duration": 2069,
    "start_time": "2021-07-01T02:55:45.714Z"
   },
   {
    "duration": 2091,
    "start_time": "2021-07-01T02:56:04.042Z"
   },
   {
    "duration": 2444,
    "start_time": "2021-07-01T02:56:21.904Z"
   },
   {
    "duration": 2574,
    "start_time": "2021-07-01T02:56:51.678Z"
   },
   {
    "duration": 4119,
    "start_time": "2021-07-01T02:57:05.105Z"
   },
   {
    "duration": 2569,
    "start_time": "2021-07-01T02:58:52.158Z"
   },
   {
    "duration": 2370,
    "start_time": "2021-07-01T03:00:31.328Z"
   },
   {
    "duration": 2446,
    "start_time": "2021-07-01T03:02:13.744Z"
   },
   {
    "duration": 2632,
    "start_time": "2021-07-01T03:02:40.397Z"
   },
   {
    "duration": 2474,
    "start_time": "2021-07-01T03:04:02.751Z"
   },
   {
    "duration": 1441,
    "start_time": "2021-07-01T05:58:27.377Z"
   },
   {
    "duration": 44,
    "start_time": "2021-07-01T05:58:28.821Z"
   },
   {
    "duration": 19,
    "start_time": "2021-07-01T05:58:28.868Z"
   },
   {
    "duration": 8,
    "start_time": "2021-07-01T05:58:28.890Z"
   },
   {
    "duration": 8,
    "start_time": "2021-07-01T05:58:28.900Z"
   },
   {
    "duration": 8,
    "start_time": "2021-07-01T05:58:28.911Z"
   },
   {
    "duration": 5,
    "start_time": "2021-07-01T05:58:28.921Z"
   },
   {
    "duration": 15,
    "start_time": "2021-07-01T05:58:28.929Z"
   },
   {
    "duration": 93,
    "start_time": "2021-07-01T05:58:28.947Z"
   },
   {
    "duration": 50,
    "start_time": "2021-07-01T05:58:29.043Z"
   },
   {
    "duration": 23,
    "start_time": "2021-07-01T05:58:29.096Z"
   },
   {
    "duration": 4,
    "start_time": "2021-07-01T05:58:29.122Z"
   },
   {
    "duration": 1645,
    "start_time": "2021-07-01T05:58:29.128Z"
   },
   {
    "duration": 4,
    "start_time": "2021-07-01T05:58:30.783Z"
   },
   {
    "duration": 1794,
    "start_time": "2021-07-01T05:58:30.789Z"
   },
   {
    "duration": 1060,
    "start_time": "2021-07-01T05:58:32.585Z"
   },
   {
    "duration": 11,
    "start_time": "2021-07-01T05:58:33.647Z"
   },
   {
    "duration": 7,
    "start_time": "2021-07-01T05:58:33.660Z"
   },
   {
    "duration": 13,
    "start_time": "2021-07-01T05:58:33.684Z"
   },
   {
    "duration": 589,
    "start_time": "2021-07-01T05:58:33.700Z"
   },
   {
    "duration": 1637,
    "start_time": "2021-07-01T05:58:34.292Z"
   },
   {
    "duration": 1869,
    "start_time": "2021-07-01T05:58:35.932Z"
   },
   {
    "duration": 18,
    "start_time": "2021-07-01T05:58:37.805Z"
   },
   {
    "duration": 5,
    "start_time": "2021-07-01T05:58:37.825Z"
   },
   {
    "duration": 16,
    "start_time": "2021-07-01T05:58:37.832Z"
   },
   {
    "duration": 33,
    "start_time": "2021-07-01T05:58:37.851Z"
   },
   {
    "duration": 872,
    "start_time": "2021-07-01T05:58:37.886Z"
   },
   {
    "duration": 22,
    "start_time": "2021-07-01T05:58:38.760Z"
   },
   {
    "duration": 9,
    "start_time": "2021-07-01T05:58:38.785Z"
   },
   {
    "duration": 2262,
    "start_time": "2021-07-01T05:58:38.797Z"
   },
   {
    "duration": 2968,
    "start_time": "2021-07-01T05:58:41.062Z"
   },
   {
    "duration": 6,
    "start_time": "2021-07-01T05:58:44.032Z"
   },
   {
    "duration": 242,
    "start_time": "2021-07-01T05:58:44.041Z"
   },
   {
    "duration": 1951,
    "start_time": "2021-07-01T05:59:05.172Z"
   },
   {
    "duration": 1656,
    "start_time": "2021-07-01T06:01:25.360Z"
   },
   {
    "duration": 2439,
    "start_time": "2021-07-01T06:01:38.514Z"
   },
   {
    "duration": 2526,
    "start_time": "2021-07-01T06:04:48.311Z"
   },
   {
    "duration": 11,
    "start_time": "2021-07-01T06:14:28.703Z"
   },
   {
    "duration": 44,
    "start_time": "2021-07-01T06:24:51.843Z"
   },
   {
    "duration": 44,
    "start_time": "2021-07-01T06:42:32.224Z"
   },
   {
    "duration": 8,
    "start_time": "2021-07-01T07:28:56.199Z"
   },
   {
    "duration": 7,
    "start_time": "2021-07-01T07:29:06.753Z"
   },
   {
    "duration": 4,
    "start_time": "2021-07-01T07:29:14.208Z"
   },
   {
    "duration": 318,
    "start_time": "2021-07-01T07:29:24.449Z"
   },
   {
    "duration": 47,
    "start_time": "2021-07-01T07:29:57.582Z"
   },
   {
    "duration": 10,
    "start_time": "2021-07-01T07:30:04.773Z"
   },
   {
    "duration": 4,
    "start_time": "2021-07-01T07:30:07.188Z"
   },
   {
    "duration": 317,
    "start_time": "2021-07-01T07:30:19.140Z"
   },
   {
    "duration": 22,
    "start_time": "2021-07-01T07:30:46.264Z"
   },
   {
    "duration": 8,
    "start_time": "2021-07-01T07:31:00.757Z"
   },
   {
    "duration": 16,
    "start_time": "2021-07-01T07:31:01.605Z"
   },
   {
    "duration": 6,
    "start_time": "2021-07-01T07:31:38.428Z"
   },
   {
    "duration": 4,
    "start_time": "2021-07-01T07:31:45.981Z"
   },
   {
    "duration": 278,
    "start_time": "2021-07-01T07:31:50.982Z"
   },
   {
    "duration": 4,
    "start_time": "2021-07-01T07:31:51.560Z"
   },
   {
    "duration": 587,
    "start_time": "2021-07-01T07:32:43.266Z"
   },
   {
    "duration": 4,
    "start_time": "2021-07-01T07:33:06.246Z"
   },
   {
    "duration": 528,
    "start_time": "2021-07-01T07:33:09.831Z"
   },
   {
    "duration": 3,
    "start_time": "2021-07-01T07:33:10.442Z"
   },
   {
    "duration": 20,
    "start_time": "2021-07-01T07:33:20.921Z"
   },
   {
    "duration": 10,
    "start_time": "2021-07-01T07:33:22.683Z"
   },
   {
    "duration": 4,
    "start_time": "2021-07-01T07:33:24.284Z"
   },
   {
    "duration": 44,
    "start_time": "2021-07-01T07:33:42.586Z"
   },
   {
    "duration": 8,
    "start_time": "2021-07-01T07:33:47.193Z"
   },
   {
    "duration": 277,
    "start_time": "2021-07-01T07:33:53.836Z"
   },
   {
    "duration": 44,
    "start_time": "2021-07-01T07:33:59.606Z"
   },
   {
    "duration": 10,
    "start_time": "2021-07-01T07:34:01.712Z"
   },
   {
    "duration": 33,
    "start_time": "2021-07-01T07:34:03.805Z"
   },
   {
    "duration": 7,
    "start_time": "2021-07-01T07:34:13.308Z"
   },
   {
    "duration": 26,
    "start_time": "2021-07-01T07:34:14.921Z"
   },
   {
    "duration": 1464,
    "start_time": "2021-07-01T07:34:41.420Z"
   },
   {
    "duration": 62,
    "start_time": "2021-07-01T07:34:42.888Z"
   },
   {
    "duration": 15,
    "start_time": "2021-07-01T07:34:42.953Z"
   },
   {
    "duration": 15,
    "start_time": "2021-07-01T07:34:42.971Z"
   },
   {
    "duration": 12,
    "start_time": "2021-07-01T07:34:42.990Z"
   },
   {
    "duration": 8,
    "start_time": "2021-07-01T07:34:43.005Z"
   },
   {
    "duration": 6,
    "start_time": "2021-07-01T07:34:43.015Z"
   },
   {
    "duration": 60,
    "start_time": "2021-07-01T07:34:43.026Z"
   },
   {
    "duration": 60,
    "start_time": "2021-07-01T07:34:43.090Z"
   },
   {
    "duration": 53,
    "start_time": "2021-07-01T07:34:43.152Z"
   },
   {
    "duration": 25,
    "start_time": "2021-07-01T07:34:43.207Z"
   },
   {
    "duration": 3,
    "start_time": "2021-07-01T07:34:43.235Z"
   },
   {
    "duration": 2077,
    "start_time": "2021-07-01T07:34:43.240Z"
   },
   {
    "duration": 3,
    "start_time": "2021-07-01T07:34:45.319Z"
   },
   {
    "duration": 2009,
    "start_time": "2021-07-01T07:34:45.325Z"
   },
   {
    "duration": 1136,
    "start_time": "2021-07-01T07:34:47.337Z"
   },
   {
    "duration": 16,
    "start_time": "2021-07-01T07:34:48.483Z"
   },
   {
    "duration": 7,
    "start_time": "2021-07-01T07:34:48.501Z"
   },
   {
    "duration": 15,
    "start_time": "2021-07-01T07:34:48.510Z"
   },
   {
    "duration": 649,
    "start_time": "2021-07-01T07:34:48.528Z"
   },
   {
    "duration": 1803,
    "start_time": "2021-07-01T07:34:49.180Z"
   },
   {
    "duration": 2102,
    "start_time": "2021-07-01T07:34:50.986Z"
   },
   {
    "duration": 18,
    "start_time": "2021-07-01T07:34:53.095Z"
   },
   {
    "duration": 14,
    "start_time": "2021-07-01T07:34:53.116Z"
   },
   {
    "duration": 22,
    "start_time": "2021-07-01T07:34:53.132Z"
   },
   {
    "duration": 9,
    "start_time": "2021-07-01T07:34:53.184Z"
   },
   {
    "duration": 979,
    "start_time": "2021-07-01T07:34:53.198Z"
   },
   {
    "duration": 16,
    "start_time": "2021-07-01T07:34:54.184Z"
   },
   {
    "duration": 10,
    "start_time": "2021-07-01T07:34:54.203Z"
   },
   {
    "duration": 2392,
    "start_time": "2021-07-01T07:34:54.215Z"
   },
   {
    "duration": 3253,
    "start_time": "2021-07-01T07:34:56.610Z"
   },
   {
    "duration": 17,
    "start_time": "2021-07-01T07:34:59.865Z"
   },
   {
    "duration": 2584,
    "start_time": "2021-07-01T07:34:59.885Z"
   },
   {
    "duration": 2832,
    "start_time": "2021-07-01T07:35:02.472Z"
   },
   {
    "duration": 42,
    "start_time": "2021-07-01T07:35:05.307Z"
   },
   {
    "duration": 6,
    "start_time": "2021-07-01T07:35:05.352Z"
   },
   {
    "duration": 6,
    "start_time": "2021-07-01T07:35:05.384Z"
   },
   {
    "duration": 40,
    "start_time": "2021-07-01T07:35:05.392Z"
   },
   {
    "duration": 23,
    "start_time": "2021-07-01T07:37:35.365Z"
   },
   {
    "duration": 980,
    "start_time": "2021-07-01T07:38:29.757Z"
   },
   {
    "duration": 1573,
    "start_time": "2021-07-01T07:39:09.471Z"
   },
   {
    "duration": 85,
    "start_time": "2021-07-01T07:43:28.612Z"
   },
   {
    "duration": 1284,
    "start_time": "2021-07-01T07:43:38.609Z"
   },
   {
    "duration": 95,
    "start_time": "2021-07-01T08:10:30.078Z"
   },
   {
    "duration": 9,
    "start_time": "2021-07-01T08:12:18.903Z"
   },
   {
    "duration": 15,
    "start_time": "2021-07-01T08:17:33.043Z"
   },
   {
    "duration": 4,
    "start_time": "2021-07-01T08:18:22.707Z"
   },
   {
    "duration": 5792,
    "start_time": "2021-07-01T08:18:48.403Z"
   },
   {
    "duration": 6,
    "start_time": "2021-07-01T08:19:06.811Z"
   },
   {
    "duration": 121,
    "start_time": "2021-07-01T08:21:00.370Z"
   },
   {
    "duration": 10,
    "start_time": "2021-07-01T08:21:06.994Z"
   },
   {
    "duration": 21,
    "start_time": "2021-07-01T08:22:07.634Z"
   },
   {
    "duration": 7,
    "start_time": "2021-07-01T08:26:50.997Z"
   },
   {
    "duration": 4,
    "start_time": "2021-07-01T08:42:50.242Z"
   },
   {
    "duration": 10773,
    "start_time": "2021-07-01T08:42:51.610Z"
   },
   {
    "duration": 5,
    "start_time": "2021-07-01T08:43:06.567Z"
   },
   {
    "duration": 51,
    "start_time": "2021-07-01T08:43:25.342Z"
   },
   {
    "duration": 6,
    "start_time": "2021-07-01T08:43:26.477Z"
   },
   {
    "duration": 24,
    "start_time": "2021-07-01T08:43:30.090Z"
   },
   {
    "duration": 715,
    "start_time": "2021-07-01T09:02:03.894Z"
   },
   {
    "duration": 6,
    "start_time": "2021-07-01T09:02:49.354Z"
   },
   {
    "duration": 48,
    "start_time": "2021-07-01T09:02:49.363Z"
   },
   {
    "duration": 15,
    "start_time": "2021-07-01T09:02:49.414Z"
   },
   {
    "duration": 5,
    "start_time": "2021-07-01T09:02:49.432Z"
   },
   {
    "duration": 11,
    "start_time": "2021-07-01T09:02:49.440Z"
   },
   {
    "duration": 5,
    "start_time": "2021-07-01T09:02:49.484Z"
   },
   {
    "duration": 5,
    "start_time": "2021-07-01T09:02:49.492Z"
   },
   {
    "duration": 164,
    "start_time": "2021-07-01T09:02:49.500Z"
   },
   {
    "duration": 60,
    "start_time": "2021-07-01T09:02:49.667Z"
   },
   {
    "duration": 20,
    "start_time": "2021-07-01T09:02:49.729Z"
   },
   {
    "duration": 50,
    "start_time": "2021-07-01T09:02:49.752Z"
   },
   {
    "duration": 3,
    "start_time": "2021-07-01T09:02:49.804Z"
   },
   {
    "duration": 1763,
    "start_time": "2021-07-01T09:02:49.810Z"
   },
   {
    "duration": 9,
    "start_time": "2021-07-01T09:02:51.575Z"
   },
   {
    "duration": 1774,
    "start_time": "2021-07-01T09:02:51.586Z"
   },
   {
    "duration": 1084,
    "start_time": "2021-07-01T09:02:53.363Z"
   },
   {
    "duration": 11,
    "start_time": "2021-07-01T09:02:54.450Z"
   },
   {
    "duration": 21,
    "start_time": "2021-07-01T09:02:54.463Z"
   },
   {
    "duration": 13,
    "start_time": "2021-07-01T09:02:54.489Z"
   },
   {
    "duration": 170,
    "start_time": "2021-07-01T09:02:54.506Z"
   },
   {
    "duration": 1675,
    "start_time": "2021-07-01T09:02:54.679Z"
   },
   {
    "duration": 1906,
    "start_time": "2021-07-01T09:02:56.357Z"
   },
   {
    "duration": 26,
    "start_time": "2021-07-01T09:02:58.266Z"
   },
   {
    "duration": 5,
    "start_time": "2021-07-01T09:02:58.295Z"
   },
   {
    "duration": 16,
    "start_time": "2021-07-01T09:02:58.303Z"
   },
   {
    "duration": 5,
    "start_time": "2021-07-01T09:02:58.321Z"
   },
   {
    "duration": 902,
    "start_time": "2021-07-01T09:02:58.328Z"
   },
   {
    "duration": 10,
    "start_time": "2021-07-01T09:02:59.233Z"
   },
   {
    "duration": 18,
    "start_time": "2021-07-01T09:02:59.246Z"
   },
   {
    "duration": 2372,
    "start_time": "2021-07-01T09:02:59.266Z"
   },
   {
    "duration": 2856,
    "start_time": "2021-07-01T09:03:01.641Z"
   },
   {
    "duration": 6,
    "start_time": "2021-07-01T09:03:04.499Z"
   },
   {
    "duration": 2410,
    "start_time": "2021-07-01T09:03:04.508Z"
   },
   {
    "duration": 2511,
    "start_time": "2021-07-01T09:03:06.921Z"
   },
   {
    "duration": 61,
    "start_time": "2021-07-01T09:03:09.435Z"
   },
   {
    "duration": 6,
    "start_time": "2021-07-01T09:03:09.499Z"
   },
   {
    "duration": 5,
    "start_time": "2021-07-01T09:03:09.508Z"
   },
   {
    "duration": 1305,
    "start_time": "2021-07-01T09:03:09.516Z"
   },
   {
    "duration": 10,
    "start_time": "2021-07-01T09:03:10.823Z"
   },
   {
    "duration": 17,
    "start_time": "2021-07-01T09:03:10.835Z"
   },
   {
    "duration": 31,
    "start_time": "2021-07-01T09:03:10.854Z"
   },
   {
    "duration": 10505,
    "start_time": "2021-07-01T09:03:10.887Z"
   },
   {
    "duration": 5,
    "start_time": "2021-07-01T09:03:21.485Z"
   },
   {
    "duration": 92,
    "start_time": "2021-07-01T09:03:21.492Z"
   },
   {
    "duration": 97,
    "start_time": "2021-07-01T09:03:21.588Z"
   },
   {
    "duration": 21,
    "start_time": "2021-07-01T09:03:21.688Z"
   },
   {
    "duration": 20,
    "start_time": "2021-07-01T09:03:23.905Z"
   },
   {
    "duration": 699,
    "start_time": "2021-07-01T09:03:26.034Z"
   },
   {
    "duration": 578,
    "start_time": "2021-07-01T09:04:06.764Z"
   },
   {
    "duration": 89,
    "start_time": "2021-07-01T09:12:20.418Z"
   },
   {
    "duration": 664,
    "start_time": "2021-07-01T09:12:29.489Z"
   },
   {
    "duration": 7,
    "start_time": "2021-07-01T09:12:42.407Z"
   },
   {
    "duration": 6,
    "start_time": "2021-07-01T09:13:00.438Z"
   },
   {
    "duration": 654,
    "start_time": "2021-07-01T09:13:19.111Z"
   },
   {
    "duration": 683,
    "start_time": "2021-07-01T09:13:44.564Z"
   },
   {
    "duration": 763,
    "start_time": "2021-07-01T09:14:13.850Z"
   },
   {
    "duration": 698,
    "start_time": "2021-07-01T09:14:35.269Z"
   },
   {
    "duration": 378,
    "start_time": "2021-07-01T09:15:09.352Z"
   },
   {
    "duration": 395,
    "start_time": "2021-07-01T09:15:27.369Z"
   },
   {
    "duration": 397,
    "start_time": "2021-07-01T09:15:40.323Z"
   },
   {
    "duration": 421,
    "start_time": "2021-07-01T09:16:23.293Z"
   },
   {
    "duration": 451,
    "start_time": "2021-07-01T09:21:05.732Z"
   },
   {
    "duration": 446,
    "start_time": "2021-07-01T14:25:44.315Z"
   },
   {
    "duration": 1643,
    "start_time": "2021-07-01T14:25:51.128Z"
   },
   {
    "duration": 52,
    "start_time": "2021-07-01T14:25:52.774Z"
   },
   {
    "duration": 16,
    "start_time": "2021-07-01T14:25:52.830Z"
   },
   {
    "duration": 8,
    "start_time": "2021-07-01T14:25:52.850Z"
   },
   {
    "duration": 8,
    "start_time": "2021-07-01T14:25:52.861Z"
   },
   {
    "duration": 40,
    "start_time": "2021-07-01T14:25:52.872Z"
   },
   {
    "duration": 10,
    "start_time": "2021-07-01T14:25:52.914Z"
   },
   {
    "duration": 18,
    "start_time": "2021-07-01T14:25:52.928Z"
   },
   {
    "duration": 80,
    "start_time": "2021-07-01T14:25:52.950Z"
   },
   {
    "duration": 24,
    "start_time": "2021-07-01T14:25:53.033Z"
   },
   {
    "duration": 57,
    "start_time": "2021-07-01T14:25:53.060Z"
   },
   {
    "duration": 4,
    "start_time": "2021-07-01T14:25:53.121Z"
   },
   {
    "duration": 1868,
    "start_time": "2021-07-01T14:25:53.127Z"
   },
   {
    "duration": 11,
    "start_time": "2021-07-01T14:25:54.998Z"
   },
   {
    "duration": 2201,
    "start_time": "2021-07-01T14:25:55.011Z"
   },
   {
    "duration": 1210,
    "start_time": "2021-07-01T14:25:57.214Z"
   },
   {
    "duration": 10,
    "start_time": "2021-07-01T14:25:58.426Z"
   },
   {
    "duration": 10,
    "start_time": "2021-07-01T14:25:58.439Z"
   },
   {
    "duration": 15,
    "start_time": "2021-07-01T14:25:58.452Z"
   },
   {
    "duration": 804,
    "start_time": "2021-07-01T14:25:58.469Z"
   },
   {
    "duration": 2065,
    "start_time": "2021-07-01T14:25:59.276Z"
   },
   {
    "duration": 2110,
    "start_time": "2021-07-01T14:26:01.344Z"
   },
   {
    "duration": 18,
    "start_time": "2021-07-01T14:26:03.459Z"
   },
   {
    "duration": 16,
    "start_time": "2021-07-01T14:26:03.481Z"
   },
   {
    "duration": 27,
    "start_time": "2021-07-01T14:26:03.508Z"
   },
   {
    "duration": 14,
    "start_time": "2021-07-01T14:26:03.537Z"
   },
   {
    "duration": 955,
    "start_time": "2021-07-01T14:26:03.554Z"
   },
   {
    "duration": 10,
    "start_time": "2021-07-01T14:26:04.511Z"
   },
   {
    "duration": 19,
    "start_time": "2021-07-01T14:26:04.523Z"
   },
   {
    "duration": 2497,
    "start_time": "2021-07-01T14:26:04.545Z"
   },
   {
    "duration": 3057,
    "start_time": "2021-07-01T14:26:07.044Z"
   },
   {
    "duration": 7,
    "start_time": "2021-07-01T14:26:10.103Z"
   },
   {
    "duration": 2664,
    "start_time": "2021-07-01T14:26:10.113Z"
   },
   {
    "duration": 2530,
    "start_time": "2021-07-01T14:26:12.779Z"
   },
   {
    "duration": 49,
    "start_time": "2021-07-01T14:26:15.311Z"
   },
   {
    "duration": 7,
    "start_time": "2021-07-01T14:26:15.362Z"
   },
   {
    "duration": 7,
    "start_time": "2021-07-01T14:26:15.372Z"
   },
   {
    "duration": 1339,
    "start_time": "2021-07-01T14:26:15.409Z"
   },
   {
    "duration": 11,
    "start_time": "2021-07-01T14:26:16.751Z"
   },
   {
    "duration": 49,
    "start_time": "2021-07-01T14:26:16.765Z"
   },
   {
    "duration": 4,
    "start_time": "2021-07-01T14:26:16.817Z"
   },
   {
    "duration": 10087,
    "start_time": "2021-07-01T14:26:16.824Z"
   },
   {
    "duration": 6,
    "start_time": "2021-07-01T14:26:26.915Z"
   },
   {
    "duration": 108,
    "start_time": "2021-07-01T14:26:27.010Z"
   },
   {
    "duration": 6,
    "start_time": "2021-07-01T14:26:27.210Z"
   },
   {
    "duration": 469,
    "start_time": "2021-07-01T14:26:27.219Z"
   },
   {
    "duration": 28,
    "start_time": "2021-07-01T14:40:58.940Z"
   },
   {
    "duration": 28,
    "start_time": "2021-07-01T14:42:22.768Z"
   },
   {
    "duration": 11,
    "start_time": "2021-07-01T14:42:38.924Z"
   },
   {
    "duration": 47233,
    "start_time": "2021-07-01T14:43:20.979Z"
   },
   {
    "duration": 120,
    "start_time": "2021-07-01T14:46:52.260Z"
   },
   {
    "duration": 3129,
    "start_time": "2021-07-01T14:47:30.844Z"
   },
   {
    "duration": 491,
    "start_time": "2021-07-01T14:50:12.488Z"
   },
   {
    "duration": 3136,
    "start_time": "2021-07-01T14:54:27.991Z"
   },
   {
    "duration": 12,
    "start_time": "2021-07-01T14:54:51.808Z"
   },
   {
    "duration": 770,
    "start_time": "2021-07-01T15:01:02.546Z"
   },
   {
    "duration": 23,
    "start_time": "2021-07-01T15:02:54.351Z"
   },
   {
    "duration": 6,
    "start_time": "2021-07-01T15:03:38.141Z"
   },
   {
    "duration": 26,
    "start_time": "2021-07-01T15:03:39.796Z"
   },
   {
    "duration": 5,
    "start_time": "2021-07-01T15:04:06.950Z"
   },
   {
    "duration": 9,
    "start_time": "2021-07-01T15:04:24.441Z"
   },
   {
    "duration": 7,
    "start_time": "2021-07-01T15:04:52.676Z"
   },
   {
    "duration": 482,
    "start_time": "2021-07-01T15:05:27.886Z"
   },
   {
    "duration": 12,
    "start_time": "2021-07-01T15:06:24.616Z"
   },
   {
    "duration": 8,
    "start_time": "2021-07-01T15:06:54.091Z"
   },
   {
    "duration": 11,
    "start_time": "2021-07-01T15:07:00.456Z"
   },
   {
    "duration": 9,
    "start_time": "2021-07-01T15:07:07.893Z"
   },
   {
    "duration": 22,
    "start_time": "2021-07-01T15:07:16.903Z"
   },
   {
    "duration": 20,
    "start_time": "2021-07-01T15:07:56.137Z"
   },
   {
    "duration": 1177,
    "start_time": "2021-07-01T20:34:02.712Z"
   },
   {
    "duration": 35,
    "start_time": "2021-07-01T20:34:03.891Z"
   },
   {
    "duration": 9,
    "start_time": "2021-07-01T20:34:03.928Z"
   },
   {
    "duration": 4,
    "start_time": "2021-07-01T20:34:03.939Z"
   },
   {
    "duration": 6,
    "start_time": "2021-07-01T20:34:03.945Z"
   },
   {
    "duration": 6,
    "start_time": "2021-07-01T20:34:03.952Z"
   },
   {
    "duration": 3,
    "start_time": "2021-07-01T20:34:03.959Z"
   },
   {
    "duration": 20,
    "start_time": "2021-07-01T20:34:03.965Z"
   },
   {
    "duration": 34,
    "start_time": "2021-07-01T20:34:03.987Z"
   },
   {
    "duration": 13,
    "start_time": "2021-07-01T20:34:04.023Z"
   },
   {
    "duration": 16,
    "start_time": "2021-07-01T20:34:04.038Z"
   },
   {
    "duration": 30,
    "start_time": "2021-07-01T20:34:04.055Z"
   },
   {
    "duration": 1097,
    "start_time": "2021-07-01T20:34:04.087Z"
   },
   {
    "duration": 3,
    "start_time": "2021-07-01T20:34:05.186Z"
   },
   {
    "duration": 1207,
    "start_time": "2021-07-01T20:34:05.191Z"
   },
   {
    "duration": 716,
    "start_time": "2021-07-01T20:34:06.400Z"
   },
   {
    "duration": 9,
    "start_time": "2021-07-01T20:34:07.117Z"
   },
   {
    "duration": 4,
    "start_time": "2021-07-01T20:34:07.128Z"
   },
   {
    "duration": 17,
    "start_time": "2021-07-01T20:34:07.134Z"
   },
   {
    "duration": 305,
    "start_time": "2021-07-01T20:34:07.153Z"
   },
   {
    "duration": 1202,
    "start_time": "2021-07-01T20:34:07.460Z"
   },
   {
    "duration": 1132,
    "start_time": "2021-07-01T20:34:08.663Z"
   },
   {
    "duration": 13,
    "start_time": "2021-07-01T20:34:09.798Z"
   },
   {
    "duration": 3,
    "start_time": "2021-07-01T20:34:09.814Z"
   },
   {
    "duration": 12,
    "start_time": "2021-07-01T20:34:09.819Z"
   },
   {
    "duration": 4,
    "start_time": "2021-07-01T20:34:09.832Z"
   },
   {
    "duration": 588,
    "start_time": "2021-07-01T20:34:09.838Z"
   },
   {
    "duration": 9,
    "start_time": "2021-07-01T20:34:10.428Z"
   },
   {
    "duration": 8,
    "start_time": "2021-07-01T20:34:10.439Z"
   },
   {
    "duration": 1580,
    "start_time": "2021-07-01T20:34:10.448Z"
   },
   {
    "duration": 1841,
    "start_time": "2021-07-01T20:34:12.030Z"
   },
   {
    "duration": 15,
    "start_time": "2021-07-01T20:34:13.873Z"
   },
   {
    "duration": 1687,
    "start_time": "2021-07-01T20:34:13.890Z"
   },
   {
    "duration": 1496,
    "start_time": "2021-07-01T20:34:15.579Z"
   },
   {
    "duration": 30,
    "start_time": "2021-07-01T20:34:17.076Z"
   },
   {
    "duration": 4,
    "start_time": "2021-07-01T20:34:17.107Z"
   },
   {
    "duration": 4,
    "start_time": "2021-07-01T20:34:17.113Z"
   },
   {
    "duration": 841,
    "start_time": "2021-07-01T20:34:17.118Z"
   },
   {
    "duration": 6,
    "start_time": "2021-07-01T20:34:17.960Z"
   },
   {
    "duration": 19,
    "start_time": "2021-07-01T20:34:17.968Z"
   },
   {
    "duration": 3,
    "start_time": "2021-07-01T20:34:17.988Z"
   },
   {
    "duration": 7395,
    "start_time": "2021-07-01T20:34:17.993Z"
   },
   {
    "duration": 95,
    "start_time": "2021-07-01T20:34:25.391Z"
   },
   {
    "duration": 98,
    "start_time": "2021-07-01T20:34:25.487Z"
   },
   {
    "duration": 96,
    "start_time": "2021-07-01T20:34:25.588Z"
   },
   {
    "duration": 293,
    "start_time": "2021-07-01T20:34:25.686Z"
   },
   {
    "duration": 9,
    "start_time": "2021-07-01T20:34:25.981Z"
   },
   {
    "duration": 29119,
    "start_time": "2021-07-01T20:34:25.992Z"
   },
   {
    "duration": 1756,
    "start_time": "2021-07-01T20:34:55.112Z"
   },
   {
    "duration": 15,
    "start_time": "2021-07-01T20:34:56.870Z"
   },
   {
    "duration": 331,
    "start_time": "2021-07-01T20:34:56.886Z"
   },
   {
    "duration": 565,
    "start_time": "2021-07-01T20:34:57.219Z"
   },
   {
    "duration": 6,
    "start_time": "2021-07-01T20:34:57.786Z"
   },
   {
    "duration": 8,
    "start_time": "2021-07-01T20:34:57.794Z"
   },
   {
    "duration": 84,
    "start_time": "2021-07-01T20:34:57.805Z"
   },
   {
    "duration": 4,
    "start_time": "2021-07-01T20:36:19.318Z"
   },
   {
    "duration": 3,
    "start_time": "2021-07-01T20:36:26.664Z"
   },
   {
    "duration": 9,
    "start_time": "2021-07-01T20:40:29.920Z"
   },
   {
    "duration": 1770,
    "start_time": "2021-07-01T20:41:49.668Z"
   },
   {
    "duration": 98599,
    "start_time": "2021-07-01T20:42:26.437Z"
   },
   {
    "duration": 5187,
    "start_time": "2021-07-01T20:45:14.536Z"
   },
   {
    "duration": 14,
    "start_time": "2021-07-01T20:46:37.347Z"
   },
   {
    "duration": 223,
    "start_time": "2021-07-01T20:47:35.896Z"
   },
   {
    "duration": 1372,
    "start_time": "2021-07-01T20:52:59.617Z"
   },
   {
    "duration": 1156,
    "start_time": "2021-07-01T20:53:53.733Z"
   },
   {
    "duration": 305,
    "start_time": "2021-07-01T20:55:09.862Z"
   },
   {
    "duration": 5,
    "start_time": "2021-07-01T20:55:35.715Z"
   },
   {
    "duration": 15,
    "start_time": "2021-07-01T20:56:25.248Z"
   },
   {
    "duration": 15,
    "start_time": "2021-07-01T20:58:26.386Z"
   },
   {
    "duration": 14,
    "start_time": "2021-07-01T20:59:25.464Z"
   },
   {
    "duration": 14,
    "start_time": "2021-07-01T21:00:19.071Z"
   },
   {
    "duration": 182,
    "start_time": "2021-07-01T22:15:17.903Z"
   },
   {
    "duration": 345,
    "start_time": "2021-07-01T22:15:25.721Z"
   },
   {
    "duration": 186,
    "start_time": "2021-07-01T22:15:42.539Z"
   },
   {
    "duration": 179,
    "start_time": "2021-07-01T22:15:46.903Z"
   },
   {
    "duration": 225,
    "start_time": "2021-07-01T22:15:59.876Z"
   },
   {
    "duration": 6,
    "start_time": "2021-07-01T22:16:37.019Z"
   },
   {
    "duration": 15,
    "start_time": "2021-07-01T22:17:05.680Z"
   },
   {
    "duration": 8,
    "start_time": "2021-07-01T22:17:30.744Z"
   },
   {
    "duration": 4,
    "start_time": "2021-07-01T22:47:22.433Z"
   },
   {
    "duration": 1210,
    "start_time": "2021-07-01T22:47:23.596Z"
   },
   {
    "duration": 1422,
    "start_time": "2021-07-01T22:48:07.912Z"
   },
   {
    "duration": 1192,
    "start_time": "2021-07-01T22:48:37.195Z"
   },
   {
    "duration": 1211,
    "start_time": "2021-07-01T22:48:51.477Z"
   },
   {
    "duration": 1339,
    "start_time": "2021-07-01T22:49:16.204Z"
   },
   {
    "duration": 1233,
    "start_time": "2021-07-01T22:50:09.726Z"
   },
   {
    "duration": 1315,
    "start_time": "2021-07-01T22:50:26.674Z"
   },
   {
    "duration": 4,
    "start_time": "2021-07-01T22:51:12.618Z"
   },
   {
    "duration": 1462,
    "start_time": "2021-07-01T22:51:24.435Z"
   },
   {
    "duration": 1280,
    "start_time": "2021-07-01T22:52:00.205Z"
   },
   {
    "duration": 1211,
    "start_time": "2021-07-01T22:52:28.461Z"
   },
   {
    "duration": 1421,
    "start_time": "2021-07-01T22:52:41.390Z"
   },
   {
    "duration": 1330,
    "start_time": "2021-07-01T22:53:19.302Z"
   },
   {
    "duration": 1288,
    "start_time": "2021-07-01T22:55:11.736Z"
   },
   {
    "duration": 1314,
    "start_time": "2021-07-01T22:55:36.286Z"
   },
   {
    "duration": 1350,
    "start_time": "2021-07-01T22:56:37.614Z"
   },
   {
    "duration": 5,
    "start_time": "2021-07-01T22:57:16.137Z"
   },
   {
    "duration": 1816,
    "start_time": "2021-07-01T22:57:27.657Z"
   },
   {
    "duration": 1858,
    "start_time": "2021-07-01T22:58:22.943Z"
   },
   {
    "duration": 1737,
    "start_time": "2021-07-01T22:59:43.951Z"
   },
   {
    "duration": 1803,
    "start_time": "2021-07-01T23:00:02.859Z"
   },
   {
    "duration": 1631,
    "start_time": "2021-07-01T23:00:27.134Z"
   },
   {
    "duration": 1653,
    "start_time": "2021-07-01T23:00:47.573Z"
   },
   {
    "duration": 63,
    "start_time": "2021-07-01T23:02:16.137Z"
   },
   {
    "duration": 6,
    "start_time": "2021-07-01T23:13:20.398Z"
   },
   {
    "duration": 8,
    "start_time": "2021-07-01T23:13:41.741Z"
   },
   {
    "duration": 192,
    "start_time": "2021-07-01T23:15:02.636Z"
   },
   {
    "duration": 6,
    "start_time": "2021-07-01T23:15:19.017Z"
   },
   {
    "duration": 122,
    "start_time": "2021-07-01T23:15:41.048Z"
   },
   {
    "duration": 6,
    "start_time": "2021-07-01T23:15:58.158Z"
   },
   {
    "duration": 7,
    "start_time": "2021-07-01T23:17:48.403Z"
   },
   {
    "duration": 4,
    "start_time": "2021-07-01T23:29:34.383Z"
   },
   {
    "duration": 187,
    "start_time": "2021-07-01T23:34:26.769Z"
   },
   {
    "duration": 3,
    "start_time": "2021-07-01T23:35:06.538Z"
   },
   {
    "duration": 1200,
    "start_time": "2021-07-01T23:35:36.367Z"
   },
   {
    "duration": 36,
    "start_time": "2021-07-01T23:35:37.569Z"
   },
   {
    "duration": 10,
    "start_time": "2021-07-01T23:35:37.608Z"
   },
   {
    "duration": 7,
    "start_time": "2021-07-01T23:35:37.619Z"
   },
   {
    "duration": 7,
    "start_time": "2021-07-01T23:35:37.627Z"
   },
   {
    "duration": 7,
    "start_time": "2021-07-01T23:35:37.636Z"
   },
   {
    "duration": 5,
    "start_time": "2021-07-01T23:35:37.644Z"
   },
   {
    "duration": 37,
    "start_time": "2021-07-01T23:35:37.652Z"
   },
   {
    "duration": 35,
    "start_time": "2021-07-01T23:35:37.691Z"
   },
   {
    "duration": 13,
    "start_time": "2021-07-01T23:35:37.728Z"
   },
   {
    "duration": 42,
    "start_time": "2021-07-01T23:35:37.743Z"
   },
   {
    "duration": 3,
    "start_time": "2021-07-01T23:35:37.786Z"
   },
   {
    "duration": 1439,
    "start_time": "2021-07-01T23:35:37.791Z"
   },
   {
    "duration": 4,
    "start_time": "2021-07-01T23:35:39.232Z"
   },
   {
    "duration": 1268,
    "start_time": "2021-07-01T23:35:39.238Z"
   },
   {
    "duration": 713,
    "start_time": "2021-07-01T23:35:40.508Z"
   },
   {
    "duration": 8,
    "start_time": "2021-07-01T23:35:41.223Z"
   },
   {
    "duration": 7,
    "start_time": "2021-07-01T23:35:41.233Z"
   },
   {
    "duration": 13,
    "start_time": "2021-07-01T23:35:41.242Z"
   },
   {
    "duration": 562,
    "start_time": "2021-07-01T23:35:41.257Z"
   },
   {
    "duration": 1676,
    "start_time": "2021-07-01T23:35:41.822Z"
   },
   {
    "duration": 1244,
    "start_time": "2021-07-01T23:35:43.501Z"
   },
   {
    "duration": 14,
    "start_time": "2021-07-01T23:35:44.751Z"
   },
   {
    "duration": 17,
    "start_time": "2021-07-01T23:35:44.768Z"
   },
   {
    "duration": 14,
    "start_time": "2021-07-01T23:35:44.787Z"
   },
   {
    "duration": 4,
    "start_time": "2021-07-01T23:35:44.803Z"
   },
   {
    "duration": 599,
    "start_time": "2021-07-01T23:35:44.808Z"
   },
   {
    "duration": 7,
    "start_time": "2021-07-01T23:35:45.410Z"
   },
   {
    "duration": 15,
    "start_time": "2021-07-01T23:35:45.419Z"
   },
   {
    "duration": 1594,
    "start_time": "2021-07-01T23:35:45.435Z"
   },
   {
    "duration": 1906,
    "start_time": "2021-07-01T23:35:47.031Z"
   },
   {
    "duration": 674,
    "start_time": "2021-07-01T23:35:48.938Z"
   },
   {
    "duration": 1971,
    "start_time": "2021-07-01T23:35:49.614Z"
   },
   {
    "duration": 1810,
    "start_time": "2021-07-01T23:35:51.588Z"
   },
   {
    "duration": 26,
    "start_time": "2021-07-01T23:35:53.400Z"
   },
   {
    "duration": 5,
    "start_time": "2021-07-01T23:35:53.428Z"
   },
   {
    "duration": 10,
    "start_time": "2021-07-01T23:35:53.435Z"
   },
   {
    "duration": 951,
    "start_time": "2021-07-01T23:35:53.447Z"
   },
   {
    "duration": 9,
    "start_time": "2021-07-01T23:35:54.400Z"
   },
   {
    "duration": 13,
    "start_time": "2021-07-01T23:35:54.410Z"
   },
   {
    "duration": 7,
    "start_time": "2021-07-01T23:35:54.425Z"
   },
   {
    "duration": 6757,
    "start_time": "2021-07-01T23:35:54.434Z"
   },
   {
    "duration": 91,
    "start_time": "2021-07-01T23:36:01.193Z"
   },
   {
    "duration": 18,
    "start_time": "2021-07-01T23:36:01.286Z"
   },
   {
    "duration": 90,
    "start_time": "2021-07-01T23:36:01.306Z"
   },
   {
    "duration": 379,
    "start_time": "2021-07-01T23:36:01.399Z"
   },
   {
    "duration": 12,
    "start_time": "2021-07-01T23:36:01.780Z"
   },
   {
    "duration": 30767,
    "start_time": "2021-07-01T23:36:01.794Z"
   },
   {
    "duration": 1856,
    "start_time": "2021-07-01T23:36:32.564Z"
   },
   {
    "duration": 9,
    "start_time": "2021-07-01T23:36:34.423Z"
   },
   {
    "duration": 369,
    "start_time": "2021-07-01T23:36:34.434Z"
   },
   {
    "duration": 593,
    "start_time": "2021-07-01T23:36:34.805Z"
   },
   {
    "duration": 89,
    "start_time": "2021-07-01T23:36:35.400Z"
   },
   {
    "duration": 8,
    "start_time": "2021-07-01T23:36:35.493Z"
   },
   {
    "duration": 89,
    "start_time": "2021-07-01T23:36:35.503Z"
   },
   {
    "duration": 411,
    "start_time": "2021-07-01T23:36:35.594Z"
   },
   {
    "duration": 859,
    "start_time": "2021-07-01T23:36:35.148Z"
   },
   {
    "duration": 853,
    "start_time": "2021-07-01T23:36:35.156Z"
   },
   {
    "duration": 847,
    "start_time": "2021-07-01T23:36:35.163Z"
   },
   {
    "duration": 842,
    "start_time": "2021-07-01T23:36:35.170Z"
   },
   {
    "duration": 836,
    "start_time": "2021-07-01T23:36:35.177Z"
   },
   {
    "duration": 830,
    "start_time": "2021-07-01T23:36:35.184Z"
   },
   {
    "duration": 825,
    "start_time": "2021-07-01T23:36:35.191Z"
   },
   {
    "duration": 819,
    "start_time": "2021-07-01T23:36:35.198Z"
   },
   {
    "duration": 810,
    "start_time": "2021-07-01T23:36:35.208Z"
   },
   {
    "duration": 804,
    "start_time": "2021-07-01T23:36:35.216Z"
   },
   {
    "duration": 798,
    "start_time": "2021-07-01T23:36:35.223Z"
   },
   {
    "duration": 199,
    "start_time": "2021-07-01T23:37:58.800Z"
   },
   {
    "duration": 5,
    "start_time": "2021-07-01T23:38:31.171Z"
   },
   {
    "duration": 7,
    "start_time": "2021-07-01T23:38:33.058Z"
   },
   {
    "duration": 8,
    "start_time": "2021-07-01T23:38:33.911Z"
   },
   {
    "duration": 23,
    "start_time": "2021-07-01T23:38:35.486Z"
   },
   {
    "duration": 23,
    "start_time": "2021-07-01T23:38:36.453Z"
   },
   {
    "duration": 14,
    "start_time": "2021-07-01T23:38:38.315Z"
   },
   {
    "duration": 106430,
    "start_time": "2021-07-01T23:38:38.977Z"
   },
   {
    "duration": 5545,
    "start_time": "2021-07-01T23:40:25.410Z"
   },
   {
    "duration": 15,
    "start_time": "2021-07-01T23:40:30.957Z"
   },
   {
    "duration": 342,
    "start_time": "2021-07-01T23:40:30.986Z"
   },
   {
    "duration": 960,
    "start_time": "2021-07-01T23:40:31.330Z"
   },
   {
    "duration": 91,
    "start_time": "2021-07-01T23:40:32.296Z"
   },
   {
    "duration": 16,
    "start_time": "2021-07-01T23:40:32.389Z"
   },
   {
    "duration": 21,
    "start_time": "2021-07-01T23:40:32.407Z"
   },
   {
    "duration": 4,
    "start_time": "2021-07-01T23:41:06.677Z"
   },
   {
    "duration": 16,
    "start_time": "2021-07-01T23:41:08.382Z"
   },
   {
    "duration": 4,
    "start_time": "2021-07-01T23:58:52.868Z"
   },
   {
    "duration": 2180,
    "start_time": "2021-07-02T21:33:26.815Z"
   },
   {
    "duration": 4,
    "start_time": "2021-07-02T21:38:41.857Z"
   },
   {
    "duration": 432,
    "start_time": "2021-07-02T21:45:29.042Z"
   },
   {
    "duration": 1550,
    "start_time": "2021-07-02T21:45:49.011Z"
   },
   {
    "duration": 49,
    "start_time": "2021-07-02T21:45:50.564Z"
   },
   {
    "duration": 19,
    "start_time": "2021-07-02T21:45:50.620Z"
   },
   {
    "duration": 5,
    "start_time": "2021-07-02T21:45:50.642Z"
   },
   {
    "duration": 8,
    "start_time": "2021-07-02T21:45:50.650Z"
   },
   {
    "duration": 53,
    "start_time": "2021-07-02T21:45:50.660Z"
   },
   {
    "duration": 14,
    "start_time": "2021-07-02T21:45:50.717Z"
   },
   {
    "duration": 12,
    "start_time": "2021-07-02T21:45:50.734Z"
   },
   {
    "duration": 63,
    "start_time": "2021-07-02T21:45:50.748Z"
   },
   {
    "duration": 31,
    "start_time": "2021-07-02T21:45:50.814Z"
   },
   {
    "duration": 55,
    "start_time": "2021-07-02T21:45:50.848Z"
   },
   {
    "duration": 7,
    "start_time": "2021-07-02T21:45:50.906Z"
   },
   {
    "duration": 2359,
    "start_time": "2021-07-02T21:45:50.916Z"
   },
   {
    "duration": 4,
    "start_time": "2021-07-02T21:45:53.277Z"
   },
   {
    "duration": 2011,
    "start_time": "2021-07-02T21:45:53.283Z"
   },
   {
    "duration": 1185,
    "start_time": "2021-07-02T21:45:55.301Z"
   },
   {
    "duration": 26,
    "start_time": "2021-07-02T21:45:56.489Z"
   },
   {
    "duration": 7,
    "start_time": "2021-07-02T21:45:56.520Z"
   },
   {
    "duration": 18,
    "start_time": "2021-07-02T21:45:56.529Z"
   },
   {
    "duration": 1058,
    "start_time": "2021-07-02T21:45:56.550Z"
   },
   {
    "duration": 2424,
    "start_time": "2021-07-02T21:45:57.611Z"
   },
   {
    "duration": 1971,
    "start_time": "2021-07-02T21:46:00.041Z"
   },
   {
    "duration": 19,
    "start_time": "2021-07-02T21:46:02.023Z"
   },
   {
    "duration": 9,
    "start_time": "2021-07-02T21:46:02.045Z"
   },
   {
    "duration": 22,
    "start_time": "2021-07-02T21:46:02.056Z"
   },
   {
    "duration": 5,
    "start_time": "2021-07-02T21:46:02.081Z"
   },
   {
    "duration": 976,
    "start_time": "2021-07-02T21:46:02.088Z"
   },
   {
    "duration": 10,
    "start_time": "2021-07-02T21:46:03.067Z"
   },
   {
    "duration": 38,
    "start_time": "2021-07-02T21:46:03.080Z"
   },
   {
    "duration": 2733,
    "start_time": "2021-07-02T21:46:03.121Z"
   },
   {
    "duration": 3676,
    "start_time": "2021-07-02T21:46:05.856Z"
   },
   {
    "duration": 6,
    "start_time": "2021-07-02T21:46:09.536Z"
   },
   {
    "duration": 3168,
    "start_time": "2021-07-02T21:46:09.546Z"
   },
   {
    "duration": 3121,
    "start_time": "2021-07-02T21:46:12.717Z"
   },
   {
    "duration": 67,
    "start_time": "2021-07-02T21:46:15.841Z"
   },
   {
    "duration": 18,
    "start_time": "2021-07-02T21:46:15.911Z"
   },
   {
    "duration": 6,
    "start_time": "2021-07-02T21:46:15.933Z"
   },
   {
    "duration": 1379,
    "start_time": "2021-07-02T21:46:15.942Z"
   },
   {
    "duration": 11,
    "start_time": "2021-07-02T21:46:17.323Z"
   },
   {
    "duration": 15,
    "start_time": "2021-07-02T21:46:17.337Z"
   },
   {
    "duration": 4,
    "start_time": "2021-07-02T21:46:17.354Z"
   },
   {
    "duration": 9259,
    "start_time": "2021-07-02T21:46:17.360Z"
   },
   {
    "duration": 88,
    "start_time": "2021-07-02T21:46:26.623Z"
   },
   {
    "duration": 89,
    "start_time": "2021-07-02T21:46:26.718Z"
   },
   {
    "duration": 80,
    "start_time": "2021-07-02T21:46:26.819Z"
   },
   {
    "duration": 491,
    "start_time": "2021-07-02T21:46:26.903Z"
   },
   {
    "duration": 22,
    "start_time": "2021-07-02T21:46:27.397Z"
   },
   {
    "duration": 48547,
    "start_time": "2021-07-02T21:46:27.422Z"
   },
   {
    "duration": 3457,
    "start_time": "2021-07-02T21:47:15.973Z"
   },
   {
    "duration": 11,
    "start_time": "2021-07-02T21:47:19.433Z"
   },
   {
    "duration": 510,
    "start_time": "2021-07-02T21:47:19.447Z"
   },
   {
    "duration": 644,
    "start_time": "2021-07-02T21:47:19.960Z"
   },
   {
    "duration": 17,
    "start_time": "2021-07-02T21:47:20.613Z"
   },
   {
    "duration": 71,
    "start_time": "2021-07-02T21:47:20.636Z"
   },
   {
    "duration": 16,
    "start_time": "2021-07-02T21:47:20.716Z"
   },
   {
    "duration": 7,
    "start_time": "2021-07-02T21:47:20.735Z"
   },
   {
    "duration": 23,
    "start_time": "2021-07-02T21:47:20.745Z"
   },
   {
    "duration": 68,
    "start_time": "2021-07-02T21:47:20.771Z"
   },
   {
    "duration": 11,
    "start_time": "2021-07-02T21:47:20.842Z"
   },
   {
    "duration": 165680,
    "start_time": "2021-07-02T21:47:20.855Z"
   },
   {
    "duration": 9331,
    "start_time": "2021-07-02T21:50:06.538Z"
   },
   {
    "duration": 41,
    "start_time": "2021-07-02T21:50:15.872Z"
   },
   {
    "duration": 369,
    "start_time": "2021-07-02T21:50:15.916Z"
   },
   {
    "duration": 1043,
    "start_time": "2021-07-02T21:50:16.287Z"
   },
   {
    "duration": 15,
    "start_time": "2021-07-02T21:50:17.409Z"
   },
   {
    "duration": 22,
    "start_time": "2021-07-02T21:50:17.427Z"
   },
   {
    "duration": 21,
    "start_time": "2021-07-02T21:50:17.456Z"
   },
   {
    "duration": 3,
    "start_time": "2021-07-02T21:50:17.480Z"
   },
   {
    "duration": 12,
    "start_time": "2021-07-02T21:50:17.506Z"
   },
   {
    "duration": 117,
    "start_time": "2021-07-02T21:50:17.521Z"
   },
   {
    "duration": 834,
    "start_time": "2021-07-02T21:50:16.807Z"
   },
   {
    "duration": 100,
    "start_time": "2021-07-02T21:52:11.615Z"
   },
   {
    "duration": 144,
    "start_time": "2021-07-02T21:52:19.450Z"
   },
   {
    "duration": 103,
    "start_time": "2021-07-02T21:53:02.182Z"
   },
   {
    "duration": 98,
    "start_time": "2021-07-02T21:53:10.238Z"
   },
   {
    "duration": 8,
    "start_time": "2021-07-02T21:53:23.207Z"
   },
   {
    "duration": 13,
    "start_time": "2021-07-02T21:53:47.725Z"
   },
   {
    "duration": 7,
    "start_time": "2021-07-02T21:54:28.889Z"
   },
   {
    "duration": 17,
    "start_time": "2021-07-02T21:54:29.988Z"
   },
   {
    "duration": 102,
    "start_time": "2021-07-02T21:55:58.406Z"
   },
   {
    "duration": 4,
    "start_time": "2021-07-02T21:56:04.451Z"
   },
   {
    "duration": 18,
    "start_time": "2021-07-02T21:57:03.258Z"
   },
   {
    "duration": 5,
    "start_time": "2021-07-02T21:57:18.784Z"
   },
   {
    "duration": 18,
    "start_time": "2021-07-02T21:57:19.843Z"
   },
   {
    "duration": 149,
    "start_time": "2021-07-02T21:57:34.763Z"
   },
   {
    "duration": 118,
    "start_time": "2021-07-02T21:59:51.549Z"
   },
   {
    "duration": 92,
    "start_time": "2021-07-02T21:59:58.668Z"
   },
   {
    "duration": 6,
    "start_time": "2021-07-02T22:00:08.565Z"
   },
   {
    "duration": 6,
    "start_time": "2021-07-02T22:00:42.488Z"
   },
   {
    "duration": 24,
    "start_time": "2021-07-02T22:00:46.128Z"
   },
   {
    "duration": 9,
    "start_time": "2021-07-02T22:01:32.220Z"
   },
   {
    "duration": 19,
    "start_time": "2021-07-02T22:01:32.948Z"
   },
   {
    "duration": 222,
    "start_time": "2021-07-02T22:02:44.825Z"
   },
   {
    "duration": 6,
    "start_time": "2021-07-02T22:08:05.182Z"
   },
   {
    "duration": 22,
    "start_time": "2021-07-02T22:08:07.213Z"
   },
   {
    "duration": 6,
    "start_time": "2021-07-02T22:08:19.147Z"
   },
   {
    "duration": 24,
    "start_time": "2021-07-02T22:08:21.195Z"
   },
   {
    "duration": 9,
    "start_time": "2021-07-02T22:08:37.474Z"
   },
   {
    "duration": 23,
    "start_time": "2021-07-02T22:08:39.514Z"
   },
   {
    "duration": 89,
    "start_time": "2021-07-02T22:09:39.898Z"
   },
   {
    "duration": 6,
    "start_time": "2021-07-02T22:09:49.171Z"
   },
   {
    "duration": 21,
    "start_time": "2021-07-02T22:09:51.286Z"
   },
   {
    "duration": 6,
    "start_time": "2021-07-02T22:10:08.344Z"
   },
   {
    "duration": 27,
    "start_time": "2021-07-02T22:10:09.104Z"
   },
   {
    "duration": 8,
    "start_time": "2021-07-02T22:12:40.521Z"
   },
   {
    "duration": 24,
    "start_time": "2021-07-02T22:12:41.311Z"
   },
   {
    "duration": 7,
    "start_time": "2021-07-02T22:13:13.187Z"
   },
   {
    "duration": 20,
    "start_time": "2021-07-02T22:13:14.112Z"
   },
   {
    "duration": 7,
    "start_time": "2021-07-02T22:14:01.378Z"
   },
   {
    "duration": 28,
    "start_time": "2021-07-02T22:14:48.797Z"
   },
   {
    "duration": 6,
    "start_time": "2021-07-02T22:16:47.887Z"
   },
   {
    "duration": 26,
    "start_time": "2021-07-02T22:16:50.704Z"
   },
   {
    "duration": 429,
    "start_time": "2021-07-02T22:38:59.258Z"
   },
   {
    "duration": 96,
    "start_time": "2021-07-02T22:39:05.425Z"
   },
   {
    "duration": 291,
    "start_time": "2021-07-02T22:39:07.257Z"
   },
   {
    "duration": 8,
    "start_time": "2021-07-02T22:39:56.879Z"
   },
   {
    "duration": 687,
    "start_time": "2021-07-02T22:39:58.038Z"
   },
   {
    "duration": 8,
    "start_time": "2021-07-02T22:40:46.345Z"
   },
   {
    "duration": 606,
    "start_time": "2021-07-02T22:40:47.428Z"
   },
   {
    "duration": 9,
    "start_time": "2021-07-02T22:41:51.850Z"
   },
   {
    "duration": 14,
    "start_time": "2021-07-02T22:41:52.984Z"
   },
   {
    "duration": 6,
    "start_time": "2021-07-02T22:43:48.578Z"
   },
   {
    "duration": 7,
    "start_time": "2021-07-02T22:44:12.172Z"
   },
   {
    "duration": 8,
    "start_time": "2021-07-02T22:44:44.543Z"
   },
   {
    "duration": 6,
    "start_time": "2021-07-02T22:45:03.483Z"
   },
   {
    "duration": 6,
    "start_time": "2021-07-02T22:45:20.537Z"
   },
   {
    "duration": 10,
    "start_time": "2021-07-02T23:00:58.508Z"
   },
   {
    "duration": 37,
    "start_time": "2021-07-02T23:01:05.048Z"
   },
   {
    "duration": 11,
    "start_time": "2021-07-02T23:10:56.458Z"
   },
   {
    "duration": 43,
    "start_time": "2021-07-02T23:11:03.047Z"
   },
   {
    "duration": 6,
    "start_time": "2021-07-02T23:14:16.688Z"
   },
   {
    "duration": 3,
    "start_time": "2021-07-02T23:17:35.159Z"
   },
   {
    "duration": 7,
    "start_time": "2021-07-02T23:17:35.819Z"
   },
   {
    "duration": 7,
    "start_time": "2021-07-02T23:17:35.986Z"
   },
   {
    "duration": 21,
    "start_time": "2021-07-02T23:17:49.429Z"
   },
   {
    "duration": 11,
    "start_time": "2021-07-02T23:17:51.959Z"
   },
   {
    "duration": 10,
    "start_time": "2021-07-02T23:20:12.586Z"
   },
   {
    "duration": 37,
    "start_time": "2021-07-02T23:20:22.038Z"
   },
   {
    "duration": 27,
    "start_time": "2021-07-02T23:20:45.508Z"
   },
   {
    "duration": 29,
    "start_time": "2021-07-02T23:20:57.293Z"
   },
   {
    "duration": 7,
    "start_time": "2021-07-02T23:24:20.471Z"
   },
   {
    "duration": 28,
    "start_time": "2021-07-02T23:30:07.284Z"
   },
   {
    "duration": 4,
    "start_time": "2021-07-02T23:30:11.717Z"
   },
   {
    "duration": 20,
    "start_time": "2021-07-02T23:30:44.813Z"
   },
   {
    "duration": 36,
    "start_time": "2021-07-02T23:33:50.717Z"
   },
   {
    "duration": 7,
    "start_time": "2021-07-02T23:34:24.066Z"
   },
   {
    "duration": 20,
    "start_time": "2021-07-02T23:34:26.425Z"
   },
   {
    "duration": 34,
    "start_time": "2021-07-02T23:34:28.399Z"
   },
   {
    "duration": 4,
    "start_time": "2021-07-02T23:34:29.375Z"
   },
   {
    "duration": 38,
    "start_time": "2021-07-02T23:34:30.770Z"
   },
   {
    "duration": 8,
    "start_time": "2021-07-02T23:35:51.594Z"
   },
   {
    "duration": 27,
    "start_time": "2021-07-02T23:35:52.889Z"
   },
   {
    "duration": 23,
    "start_time": "2021-07-02T23:35:54.373Z"
   },
   {
    "duration": 4,
    "start_time": "2021-07-02T23:35:54.993Z"
   },
   {
    "duration": 44,
    "start_time": "2021-07-02T23:35:55.888Z"
   },
   {
    "duration": 95,
    "start_time": "2021-07-02T23:36:50.010Z"
   },
   {
    "duration": 10,
    "start_time": "2021-07-02T23:36:54.363Z"
   },
   {
    "duration": 12,
    "start_time": "2021-07-02T23:37:28.819Z"
   },
   {
    "duration": 12,
    "start_time": "2021-07-02T23:38:07.237Z"
   },
   {
    "duration": 9,
    "start_time": "2021-07-02T23:39:34.173Z"
   },
   {
    "duration": 12,
    "start_time": "2021-07-02T23:40:28.538Z"
   },
   {
    "duration": 11,
    "start_time": "2021-07-02T23:43:57.151Z"
   },
   {
    "duration": 50,
    "start_time": "2021-07-02T23:43:57.186Z"
   },
   {
    "duration": 16,
    "start_time": "2021-07-02T23:43:57.239Z"
   },
   {
    "duration": 42,
    "start_time": "2021-07-02T23:43:57.259Z"
   },
   {
    "duration": 16,
    "start_time": "2021-07-02T23:43:57.307Z"
   },
   {
    "duration": 10,
    "start_time": "2021-07-02T23:43:57.325Z"
   },
   {
    "duration": 6,
    "start_time": "2021-07-02T23:43:57.337Z"
   },
   {
    "duration": 15,
    "start_time": "2021-07-02T23:43:57.346Z"
   },
   {
    "duration": 58,
    "start_time": "2021-07-02T23:43:57.404Z"
   },
   {
    "duration": 58,
    "start_time": "2021-07-02T23:43:57.465Z"
   },
   {
    "duration": 24,
    "start_time": "2021-07-02T23:43:57.526Z"
   },
   {
    "duration": 4,
    "start_time": "2021-07-02T23:43:57.553Z"
   },
   {
    "duration": 2296,
    "start_time": "2021-07-02T23:43:57.559Z"
   },
   {
    "duration": 4,
    "start_time": "2021-07-02T23:43:59.858Z"
   },
   {
    "duration": 1952,
    "start_time": "2021-07-02T23:43:59.865Z"
   },
   {
    "duration": 1157,
    "start_time": "2021-07-02T23:44:01.820Z"
   },
   {
    "duration": 25,
    "start_time": "2021-07-02T23:44:02.980Z"
   },
   {
    "duration": 13,
    "start_time": "2021-07-02T23:44:03.008Z"
   },
   {
    "duration": 26,
    "start_time": "2021-07-02T23:44:03.024Z"
   },
   {
    "duration": 174,
    "start_time": "2021-07-02T23:44:03.053Z"
   },
   {
    "duration": 2294,
    "start_time": "2021-07-02T23:44:03.230Z"
   },
   {
    "duration": 2226,
    "start_time": "2021-07-02T23:44:05.527Z"
   },
   {
    "duration": 17,
    "start_time": "2021-07-02T23:44:07.756Z"
   },
   {
    "duration": 22,
    "start_time": "2021-07-02T23:44:07.780Z"
   },
   {
    "duration": 22,
    "start_time": "2021-07-02T23:44:07.809Z"
   },
   {
    "duration": 5,
    "start_time": "2021-07-02T23:44:07.834Z"
   },
   {
    "duration": 936,
    "start_time": "2021-07-02T23:44:07.842Z"
   },
   {
    "duration": 10,
    "start_time": "2021-07-02T23:44:08.780Z"
   },
   {
    "duration": 12,
    "start_time": "2021-07-02T23:44:08.802Z"
   },
   {
    "duration": 2602,
    "start_time": "2021-07-02T23:44:08.817Z"
   },
   {
    "duration": 3235,
    "start_time": "2021-07-02T23:44:11.422Z"
   },
   {
    "duration": 28,
    "start_time": "2021-07-02T23:44:14.664Z"
   },
   {
    "duration": 3046,
    "start_time": "2021-07-02T23:44:14.705Z"
   },
   {
    "duration": 2769,
    "start_time": "2021-07-02T23:44:17.755Z"
   },
   {
    "duration": 41,
    "start_time": "2021-07-02T23:44:20.526Z"
   },
   {
    "duration": 6,
    "start_time": "2021-07-02T23:44:20.569Z"
   },
   {
    "duration": 7,
    "start_time": "2021-07-02T23:44:20.601Z"
   },
   {
    "duration": 1275,
    "start_time": "2021-07-02T23:44:20.611Z"
   },
   {
    "duration": 23,
    "start_time": "2021-07-02T23:44:21.889Z"
   },
   {
    "duration": 17,
    "start_time": "2021-07-02T23:44:21.916Z"
   },
   {
    "duration": 6,
    "start_time": "2021-07-02T23:44:21.935Z"
   },
   {
    "duration": 8561,
    "start_time": "2021-07-02T23:44:21.943Z"
   },
   {
    "duration": 8,
    "start_time": "2021-07-02T23:44:30.511Z"
   },
   {
    "duration": 98,
    "start_time": "2021-07-02T23:44:30.603Z"
   },
   {
    "duration": 95,
    "start_time": "2021-07-02T23:44:30.706Z"
   },
   {
    "duration": 676,
    "start_time": "2021-07-02T23:44:30.806Z"
   },
   {
    "duration": 21,
    "start_time": "2021-07-02T23:44:31.484Z"
   },
   {
    "duration": 47723,
    "start_time": "2021-07-02T23:44:31.509Z"
   },
   {
    "duration": 3129,
    "start_time": "2021-07-02T23:45:19.235Z"
   },
   {
    "duration": 11,
    "start_time": "2021-07-02T23:45:22.367Z"
   },
   {
    "duration": 354,
    "start_time": "2021-07-02T23:45:22.380Z"
   },
   {
    "duration": 564,
    "start_time": "2021-07-02T23:45:22.738Z"
   },
   {
    "duration": 94,
    "start_time": "2021-07-02T23:45:23.307Z"
   },
   {
    "duration": 7,
    "start_time": "2021-07-02T23:45:23.404Z"
   },
   {
    "duration": 11,
    "start_time": "2021-07-02T23:45:23.415Z"
   },
   {
    "duration": 7,
    "start_time": "2021-07-02T23:45:23.429Z"
   },
   {
    "duration": 65,
    "start_time": "2021-07-02T23:45:23.439Z"
   },
   {
    "duration": 25,
    "start_time": "2021-07-02T23:45:23.507Z"
   },
   {
    "duration": 13,
    "start_time": "2021-07-02T23:45:23.535Z"
   },
   {
    "duration": 160167,
    "start_time": "2021-07-02T23:45:23.551Z"
   },
   {
    "duration": 9721,
    "start_time": "2021-07-02T23:48:03.721Z"
   },
   {
    "duration": 23,
    "start_time": "2021-07-02T23:48:13.445Z"
   },
   {
    "duration": 357,
    "start_time": "2021-07-02T23:48:13.471Z"
   },
   {
    "duration": 992,
    "start_time": "2021-07-02T23:48:13.831Z"
   },
   {
    "duration": 6,
    "start_time": "2021-07-02T23:48:14.902Z"
   },
   {
    "duration": 26,
    "start_time": "2021-07-02T23:48:14.911Z"
   },
   {
    "duration": 21,
    "start_time": "2021-07-02T23:48:14.940Z"
   },
   {
    "duration": 37,
    "start_time": "2021-07-02T23:48:14.963Z"
   },
   {
    "duration": 7,
    "start_time": "2021-07-02T23:48:15.010Z"
   },
   {
    "duration": 15,
    "start_time": "2021-07-02T23:48:15.021Z"
   },
   {
    "duration": 27,
    "start_time": "2021-07-02T23:48:15.039Z"
   },
   {
    "duration": 64,
    "start_time": "2021-07-02T23:48:15.069Z"
   },
   {
    "duration": 21,
    "start_time": "2021-07-02T23:48:27.030Z"
   },
   {
    "duration": 26,
    "start_time": "2021-07-02T23:48:32.278Z"
   },
   {
    "duration": 4,
    "start_time": "2021-07-02T23:48:40.338Z"
   },
   {
    "duration": 8574,
    "start_time": "2021-07-02T23:48:43.807Z"
   },
   {
    "duration": 44,
    "start_time": "2021-07-02T23:49:33.903Z"
   },
   {
    "duration": 314,
    "start_time": "2021-07-02T23:50:07.385Z"
   },
   {
    "duration": 12,
    "start_time": "2021-07-02T23:50:18.224Z"
   },
   {
    "duration": 1572,
    "start_time": "2021-07-03T14:36:04.343Z"
   },
   {
    "duration": 46,
    "start_time": "2021-07-03T14:36:09.240Z"
   },
   {
    "duration": 15,
    "start_time": "2021-07-03T14:36:10.581Z"
   },
   {
    "duration": 4,
    "start_time": "2021-07-03T14:36:21.075Z"
   },
   {
    "duration": 5,
    "start_time": "2021-07-03T14:36:22.248Z"
   },
   {
    "duration": 5,
    "start_time": "2021-07-03T14:36:23.986Z"
   },
   {
    "duration": 5,
    "start_time": "2021-07-03T14:36:25.639Z"
   },
   {
    "duration": 11,
    "start_time": "2021-07-03T14:36:27.771Z"
   },
   {
    "duration": 51,
    "start_time": "2021-07-03T14:36:30.085Z"
   },
   {
    "duration": 21,
    "start_time": "2021-07-03T14:36:32.286Z"
   },
   {
    "duration": 24,
    "start_time": "2021-07-03T14:36:32.903Z"
   },
   {
    "duration": 4,
    "start_time": "2021-07-03T14:36:36.020Z"
   },
   {
    "duration": 8,
    "start_time": "2021-07-03T14:39:59.016Z"
   },
   {
    "duration": 43,
    "start_time": "2021-07-03T14:39:59.027Z"
   },
   {
    "duration": 26,
    "start_time": "2021-07-03T14:39:59.074Z"
   },
   {
    "duration": 6,
    "start_time": "2021-07-03T14:39:59.102Z"
   },
   {
    "duration": 8,
    "start_time": "2021-07-03T14:39:59.110Z"
   },
   {
    "duration": 47,
    "start_time": "2021-07-03T14:39:59.120Z"
   },
   {
    "duration": 6,
    "start_time": "2021-07-03T14:39:59.171Z"
   },
   {
    "duration": 16,
    "start_time": "2021-07-03T14:39:59.179Z"
   },
   {
    "duration": 76,
    "start_time": "2021-07-03T14:39:59.198Z"
   },
   {
    "duration": 22,
    "start_time": "2021-07-03T14:39:59.276Z"
   },
   {
    "duration": 27,
    "start_time": "2021-07-03T14:39:59.301Z"
   },
   {
    "duration": 36,
    "start_time": "2021-07-03T14:39:59.331Z"
   },
   {
    "duration": 3,
    "start_time": "2021-07-03T14:40:03.557Z"
   },
   {
    "duration": 2194,
    "start_time": "2021-07-03T14:40:08.904Z"
   },
   {
    "duration": 7,
    "start_time": "2021-07-03T14:54:23.351Z"
   },
   {
    "duration": 48,
    "start_time": "2021-07-03T14:54:23.360Z"
   },
   {
    "duration": 15,
    "start_time": "2021-07-03T14:54:23.410Z"
   },
   {
    "duration": 5,
    "start_time": "2021-07-03T14:54:23.428Z"
   },
   {
    "duration": 32,
    "start_time": "2021-07-03T14:54:23.435Z"
   },
   {
    "duration": 6,
    "start_time": "2021-07-03T14:54:23.470Z"
   },
   {
    "duration": 11,
    "start_time": "2021-07-03T14:54:23.481Z"
   },
   {
    "duration": 15,
    "start_time": "2021-07-03T14:54:23.495Z"
   },
   {
    "duration": 90,
    "start_time": "2021-07-03T14:54:23.514Z"
   },
   {
    "duration": 23,
    "start_time": "2021-07-03T14:54:23.607Z"
   },
   {
    "duration": 55,
    "start_time": "2021-07-03T14:54:23.633Z"
   },
   {
    "duration": 4,
    "start_time": "2021-07-03T14:54:23.691Z"
   },
   {
    "duration": 2361,
    "start_time": "2021-07-03T14:54:23.698Z"
   },
   {
    "duration": 7,
    "start_time": "2021-07-03T14:54:26.061Z"
   },
   {
    "duration": 4,
    "start_time": "2021-07-03T14:54:29.360Z"
   },
   {
    "duration": 1969,
    "start_time": "2021-07-03T14:54:30.357Z"
   },
   {
    "duration": 1158,
    "start_time": "2021-07-03T14:54:32.420Z"
   },
   {
    "duration": 1703,
    "start_time": "2021-07-03T15:02:31.070Z"
   },
   {
    "duration": 1188,
    "start_time": "2021-07-03T15:03:06.611Z"
   },
   {
    "duration": 1165,
    "start_time": "2021-07-03T15:03:36.558Z"
   },
   {
    "duration": 1609,
    "start_time": "2021-07-03T16:04:18.724Z"
   },
   {
    "duration": 8,
    "start_time": "2021-07-03T16:04:29.916Z"
   },
   {
    "duration": 42,
    "start_time": "2021-07-03T16:04:29.930Z"
   },
   {
    "duration": 18,
    "start_time": "2021-07-03T16:04:29.976Z"
   },
   {
    "duration": 14,
    "start_time": "2021-07-03T16:04:29.997Z"
   },
   {
    "duration": 17,
    "start_time": "2021-07-03T16:04:30.014Z"
   },
   {
    "duration": 35,
    "start_time": "2021-07-03T16:04:30.034Z"
   },
   {
    "duration": 36,
    "start_time": "2021-07-03T16:04:30.072Z"
   },
   {
    "duration": 66,
    "start_time": "2021-07-03T16:04:30.111Z"
   },
   {
    "duration": 75,
    "start_time": "2021-07-03T16:04:30.183Z"
   },
   {
    "duration": 30,
    "start_time": "2021-07-03T16:04:30.269Z"
   },
   {
    "duration": 37,
    "start_time": "2021-07-03T16:04:30.302Z"
   },
   {
    "duration": 30,
    "start_time": "2021-07-03T16:04:30.341Z"
   },
   {
    "duration": 2689,
    "start_time": "2021-07-03T16:04:30.374Z"
   },
   {
    "duration": 4,
    "start_time": "2021-07-03T16:04:33.065Z"
   },
   {
    "duration": 1963,
    "start_time": "2021-07-03T16:04:33.072Z"
   },
   {
    "duration": 1204,
    "start_time": "2021-07-03T16:04:35.037Z"
   },
   {
    "duration": 11,
    "start_time": "2021-07-03T16:04:36.243Z"
   },
   {
    "duration": 7,
    "start_time": "2021-07-03T16:04:36.268Z"
   },
   {
    "duration": 19,
    "start_time": "2021-07-03T16:04:36.278Z"
   },
   {
    "duration": 707,
    "start_time": "2021-07-03T16:04:36.301Z"
   },
   {
    "duration": 2489,
    "start_time": "2021-07-03T16:04:38.570Z"
   },
   {
    "duration": 1940,
    "start_time": "2021-07-03T16:04:49.321Z"
   },
   {
    "duration": 1673,
    "start_time": "2021-07-03T18:26:11.649Z"
   },
   {
    "duration": 46,
    "start_time": "2021-07-03T18:26:13.325Z"
   },
   {
    "duration": 15,
    "start_time": "2021-07-03T18:26:13.373Z"
   },
   {
    "duration": 5,
    "start_time": "2021-07-03T18:26:13.390Z"
   },
   {
    "duration": 8,
    "start_time": "2021-07-03T18:26:13.398Z"
   },
   {
    "duration": 6,
    "start_time": "2021-07-03T18:26:13.408Z"
   },
   {
    "duration": 6,
    "start_time": "2021-07-03T18:26:13.416Z"
   },
   {
    "duration": 50,
    "start_time": "2021-07-03T18:26:13.426Z"
   },
   {
    "duration": 54,
    "start_time": "2021-07-03T18:26:13.479Z"
   },
   {
    "duration": 47,
    "start_time": "2021-07-03T18:26:13.535Z"
   },
   {
    "duration": 26,
    "start_time": "2021-07-03T18:26:13.584Z"
   },
   {
    "duration": 4,
    "start_time": "2021-07-03T18:26:13.612Z"
   },
   {
    "duration": 2288,
    "start_time": "2021-07-03T18:26:13.618Z"
   },
   {
    "duration": 3,
    "start_time": "2021-07-03T18:26:15.908Z"
   },
   {
    "duration": 2017,
    "start_time": "2021-07-03T18:26:15.914Z"
   },
   {
    "duration": 1173,
    "start_time": "2021-07-03T18:26:17.933Z"
   },
   {
    "duration": 13,
    "start_time": "2021-07-03T18:26:19.108Z"
   },
   {
    "duration": 6,
    "start_time": "2021-07-03T18:26:19.123Z"
   },
   {
    "duration": 44,
    "start_time": "2021-07-03T18:26:19.131Z"
   },
   {
    "duration": 714,
    "start_time": "2021-07-03T18:26:19.178Z"
   },
   {
    "duration": 3343,
    "start_time": "2021-07-03T18:26:19.895Z"
   },
   {
    "duration": 2774,
    "start_time": "2021-07-03T18:26:23.241Z"
   },
   {
    "duration": 19,
    "start_time": "2021-07-03T18:26:26.022Z"
   },
   {
    "duration": 23,
    "start_time": "2021-07-03T18:26:26.045Z"
   },
   {
    "duration": 25,
    "start_time": "2021-07-03T18:26:26.071Z"
   },
   {
    "duration": 7,
    "start_time": "2021-07-03T18:26:26.099Z"
   },
   {
    "duration": 937,
    "start_time": "2021-07-03T18:26:26.109Z"
   },
   {
    "duration": 21,
    "start_time": "2021-07-03T18:26:27.048Z"
   },
   {
    "duration": 10,
    "start_time": "2021-07-03T18:26:27.071Z"
   },
   {
    "duration": 2632,
    "start_time": "2021-07-03T18:26:27.083Z"
   },
   {
    "duration": 3141,
    "start_time": "2021-07-03T18:26:29.717Z"
   },
   {
    "duration": 5,
    "start_time": "2021-07-03T18:26:32.868Z"
   },
   {
    "duration": 2977,
    "start_time": "2021-07-03T18:26:32.876Z"
   },
   {
    "duration": 2920,
    "start_time": "2021-07-03T18:26:35.856Z"
   },
   {
    "duration": 42,
    "start_time": "2021-07-03T18:26:38.779Z"
   },
   {
    "duration": 6,
    "start_time": "2021-07-03T18:26:38.823Z"
   },
   {
    "duration": 6,
    "start_time": "2021-07-03T18:26:38.832Z"
   },
   {
    "duration": 1445,
    "start_time": "2021-07-03T18:26:38.868Z"
   },
   {
    "duration": 9,
    "start_time": "2021-07-03T18:26:40.316Z"
   },
   {
    "duration": 40,
    "start_time": "2021-07-03T18:26:40.327Z"
   },
   {
    "duration": 4,
    "start_time": "2021-07-03T18:26:40.370Z"
   },
   {
    "duration": 12195,
    "start_time": "2021-07-03T18:26:40.376Z"
   },
   {
    "duration": 5,
    "start_time": "2021-07-03T18:26:52.573Z"
   },
   {
    "duration": 187,
    "start_time": "2021-07-03T18:26:52.580Z"
   },
   {
    "duration": 6,
    "start_time": "2021-07-03T18:26:52.770Z"
   },
   {
    "duration": 478,
    "start_time": "2021-07-03T18:26:52.778Z"
   },
   {
    "duration": 15,
    "start_time": "2021-07-03T18:26:53.259Z"
   },
   {
    "duration": 50997,
    "start_time": "2021-07-03T18:26:53.277Z"
   },
   {
    "duration": 4665,
    "start_time": "2021-07-03T18:27:44.277Z"
   },
   {
    "duration": 26,
    "start_time": "2021-07-03T18:27:48.945Z"
   },
   {
    "duration": 517,
    "start_time": "2021-07-03T18:27:48.973Z"
   },
   {
    "duration": 986,
    "start_time": "2021-07-03T18:27:49.493Z"
   },
   {
    "duration": 6,
    "start_time": "2021-07-03T18:27:50.567Z"
   },
   {
    "duration": 7,
    "start_time": "2021-07-03T18:27:50.576Z"
   },
   {
    "duration": 12,
    "start_time": "2021-07-03T18:27:50.585Z"
   },
   {
    "duration": 9,
    "start_time": "2021-07-03T18:27:50.600Z"
   },
   {
    "duration": 70,
    "start_time": "2021-07-03T18:27:50.611Z"
   },
   {
    "duration": 20,
    "start_time": "2021-07-03T18:27:50.683Z"
   },
   {
    "duration": 11,
    "start_time": "2021-07-03T18:27:50.706Z"
   },
   {
    "duration": 165329,
    "start_time": "2021-07-03T18:27:50.719Z"
   },
   {
    "duration": 14262,
    "start_time": "2021-07-03T18:30:36.051Z"
   },
   {
    "duration": 51,
    "start_time": "2021-07-03T18:30:50.316Z"
   },
   {
    "duration": 353,
    "start_time": "2021-07-03T18:30:50.370Z"
   },
   {
    "duration": 1450,
    "start_time": "2021-07-03T18:30:50.726Z"
   },
   {
    "duration": 6,
    "start_time": "2021-07-03T18:30:52.178Z"
   },
   {
    "duration": 82,
    "start_time": "2021-07-03T18:30:52.186Z"
   },
   {
    "duration": 23,
    "start_time": "2021-07-03T18:30:52.271Z"
   },
   {
    "duration": 4,
    "start_time": "2021-07-03T18:30:52.301Z"
   },
   {
    "duration": 7,
    "start_time": "2021-07-03T18:30:52.307Z"
   },
   {
    "duration": 9,
    "start_time": "2021-07-03T18:30:52.317Z"
   },
   {
    "duration": 50,
    "start_time": "2021-07-03T18:30:52.328Z"
   },
   {
    "duration": 25,
    "start_time": "2021-07-03T18:30:52.380Z"
   },
   {
    "duration": 13,
    "start_time": "2021-07-03T18:30:52.407Z"
   },
   {
    "duration": 67,
    "start_time": "2021-07-03T18:30:52.423Z"
   },
   {
    "duration": 30,
    "start_time": "2021-07-03T18:35:32.893Z"
   },
   {
    "duration": 44,
    "start_time": "2021-07-03T19:20:04.056Z"
   },
   {
    "duration": 470,
    "start_time": "2021-07-03T19:20:11.043Z"
   },
   {
    "duration": 203,
    "start_time": "2021-07-03T19:20:20.519Z"
   },
   {
    "duration": 58,
    "start_time": "2021-07-03T19:21:07.975Z"
   },
   {
    "duration": 1963,
    "start_time": "2021-07-03T19:23:18.090Z"
   },
   {
    "duration": 52,
    "start_time": "2021-07-03T19:23:20.056Z"
   },
   {
    "duration": 15,
    "start_time": "2021-07-03T19:23:20.112Z"
   },
   {
    "duration": 36,
    "start_time": "2021-07-03T19:23:20.130Z"
   },
   {
    "duration": 7,
    "start_time": "2021-07-03T19:23:20.169Z"
   },
   {
    "duration": 7,
    "start_time": "2021-07-03T19:23:20.182Z"
   },
   {
    "duration": 14,
    "start_time": "2021-07-03T19:23:20.192Z"
   },
   {
    "duration": 14,
    "start_time": "2021-07-03T19:23:20.210Z"
   },
   {
    "duration": 93,
    "start_time": "2021-07-03T19:23:20.227Z"
   },
   {
    "duration": 45,
    "start_time": "2021-07-03T19:23:20.323Z"
   },
   {
    "duration": 32,
    "start_time": "2021-07-03T19:23:20.371Z"
   },
   {
    "duration": 4,
    "start_time": "2021-07-03T19:23:20.406Z"
   },
   {
    "duration": 2441,
    "start_time": "2021-07-03T19:23:20.413Z"
   },
   {
    "duration": 10,
    "start_time": "2021-07-03T19:23:22.857Z"
   },
   {
    "duration": 2779,
    "start_time": "2021-07-03T19:23:22.870Z"
   },
   {
    "duration": 1191,
    "start_time": "2021-07-03T19:23:25.652Z"
   },
   {
    "duration": 23,
    "start_time": "2021-07-03T19:23:26.845Z"
   },
   {
    "duration": 11,
    "start_time": "2021-07-03T19:23:26.871Z"
   },
   {
    "duration": 13,
    "start_time": "2021-07-03T19:23:26.885Z"
   },
   {
    "duration": 605,
    "start_time": "2021-07-03T19:23:26.901Z"
   },
   {
    "duration": 3323,
    "start_time": "2021-07-03T19:23:27.509Z"
   },
   {
    "duration": 2458,
    "start_time": "2021-07-03T19:23:30.835Z"
   },
   {
    "duration": 19,
    "start_time": "2021-07-03T19:23:33.303Z"
   },
   {
    "duration": 5,
    "start_time": "2021-07-03T19:23:33.326Z"
   },
   {
    "duration": 48,
    "start_time": "2021-07-03T19:23:33.333Z"
   },
   {
    "duration": 5,
    "start_time": "2021-07-03T19:23:33.384Z"
   },
   {
    "duration": 1090,
    "start_time": "2021-07-03T19:23:33.392Z"
   },
   {
    "duration": 11,
    "start_time": "2021-07-03T19:23:34.486Z"
   },
   {
    "duration": 13,
    "start_time": "2021-07-03T19:23:34.501Z"
   },
   {
    "duration": 2638,
    "start_time": "2021-07-03T19:23:34.517Z"
   },
   {
    "duration": 3655,
    "start_time": "2021-07-03T19:23:37.158Z"
   },
   {
    "duration": 7,
    "start_time": "2021-07-03T19:23:40.815Z"
   },
   {
    "duration": 3254,
    "start_time": "2021-07-03T19:23:40.824Z"
   },
   {
    "duration": 3046,
    "start_time": "2021-07-03T19:23:44.080Z"
   },
   {
    "duration": 68,
    "start_time": "2021-07-03T19:23:47.129Z"
   },
   {
    "duration": 9,
    "start_time": "2021-07-03T19:23:47.200Z"
   },
   {
    "duration": 13,
    "start_time": "2021-07-03T19:23:47.212Z"
   },
   {
    "duration": 1444,
    "start_time": "2021-07-03T19:23:47.228Z"
   },
   {
    "duration": 11,
    "start_time": "2021-07-03T19:23:48.675Z"
   },
   {
    "duration": 16,
    "start_time": "2021-07-03T19:23:48.689Z"
   },
   {
    "duration": 5,
    "start_time": "2021-07-03T19:23:48.708Z"
   },
   {
    "duration": 9058,
    "start_time": "2021-07-03T19:23:48.715Z"
   },
   {
    "duration": 91,
    "start_time": "2021-07-03T19:23:57.777Z"
   },
   {
    "duration": 104,
    "start_time": "2021-07-03T19:23:57.871Z"
   },
   {
    "duration": 89,
    "start_time": "2021-07-03T19:23:57.979Z"
   },
   {
    "duration": 487,
    "start_time": "2021-07-03T19:23:58.071Z"
   },
   {
    "duration": 19,
    "start_time": "2021-07-03T19:23:58.561Z"
   },
   {
    "duration": 55491,
    "start_time": "2021-07-03T19:23:58.583Z"
   },
   {
    "duration": 4300,
    "start_time": "2021-07-03T19:24:54.077Z"
   },
   {
    "duration": 17,
    "start_time": "2021-07-03T19:24:58.381Z"
   },
   {
    "duration": 541,
    "start_time": "2021-07-03T19:24:58.401Z"
   },
   {
    "duration": 531,
    "start_time": "2021-07-03T19:24:58.945Z"
   },
   {
    "duration": 84,
    "start_time": "2021-07-03T19:24:59.486Z"
   },
   {
    "duration": 8,
    "start_time": "2021-07-03T19:24:59.573Z"
   },
   {
    "duration": 16,
    "start_time": "2021-07-03T19:24:59.584Z"
   },
   {
    "duration": 9,
    "start_time": "2021-07-03T19:24:59.603Z"
   },
   {
    "duration": 66,
    "start_time": "2021-07-03T19:24:59.615Z"
   },
   {
    "duration": 26,
    "start_time": "2021-07-03T19:24:59.684Z"
   },
   {
    "duration": 13,
    "start_time": "2021-07-03T19:24:59.713Z"
   },
   {
    "duration": 182879,
    "start_time": "2021-07-03T19:24:59.730Z"
   },
   {
    "duration": 10084,
    "start_time": "2021-07-03T19:28:02.612Z"
   },
   {
    "duration": 23,
    "start_time": "2021-07-03T19:28:12.700Z"
   },
   {
    "duration": 502,
    "start_time": "2021-07-03T19:28:12.726Z"
   },
   {
    "duration": 654,
    "start_time": "2021-07-03T19:28:13.231Z"
   },
   {
    "duration": 85,
    "start_time": "2021-07-03T19:28:13.890Z"
   },
   {
    "duration": 27,
    "start_time": "2021-07-03T19:28:13.983Z"
   },
   {
    "duration": 24,
    "start_time": "2021-07-03T19:28:14.012Z"
   },
   {
    "duration": 25,
    "start_time": "2021-07-03T19:28:14.043Z"
   },
   {
    "duration": 13,
    "start_time": "2021-07-03T19:28:14.072Z"
   },
   {
    "duration": 15,
    "start_time": "2021-07-03T19:28:14.088Z"
   },
   {
    "duration": 27,
    "start_time": "2021-07-03T19:28:14.105Z"
   },
   {
    "duration": 52,
    "start_time": "2021-07-03T19:28:14.135Z"
   },
   {
    "duration": 4,
    "start_time": "2021-07-03T19:28:14.189Z"
   },
   {
    "duration": 83,
    "start_time": "2021-07-03T19:28:14.196Z"
   },
   {
    "duration": 1707,
    "start_time": "2021-07-04T19:26:51.658Z"
   },
   {
    "duration": 46,
    "start_time": "2021-07-04T19:26:53.368Z"
   },
   {
    "duration": 17,
    "start_time": "2021-07-04T19:26:53.423Z"
   },
   {
    "duration": 271,
    "start_time": "2021-07-04T19:28:05.130Z"
   },
   {
    "duration": 92,
    "start_time": "2021-07-04T19:30:25.502Z"
   },
   {
    "duration": 112,
    "start_time": "2021-07-04T19:31:59.934Z"
   },
   {
    "duration": 98,
    "start_time": "2021-07-04T19:34:06.085Z"
   },
   {
    "duration": 104,
    "start_time": "2021-07-04T19:34:59.123Z"
   },
   {
    "duration": 4,
    "start_time": "2021-07-04T19:35:13.134Z"
   },
   {
    "duration": 3028,
    "start_time": "2021-07-04T19:35:13.772Z"
   },
   {
    "duration": -100,
    "start_time": "2021-07-04T19:35:16.903Z"
   },
   {
    "duration": 8,
    "start_time": "2021-07-04T19:35:20.372Z"
   },
   {
    "duration": 43,
    "start_time": "2021-07-04T19:35:20.690Z"
   },
   {
    "duration": 17,
    "start_time": "2021-07-04T19:35:20.845Z"
   },
   {
    "duration": 5,
    "start_time": "2021-07-04T19:35:21.709Z"
   },
   {
    "duration": 5,
    "start_time": "2021-07-04T19:35:21.882Z"
   },
   {
    "duration": 6,
    "start_time": "2021-07-04T19:35:22.282Z"
   },
   {
    "duration": 5,
    "start_time": "2021-07-04T19:35:22.602Z"
   },
   {
    "duration": 12,
    "start_time": "2021-07-04T19:35:23.313Z"
   },
   {
    "duration": 54,
    "start_time": "2021-07-04T19:35:24.091Z"
   },
   {
    "duration": 23,
    "start_time": "2021-07-04T19:35:24.746Z"
   },
   {
    "duration": 33,
    "start_time": "2021-07-04T19:35:24.967Z"
   },
   {
    "duration": 4,
    "start_time": "2021-07-04T19:35:26.083Z"
   },
   {
    "duration": 2470,
    "start_time": "2021-07-04T19:35:26.275Z"
   },
   {
    "duration": 4,
    "start_time": "2021-07-04T19:35:28.747Z"
   },
   {
    "duration": 2021,
    "start_time": "2021-07-04T19:35:28.764Z"
   },
   {
    "duration": 1241,
    "start_time": "2021-07-04T19:35:30.788Z"
   },
   {
    "duration": 11,
    "start_time": "2021-07-04T19:35:32.032Z"
   },
   {
    "duration": 20,
    "start_time": "2021-07-04T19:35:32.046Z"
   },
   {
    "duration": 13,
    "start_time": "2021-07-04T19:35:32.284Z"
   },
   {
    "duration": 1849,
    "start_time": "2021-07-04T19:35:32.831Z"
   },
   {
    "duration": 2509,
    "start_time": "2021-07-04T19:35:34.683Z"
   },
   {
    "duration": 2026,
    "start_time": "2021-07-04T19:35:37.195Z"
   },
   {
    "duration": 103,
    "start_time": "2021-07-04T19:45:20.548Z"
   },
   {
    "duration": 105,
    "start_time": "2021-07-04T19:49:17.037Z"
   },
   {
    "duration": 26,
    "start_time": "2021-07-04T21:00:36.403Z"
   },
   {
    "duration": 1302,
    "start_time": "2021-07-04T21:03:43.629Z"
   },
   {
    "duration": 93,
    "start_time": "2021-07-04T21:05:43.472Z"
   },
   {
    "duration": 132,
    "start_time": "2021-07-04T21:07:22.515Z"
   },
   {
    "duration": 144,
    "start_time": "2021-07-04T21:12:08.116Z"
   },
   {
    "duration": 19,
    "start_time": "2021-07-04T21:13:50.741Z"
   },
   {
    "duration": 5,
    "start_time": "2021-07-04T21:13:51.247Z"
   },
   {
    "duration": 19,
    "start_time": "2021-07-04T21:13:52.181Z"
   },
   {
    "duration": 6,
    "start_time": "2021-07-04T21:13:52.628Z"
   },
   {
    "duration": 912,
    "start_time": "2021-07-04T21:13:53.483Z"
   },
   {
    "duration": 11,
    "start_time": "2021-07-04T21:13:56.061Z"
   },
   {
    "duration": 11,
    "start_time": "2021-07-04T21:14:10.939Z"
   },
   {
    "duration": 98,
    "start_time": "2021-07-04T21:15:51.146Z"
   },
   {
    "duration": 116,
    "start_time": "2021-07-04T21:17:30.784Z"
   },
   {
    "duration": 98,
    "start_time": "2021-07-04T21:20:29.755Z"
   },
   {
    "duration": 159,
    "start_time": "2021-07-04T21:23:14.798Z"
   },
   {
    "duration": 107,
    "start_time": "2021-07-04T21:25:10.155Z"
   },
   {
    "duration": 99,
    "start_time": "2021-07-04T21:32:55.957Z"
   },
   {
    "duration": 96,
    "start_time": "2021-07-04T21:44:19.211Z"
   },
   {
    "duration": 95,
    "start_time": "2021-07-04T21:47:33.817Z"
   },
   {
    "duration": 96,
    "start_time": "2021-07-04T21:49:56.739Z"
   },
   {
    "duration": 112,
    "start_time": "2021-07-04T21:53:15.739Z"
   },
   {
    "duration": 122,
    "start_time": "2021-07-04T21:54:23.266Z"
   },
   {
    "duration": 115,
    "start_time": "2021-07-04T21:56:19.905Z"
   },
   {
    "duration": 115,
    "start_time": "2021-07-04T22:01:24.775Z"
   },
   {
    "duration": 100,
    "start_time": "2021-07-04T22:02:16.510Z"
   }
  ],
  "kernelspec": {
   "display_name": "Python 3",
   "language": "python",
   "name": "python3"
  },
  "language_info": {
   "codemirror_mode": {
    "name": "ipython",
    "version": 3
   },
   "file_extension": ".py",
   "mimetype": "text/x-python",
   "name": "python",
   "nbconvert_exporter": "python",
   "pygments_lexer": "ipython3",
   "version": "3.7.8"
  },
  "toc": {
   "base_numbering": 1,
   "nav_menu": {},
   "number_sections": false,
   "sideBar": true,
   "skip_h1_title": false,
   "title_cell": "Содержание",
   "title_sidebar": "Содержание",
   "toc_cell": true,
   "toc_position": {},
   "toc_section_display": true,
   "toc_window_display": false
  },
  "colab": {
   "name": "project_banki.ipynb",
   "provenance": [],
   "collapsed_sections": []
  }
 },
 "nbformat": 4,
 "nbformat_minor": 0
}
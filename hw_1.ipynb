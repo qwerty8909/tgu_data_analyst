{
 "cells": [
  {
   "cell_type": "markdown",
   "metadata": {
    "id": "I503zPFGLE_E",
    "pycharm": {
     "name": "#%% md\n"
    }
   },
   "source": [
    "# Практическое задание 1 (обязательное)"
   ]
  },
  {
   "cell_type": "markdown",
   "metadata": {
    "id": "8KZ0rg8GLYr0",
    "pycharm": {
     "name": "#%% md\n"
    }
   },
   "source": [
    "## Исходные данные\n",
    "\n",
    "В словаре `dict_users_network` заданы взаимосвязи (`дружба`) пользователей социальной сети, где `ключ` -- имя пользователя; `значение` -- список друзей пользователя. Для простоты будем считать, что оношение `дружба` не является биективным, т.е. если у `A` другом является `B`, то не обязательно, что у `B` в друзьях `A`. \n",
    "\n",
    "## Задание (обязательное) \n",
    "- Создайте функцию, определяющую количество друзей у выбранного (каждого) пользователя.\n",
    "- Создайте функцию, выводящую на экран пользователей, отсортированных по количеству друзей.\n",
    "- Опубликуйте ссылку на файл расширения `ipynb`, прикрепив его в этом задании.\n",
    "\n",
    "## Задание (факультативное)\n",
    "- Создайте функцию, определяющую наличие однофамильцев.\n",
    "- Создайте функцию, определяющую наличие пользователей с одинаковыми инициалами.\n",
    "- Создайте функцию, возвращающую список уникальных пользователей сети в формате `Фамилия И.О.`.\n",
    "- Создайте функцию, возвращающую список из уникальных фамилий  пользователей сети."
   ]
  },
  {
   "cell_type": "code",
   "execution_count": 1,
   "metadata": {
    "executionInfo": {
     "elapsed": 273,
     "status": "ok",
     "timestamp": 1658347747385,
     "user": {
      "displayName": "Сергей ДПО",
      "userId": "02314231685143924763"
     },
     "user_tz": -180
    },
    "id": "cStt-oHwHQuT",
    "pycharm": {
     "name": "#%%\n"
    }
   },
   "outputs": [],
   "source": [
    "dict_users_network = ({\n",
    "    'С.В. Сидоров' : ['П.В. Сидоров', 'И.И. Иванов', 'А.С. Никифоров', \n",
    "                      'Ф.С. Афеногонов', 'А.К. Парфенов'],\n",
    "    'П.В. Сидоров' : ['С.В. Сидоров', 'А.С. Шебалова', 'М.Л. Кривов'],\n",
    "    'И.И. Иванов' : ['Л.Т. Тимофеев', 'С.В. Сидоров', 'П.В. Сидоров', \n",
    "                     'М.Л. Кривов'],\n",
    "    'А.С. Никифоров' : ['С.В. Сидоров', 'П.В. Сидоров'],                 \n",
    "    'Ф.С. Афеногонов' : ['С.В. Сидоров', 'П.В. Сидоров', 'А.К. Парфенов'],\n",
    "    'А.С. Шебалова' : ['Л.Т. Тимофеев'],\n",
    "    'Л.Т. Тимофеев' : ['К.К. Петров', 'А.С. Крылов']\n",
    "                     })"
   ]
  },
  {
   "cell_type": "code",
   "execution_count": 4,
   "metadata": {
    "pycharm": {
     "name": "#%%\n"
    }
   },
   "outputs": [
    {
     "name": "stdout",
     "output_type": "stream",
     "text": [
      "['С.В. Сидоров имеет 5 друзей', 'И.И. Иванов имеет 4 друзей', 'П.В. Сидоров имеет 3 друзей', 'Ф.С. Афеногонов имеет 3 друзей', 'А.С. Никифоров имеет 2 друзей', 'Л.Т. Тимофеев имеет 2 друзей', 'А.С. Шебалова имеет 1 друзей']\n"
     ]
    }
   ],
   "source": [
    "# Объединил два задания для вывода информации о количестве друзей у пользователей отсортированных по количеству друзей\n",
    "\n",
    "# Обязательное 2: Создайте функцию, выводящую на экран пользователей, отсортированных по количеству друзей.\n",
    "def second_task(dict_users_network):\n",
    "    friends_dict = list()\n",
    "    for i in dict_users_network.keys():\n",
    "        friends_dict.append(len(dict_users_network[i]))\n",
    "    dict_temp = dict(zip(dict_users_network.keys(), friends_dict))\n",
    "    sorted_dict = dict(sorted(dict_temp.items(), key=lambda item: item[1], reverse = True))\n",
    "    return sorted_dict\n",
    "new_one_dict = second_task(dict_users_network)\n",
    "\n",
    "#Обязательное 1: Создайте функцию, определяющую количество друзей у выбранного (каждого) пользователя.\n",
    "def first_task(new_one_dict):\n",
    "    friends_string = list()\n",
    "    for key, val in new_one_dict.items():\n",
    "        print_sting = ''.join('{} имеет {} друзей'.format(key, val))\n",
    "        friends_string.append(print_sting)\n",
    "    return friends_string\n",
    "print (first_task(new_one_dict))"
   ]
  },
  {
   "cell_type": "code",
   "execution_count": 59,
   "metadata": {
    "pycharm": {
     "name": "#%%\n"
    }
   },
   "outputs": [],
   "source": [
    "# Факультативное\n",
    "new_list = []\n",
    "last_name_list = []\n",
    "first_name_list = []\n",
    "reverse_name_list = []\n",
    "for name_in_lists in dict_users_network.values():\n",
    "    for name_in_values in name_in_lists:\n",
    "        new_list.append(name_in_values)\n",
    "for name_in_keys in dict_users_network.keys():\n",
    "    new_list.append(name_in_keys)\n",
    "unique_names = list(set(new_list))\n",
    "for even_name in unique_names:\n",
    "    first, last = even_name.split()\n",
    "    reverse_name_list.append(' '.join([last, first]))\n",
    "    last_name_list.append(' '.join([last]))\n",
    "    first_name_list.append(' '.join([first]))\n",
    "unique_last_names = list(set(last_name_list))\n",
    "\n",
    "# Здесь я устал! Могу что-то напутать и не могу загнать в цикл повторяющийся код! Но ответ правильный.\n",
    "counter_first = {}\n",
    "counter_last = {}\n",
    "for x in first_name_list:\n",
    "    counter_first[x] = counter_first.get(x, 0) + 1\n",
    "doubles_first_name = {element: count for element, count in counter_first.items() if count > 1}\n",
    "for y in last_name_list:\n",
    "    counter_last[y] = counter_last.get(y, 0) + 1\n",
    "doubles_last_name = {element: count for element, count in counter_last.items() if count > 1}\n",
    "#print (unique_names)"
   ]
  },
  {
   "cell_type": "code",
   "execution_count": 60,
   "metadata": {
    "pycharm": {
     "name": "#%%\n"
    }
   },
   "outputs": [
    {
     "name": "stdout",
     "output_type": "stream",
     "text": [
      "{'Сидоров': 2}\n",
      "{'А.С.': 3}\n"
     ]
    }
   ],
   "source": [
    "# Факультативное 1: Создайте функцию, определяющую наличие однофамильцев.\n",
    "print(doubles_last_name)\n",
    "# Факультативное 2: Создайте функцию, определяющую наличие пользователей с одинаковыми инициалами.\n",
    "print(doubles_first_name)\n"
   ]
  },
  {
   "cell_type": "code",
   "execution_count": 6,
   "metadata": {
    "pycharm": {
     "name": "#%%\n"
    }
   },
   "outputs": [
    {
     "name": "stdout",
     "output_type": "stream",
     "text": [
      "['Сидоров П.В.', 'Афеногонов Ф.С.', 'Шебалова А.С.', 'Кривов М.Л.', 'Тимофеев Л.Т.', 'Петров К.К.', 'Парфенов А.К.', 'Иванов И.И.', 'Никифоров А.С.', 'Сидоров С.В.', 'Крылов А.С.']\n"
     ]
    }
   ],
   "source": [
    "# Факультативное 3: Создайте функцию, возвращающую список уникальных пользователей сети в формате Фамилия И.О.\n",
    "print(reverse_name_list)"
   ]
  },
  {
   "cell_type": "code",
   "execution_count": 7,
   "metadata": {
    "pycharm": {
     "name": "#%%\n"
    }
   },
   "outputs": [
    {
     "name": "stdout",
     "output_type": "stream",
     "text": [
      "['Крылов', 'Афеногонов', 'Кривов', 'Тимофеев', 'Иванов', 'Парфенов', 'Петров', 'Шебалова', 'Сидоров', 'Никифоров']\n"
     ]
    }
   ],
   "source": [
    "# Факультативное 4: Создайте функцию, возвращающую список из уникальных фамилий пользователей сети.\n",
    "print(unique_last_names)"
   ]
  },
  {
   "cell_type": "code",
   "execution_count": null,
   "metadata": {
    "pycharm": {
     "name": "#%%\n"
    }
   },
   "outputs": [],
   "source": []
  }
 ],
 "metadata": {
  "colab": {
   "authorship_tag": "ABX9TyM7BYaPtWUMOfN8mV+zT4fA",
   "collapsed_sections": [],
   "name": "hw_1.ipynb",
   "provenance": []
  },
  "kernelspec": {
   "display_name": "Python 3 (ipykernel)",
   "language": "python",
   "name": "python3"
  },
  "language_info": {
   "codemirror_mode": {
    "name": "ipython",
    "version": 3
   },
   "file_extension": ".py",
   "mimetype": "text/x-python",
   "name": "python",
   "nbconvert_exporter": "python",
   "pygments_lexer": "ipython3",
   "version": "3.9.12"
  }
 },
 "nbformat": 4,
 "nbformat_minor": 1
}
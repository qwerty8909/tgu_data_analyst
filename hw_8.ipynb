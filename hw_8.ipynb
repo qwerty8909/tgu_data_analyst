{
 "cells": [
  {
   "cell_type": "markdown",
   "metadata": {
    "id": "6ldg8g5DnqZH"
   },
   "source": [
    "Инструкция:\n",
    "\n",
    "Шаг 1.  Изучите материалы лекционных и практических занятий по теме 9.2, 9.4.\n",
    "\n",
    "Шаг 2. Создайте программу, выполняющую разведочный анализ данных EDA. (Алгоритм выполнения представлен в лекции по теме 9.4).\n",
    "\n",
    "Шаг 3. Составьте гипотезу о данных (Алгоритм выполнения представлен в лекции по теме 9.4).\n",
    "\n",
    "Шаг 4. Выполните проверку соответствующей гипотезы (Алгоритм выполнения представлен в лекции по теме 9.4).\n",
    "\n",
    "Шаг 5. Опубликуйте файл расширения ipynb, прикрепив его в этом задании."
   ]
  },
  {
   "cell_type": "markdown",
   "metadata": {
    "id": "BtXgdHmAqM6R"
   },
   "source": [
    "## Описание признакового пространства \n",
    "По каждой квартире на продажу доступны следующие признаки. \n",
    "\n",
    "|Признак|Описание признака|\n",
    "|-------------:|:------------|\n",
    "|ceiling_height|высота потолков (м)|\n",
    "|first_day_exposition|дата публикации|\n",
    "|floor|этаж|\n",
    "|floors_total| всего этажей в доме|\n",
    "|kitchen_area|площадь кухни в квадратных метрах (м²)|\n",
    "|last_price|цена на момент снятия с публикации|\n",
    "|living_area|жилая площадь в квадратных метрах(м²)|\n",
    "|rooms|число комнат|\n",
    "|total_area|площадь квартиры в квадратных метрах (м²)|\n"
   ]
  },
  {
   "cell_type": "markdown",
   "metadata": {
    "id": "s03yj7kNqxe3"
   },
   "source": [
    "Проверить гипотезу о равенстве стоимости квартир, расположенных на 1-м и 2-м этажах"
   ]
  },
  {
   "cell_type": "code",
   "execution_count": null,
   "metadata": {
    "id": "WWFXC0kar3Im"
   },
   "outputs": [],
   "source": []
  }
 ],
 "metadata": {
  "colab": {
   "collapsed_sections": [],
   "provenance": []
  },
  "kernelspec": {
   "display_name": "Python 3 (ipykernel)",
   "language": "python",
   "name": "python3"
  },
  "language_info": {
   "codemirror_mode": {
    "name": "ipython",
    "version": 3
   },
   "file_extension": ".py",
   "mimetype": "text/x-python",
   "name": "python",
   "nbconvert_exporter": "python",
   "pygments_lexer": "ipython3",
   "version": "3.9.12"
  }
 },
 "nbformat": 4,
 "nbformat_minor": 1
}
